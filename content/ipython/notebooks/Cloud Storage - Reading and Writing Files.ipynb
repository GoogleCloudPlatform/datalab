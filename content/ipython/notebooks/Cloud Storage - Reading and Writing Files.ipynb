{
 "metadata": {
  "name": "",
  "signature": "sha256:ed4f110a1f8a3cd7f5e319687e3591cbbe388b786e950e949b63277a7c8b9d05"
 },
 "nbformat": 3,
 "nbformat_minor": 0,
 "worksheets": [
  {
   "cells": [
    {
     "cell_type": "markdown",
     "metadata": {},
     "source": [
      "# Cloud Storage - Reading and Writing Files\n",
      "\n",
      "You can easily read and write files (eg. csv or json files) from Google Cloud Storage, to work with data stored as files in storage, and like with BigQuery, use the resulting data with python data analysis libraries.\n",
      "\n",
      "This notebook reads from a shared read-only dump of request logs, as well as working with cloud storage buckets and files within your project.\n",
      "\n",
      "Related Links:\n",
      "\n",
      "* [Cloud Storage](https://cloud.google.com/storage/)\n",
      "* Python [Pandas](http://pandas.pydata.org/) for data analysis\n",
      "\n",
      "----\n",
      "\n",
      "NOTE:\n",
      "\n",
      "* If you're new to notebooks, or want to check out additional samples, check out the full [list](..) of notebooks."
     ]
    },
    {
     "cell_type": "heading",
     "level": 1,
     "metadata": {},
     "source": [
      "Python APIs for working with Storage"
     ]
    },
    {
     "cell_type": "markdown",
     "metadata": {},
     "source": [
      "Using the python APIs in the `PyGCP` library you can directly work with all the datasets that are contained or shared with your cloud project. The following `gcp.storage` import makes the Storage functionality available to this notebook."
     ]
    },
    {
     "cell_type": "code",
     "collapsed": false,
     "input": [
      "import gcp\n",
      "import gcp.storage as storage"
     ],
     "language": "python",
     "metadata": {},
     "outputs": [],
     "prompt_number": 1
    },
    {
     "cell_type": "heading",
     "level": 2,
     "metadata": {},
     "source": [
      "Buckets"
     ]
    },
    {
     "cell_type": "markdown",
     "metadata": {},
     "source": [
      "Buckets are the top-level containers in cloud storage, and they contain items, each associated with a key."
     ]
    },
    {
     "cell_type": "code",
     "collapsed": false,
     "input": [
      "shared_bucket = storage.bucket('cloud-datalab')"
     ],
     "language": "python",
     "metadata": {},
     "outputs": [],
     "prompt_number": 2
    },
    {
     "cell_type": "markdown",
     "metadata": {},
     "source": [
      "And then a bucket object can be used to enumerate items."
     ]
    },
    {
     "cell_type": "code",
     "collapsed": false,
     "input": [
      "items = shared_bucket.items()\n",
      "keys = map(lambda item: item.key, items)\n",
      "keys"
     ],
     "language": "python",
     "metadata": {},
     "outputs": [
      {
       "metadata": {},
       "output_type": "pyout",
       "prompt_number": 3,
       "text": [
        "[u'ipython/',\n",
        " u'ipython/intro/',\n",
        " u'ipython/intro/An Introduction to Notebooks.ipynb',\n",
        " u'ipython/intro/BigQuery - Basics.ipynb',\n",
        " u'ipython/intro/BigQuery - Composing Queries.ipynb',\n",
        " u'ipython/intro/BigQuery - Inserting Data.ipynb',\n",
        " u'ipython/intro/BigQuery - JavaScript UDFs.ipynb',\n",
        " u'ipython/intro/BigQuery - Sample - Genomics.ipynb',\n",
        " u'ipython/intro/BigQuery - Sample - GitHub Timeline.ipynb',\n",
        " u'ipython/intro/BigQuery - Sample - Request Logs.ipynb',\n",
        " u'ipython/intro/Cloud Storage - Reading and Writing Files.ipynb',\n",
        " u'ipython/notebooks/',\n",
        " u'ipython/notebooks/Placeholder.txt',\n",
        " u'sampledata/',\n",
        " u'sampledata/autoprices/',\n",
        " u'sampledata/autoprices/auto_testing.csv',\n",
        " u'sampledata/autoprices/auto_training.csv',\n",
        " u'sampledata/electricity/',\n",
        " u'sampledata/electricity/kw.csv',\n",
        " u'sampledata/requestlogs/logs20140615.csv',\n",
        " u'sampledata/requestlogs/logs20140616.csv',\n",
        " u'sampledata/requestlogs/logs20140617.csv',\n",
        " u'sampledata/requestlogs/logs20140618.csv',\n",
        " u'sampledata/requestlogs/logs20140619.csv',\n",
        " u'sampledata/requestlogs/logs20140620.csv',\n",
        " u'sampledata/requestlogs/logs_sample.csv',\n",
        " u'scripts/',\n",
        " u'scripts/datalab.sh']"
       ]
      }
     ],
     "prompt_number": 3
    },
    {
     "cell_type": "markdown",
     "metadata": {},
     "source": [
      "Items within a bucket can also be filtered to enumerate matching ones."
     ]
    },
    {
     "cell_type": "code",
     "collapsed": false,
     "input": [
      "items = shared_bucket.items(prefix = 'ipython/intro/', delimiter = '/')\n",
      "keys = map(lambda item: item.key, items)\n",
      "keys"
     ],
     "language": "python",
     "metadata": {},
     "outputs": [
      {
       "metadata": {},
       "output_type": "pyout",
       "prompt_number": 4,
       "text": [
        "[u'ipython/intro/',\n",
        " u'ipython/intro/An Introduction to Notebooks.ipynb',\n",
        " u'ipython/intro/BigQuery - Basics.ipynb',\n",
        " u'ipython/intro/BigQuery - Composing Queries.ipynb',\n",
        " u'ipython/intro/BigQuery - Inserting Data.ipynb',\n",
        " u'ipython/intro/BigQuery - JavaScript UDFs.ipynb',\n",
        " u'ipython/intro/BigQuery - Sample - Genomics.ipynb',\n",
        " u'ipython/intro/BigQuery - Sample - GitHub Timeline.ipynb',\n",
        " u'ipython/intro/BigQuery - Sample - Request Logs.ipynb',\n",
        " u'ipython/intro/Cloud Storage - Reading and Writing Files.ipynb']"
       ]
      }
     ],
     "prompt_number": 4
    },
    {
     "cell_type": "heading",
     "level": 2,
     "metadata": {},
     "source": [
      "Items"
     ]
    },
    {
     "cell_type": "markdown",
     "metadata": {},
     "source": [
      "Items are individual objects in a bucket. Items have associated metadata, and can be read or written to."
     ]
    },
    {
     "cell_type": "code",
     "collapsed": false,
     "input": [
      "sample_logs = shared_bucket.item('sampledata/requestlogs/logs_sample.csv')\n",
      "'The item with key \"%s\" is %d bytes' % (sample_logs.key, sample_logs.metadata().size)"
     ],
     "language": "python",
     "metadata": {},
     "outputs": [
      {
       "metadata": {},
       "output_type": "pyout",
       "prompt_number": 5,
       "text": [
        "'The item with key \"sampledata/requestlogs/logs_sample.csv\" is 3949 bytes'"
       ]
      }
     ],
     "prompt_number": 5
    },
    {
     "cell_type": "heading",
     "level": 3,
     "metadata": {},
     "source": [
      "Reading Item Contents"
     ]
    },
    {
     "cell_type": "code",
     "collapsed": false,
     "input": [
      "log_content = sample_logs.read_from()"
     ],
     "language": "python",
     "metadata": {},
     "outputs": [],
     "prompt_number": 6
    },
    {
     "cell_type": "code",
     "collapsed": false,
     "input": [
      "print log_content[:198] + '...'"
     ],
     "language": "python",
     "metadata": {},
     "outputs": [
      {
       "output_type": "stream",
       "stream": "stdout",
       "text": [
        "1402815600.003772,122,200,GET,Interact3\n",
        "1402815600.428897,144,200,GET,Interact3\n",
        "1402815600.536486,48,200,GET,Interact3\n",
        "1402815600.652760,28,405,GET,Interact2\n",
        "1402815600.670100,103,200,GET,Interact3\n",
        "...\n"
       ]
      }
     ],
     "prompt_number": 7
    },
    {
     "cell_type": "heading",
     "level": 3,
     "metadata": {},
     "source": [
      "Writing Item Contents"
     ]
    },
    {
     "cell_type": "markdown",
     "metadata": {},
     "source": [
      "The following will simply copy the item that was just read from the shared read-only bucket, and write the content to an item within a bucket in your own project. Specifically this will create an item within the notebooks bucket where all of your notebooks are read and written to as well."
     ]
    },
    {
     "cell_type": "code",
     "collapsed": false,
     "input": [
      "print 'Creating an item and writing %d bytes into it...' % len(log_content)"
     ],
     "language": "python",
     "metadata": {},
     "outputs": [
      {
       "output_type": "stream",
       "stream": "stdout",
       "text": [
        "Creating an item and writing 3949 bytes into it...\n"
       ]
      }
     ],
     "prompt_number": 8
    },
    {
     "cell_type": "code",
     "collapsed": false,
     "input": [
      "# The notebooks bucket is named using the project id followed by the \"-notebooks\" suffix.\n",
      "notebooks_bucket_name = gcp.Context.default().project_id + '-ipython'\n",
      "notebooks_bucket = storage.bucket(notebooks_bucket_name)\n",
      "\n",
      "new_item = notebooks_bucket.item('logs/sample_logs.csv')\n",
      "new_item.write_to(log_content, 'text/plain')"
     ],
     "language": "python",
     "metadata": {},
     "outputs": [],
     "prompt_number": 9
    },
    {
     "cell_type": "code",
     "collapsed": false,
     "input": [
      "map(lambda item: item.metadata().size,\n",
      "    filter(lambda item: item.key.endswith('.csv'),\n",
      "           notebooks_bucket.items(prefix = 'logs/', delimiter = '/')))"
     ],
     "language": "python",
     "metadata": {},
     "outputs": [
      {
       "metadata": {},
       "output_type": "pyout",
       "prompt_number": 10,
       "text": [
        "[3949]"
       ]
      }
     ],
     "prompt_number": 10
    },
    {
     "cell_type": "heading",
     "level": 3,
     "metadata": {},
     "source": [
      "Deleting Items"
     ]
    },
    {
     "cell_type": "markdown",
     "metadata": {},
     "source": [
      "Lets delete that item we just created when writing the sample log content."
     ]
    },
    {
     "cell_type": "code",
     "collapsed": false,
     "input": [
      "new_item.delete()"
     ],
     "language": "python",
     "metadata": {},
     "outputs": [
      {
       "metadata": {},
       "output_type": "pyout",
       "prompt_number": 12,
       "text": [
        "True"
       ]
      }
     ],
     "prompt_number": 12
    },
    {
     "cell_type": "heading",
     "level": 1,
     "metadata": {},
     "source": [
      "Integrating with Pandas"
     ]
    },
    {
     "cell_type": "markdown",
     "metadata": {},
     "source": [
      "Once you're read in some data from cloud storage you can easily load a Python Pandas dataframe to further query and/or reshape the data."
     ]
    },
    {
     "cell_type": "code",
     "collapsed": false,
     "input": [
      "import pandas as pd\n",
      "import numpy as np\n",
      "import StringIO"
     ],
     "language": "python",
     "metadata": {},
     "outputs": [],
     "prompt_number": 13
    },
    {
     "cell_type": "code",
     "collapsed": false,
     "input": [
      "buffer = StringIO.StringIO(log_content)\n",
      "df = pd.read_csv(buffer, header=None, names=['timestamp','latency','status','method','endpoint'],\n",
      "                 parse_dates=[0], index_col=0)\n",
      "df[df.status >= 400]"
     ],
     "language": "python",
     "metadata": {},
     "outputs": [
      {
       "html": [
        "<div style=\"max-height:1000px;max-width:1500px;overflow:auto;\">\n",
        "<table border=\"1\" class=\"dataframe\">\n",
        "  <thead>\n",
        "    <tr style=\"text-align: right;\">\n",
        "      <th></th>\n",
        "      <th>latency</th>\n",
        "      <th>status</th>\n",
        "      <th>method</th>\n",
        "      <th>endpoint</th>\n",
        "    </tr>\n",
        "    <tr>\n",
        "      <th>timestamp</th>\n",
        "      <th></th>\n",
        "      <th></th>\n",
        "      <th></th>\n",
        "      <th></th>\n",
        "    </tr>\n",
        "  </thead>\n",
        "  <tbody>\n",
        "    <tr>\n",
        "      <th>1.402816e+09</th>\n",
        "      <td>  28</td>\n",
        "      <td> 405</td>\n",
        "      <td>  GET</td>\n",
        "      <td> Interact2</td>\n",
        "    </tr>\n",
        "    <tr>\n",
        "      <th>1.402816e+09</th>\n",
        "      <td> 121</td>\n",
        "      <td> 405</td>\n",
        "      <td>  GET</td>\n",
        "      <td> Interact2</td>\n",
        "    </tr>\n",
        "    <tr>\n",
        "      <th>1.402816e+09</th>\n",
        "      <td> 124</td>\n",
        "      <td> 405</td>\n",
        "      <td>  GET</td>\n",
        "      <td> Interact2</td>\n",
        "    </tr>\n",
        "    <tr>\n",
        "      <th>1.402816e+09</th>\n",
        "      <td>  27</td>\n",
        "      <td> 405</td>\n",
        "      <td>  GET</td>\n",
        "      <td> Interact2</td>\n",
        "    </tr>\n",
        "    <tr>\n",
        "      <th>1.402816e+09</th>\n",
        "      <td> 112</td>\n",
        "      <td> 404</td>\n",
        "      <td>  GET</td>\n",
        "      <td>     Other</td>\n",
        "    </tr>\n",
        "    <tr>\n",
        "      <th>1.402816e+09</th>\n",
        "      <td> 123</td>\n",
        "      <td> 405</td>\n",
        "      <td>  GET</td>\n",
        "      <td> Interact2</td>\n",
        "    </tr>\n",
        "    <tr>\n",
        "      <th>1.402816e+09</th>\n",
        "      <td> 192</td>\n",
        "      <td> 404</td>\n",
        "      <td>  GET</td>\n",
        "      <td>     Other</td>\n",
        "    </tr>\n",
        "    <tr>\n",
        "      <th>1.402816e+09</th>\n",
        "      <td>  29</td>\n",
        "      <td> 405</td>\n",
        "      <td>  GET</td>\n",
        "      <td> Interact2</td>\n",
        "    </tr>\n",
        "    <tr>\n",
        "      <th>1.402816e+09</th>\n",
        "      <td> 112</td>\n",
        "      <td> 400</td>\n",
        "      <td>  GET</td>\n",
        "      <td>     Other</td>\n",
        "    </tr>\n",
        "    <tr>\n",
        "      <th>1.402816e+09</th>\n",
        "      <td> 125</td>\n",
        "      <td> 401</td>\n",
        "      <td> POST</td>\n",
        "      <td>    Create</td>\n",
        "    </tr>\n",
        "    <tr>\n",
        "      <th>1.402816e+09</th>\n",
        "      <td> 125</td>\n",
        "      <td> 405</td>\n",
        "      <td>  GET</td>\n",
        "      <td> Interact2</td>\n",
        "    </tr>\n",
        "    <tr>\n",
        "      <th>1.402816e+09</th>\n",
        "      <td>  29</td>\n",
        "      <td> 405</td>\n",
        "      <td>  GET</td>\n",
        "      <td> Interact2</td>\n",
        "    </tr>\n",
        "    <tr>\n",
        "      <th>1.402816e+09</th>\n",
        "      <td> 122</td>\n",
        "      <td> 405</td>\n",
        "      <td>  GET</td>\n",
        "      <td> Interact2</td>\n",
        "    </tr>\n",
        "    <tr>\n",
        "      <th>1.402816e+09</th>\n",
        "      <td>  28</td>\n",
        "      <td> 405</td>\n",
        "      <td>  GET</td>\n",
        "      <td> Interact2</td>\n",
        "    </tr>\n",
        "    <tr>\n",
        "      <th>1.402816e+09</th>\n",
        "      <td>  28</td>\n",
        "      <td> 405</td>\n",
        "      <td>  GET</td>\n",
        "      <td> Interact2</td>\n",
        "    </tr>\n",
        "    <tr>\n",
        "      <th>1.402816e+09</th>\n",
        "      <td> 131</td>\n",
        "      <td> 400</td>\n",
        "      <td>  GET</td>\n",
        "      <td>     Other</td>\n",
        "    </tr>\n",
        "    <tr>\n",
        "      <th>1.402816e+09</th>\n",
        "      <td> 101</td>\n",
        "      <td> 404</td>\n",
        "      <td>  GET</td>\n",
        "      <td>     Other</td>\n",
        "    </tr>\n",
        "    <tr>\n",
        "      <th>1.402816e+09</th>\n",
        "      <td>  36</td>\n",
        "      <td> 405</td>\n",
        "      <td>  GET</td>\n",
        "      <td> Interact2</td>\n",
        "    </tr>\n",
        "    <tr>\n",
        "      <th>1.402816e+09</th>\n",
        "      <td>  31</td>\n",
        "      <td> 405</td>\n",
        "      <td>  GET</td>\n",
        "      <td> Interact2</td>\n",
        "    </tr>\n",
        "    <tr>\n",
        "      <th>1.402816e+09</th>\n",
        "      <td>  33</td>\n",
        "      <td> 405</td>\n",
        "      <td>  GET</td>\n",
        "      <td> Interact2</td>\n",
        "    </tr>\n",
        "  </tbody>\n",
        "</table>\n",
        "</div>"
       ],
       "metadata": {},
       "output_type": "pyout",
       "prompt_number": 14,
       "text": [
        "              latency  status method   endpoint\n",
        "timestamp                                      \n",
        "1.402816e+09       28     405    GET  Interact2\n",
        "1.402816e+09      121     405    GET  Interact2\n",
        "1.402816e+09      124     405    GET  Interact2\n",
        "1.402816e+09       27     405    GET  Interact2\n",
        "1.402816e+09      112     404    GET      Other\n",
        "1.402816e+09      123     405    GET  Interact2\n",
        "1.402816e+09      192     404    GET      Other\n",
        "1.402816e+09       29     405    GET  Interact2\n",
        "1.402816e+09      112     400    GET      Other\n",
        "1.402816e+09      125     401   POST     Create\n",
        "1.402816e+09      125     405    GET  Interact2\n",
        "1.402816e+09       29     405    GET  Interact2\n",
        "1.402816e+09      122     405    GET  Interact2\n",
        "1.402816e+09       28     405    GET  Interact2\n",
        "1.402816e+09       28     405    GET  Interact2\n",
        "1.402816e+09      131     400    GET      Other\n",
        "1.402816e+09      101     404    GET      Other\n",
        "1.402816e+09       36     405    GET  Interact2\n",
        "1.402816e+09       31     405    GET  Interact2\n",
        "1.402816e+09       33     405    GET  Interact2"
       ]
      }
     ],
     "prompt_number": 14
    }
   ],
   "metadata": {}
  }
 ]
}