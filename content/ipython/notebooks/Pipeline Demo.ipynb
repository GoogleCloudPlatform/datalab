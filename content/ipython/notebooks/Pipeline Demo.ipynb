{
 "metadata": {
  "name": "",
  "signature": "sha256:dfa9372a9142ca6c619fd4821d378828c1fbc283820eeef47cb130349e01d387"
 },
 "nbformat": 3,
 "nbformat_minor": 0,
 "worksheets": [
  {
   "cells": [
    {
     "cell_type": "markdown",
     "metadata": {},
     "source": [
      "First define the arguments for configuring the pipeline:"
     ]
    },
    {
     "cell_type": "code",
     "collapsed": false,
     "input": [
      "%%arguments\n",
      "arg('endpoint', default='Admin')\n",
      "arg('requestlogs', type=table, default='today', offset='-1y,-1m,+8d', format='requestlogs.logs%Y%m%d')\n",
      "arg('destination',  default='today', offset='-1y,-1m,+8d', format='test.proclogs%Y%m%d')"
     ],
     "language": "python",
     "metadata": {},
     "outputs": [],
     "prompt_number": 1
    },
    {
     "cell_type": "markdown",
     "metadata": {},
     "source": [
      "Define the inner part of the pipeline query. This is a simple SELECT \\* as we want it to serve as an overridable source:"
     ]
    },
    {
     "cell_type": "code",
     "collapsed": false,
     "input": [
      "%%sql --name logs\n",
      "SELECT * FROM $requestlogs"
     ],
     "language": "python",
     "metadata": {},
     "outputs": [],
     "prompt_number": 2
    },
    {
     "cell_type": "markdown",
     "metadata": {},
     "source": [
      "Override an arg value for testing in notebook:"
     ]
    },
    {
     "cell_type": "code",
     "collapsed": false,
     "input": [
      "import gcp.bigquery as bq\n",
      "requestlogs = bq.table(\"requestlogs.logs20140620\").sample(count=100)"
     ],
     "language": "python",
     "metadata": {},
     "outputs": [],
     "prompt_number": 3
    },
    {
     "cell_type": "markdown",
     "metadata": {},
     "source": [
      "Test the query using the overridden value:"
     ]
    },
    {
     "cell_type": "code",
     "collapsed": false,
     "input": [
      "%bigquery execute --sql logs"
     ],
     "language": "python",
     "metadata": {},
     "outputs": [
      {
       "html": [
        "\n",
        "    <div class=\"bqtv\" id=\"bqtv_1436388863\"></div>\n",
        "    <div><br />job_IRLFsh03KZgk6muHyaHbgURlRew<br />rows: 100</div>\n",
        "    <script>\n",
        "      require(['extensions/charting', 'element!bqtv_1436388863'],\n",
        "        function(charts, dom) {\n",
        "          charts.render(dom,\n",
        "            {\n",
        "              chartStyle:\"paged_table\",\n",
        "              dataName:\"data-studio-team:_22cae82edc27e9be9a02c50fe9837efda6b0471d.anon871160c6b299efb941e56d6a8b55de52720ac468\",\n",
        "              fields:\"timestamp,latency,status,method,endpoint\",\n",
        "              totalRows:100,\n",
        "              rowsPerPage:25,\n",
        "            }, {}, {\"rows\": [{\"c\": [{\"v\": \"2014-06-20T21:53:50.380158\"}, {\"v\": 82}, {\"v\": 200}, {\"v\": \"GET\"}, {\"v\": \"Interact1\"}]}, {\"c\": [{\"v\": \"2014-06-20T21:53:50.382326\"}, {\"v\": 70}, {\"v\": 200}, {\"v\": \"GET\"}, {\"v\": \"Interact1\"}]}, {\"c\": [{\"v\": \"2014-06-20T21:53:50.383151\"}, {\"v\": 5037}, {\"v\": 500}, {\"v\": \"GET\"}, {\"v\": \"Interact3\"}]}, {\"c\": [{\"v\": \"2014-06-20T21:53:50.397031\"}, {\"v\": 64}, {\"v\": 200}, {\"v\": \"GET\"}, {\"v\": \"Interact1\"}]}, {\"c\": [{\"v\": \"2014-06-20T21:53:50.502114\"}, {\"v\": 5458}, {\"v\": 500}, {\"v\": \"GET\"}, {\"v\": \"Interact3\"}]}, {\"c\": [{\"v\": \"2014-06-20T21:53:50.514357\"}, {\"v\": 191}, {\"v\": 200}, {\"v\": \"GET\"}, {\"v\": \"Other\"}]}, {\"c\": [{\"v\": \"2014-06-20T21:53:50.542282\"}, {\"v\": 46}, {\"v\": 200}, {\"v\": \"GET\"}, {\"v\": \"Interact1\"}]}, {\"c\": [{\"v\": \"2014-06-20T21:53:50.546125\"}, {\"v\": 123}, {\"v\": 200}, {\"v\": \"GET\"}, {\"v\": \"Interact3\"}]}, {\"c\": [{\"v\": \"2014-06-20T21:53:50.561785\"}, {\"v\": 49}, {\"v\": 200}, {\"v\": \"GET\"}, {\"v\": \"Interact1\"}]}, {\"c\": [{\"v\": \"2014-06-20T21:53:50.607984\"}, {\"v\": 138}, {\"v\": 200}, {\"v\": \"GET\"}, {\"v\": \"Create\"}]}, {\"c\": [{\"v\": \"2014-06-20T21:53:50.741602\"}, {\"v\": 49}, {\"v\": 200}, {\"v\": \"GET\"}, {\"v\": \"Interact1\"}]}, {\"c\": [{\"v\": \"2014-06-20T21:53:50.759783\"}, {\"v\": 71}, {\"v\": 200}, {\"v\": \"GET\"}, {\"v\": \"Interact1\"}]}, {\"c\": [{\"v\": \"2014-06-20T21:53:50.770142\"}, {\"v\": 36}, {\"v\": 200}, {\"v\": \"GET\"}, {\"v\": \"Other\"}]}, {\"c\": [{\"v\": \"2014-06-20T21:53:50.801623\"}, {\"v\": 57}, {\"v\": 200}, {\"v\": \"GET\"}, {\"v\": \"Interact1\"}]}, {\"c\": [{\"v\": \"2014-06-20T21:53:50.880666\"}, {\"v\": 52}, {\"v\": 200}, {\"v\": \"GET\"}, {\"v\": \"Interact1\"}]}, {\"c\": [{\"v\": \"2014-06-20T21:53:50.907299\"}, {\"v\": 82}, {\"v\": 200}, {\"v\": \"GET\"}, {\"v\": \"Interact3\"}]}, {\"c\": [{\"v\": \"2014-06-20T21:53:50.908578\"}, {\"v\": 5051}, {\"v\": 500}, {\"v\": \"GET\"}, {\"v\": \"Interact3\"}]}, {\"c\": [{\"v\": \"2014-06-20T21:53:50.929635\"}, {\"v\": 154}, {\"v\": 200}, {\"v\": \"POST\"}, {\"v\": \"Interact2\"}]}, {\"c\": [{\"v\": \"2014-06-20T21:53:50.960833\"}, {\"v\": 58}, {\"v\": 200}, {\"v\": \"GET\"}, {\"v\": \"Interact1\"}]}, {\"c\": [{\"v\": \"2014-06-20T21:53:50.993640\"}, {\"v\": 463}, {\"v\": 200}, {\"v\": \"GET\"}, {\"v\": \"Other\"}]}, {\"c\": [{\"v\": \"2014-06-20T21:53:50.998559\"}, {\"v\": 5091}, {\"v\": 500}, {\"v\": \"GET\"}, {\"v\": \"Interact3\"}]}, {\"c\": [{\"v\": \"2014-06-20T21:53:51.000918\"}, {\"v\": 51}, {\"v\": 200}, {\"v\": \"GET\"}, {\"v\": \"Interact1\"}]}, {\"c\": [{\"v\": \"2014-06-20T21:53:51.173542\"}, {\"v\": 736}, {\"v\": 200}, {\"v\": \"POST\"}, {\"v\": \"Admin\"}]}, {\"c\": [{\"v\": \"2014-06-20T21:53:51.180608\"}, {\"v\": 92}, {\"v\": 200}, {\"v\": \"GET\"}, {\"v\": \"Interact3\"}]}, {\"c\": [{\"v\": \"2014-06-20T21:53:51.190656\"}, {\"v\": 156}, {\"v\": 200}, {\"v\": \"GET\"}, {\"v\": \"Other\"}]}], \"cols\": [{\"type\": \"datetime\", \"id\": \"timestamp\", \"label\": \"timestamp\"}, {\"type\": \"number\", \"id\": \"latency\", \"label\": \"latency\"}, {\"type\": \"number\", \"id\": \"status\", \"label\": \"status\"}, {\"type\": \"string\", \"id\": \"method\", \"label\": \"method\"}, {\"type\": \"string\", \"id\": \"endpoint\", \"label\": \"endpoint\"}]});\n",
        "        }\n",
        "      );\n",
        "    </script>\n",
        "  "
       ],
       "metadata": {},
       "output_type": "pyout",
       "prompt_number": 4,
       "text": []
      }
     ],
     "prompt_number": 4
    },
    {
     "cell_type": "markdown",
     "metadata": {},
     "source": [
      "Define the 'real' query, that makes use of our source:"
     ]
    },
    {
     "cell_type": "code",
     "collapsed": false,
     "input": [
      "%%sql --name filteredlogs\n",
      "SELECT * FROM $logs WHERE endpoint = $endpoint"
     ],
     "language": "python",
     "metadata": {},
     "outputs": [],
     "prompt_number": 5
    },
    {
     "cell_type": "markdown",
     "metadata": {},
     "source": [
      "Sample the result. Note this is still using the overridden value:"
     ]
    },
    {
     "cell_type": "code",
     "collapsed": false,
     "input": [
      "%bigquery sample --sql filteredlogs"
     ],
     "language": "python",
     "metadata": {},
     "outputs": [
      {
       "html": [
        "\n",
        "    <div class=\"bqtv\" id=\"bqtv_1436388865\"></div>\n",
        "    <div><br />job_avhww7GRNipXsm5r35g3D4aV4mI<br />rows: 3</div>\n",
        "    <script>\n",
        "      require(['extensions/charting', 'element!bqtv_1436388865'],\n",
        "        function(charts, dom) {\n",
        "          charts.render(dom,\n",
        "            {\n",
        "              chartStyle:\"table\",\n",
        "              dataName:\"data-studio-team:_22cae82edc27e9be9a02c50fe9837efda6b0471d.anon897de3fa58d9f6d9799d02167afa35895123fe41\",\n",
        "              fields:\"timestamp,latency,status,method,endpoint\",\n",
        "              totalRows:3,\n",
        "              rowsPerPage:25,\n",
        "            }, {}, {\"rows\": [{\"c\": [{\"v\": \"2014-06-20T21:53:51.173542\"}, {\"v\": 736}, {\"v\": 200}, {\"v\": \"POST\"}, {\"v\": \"Admin\"}]}, {\"c\": [{\"v\": \"2014-06-20T21:53:51.601039\"}, {\"v\": 106}, {\"v\": 200}, {\"v\": \"GET\"}, {\"v\": \"Admin\"}]}, {\"c\": [{\"v\": \"2014-06-20T21:53:51.692463\"}, {\"v\": 203}, {\"v\": 200}, {\"v\": \"POST\"}, {\"v\": \"Admin\"}]}], \"cols\": [{\"type\": \"datetime\", \"id\": \"timestamp\", \"label\": \"timestamp\"}, {\"type\": \"number\", \"id\": \"latency\", \"label\": \"latency\"}, {\"type\": \"number\", \"id\": \"status\", \"label\": \"status\"}, {\"type\": \"string\", \"id\": \"method\", \"label\": \"method\"}, {\"type\": \"string\", \"id\": \"endpoint\", \"label\": \"endpoint\"}]});\n",
        "        }\n",
        "      );\n",
        "    </script>\n",
        "  "
       ],
       "metadata": {},
       "output_type": "pyout",
       "prompt_number": 6,
       "text": []
      }
     ],
     "prompt_number": 6
    },
    {
     "cell_type": "markdown",
     "metadata": {},
     "source": [
      "Save the result to a table:"
     ]
    },
    {
     "cell_type": "code",
     "collapsed": false,
     "input": [
      "%bigquery execute --sql filteredlogs --overwrite --destination test.output"
     ],
     "language": "python",
     "metadata": {},
     "outputs": [
      {
       "html": [
        "\n",
        "    <div class=\"bqtv\" id=\"bqtv_1436388867\"></div>\n",
        "    <div><br />job_bM2-1C-Dkw7RWoOtkDVkopY7M4A<br />rows: 3</div>\n",
        "    <script>\n",
        "      require(['extensions/charting', 'element!bqtv_1436388867'],\n",
        "        function(charts, dom) {\n",
        "          charts.render(dom,\n",
        "            {\n",
        "              chartStyle:\"table\",\n",
        "              dataName:\"data-studio-team:test.output\",\n",
        "              fields:\"timestamp,latency,status,method,endpoint\",\n",
        "              totalRows:3,\n",
        "              rowsPerPage:25,\n",
        "            }, {}, {\"rows\": [{\"c\": [{\"v\": \"2014-06-20T21:53:51.173542\"}, {\"v\": 736}, {\"v\": 200}, {\"v\": \"POST\"}, {\"v\": \"Admin\"}]}, {\"c\": [{\"v\": \"2014-06-20T21:53:51.601039\"}, {\"v\": 106}, {\"v\": 200}, {\"v\": \"GET\"}, {\"v\": \"Admin\"}]}, {\"c\": [{\"v\": \"2014-06-20T21:53:51.692463\"}, {\"v\": 203}, {\"v\": 200}, {\"v\": \"POST\"}, {\"v\": \"Admin\"}]}], \"cols\": [{\"type\": \"datetime\", \"id\": \"timestamp\", \"label\": \"timestamp\"}, {\"type\": \"number\", \"id\": \"latency\", \"label\": \"latency\"}, {\"type\": \"number\", \"id\": \"status\", \"label\": \"status\"}, {\"type\": \"string\", \"id\": \"method\", \"label\": \"method\"}, {\"type\": \"string\", \"id\": \"endpoint\", \"label\": \"endpoint\"}]});\n",
        "        }\n",
        "      );\n",
        "    </script>\n",
        "  "
       ],
       "metadata": {},
       "output_type": "pyout",
       "prompt_number": 7,
       "text": []
      }
     ],
     "prompt_number": 7
    },
    {
     "cell_type": "markdown",
     "metadata": {},
     "source": [
      "Now test the pipeline using the pipeline environment:"
     ]
    },
    {
     "cell_type": "code",
     "collapsed": false,
     "input": [
      "%bigquery pipeline --sql filteredlogs --overwrite --destination $destination"
     ],
     "language": "python",
     "metadata": {},
     "outputs": [
      {
       "html": [
        "\n",
        "    <div class=\"bqtv\" id=\"bqtv_1436388877\"></div>\n",
        "    <div><br />job_G0WW9lppbFJEKEL1zpapXG6Azz8<br />rows: 468365</div>\n",
        "    <script>\n",
        "      require(['extensions/charting', 'element!bqtv_1436388877'],\n",
        "        function(charts, dom) {\n",
        "          charts.render(dom,\n",
        "            {\n",
        "              chartStyle:\"paged_table\",\n",
        "              dataName:\"data-studio-team:test.proclogs20140616\",\n",
        "              fields:\"timestamp,latency,status,method,endpoint\",\n",
        "              totalRows:468365,\n",
        "              rowsPerPage:25,\n",
        "            }, {}, {\"rows\": [{\"c\": [{\"v\": \"2014-06-16T23:20:37.565386\"}, {\"v\": 746}, {\"v\": 200}, {\"v\": \"POST\"}, {\"v\": \"Admin\"}]}, {\"c\": [{\"v\": \"2014-06-16T23:20:38.074142\"}, {\"v\": 82}, {\"v\": 200}, {\"v\": \"GET\"}, {\"v\": \"Admin\"}]}, {\"c\": [{\"v\": \"2014-06-16T23:20:42.312774\"}, {\"v\": 2965}, {\"v\": 200}, {\"v\": \"POST\"}, {\"v\": \"Admin\"}]}, {\"c\": [{\"v\": \"2014-06-16T23:20:44.377466\"}, {\"v\": 694}, {\"v\": 200}, {\"v\": \"POST\"}, {\"v\": \"Admin\"}]}, {\"c\": [{\"v\": \"2014-06-16T23:20:44.818377\"}, {\"v\": 113}, {\"v\": 200}, {\"v\": \"GET\"}, {\"v\": \"Admin\"}]}, {\"c\": [{\"v\": \"2014-06-16T23:20:45.011168\"}, {\"v\": 105}, {\"v\": 200}, {\"v\": \"GET\"}, {\"v\": \"Admin\"}]}, {\"c\": [{\"v\": \"2014-06-16T23:20:47.971627\"}, {\"v\": 968}, {\"v\": 200}, {\"v\": \"POST\"}, {\"v\": \"Admin\"}]}, {\"c\": [{\"v\": \"2014-06-16T23:20:48.612791\"}, {\"v\": 75}, {\"v\": 200}, {\"v\": \"GET\"}, {\"v\": \"Admin\"}]}, {\"c\": [{\"v\": \"2014-06-16T23:20:48.957577\"}, {\"v\": 157}, {\"v\": 200}, {\"v\": \"POST\"}, {\"v\": \"Admin\"}]}, {\"c\": [{\"v\": \"2014-06-16T23:20:49.517261\"}, {\"v\": 764}, {\"v\": 200}, {\"v\": \"POST\"}, {\"v\": \"Admin\"}]}, {\"c\": [{\"v\": \"2014-06-16T23:20:50.057503\"}, {\"v\": 73}, {\"v\": 200}, {\"v\": \"GET\"}, {\"v\": \"Admin\"}]}, {\"c\": [{\"v\": \"2014-06-16T23:20:51.791911\"}, {\"v\": 277}, {\"v\": 200}, {\"v\": \"POST\"}, {\"v\": \"Admin\"}]}, {\"c\": [{\"v\": \"2014-06-16T23:20:54.745717\"}, {\"v\": 587}, {\"v\": 200}, {\"v\": \"POST\"}, {\"v\": \"Admin\"}]}, {\"c\": [{\"v\": \"2014-06-16T23:20:55.053111\"}, {\"v\": 78}, {\"v\": 200}, {\"v\": \"GET\"}, {\"v\": \"Admin\"}]}, {\"c\": [{\"v\": \"2014-06-16T23:20:55.082878\"}, {\"v\": 354}, {\"v\": 200}, {\"v\": \"POST\"}, {\"v\": \"Admin\"}]}, {\"c\": [{\"v\": \"2014-06-16T23:20:55.404930\"}, {\"v\": 73}, {\"v\": 200}, {\"v\": \"GET\"}, {\"v\": \"Admin\"}]}, {\"c\": [{\"v\": \"2014-06-16T23:21:02.595419\"}, {\"v\": 576}, {\"v\": 200}, {\"v\": \"POST\"}, {\"v\": \"Admin\"}]}, {\"c\": [{\"v\": \"2014-06-16T23:21:02.934711\"}, {\"v\": 100}, {\"v\": 200}, {\"v\": \"GET\"}, {\"v\": \"Admin\"}]}, {\"c\": [{\"v\": \"2014-06-16T23:21:03.988646\"}, {\"v\": 226}, {\"v\": 200}, {\"v\": \"POST\"}, {\"v\": \"Admin\"}]}, {\"c\": [{\"v\": \"2014-06-16T23:21:04.314250\"}, {\"v\": 154}, {\"v\": 200}, {\"v\": \"POST\"}, {\"v\": \"Admin\"}]}, {\"c\": [{\"v\": \"2014-06-16T23:21:07.672549\"}, {\"v\": 713}, {\"v\": 200}, {\"v\": \"POST\"}, {\"v\": \"Admin\"}]}, {\"c\": [{\"v\": \"2014-06-16T23:21:08.252772\"}, {\"v\": 79}, {\"v\": 200}, {\"v\": \"GET\"}, {\"v\": \"Admin\"}]}, {\"c\": [{\"v\": \"2014-06-16T23:21:09.545052\"}, {\"v\": 492}, {\"v\": 200}, {\"v\": \"POST\"}, {\"v\": \"Admin\"}]}, {\"c\": [{\"v\": \"2014-06-16T23:21:09.830842\"}, {\"v\": 75}, {\"v\": 200}, {\"v\": \"GET\"}, {\"v\": \"Admin\"}]}, {\"c\": [{\"v\": \"2014-06-16T23:21:09.850049\"}, {\"v\": 205}, {\"v\": 200}, {\"v\": \"POST\"}, {\"v\": \"Admin\"}]}], \"cols\": [{\"type\": \"datetime\", \"id\": \"timestamp\", \"label\": \"timestamp\"}, {\"type\": \"number\", \"id\": \"latency\", \"label\": \"latency\"}, {\"type\": \"number\", \"id\": \"status\", \"label\": \"status\"}, {\"type\": \"string\", \"id\": \"method\", \"label\": \"method\"}, {\"type\": \"string\", \"id\": \"endpoint\", \"label\": \"endpoint\"}]});\n",
        "        }\n",
        "      );\n",
        "    </script>\n",
        "  "
       ],
       "metadata": {},
       "output_type": "pyout",
       "prompt_number": 8,
       "text": []
      }
     ],
     "prompt_number": 8
    },
    {
     "cell_type": "code",
     "collapsed": false,
     "input": [],
     "language": "python",
     "metadata": {},
     "outputs": [],
     "prompt_number": 8
    }
   ],
   "metadata": {}
  }
 ]
}