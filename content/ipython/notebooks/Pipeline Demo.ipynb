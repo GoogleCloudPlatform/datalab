{
 "metadata": {
  "name": "",
  "signature": "sha256:35b709f4c82158edcd63a1b62c0ed4a0144b938072e3b7fa6076ccd54fa6575f"
 },
 "nbformat": 3,
 "nbformat_minor": 0,
 "worksheets": [
  {
   "cells": [
    {
     "cell_type": "markdown",
     "metadata": {},
     "source": [
      "First define the arguments for configuring the pipeline, an inner query that we can use as an overridable source, and the 'real' outer query:"
     ]
    },
    {
     "cell_type": "code",
     "collapsed": false,
     "input": [
      "%%sql --name pipeline\n",
      "endpoint = 'Other'\n",
      "requestlogs = table(offset='-1y,-1m,+8d', format='requestlogs.logs%Y%m%d')\n",
      "\n",
      "DEFINE QUERY logs\n",
      "SELECT * FROM $requestlogs\n",
      "\n",
      "DEFINE QUERY filteredlogs\n",
      "SELECT * FROM $logs WHERE endpoint = $endpoint"
     ],
     "language": "python",
     "metadata": {},
     "outputs": [],
     "prompt_number": 1
    },
    {
     "cell_type": "markdown",
     "metadata": {},
     "source": [
      "Create a smaller table for testing in notebook:"
     ]
    },
    {
     "cell_type": "code",
     "collapsed": false,
     "input": [
      "import gcp.bigquery as bq\n",
      "testlogs = bq.table(\"requestlogs.logs20140620\").sample(count=100)"
     ],
     "language": "python",
     "metadata": {},
     "outputs": [],
     "prompt_number": 2
    },
    {
     "cell_type": "markdown",
     "metadata": {},
     "source": [
      "Test the inner query using the test value. To use the test value we must assign to it in the cell body; any values not specified this way will get their values from the default argument values provided in the %%sql block:"
     ]
    },
    {
     "cell_type": "code",
     "collapsed": false,
     "input": [
      "%%bigquery execute --sql pipeline.logs \n",
      "requestlogs=testlogs"
     ],
     "language": "python",
     "metadata": {},
     "outputs": [
      {
       "html": [
        "\n",
        "    <div class=\"bqtv\" id=\"bqtv_1437705568\"></div>\n",
        "    <div><br />job_UyuU0dC8cRL1u7GnIZjOox7hiys<br />rows: 100</div>\n",
        "    <script>\n",
        "      require(['extensions/charting', 'element!bqtv_1437705568'],\n",
        "        function(charts, dom) {\n",
        "          charts.render(dom,\n",
        "            {\n",
        "              chartStyle:\"paged_table\",\n",
        "              dataName:\"data-studio-team:_22cae82edc27e9be9a02c50fe9837efda6b0471d.anon0f4c03b14889c03991bedbcdc54b4bb46ab5a684\",\n",
        "              fields:\"timestamp,latency,status,method,endpoint\",\n",
        "              totalRows:100,\n",
        "              rowsPerPage:25,\n",
        "            }, {}, {\"rows\": [{\"c\": [{\"v\": \"2014-06-20T21:53:50.380158\"}, {\"v\": 82}, {\"v\": 200}, {\"v\": \"GET\"}, {\"v\": \"Interact1\"}]}, {\"c\": [{\"v\": \"2014-06-20T21:53:50.382326\"}, {\"v\": 70}, {\"v\": 200}, {\"v\": \"GET\"}, {\"v\": \"Interact1\"}]}, {\"c\": [{\"v\": \"2014-06-20T21:53:50.383151\"}, {\"v\": 5037}, {\"v\": 500}, {\"v\": \"GET\"}, {\"v\": \"Interact3\"}]}, {\"c\": [{\"v\": \"2014-06-20T21:53:50.397031\"}, {\"v\": 64}, {\"v\": 200}, {\"v\": \"GET\"}, {\"v\": \"Interact1\"}]}, {\"c\": [{\"v\": \"2014-06-20T21:53:50.502114\"}, {\"v\": 5458}, {\"v\": 500}, {\"v\": \"GET\"}, {\"v\": \"Interact3\"}]}, {\"c\": [{\"v\": \"2014-06-20T21:53:50.514357\"}, {\"v\": 191}, {\"v\": 200}, {\"v\": \"GET\"}, {\"v\": \"Other\"}]}, {\"c\": [{\"v\": \"2014-06-20T21:53:50.542282\"}, {\"v\": 46}, {\"v\": 200}, {\"v\": \"GET\"}, {\"v\": \"Interact1\"}]}, {\"c\": [{\"v\": \"2014-06-20T21:53:50.546125\"}, {\"v\": 123}, {\"v\": 200}, {\"v\": \"GET\"}, {\"v\": \"Interact3\"}]}, {\"c\": [{\"v\": \"2014-06-20T21:53:50.561785\"}, {\"v\": 49}, {\"v\": 200}, {\"v\": \"GET\"}, {\"v\": \"Interact1\"}]}, {\"c\": [{\"v\": \"2014-06-20T21:53:50.607984\"}, {\"v\": 138}, {\"v\": 200}, {\"v\": \"GET\"}, {\"v\": \"Create\"}]}, {\"c\": [{\"v\": \"2014-06-20T21:53:50.741602\"}, {\"v\": 49}, {\"v\": 200}, {\"v\": \"GET\"}, {\"v\": \"Interact1\"}]}, {\"c\": [{\"v\": \"2014-06-20T21:53:50.759783\"}, {\"v\": 71}, {\"v\": 200}, {\"v\": \"GET\"}, {\"v\": \"Interact1\"}]}, {\"c\": [{\"v\": \"2014-06-20T21:53:50.770142\"}, {\"v\": 36}, {\"v\": 200}, {\"v\": \"GET\"}, {\"v\": \"Other\"}]}, {\"c\": [{\"v\": \"2014-06-20T21:53:50.801623\"}, {\"v\": 57}, {\"v\": 200}, {\"v\": \"GET\"}, {\"v\": \"Interact1\"}]}, {\"c\": [{\"v\": \"2014-06-20T21:53:50.880666\"}, {\"v\": 52}, {\"v\": 200}, {\"v\": \"GET\"}, {\"v\": \"Interact1\"}]}, {\"c\": [{\"v\": \"2014-06-20T21:53:50.907299\"}, {\"v\": 82}, {\"v\": 200}, {\"v\": \"GET\"}, {\"v\": \"Interact3\"}]}, {\"c\": [{\"v\": \"2014-06-20T21:53:50.908578\"}, {\"v\": 5051}, {\"v\": 500}, {\"v\": \"GET\"}, {\"v\": \"Interact3\"}]}, {\"c\": [{\"v\": \"2014-06-20T21:53:50.929635\"}, {\"v\": 154}, {\"v\": 200}, {\"v\": \"POST\"}, {\"v\": \"Interact2\"}]}, {\"c\": [{\"v\": \"2014-06-20T21:53:50.960833\"}, {\"v\": 58}, {\"v\": 200}, {\"v\": \"GET\"}, {\"v\": \"Interact1\"}]}, {\"c\": [{\"v\": \"2014-06-20T21:53:50.993640\"}, {\"v\": 463}, {\"v\": 200}, {\"v\": \"GET\"}, {\"v\": \"Other\"}]}, {\"c\": [{\"v\": \"2014-06-20T21:53:50.998559\"}, {\"v\": 5091}, {\"v\": 500}, {\"v\": \"GET\"}, {\"v\": \"Interact3\"}]}, {\"c\": [{\"v\": \"2014-06-20T21:53:51.000918\"}, {\"v\": 51}, {\"v\": 200}, {\"v\": \"GET\"}, {\"v\": \"Interact1\"}]}, {\"c\": [{\"v\": \"2014-06-20T21:53:51.173542\"}, {\"v\": 736}, {\"v\": 200}, {\"v\": \"POST\"}, {\"v\": \"Admin\"}]}, {\"c\": [{\"v\": \"2014-06-20T21:53:51.180608\"}, {\"v\": 92}, {\"v\": 200}, {\"v\": \"GET\"}, {\"v\": \"Interact3\"}]}, {\"c\": [{\"v\": \"2014-06-20T21:53:51.190656\"}, {\"v\": 156}, {\"v\": 200}, {\"v\": \"GET\"}, {\"v\": \"Other\"}]}], \"cols\": [{\"type\": \"datetime\", \"id\": \"timestamp\", \"label\": \"timestamp\"}, {\"type\": \"number\", \"id\": \"latency\", \"label\": \"latency\"}, {\"type\": \"number\", \"id\": \"status\", \"label\": \"status\"}, {\"type\": \"string\", \"id\": \"method\", \"label\": \"method\"}, {\"type\": \"string\", \"id\": \"endpoint\", \"label\": \"endpoint\"}]});\n",
        "        }\n",
        "      );\n",
        "    </script>\n",
        "  "
       ],
       "metadata": {},
       "output_type": "pyout",
       "prompt_number": 3,
       "text": []
      }
     ],
     "prompt_number": 3
    },
    {
     "cell_type": "markdown",
     "metadata": {},
     "source": [
      "Sample the result of the outer query. Note this is still using the test table:"
     ]
    },
    {
     "cell_type": "code",
     "collapsed": false,
     "input": [
      "%%bigquery sample --sql pipeline.filteredlogs --count 5\n",
      "requestlogs=testlogs"
     ],
     "language": "python",
     "metadata": {},
     "outputs": [
      {
       "html": [
        "\n",
        "    <div class=\"bqtv\" id=\"bqtv_1437705570\"></div>\n",
        "    <div><br />job__ZjeWGOTOWxr3p39g6n4ZkrNeN0<br />rows: 5</div>\n",
        "    <script>\n",
        "      require(['extensions/charting', 'element!bqtv_1437705570'],\n",
        "        function(charts, dom) {\n",
        "          charts.render(dom,\n",
        "            {\n",
        "              chartStyle:\"table\",\n",
        "              dataName:\"data-studio-team:_22cae82edc27e9be9a02c50fe9837efda6b0471d.anon269b2c3d455bf1e4c652ba0c853d2d941e4bf345\",\n",
        "              fields:\"timestamp,latency,status,method,endpoint\",\n",
        "              totalRows:5,\n",
        "              rowsPerPage:25,\n",
        "            }, {}, {\"rows\": [{\"c\": [{\"v\": \"2014-06-20T21:53:50.514357\"}, {\"v\": 191}, {\"v\": 200}, {\"v\": \"GET\"}, {\"v\": \"Other\"}]}, {\"c\": [{\"v\": \"2014-06-20T21:53:50.770142\"}, {\"v\": 36}, {\"v\": 200}, {\"v\": \"GET\"}, {\"v\": \"Other\"}]}, {\"c\": [{\"v\": \"2014-06-20T21:53:50.993640\"}, {\"v\": 463}, {\"v\": 200}, {\"v\": \"GET\"}, {\"v\": \"Other\"}]}, {\"c\": [{\"v\": \"2014-06-20T21:53:51.190656\"}, {\"v\": 156}, {\"v\": 200}, {\"v\": \"GET\"}, {\"v\": \"Other\"}]}, {\"c\": [{\"v\": \"2014-06-20T21:53:51.240035\"}, {\"v\": 429}, {\"v\": 200}, {\"v\": \"GET\"}, {\"v\": \"Other\"}]}], \"cols\": [{\"type\": \"datetime\", \"id\": \"timestamp\", \"label\": \"timestamp\"}, {\"type\": \"number\", \"id\": \"latency\", \"label\": \"latency\"}, {\"type\": \"number\", \"id\": \"status\", \"label\": \"status\"}, {\"type\": \"string\", \"id\": \"method\", \"label\": \"method\"}, {\"type\": \"string\", \"id\": \"endpoint\", \"label\": \"endpoint\"}]});\n",
        "        }\n",
        "      );\n",
        "    </script>\n",
        "  "
       ],
       "metadata": {},
       "output_type": "pyout",
       "prompt_number": 4,
       "text": []
      }
     ],
     "prompt_number": 4
    },
    {
     "cell_type": "markdown",
     "metadata": {},
     "source": [
      "Now validate the pipeline SQL expansion using the default argument values. We could also define the destination table name here, as well as other arguments such as whether the query should be run as batch or interactive:"
     ]
    },
    {
     "cell_type": "code",
     "collapsed": false,
     "input": [
      "%bigquery pipeline --sql pipeline --overwrite --batch --name mypipeline"
     ],
     "language": "python",
     "metadata": {},
     "outputs": [
      {
       "output_type": "stream",
       "stream": "stdout",
       "text": [
        "SELECT * FROM (SELECT * FROM [data-studio-team:requestlogs.logs20140702]) WHERE endpoint = \"Other\"\n"
       ]
      }
     ],
     "prompt_number": 5
    },
    {
     "cell_type": "markdown",
     "metadata": {},
     "source": [
      "Finally, we can deploy the pipeline to DataMatic:"
     ]
    },
    {
     "cell_type": "code",
     "collapsed": false,
     "input": [
      "%%datamatic deploy --pipeline mypipeline\n",
      "# Crontab spec"
     ],
     "language": "python",
     "metadata": {},
     "outputs": [],
     "prompt_number": 6
    },
    {
     "cell_type": "code",
     "collapsed": false,
     "input": [],
     "language": "python",
     "metadata": {},
     "outputs": [],
     "prompt_number": 7
    }
   ],
   "metadata": {}
  }
 ]
}