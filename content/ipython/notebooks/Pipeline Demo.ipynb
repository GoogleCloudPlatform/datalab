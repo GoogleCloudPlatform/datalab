{
 "metadata": {
  "name": "",
  "signature": "sha256:a32161e5905286b93668a417283ae0f9d1adf2a46f78734bd7eb1018fec02b08"
 },
 "nbformat": 3,
 "nbformat_minor": 0,
 "worksheets": [
  {
   "cells": [
    {
     "cell_type": "markdown",
     "metadata": {},
     "source": [
      "First define the arguments for configuring the pipeline:"
     ]
    },
    {
     "cell_type": "code",
     "collapsed": false,
     "input": [
      "%%arguments\n",
      "arg('endpoint', default='Admin')\n",
      "arg('requestlogs', type=table, default='today', offset='-1y,-1m,+8d', format='requestlogs.logs%Y%m%d')\n",
      "arg('destination',  default='today', offset='-1y,-1m,+8d', format='test.proclogs%Y%m%d')"
     ],
     "language": "python",
     "metadata": {},
     "outputs": [],
     "prompt_number": 1
    },
    {
     "cell_type": "markdown",
     "metadata": {},
     "source": [
      "Define the inner part of the pipeline query. This is a simple SELECT \\* as we want it to serve as an overridable source:"
     ]
    },
    {
     "cell_type": "code",
     "collapsed": false,
     "input": [
      "%%sql --name logs\n",
      "SELECT * FROM $requestlogs"
     ],
     "language": "python",
     "metadata": {},
     "outputs": [],
     "prompt_number": 2
    },
    {
     "cell_type": "markdown",
     "metadata": {},
     "source": [
      "Override an arg value for testing in notebook:"
     ]
    },
    {
     "cell_type": "code",
     "collapsed": false,
     "input": [
      "import gcp.bigquery as bq\n",
      "requestlogs = bq.table(\"requestlogs.logs20140620\").sample(count=100)"
     ],
     "language": "python",
     "metadata": {},
     "outputs": [],
     "prompt_number": 3
    },
    {
     "cell_type": "markdown",
     "metadata": {},
     "source": [
      "Test the query using the overridden value:"
     ]
    },
    {
     "cell_type": "code",
     "collapsed": false,
     "input": [
      "%bigquery execute --sql logs"
     ],
     "language": "python",
     "metadata": {},
     "outputs": [
      {
       "html": [
        "\n",
        "    <div class=\"bqtv\" id=\"bqtv_1436288941\"></div>\n",
        "    <div><br />job_-HNGSikmoT9zL-it0QK-igoJk18<br />rows: 100</div>\n",
        "    <script>\n",
        "      require(['extensions/charting', 'element!bqtv_1436288941'],\n",
        "        function(charts, dom) {\n",
        "          charts.render(dom,\n",
        "            {\n",
        "              chartStyle:\"paged_table\",\n",
        "              dataName:\"data-studio-team:_22cae82edc27e9be9a02c50fe9837efda6b0471d.anon87a222059fe26e52f2e024a92380a4eaa7ccf95d\",\n",
        "              fields:\"timestamp,latency,status,method,endpoint\",\n",
        "              totalRows:100,\n",
        "              rowsPerPage:25,\n",
        "            }, {}, {\"rows\": [{\"c\": [{\"v\": \"2014-06-20T21:53:50.380158\"}, {\"v\": 82}, {\"v\": 200}, {\"v\": \"GET\"}, {\"v\": \"Interact1\"}]}, {\"c\": [{\"v\": \"2014-06-20T21:53:50.382326\"}, {\"v\": 70}, {\"v\": 200}, {\"v\": \"GET\"}, {\"v\": \"Interact1\"}]}, {\"c\": [{\"v\": \"2014-06-20T21:53:50.383151\"}, {\"v\": 5037}, {\"v\": 500}, {\"v\": \"GET\"}, {\"v\": \"Interact3\"}]}, {\"c\": [{\"v\": \"2014-06-20T21:53:50.397031\"}, {\"v\": 64}, {\"v\": 200}, {\"v\": \"GET\"}, {\"v\": \"Interact1\"}]}, {\"c\": [{\"v\": \"2014-06-20T21:53:50.502114\"}, {\"v\": 5458}, {\"v\": 500}, {\"v\": \"GET\"}, {\"v\": \"Interact3\"}]}, {\"c\": [{\"v\": \"2014-06-20T21:53:50.514357\"}, {\"v\": 191}, {\"v\": 200}, {\"v\": \"GET\"}, {\"v\": \"Other\"}]}, {\"c\": [{\"v\": \"2014-06-20T21:53:50.542282\"}, {\"v\": 46}, {\"v\": 200}, {\"v\": \"GET\"}, {\"v\": \"Interact1\"}]}, {\"c\": [{\"v\": \"2014-06-20T21:53:50.546125\"}, {\"v\": 123}, {\"v\": 200}, {\"v\": \"GET\"}, {\"v\": \"Interact3\"}]}, {\"c\": [{\"v\": \"2014-06-20T21:53:50.561785\"}, {\"v\": 49}, {\"v\": 200}, {\"v\": \"GET\"}, {\"v\": \"Interact1\"}]}, {\"c\": [{\"v\": \"2014-06-20T21:53:50.607984\"}, {\"v\": 138}, {\"v\": 200}, {\"v\": \"GET\"}, {\"v\": \"Create\"}]}, {\"c\": [{\"v\": \"2014-06-20T21:53:50.741602\"}, {\"v\": 49}, {\"v\": 200}, {\"v\": \"GET\"}, {\"v\": \"Interact1\"}]}, {\"c\": [{\"v\": \"2014-06-20T21:53:50.759783\"}, {\"v\": 71}, {\"v\": 200}, {\"v\": \"GET\"}, {\"v\": \"Interact1\"}]}, {\"c\": [{\"v\": \"2014-06-20T21:53:50.770142\"}, {\"v\": 36}, {\"v\": 200}, {\"v\": \"GET\"}, {\"v\": \"Other\"}]}, {\"c\": [{\"v\": \"2014-06-20T21:53:50.801623\"}, {\"v\": 57}, {\"v\": 200}, {\"v\": \"GET\"}, {\"v\": \"Interact1\"}]}, {\"c\": [{\"v\": \"2014-06-20T21:53:50.880666\"}, {\"v\": 52}, {\"v\": 200}, {\"v\": \"GET\"}, {\"v\": \"Interact1\"}]}, {\"c\": [{\"v\": \"2014-06-20T21:53:50.907299\"}, {\"v\": 82}, {\"v\": 200}, {\"v\": \"GET\"}, {\"v\": \"Interact3\"}]}, {\"c\": [{\"v\": \"2014-06-20T21:53:50.908578\"}, {\"v\": 5051}, {\"v\": 500}, {\"v\": \"GET\"}, {\"v\": \"Interact3\"}]}, {\"c\": [{\"v\": \"2014-06-20T21:53:50.929635\"}, {\"v\": 154}, {\"v\": 200}, {\"v\": \"POST\"}, {\"v\": \"Interact2\"}]}, {\"c\": [{\"v\": \"2014-06-20T21:53:50.960833\"}, {\"v\": 58}, {\"v\": 200}, {\"v\": \"GET\"}, {\"v\": \"Interact1\"}]}, {\"c\": [{\"v\": \"2014-06-20T21:53:50.993640\"}, {\"v\": 463}, {\"v\": 200}, {\"v\": \"GET\"}, {\"v\": \"Other\"}]}, {\"c\": [{\"v\": \"2014-06-20T21:53:50.998559\"}, {\"v\": 5091}, {\"v\": 500}, {\"v\": \"GET\"}, {\"v\": \"Interact3\"}]}, {\"c\": [{\"v\": \"2014-06-20T21:53:51.000918\"}, {\"v\": 51}, {\"v\": 200}, {\"v\": \"GET\"}, {\"v\": \"Interact1\"}]}, {\"c\": [{\"v\": \"2014-06-20T21:53:51.173542\"}, {\"v\": 736}, {\"v\": 200}, {\"v\": \"POST\"}, {\"v\": \"Admin\"}]}, {\"c\": [{\"v\": \"2014-06-20T21:53:51.180608\"}, {\"v\": 92}, {\"v\": 200}, {\"v\": \"GET\"}, {\"v\": \"Interact3\"}]}, {\"c\": [{\"v\": \"2014-06-20T21:53:51.190656\"}, {\"v\": 156}, {\"v\": 200}, {\"v\": \"GET\"}, {\"v\": \"Other\"}]}], \"cols\": [{\"type\": \"datetime\", \"id\": \"timestamp\", \"label\": \"timestamp\"}, {\"type\": \"number\", \"id\": \"latency\", \"label\": \"latency\"}, {\"type\": \"number\", \"id\": \"status\", \"label\": \"status\"}, {\"type\": \"string\", \"id\": \"method\", \"label\": \"method\"}, {\"type\": \"string\", \"id\": \"endpoint\", \"label\": \"endpoint\"}]});\n",
        "        }\n",
        "      );\n",
        "    </script>\n",
        "  "
       ],
       "metadata": {},
       "output_type": "pyout",
       "prompt_number": 4,
       "text": []
      }
     ],
     "prompt_number": 4
    },
    {
     "cell_type": "markdown",
     "metadata": {},
     "source": [
      "Define the 'real' query, that makes use of our source:"
     ]
    },
    {
     "cell_type": "code",
     "collapsed": false,
     "input": [
      "%%sql --name filteredlogs\n",
      "SELECT * FROM $logs WHERE endpoint = $endpoint"
     ],
     "language": "python",
     "metadata": {},
     "outputs": [],
     "prompt_number": 5
    },
    {
     "cell_type": "markdown",
     "metadata": {},
     "source": [
      "Sample the result. Note this is still using the overridden value:"
     ]
    },
    {
     "cell_type": "code",
     "collapsed": false,
     "input": [
      "%bigquery sample --sql filteredlogs"
     ],
     "language": "python",
     "metadata": {},
     "outputs": [
      {
       "html": [
        "\n",
        "    <div class=\"bqtv\" id=\"bqtv_1436288943\"></div>\n",
        "    <div><br />job_ISJ2pXTgodXzdsvM2WoCRKZnwhQ<br />rows: 3</div>\n",
        "    <script>\n",
        "      require(['extensions/charting', 'element!bqtv_1436288943'],\n",
        "        function(charts, dom) {\n",
        "          charts.render(dom,\n",
        "            {\n",
        "              chartStyle:\"table\",\n",
        "              dataName:\"data-studio-team:_22cae82edc27e9be9a02c50fe9837efda6b0471d.anon91f8cb224488a0e35c92f921a2e5dfd28c3ab5fb\",\n",
        "              fields:\"timestamp,latency,status,method,endpoint\",\n",
        "              totalRows:3,\n",
        "              rowsPerPage:25,\n",
        "            }, {}, {\"rows\": [{\"c\": [{\"v\": \"2014-06-20T21:53:51.173542\"}, {\"v\": 736}, {\"v\": 200}, {\"v\": \"POST\"}, {\"v\": \"Admin\"}]}, {\"c\": [{\"v\": \"2014-06-20T21:53:51.601039\"}, {\"v\": 106}, {\"v\": 200}, {\"v\": \"GET\"}, {\"v\": \"Admin\"}]}, {\"c\": [{\"v\": \"2014-06-20T21:53:51.692463\"}, {\"v\": 203}, {\"v\": 200}, {\"v\": \"POST\"}, {\"v\": \"Admin\"}]}], \"cols\": [{\"type\": \"datetime\", \"id\": \"timestamp\", \"label\": \"timestamp\"}, {\"type\": \"number\", \"id\": \"latency\", \"label\": \"latency\"}, {\"type\": \"number\", \"id\": \"status\", \"label\": \"status\"}, {\"type\": \"string\", \"id\": \"method\", \"label\": \"method\"}, {\"type\": \"string\", \"id\": \"endpoint\", \"label\": \"endpoint\"}]});\n",
        "        }\n",
        "      );\n",
        "    </script>\n",
        "  "
       ],
       "metadata": {},
       "output_type": "pyout",
       "prompt_number": 6,
       "text": []
      }
     ],
     "prompt_number": 6
    },
    {
     "cell_type": "markdown",
     "metadata": {},
     "source": [
      "Save the result to a table:"
     ]
    },
    {
     "cell_type": "code",
     "collapsed": false,
     "input": [
      "%bigquery execute --sql filteredlogs --overwrite --destination test.output"
     ],
     "language": "python",
     "metadata": {},
     "outputs": [
      {
       "html": [
        "\n",
        "    <div class=\"bqtv\" id=\"bqtv_1436288945\"></div>\n",
        "    <div><br />job_iftAv5e5QOzlyilLx0e7F1DpgWA<br />rows: 3</div>\n",
        "    <script>\n",
        "      require(['extensions/charting', 'element!bqtv_1436288945'],\n",
        "        function(charts, dom) {\n",
        "          charts.render(dom,\n",
        "            {\n",
        "              chartStyle:\"table\",\n",
        "              dataName:\"data-studio-team:test.output\",\n",
        "              fields:\"timestamp,latency,status,method,endpoint\",\n",
        "              totalRows:3,\n",
        "              rowsPerPage:25,\n",
        "            }, {}, {\"rows\": [{\"c\": [{\"v\": \"2014-06-20T21:53:51.173542\"}, {\"v\": 736}, {\"v\": 200}, {\"v\": \"POST\"}, {\"v\": \"Admin\"}]}, {\"c\": [{\"v\": \"2014-06-20T21:53:51.601039\"}, {\"v\": 106}, {\"v\": 200}, {\"v\": \"GET\"}, {\"v\": \"Admin\"}]}, {\"c\": [{\"v\": \"2014-06-20T21:53:51.692463\"}, {\"v\": 203}, {\"v\": 200}, {\"v\": \"POST\"}, {\"v\": \"Admin\"}]}], \"cols\": [{\"type\": \"datetime\", \"id\": \"timestamp\", \"label\": \"timestamp\"}, {\"type\": \"number\", \"id\": \"latency\", \"label\": \"latency\"}, {\"type\": \"number\", \"id\": \"status\", \"label\": \"status\"}, {\"type\": \"string\", \"id\": \"method\", \"label\": \"method\"}, {\"type\": \"string\", \"id\": \"endpoint\", \"label\": \"endpoint\"}]});\n",
        "        }\n",
        "      );\n",
        "    </script>\n",
        "  "
       ],
       "metadata": {},
       "output_type": "pyout",
       "prompt_number": 7,
       "text": []
      }
     ],
     "prompt_number": 7
    },
    {
     "cell_type": "markdown",
     "metadata": {},
     "source": [
      "Now test the pipeline using the "
     ]
    },
    {
     "cell_type": "code",
     "collapsed": false,
     "input": [
      "%bigquery pipeline --sql filteredlogs --overwrite --destination $destination"
     ],
     "language": "python",
     "metadata": {},
     "outputs": [
      {
       "html": [
        "\n",
        "    <div class=\"bqtv\" id=\"bqtv_1436288948\"></div>\n",
        "    <div><br />job_AfA2gMzJvf-uYm2jOXk5gk8sLb4<br />rows: 119292</div>\n",
        "    <script>\n",
        "      require(['extensions/charting', 'element!bqtv_1436288948'],\n",
        "        function(charts, dom) {\n",
        "          charts.render(dom,\n",
        "            {\n",
        "              chartStyle:\"paged_table\",\n",
        "              dataName:\"data-studio-team:test.proclogs20140615\",\n",
        "              fields:\"timestamp,latency,status,method,endpoint\",\n",
        "              totalRows:119292,\n",
        "              rowsPerPage:25,\n",
        "            }, {}, {\"rows\": [{\"c\": [{\"v\": \"2014-06-15T07:00:03.296235\"}, {\"v\": 500}, {\"v\": 200}, {\"v\": \"POST\"}, {\"v\": \"Admin\"}]}, {\"c\": [{\"v\": \"2014-06-15T07:00:03.514129\"}, {\"v\": 104}, {\"v\": 200}, {\"v\": \"GET\"}, {\"v\": \"Admin\"}]}, {\"c\": [{\"v\": \"2014-06-15T07:01:17.615355\"}, {\"v\": 869}, {\"v\": 200}, {\"v\": \"POST\"}, {\"v\": \"Admin\"}]}, {\"c\": [{\"v\": \"2014-06-15T07:01:17.615447\"}, {\"v\": 425}, {\"v\": 200}, {\"v\": \"POST\"}, {\"v\": \"Admin\"}]}, {\"c\": [{\"v\": \"2014-06-15T07:01:17.828051\"}, {\"v\": 97}, {\"v\": 200}, {\"v\": \"GET\"}, {\"v\": \"Admin\"}]}, {\"c\": [{\"v\": \"2014-06-15T07:01:21.545509\"}, {\"v\": 211}, {\"v\": 200}, {\"v\": \"POST\"}, {\"v\": \"Admin\"}]}, {\"c\": [{\"v\": \"2014-06-15T07:01:27.576004\"}, {\"v\": 351}, {\"v\": 200}, {\"v\": \"POST\"}, {\"v\": \"Admin\"}]}, {\"c\": [{\"v\": \"2014-06-15T07:01:27.576065\"}, {\"v\": 305}, {\"v\": 200}, {\"v\": \"POST\"}, {\"v\": \"Admin\"}]}, {\"c\": [{\"v\": \"2014-06-15T07:01:27.767663\"}, {\"v\": 89}, {\"v\": 200}, {\"v\": \"GET\"}, {\"v\": \"Admin\"}]}, {\"c\": [{\"v\": \"2014-06-15T07:01:32.487396\"}, {\"v\": 211}, {\"v\": 200}, {\"v\": \"POST\"}, {\"v\": \"Admin\"}]}, {\"c\": [{\"v\": \"2014-06-15T07:01:39.871572\"}, {\"v\": 312}, {\"v\": 200}, {\"v\": \"POST\"}, {\"v\": \"Admin\"}]}, {\"c\": [{\"v\": \"2014-06-15T07:03:16.902531\"}, {\"v\": 1501}, {\"v\": 200}, {\"v\": \"GET\"}, {\"v\": \"Admin\"}]}, {\"c\": [{\"v\": \"2014-06-15T07:03:18.182355\"}, {\"v\": 80}, {\"v\": 200}, {\"v\": \"GET\"}, {\"v\": \"Admin\"}]}, {\"c\": [{\"v\": \"2014-06-15T07:05:32.448561\"}, {\"v\": 343}, {\"v\": 200}, {\"v\": \"POST\"}, {\"v\": \"Admin\"}]}, {\"c\": [{\"v\": \"2014-06-15T07:05:32.615841\"}, {\"v\": 80}, {\"v\": 200}, {\"v\": \"GET\"}, {\"v\": \"Admin\"}]}, {\"c\": [{\"v\": \"2014-06-15T07:05:52.129730\"}, {\"v\": 157}, {\"v\": 500}, {\"v\": \"POST\"}, {\"v\": \"Admin\"}]}, {\"c\": [{\"v\": \"2014-06-15T07:07:26.263917\"}, {\"v\": 388}, {\"v\": 200}, {\"v\": \"POST\"}, {\"v\": \"Admin\"}]}, {\"c\": [{\"v\": \"2014-06-15T07:07:26.540013\"}, {\"v\": 75}, {\"v\": 200}, {\"v\": \"GET\"}, {\"v\": \"Admin\"}]}, {\"c\": [{\"v\": \"2014-06-15T07:08:01.279694\"}, {\"v\": 620}, {\"v\": 200}, {\"v\": \"POST\"}, {\"v\": \"Admin\"}]}, {\"c\": [{\"v\": \"2014-06-15T07:08:01.674447\"}, {\"v\": 80}, {\"v\": 200}, {\"v\": \"GET\"}, {\"v\": \"Admin\"}]}, {\"c\": [{\"v\": \"2014-06-15T07:08:31.746697\"}, {\"v\": 449}, {\"v\": 200}, {\"v\": \"POST\"}, {\"v\": \"Admin\"}]}, {\"c\": [{\"v\": \"2014-06-15T07:08:31.956159\"}, {\"v\": 89}, {\"v\": 200}, {\"v\": \"GET\"}, {\"v\": \"Admin\"}]}, {\"c\": [{\"v\": \"2014-06-15T07:08:34.476948\"}, {\"v\": 756}, {\"v\": 200}, {\"v\": \"POST\"}, {\"v\": \"Admin\"}]}, {\"c\": [{\"v\": \"2014-06-15T07:08:35.016130\"}, {\"v\": 75}, {\"v\": 200}, {\"v\": \"GET\"}, {\"v\": \"Admin\"}]}, {\"c\": [{\"v\": \"2014-06-15T07:08:42.198404\"}, {\"v\": 394}, {\"v\": 200}, {\"v\": \"POST\"}, {\"v\": \"Admin\"}]}], \"cols\": [{\"type\": \"datetime\", \"id\": \"timestamp\", \"label\": \"timestamp\"}, {\"type\": \"number\", \"id\": \"latency\", \"label\": \"latency\"}, {\"type\": \"number\", \"id\": \"status\", \"label\": \"status\"}, {\"type\": \"string\", \"id\": \"method\", \"label\": \"method\"}, {\"type\": \"string\", \"id\": \"endpoint\", \"label\": \"endpoint\"}]});\n",
        "        }\n",
        "      );\n",
        "    </script>\n",
        "  "
       ],
       "metadata": {},
       "output_type": "pyout",
       "prompt_number": 8,
       "text": []
      }
     ],
     "prompt_number": 8
    },
    {
     "cell_type": "code",
     "collapsed": false,
     "input": [],
     "language": "python",
     "metadata": {},
     "outputs": [],
     "prompt_number": 8
    }
   ],
   "metadata": {}
  }
 ]
}