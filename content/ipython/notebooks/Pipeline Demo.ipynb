{
 "metadata": {
  "name": "",
  "signature": "sha256:d5334d6475d6fe05a509837d8e051674730935efde68b6dd94a5bca09154fcc9"
 },
 "nbformat": 3,
 "nbformat_minor": 0,
 "worksheets": [
  {
   "cells": [
    {
     "cell_type": "markdown",
     "metadata": {},
     "source": [
      "First define the arguments for configuring the pipeline, an inner query that we can use as an overridable source, and the 'real' outer query:"
     ]
    },
    {
     "cell_type": "code",
     "collapsed": false,
     "input": [
      "%%sql --name pipeline\n",
      "endpoint = 'Other'\n",
      "requestlogs = table(offset='-1y,-1m,+8d', format='requestlogs.logs%Y%m%d')\n",
      "\n",
      "DEFINE QUERY logs\n",
      "SELECT * FROM $requestlogs\n",
      "\n",
      "DEFINE QUERY filteredlogs\n",
      "SELECT * FROM $logs WHERE endpoint = $endpoint"
     ],
     "language": "python",
     "metadata": {},
     "outputs": [],
     "prompt_number": 1
    },
    {
     "cell_type": "markdown",
     "metadata": {},
     "source": [
      "Create a smaller table for testing in notebook:"
     ]
    },
    {
     "cell_type": "code",
     "collapsed": false,
     "input": [
      "import gcp.bigquery as bq\n",
      "testlogs = bq.table(\"requestlogs.logs20140620\").sample(count=100)"
     ],
     "language": "python",
     "metadata": {},
     "outputs": [],
     "prompt_number": 2
    },
    {
     "cell_type": "markdown",
     "metadata": {},
     "source": [
      "Test the inner query using the test value. Note that we must specify values at the end of our magic command using name=value pairs. Any values not specified will get their values from the default argument values provided in the %%sql block:"
     ]
    },
    {
     "cell_type": "code",
     "collapsed": false,
     "input": [
      "%bigquery execute --sql pipeline.logs requestlogs=testlogs"
     ],
     "language": "python",
     "metadata": {},
     "outputs": [
      {
       "html": [
        "\n",
        "    <div class=\"bqtv\" id=\"bqtv_1437697580\"></div>\n",
        "    <div><br />job_KNkXjbA54K3K1MQx0hSC7a02mAU<br />rows: 100</div>\n",
        "    <script>\n",
        "      require(['extensions/charting', 'element!bqtv_1437697580'],\n",
        "        function(charts, dom) {\n",
        "          charts.render(dom,\n",
        "            {\n",
        "              chartStyle:\"paged_table\",\n",
        "              dataName:\"data-studio-team:_22cae82edc27e9be9a02c50fe9837efda6b0471d.anonee3f23460600a3ffb8facffdbdbb1cbe05b5069d\",\n",
        "              fields:\"timestamp,latency,status,method,endpoint\",\n",
        "              totalRows:100,\n",
        "              rowsPerPage:25,\n",
        "            }, {}, {\"rows\": [{\"c\": [{\"v\": \"2014-06-20T21:53:50.380158\"}, {\"v\": 82}, {\"v\": 200}, {\"v\": \"GET\"}, {\"v\": \"Interact1\"}]}, {\"c\": [{\"v\": \"2014-06-20T21:53:50.382326\"}, {\"v\": 70}, {\"v\": 200}, {\"v\": \"GET\"}, {\"v\": \"Interact1\"}]}, {\"c\": [{\"v\": \"2014-06-20T21:53:50.383151\"}, {\"v\": 5037}, {\"v\": 500}, {\"v\": \"GET\"}, {\"v\": \"Interact3\"}]}, {\"c\": [{\"v\": \"2014-06-20T21:53:50.397031\"}, {\"v\": 64}, {\"v\": 200}, {\"v\": \"GET\"}, {\"v\": \"Interact1\"}]}, {\"c\": [{\"v\": \"2014-06-20T21:53:50.502114\"}, {\"v\": 5458}, {\"v\": 500}, {\"v\": \"GET\"}, {\"v\": \"Interact3\"}]}, {\"c\": [{\"v\": \"2014-06-20T21:53:50.514357\"}, {\"v\": 191}, {\"v\": 200}, {\"v\": \"GET\"}, {\"v\": \"Other\"}]}, {\"c\": [{\"v\": \"2014-06-20T21:53:50.542282\"}, {\"v\": 46}, {\"v\": 200}, {\"v\": \"GET\"}, {\"v\": \"Interact1\"}]}, {\"c\": [{\"v\": \"2014-06-20T21:53:50.546125\"}, {\"v\": 123}, {\"v\": 200}, {\"v\": \"GET\"}, {\"v\": \"Interact3\"}]}, {\"c\": [{\"v\": \"2014-06-20T21:53:50.561785\"}, {\"v\": 49}, {\"v\": 200}, {\"v\": \"GET\"}, {\"v\": \"Interact1\"}]}, {\"c\": [{\"v\": \"2014-06-20T21:53:50.607984\"}, {\"v\": 138}, {\"v\": 200}, {\"v\": \"GET\"}, {\"v\": \"Create\"}]}, {\"c\": [{\"v\": \"2014-06-20T21:53:50.741602\"}, {\"v\": 49}, {\"v\": 200}, {\"v\": \"GET\"}, {\"v\": \"Interact1\"}]}, {\"c\": [{\"v\": \"2014-06-20T21:53:50.759783\"}, {\"v\": 71}, {\"v\": 200}, {\"v\": \"GET\"}, {\"v\": \"Interact1\"}]}, {\"c\": [{\"v\": \"2014-06-20T21:53:50.770142\"}, {\"v\": 36}, {\"v\": 200}, {\"v\": \"GET\"}, {\"v\": \"Other\"}]}, {\"c\": [{\"v\": \"2014-06-20T21:53:50.801623\"}, {\"v\": 57}, {\"v\": 200}, {\"v\": \"GET\"}, {\"v\": \"Interact1\"}]}, {\"c\": [{\"v\": \"2014-06-20T21:53:50.880666\"}, {\"v\": 52}, {\"v\": 200}, {\"v\": \"GET\"}, {\"v\": \"Interact1\"}]}, {\"c\": [{\"v\": \"2014-06-20T21:53:50.907299\"}, {\"v\": 82}, {\"v\": 200}, {\"v\": \"GET\"}, {\"v\": \"Interact3\"}]}, {\"c\": [{\"v\": \"2014-06-20T21:53:50.908578\"}, {\"v\": 5051}, {\"v\": 500}, {\"v\": \"GET\"}, {\"v\": \"Interact3\"}]}, {\"c\": [{\"v\": \"2014-06-20T21:53:50.929635\"}, {\"v\": 154}, {\"v\": 200}, {\"v\": \"POST\"}, {\"v\": \"Interact2\"}]}, {\"c\": [{\"v\": \"2014-06-20T21:53:50.960833\"}, {\"v\": 58}, {\"v\": 200}, {\"v\": \"GET\"}, {\"v\": \"Interact1\"}]}, {\"c\": [{\"v\": \"2014-06-20T21:53:50.993640\"}, {\"v\": 463}, {\"v\": 200}, {\"v\": \"GET\"}, {\"v\": \"Other\"}]}, {\"c\": [{\"v\": \"2014-06-20T21:53:50.998559\"}, {\"v\": 5091}, {\"v\": 500}, {\"v\": \"GET\"}, {\"v\": \"Interact3\"}]}, {\"c\": [{\"v\": \"2014-06-20T21:53:51.000918\"}, {\"v\": 51}, {\"v\": 200}, {\"v\": \"GET\"}, {\"v\": \"Interact1\"}]}, {\"c\": [{\"v\": \"2014-06-20T21:53:51.173542\"}, {\"v\": 736}, {\"v\": 200}, {\"v\": \"POST\"}, {\"v\": \"Admin\"}]}, {\"c\": [{\"v\": \"2014-06-20T21:53:51.180608\"}, {\"v\": 92}, {\"v\": 200}, {\"v\": \"GET\"}, {\"v\": \"Interact3\"}]}, {\"c\": [{\"v\": \"2014-06-20T21:53:51.190656\"}, {\"v\": 156}, {\"v\": 200}, {\"v\": \"GET\"}, {\"v\": \"Other\"}]}], \"cols\": [{\"type\": \"datetime\", \"id\": \"timestamp\", \"label\": \"timestamp\"}, {\"type\": \"number\", \"id\": \"latency\", \"label\": \"latency\"}, {\"type\": \"number\", \"id\": \"status\", \"label\": \"status\"}, {\"type\": \"string\", \"id\": \"method\", \"label\": \"method\"}, {\"type\": \"string\", \"id\": \"endpoint\", \"label\": \"endpoint\"}]});\n",
        "        }\n",
        "      );\n",
        "    </script>\n",
        "  "
       ],
       "metadata": {},
       "output_type": "pyout",
       "prompt_number": 3,
       "text": []
      }
     ],
     "prompt_number": 3
    },
    {
     "cell_type": "markdown",
     "metadata": {},
     "source": [
      "Sample the result. Note this is still using the test table:"
     ]
    },
    {
     "cell_type": "code",
     "collapsed": false,
     "input": [
      "%bigquery sample --sql pipeline.filteredlogs --count 5 requestlogs=testlogs"
     ],
     "language": "python",
     "metadata": {},
     "outputs": [
      {
       "html": [
        "\n",
        "    <div class=\"bqtv\" id=\"bqtv_1437697582\"></div>\n",
        "    <div><br />job_IRBlET2qxSg_y94pDxLrOIPfXPQ<br />rows: 5</div>\n",
        "    <script>\n",
        "      require(['extensions/charting', 'element!bqtv_1437697582'],\n",
        "        function(charts, dom) {\n",
        "          charts.render(dom,\n",
        "            {\n",
        "              chartStyle:\"table\",\n",
        "              dataName:\"data-studio-team:_22cae82edc27e9be9a02c50fe9837efda6b0471d.anon89e46dd4da03568462de7bd8241188d110d1ffa5\",\n",
        "              fields:\"timestamp,latency,status,method,endpoint\",\n",
        "              totalRows:5,\n",
        "              rowsPerPage:25,\n",
        "            }, {}, {\"rows\": [{\"c\": [{\"v\": \"2014-06-20T21:53:50.514357\"}, {\"v\": 191}, {\"v\": 200}, {\"v\": \"GET\"}, {\"v\": \"Other\"}]}, {\"c\": [{\"v\": \"2014-06-20T21:53:50.770142\"}, {\"v\": 36}, {\"v\": 200}, {\"v\": \"GET\"}, {\"v\": \"Other\"}]}, {\"c\": [{\"v\": \"2014-06-20T21:53:50.993640\"}, {\"v\": 463}, {\"v\": 200}, {\"v\": \"GET\"}, {\"v\": \"Other\"}]}, {\"c\": [{\"v\": \"2014-06-20T21:53:51.190656\"}, {\"v\": 156}, {\"v\": 200}, {\"v\": \"GET\"}, {\"v\": \"Other\"}]}, {\"c\": [{\"v\": \"2014-06-20T21:53:51.240035\"}, {\"v\": 429}, {\"v\": 200}, {\"v\": \"GET\"}, {\"v\": \"Other\"}]}], \"cols\": [{\"type\": \"datetime\", \"id\": \"timestamp\", \"label\": \"timestamp\"}, {\"type\": \"number\", \"id\": \"latency\", \"label\": \"latency\"}, {\"type\": \"number\", \"id\": \"status\", \"label\": \"status\"}, {\"type\": \"string\", \"id\": \"method\", \"label\": \"method\"}, {\"type\": \"string\", \"id\": \"endpoint\", \"label\": \"endpoint\"}]});\n",
        "        }\n",
        "      );\n",
        "    </script>\n",
        "  "
       ],
       "metadata": {},
       "output_type": "pyout",
       "prompt_number": 4,
       "text": []
      }
     ],
     "prompt_number": 4
    },
    {
     "cell_type": "markdown",
     "metadata": {},
     "source": [
      "Now validate the pipeline SQL expansion using the default argument values. We are also defining a deployable pipeline here:"
     ]
    },
    {
     "cell_type": "code",
     "collapsed": false,
     "input": [
      "%bigquery pipeline --sql pipeline"
     ],
     "language": "python",
     "metadata": {},
     "outputs": [
      {
       "output_type": "stream",
       "stream": "stdout",
       "text": [
        "\n",
        "SELECT * FROM (\n",
        "SELECT * FROM [data-studio-team:requestlogs.logs20140702]) WHERE endpoint = \"Other\"\n"
       ]
      }
     ],
     "prompt_number": 8
    },
    {
     "cell_type": "code",
     "collapsed": false,
     "input": [],
     "language": "python",
     "metadata": {},
     "outputs": [],
     "prompt_number": 5
    }
   ],
   "metadata": {}
  }
 ]
}