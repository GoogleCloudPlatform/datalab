{
 "metadata": {
  "name": "",
  "signature": "sha256:a989decd110d28c9c1781c8649b6fe60b5cb8c0bdc55f569717f0123738a8097"
 },
 "nbformat": 3,
 "nbformat_minor": 0,
 "worksheets": [
  {
   "cells": [
    {
     "cell_type": "markdown",
     "metadata": {},
     "source": [
      "# Cloud Storage - Using Cell Magics to Manipulate Storage\n",
      "\n",
      "DataLab provides a number of cell magics to simplify accessing data in Google Cloud Storage. In this notebook we will show how to use these.\n",
      "\n",
      "The following storage magics will be discussed:\n",
      "\n",
      "* %storage copy\n",
      "* %storage create\n",
      "* %storage delete\n",
      "* %storage list\n",
      "* %storage read\n",
      "* %storage view\n",
      "* %storage write\n",
      "\n",
      "\n",
      "Related Links:\n",
      "\n",
      "* [Cloud Storage](https://cloud.google.com/storage/)\n",
      "\n",
      "----\n",
      "\n",
      "NOTE:\n",
      "\n",
      "* If you're new to notebooks, or want to check out additional samples, check out the full [list](..) of notebooks."
     ]
    },
    {
     "cell_type": "markdown",
     "metadata": {},
     "source": [
      "We will first look at how to create a bucket, as we will need one to illustrate most of the other magics. We use %storage create for this, and can specify the names of one or more buckets. Let's create a single bucket: "
     ]
    },
    {
     "cell_type": "code",
     "collapsed": false,
     "input": [
      "%storage create gs://datalab-magic"
     ],
     "language": "python",
     "metadata": {},
     "outputs": [],
     "prompt_number": 1
    },
    {
     "cell_type": "markdown",
     "metadata": {},
     "source": [
      "Now we can list the buckets available and should see our new bucket:"
     ]
    },
    {
     "cell_type": "code",
     "collapsed": false,
     "input": [
      "%storage list"
     ],
     "language": "python",
     "metadata": {},
     "outputs": [
      {
       "html": [
        "<table><tr><th>Bucket</th><th>Created</th></tr><tr><td>gs://data-studio-team-ipython</td><td>2014-12-15 19:04:05.029000+00:00</td></tr><tr><td>gs://data-studio-team-notebooks</td><td>2014-08-23 18:09:53.599000+00:00</td></tr><tr><td>gs://datalab-magic</td><td>2015-07-02 00:17:21.480000+00:00</td></tr><tr><td>gs://datalab-scripts</td><td>2015-03-17 22:28:10.652000+00:00</td></tr><tr><td>gs://datastudio-dataflow</td><td>2015-03-17 20:40:15.032000+00:00</td></tr><tr><td>gs://datastudio-sample-logs</td><td>2014-06-21 03:06:47.331000+00:00</td></tr><tr><td>gs://datastudio-test</td><td>2015-05-26 21:23:57.365000+00:00</td></tr></table>"
       ],
       "metadata": {},
       "output_type": "pyout",
       "prompt_number": 2,
       "text": [
        "<IPython.core.display.HTML at 0x109c41910>"
       ]
      }
     ],
     "prompt_number": 2
    },
    {
     "cell_type": "markdown",
     "metadata": {},
     "source": [
      "We can specify the bucket to list if we want to view its contents. Ours should be empty:"
     ]
    },
    {
     "cell_type": "code",
     "collapsed": false,
     "input": [
      "%storage list gs://datalab-magic"
     ],
     "language": "python",
     "metadata": {},
     "outputs": [
      {
       "html": [],
       "metadata": {},
       "output_type": "pyout",
       "prompt_number": 3,
       "text": [
        "<IPython.core.display.HTML at 0x109c4afd0>"
       ]
      }
     ],
     "prompt_number": 3
    },
    {
     "cell_type": "markdown",
     "metadata": {},
     "source": [
      "Let's create an item in the bucket. We'll create a text file named hello.txt and put the string \"Hello world!\" in it. The easiest way to do this is to first assign the contents we want to a Python variable:"
     ]
    },
    {
     "cell_type": "code",
     "collapsed": false,
     "input": [
      "message = 'Hello world!'"
     ],
     "language": "python",
     "metadata": {},
     "outputs": [],
     "prompt_number": 4
    },
    {
     "cell_type": "markdown",
     "metadata": {},
     "source": [
      "Then we can write the variable to the file:"
     ]
    },
    {
     "cell_type": "code",
     "collapsed": false,
     "input": [
      "%storage write message gs://datalab-magic/hello.txt"
     ],
     "language": "python",
     "metadata": {},
     "outputs": [],
     "prompt_number": 5
    },
    {
     "cell_type": "markdown",
     "metadata": {},
     "source": [
      "Now when we list the contents of the bucket we should see the file:"
     ]
    },
    {
     "cell_type": "code",
     "collapsed": false,
     "input": [
      "%storage list gs://datalab-magic"
     ],
     "language": "python",
     "metadata": {},
     "outputs": [
      {
       "html": [
        "<table><tr><th>Name</th><th>Type</th><th>Size</th><th>Updated</th></tr><tr><td>hello.txt</td><td>text/plain</td><td>12</td><td>2015-07-02 00:17:22.562000+00:00</td></tr></table>"
       ],
       "metadata": {},
       "output_type": "pyout",
       "prompt_number": 6,
       "text": [
        "<IPython.core.display.HTML at 0x109bec6d0>"
       ]
      }
     ],
     "prompt_number": 6
    },
    {
     "cell_type": "markdown",
     "metadata": {},
     "source": [
      "We can view the contents:"
     ]
    },
    {
     "cell_type": "code",
     "collapsed": false,
     "input": [
      "%storage view gs://datalab-magic/hello.txt"
     ],
     "language": "python",
     "metadata": {},
     "outputs": [
      {
       "metadata": {},
       "output_type": "pyout",
       "prompt_number": 7,
       "text": [
        "'Hello world!'"
       ]
      }
     ],
     "prompt_number": 7
    },
    {
     "cell_type": "markdown",
     "metadata": {},
     "source": [
      "Or read the contents and assign back to a Python variable:"
     ]
    },
    {
     "cell_type": "code",
     "collapsed": false,
     "input": [
      "%storage read gs://datalab-magic/hello.txt message2"
     ],
     "language": "python",
     "metadata": {},
     "outputs": [],
     "prompt_number": 8
    },
    {
     "cell_type": "code",
     "collapsed": false,
     "input": [
      "print message2"
     ],
     "language": "python",
     "metadata": {},
     "outputs": [
      {
       "output_type": "stream",
       "stream": "stdout",
       "text": [
        "Hello world!\n"
       ]
      }
     ],
     "prompt_number": 9
    },
    {
     "cell_type": "markdown",
     "metadata": {},
     "source": [
      "Copying is easy too:"
     ]
    },
    {
     "cell_type": "code",
     "collapsed": false,
     "input": [
      "%storage copy gs://datalab-magic/hello.txt gs://datalab-magic/copy.txt"
     ],
     "language": "python",
     "metadata": {},
     "outputs": [],
     "prompt_number": 10
    },
    {
     "cell_type": "code",
     "collapsed": false,
     "input": [
      "%storage view gs://datalab-magic/copy.txt"
     ],
     "language": "python",
     "metadata": {},
     "outputs": [
      {
       "metadata": {},
       "output_type": "pyout",
       "prompt_number": 11,
       "text": [
        "'Hello world!'"
       ]
      }
     ],
     "prompt_number": 11
    },
    {
     "cell_type": "markdown",
     "metadata": {},
     "source": [
      "Note that wildchars are supported in the source argument of a %storage copy, or the target argument of a %storage delete."
     ]
    },
    {
     "cell_type": "markdown",
     "metadata": {},
     "source": [
      "Finally, let's clean up. We need to first delete the contents of the bucket and then the bucket itself. We'll make use of wildchars for the first step:"
     ]
    },
    {
     "cell_type": "code",
     "collapsed": false,
     "input": [
      "%storage delete gs://datalab-magic/*"
     ],
     "language": "python",
     "metadata": {},
     "outputs": [],
     "prompt_number": 12
    },
    {
     "cell_type": "code",
     "collapsed": false,
     "input": [
      "%storage delete gs://datalab-magic"
     ],
     "language": "python",
     "metadata": {},
     "outputs": [],
     "prompt_number": 13
    },
    {
     "cell_type": "markdown",
     "metadata": {},
     "source": [
      "Let's verify that it is gone:"
     ]
    },
    {
     "cell_type": "code",
     "collapsed": false,
     "input": [
      "%storage list"
     ],
     "language": "python",
     "metadata": {},
     "outputs": [
      {
       "html": [
        "<table><tr><th>Bucket</th><th>Created</th></tr><tr><td>gs://data-studio-team-ipython</td><td>2014-12-15 19:04:05.029000+00:00</td></tr><tr><td>gs://data-studio-team-notebooks</td><td>2014-08-23 18:09:53.599000+00:00</td></tr><tr><td>gs://datalab-scripts</td><td>2015-03-17 22:28:10.652000+00:00</td></tr><tr><td>gs://datastudio-dataflow</td><td>2015-03-17 20:40:15.032000+00:00</td></tr><tr><td>gs://datastudio-sample-logs</td><td>2014-06-21 03:06:47.331000+00:00</td></tr><tr><td>gs://datastudio-test</td><td>2015-05-26 21:23:57.365000+00:00</td></tr></table>"
       ],
       "metadata": {},
       "output_type": "pyout",
       "prompt_number": 14,
       "text": [
        "<IPython.core.display.HTML at 0x10a058f50>"
       ]
      }
     ],
     "prompt_number": 14
    },
    {
     "cell_type": "markdown",
     "metadata": {},
     "source": [
      "And we're done!"
     ]
    },
    {
     "cell_type": "code",
     "collapsed": false,
     "input": [],
     "language": "python",
     "metadata": {},
     "outputs": [],
     "prompt_number": 14
    }
   ],
   "metadata": {}
  }
 ]
}