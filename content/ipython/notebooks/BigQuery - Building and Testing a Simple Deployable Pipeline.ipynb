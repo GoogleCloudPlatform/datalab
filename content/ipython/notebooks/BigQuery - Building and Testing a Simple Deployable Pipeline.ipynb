{
 "metadata": {
  "name": "",
  "signature": "sha256:ca4f929fa5679191feb5aa6d49015f2218dcb41467a0c0a7091f4b592c1468e0"
 },
 "nbformat": 3,
 "nbformat_minor": 0,
 "worksheets": [
  {
   "cells": [
    {
     "cell_type": "markdown",
     "metadata": {},
     "source": [
      "# BigQuery - Building and Testing a Simple Deployable Pipeline\n",
      "\n",
      "This notebook builds on the earlier BigQuery notebooks to introduce you to the cell magics used to define a deployable pipeline of BigQuery tasks.\n",
      "\n",
      "The %bigquery cell magics you have seen so far are useful for exploratory data analysis in the notebook. However, you may want to use the notebook to build a query that you schedule for regular execution. DataLab has special %bqmodule variants of the %bigquery magics to specify these queries, and this notebook will introduce the simplest form.\n",
      "\n",
      "In this notebook you will see:\n",
      "\n",
      "* how to define command line arguments and their default values for deployable pipelines with '%bqmodule arguments', including using the special types for table names and formatted date strings\n",
      "* how to define SQL queries for these pipelines that make use of the arguments using '%bqmodule sql'\n",
      "* how to test the hermeticity of a pipeline with sample argument values using '%bqmodule run'\n",
      "* how to override variable values in the notebook itself to aid in testing pipeline queries, using regular Python code and '%bigquery run'\n",
      "* how to define table wildcards that can be substituted for in the notebook for testing purposes using '%bqmodule source'\n",
      "\n",
      "\n",
      "----\n",
      "\n",
      "NOTE:\n",
      "\n",
      "* If you're new to notebooks, or want to check out additional samples, check out the full [list](..) of notebooks."
     ]
    },
    {
     "cell_type": "code",
     "collapsed": false,
     "input": [
      "import gcp.bigquery as bq"
     ],
     "language": "python",
     "metadata": {},
     "outputs": [],
     "prompt_number": 1
    },
    {
     "cell_type": "markdown",
     "metadata": {},
     "source": [
      "The most important %bqmodule cell magic is %bqmodule sql. Just like %bigquery sql, this allows you to define and name a BigQuery SQL query:"
     ]
    },
    {
     "cell_type": "code",
     "collapsed": false,
     "input": [
      "%%bqmodule sql\n",
      "select * from [cloud-datalab:sampledata.requestlogs_20140615] limit 10"
     ],
     "language": "python",
     "metadata": {},
     "outputs": [
      {
       "metadata": {},
       "output_type": "pyout",
       "prompt_number": 2,
       "text": [
        "'--name argument is required'"
       ]
      }
     ],
     "prompt_number": 2
    },
    {
     "cell_type": "markdown",
     "metadata": {},
     "source": [
      "There are some differences, however, and above you can see the first. For bqmodule, the --name argument is *required*. This is because bqmodule SQLs are never executed immediately, but must be used within other queries or executed using %bqmodule run, as we will see shortly. So let's give our query a name:"
     ]
    },
    {
     "cell_type": "code",
     "collapsed": false,
     "input": [
      "%%bqmodule sql --name log\n",
      "select * from [cloud-datalab:sampledata.requestlogs_20140615] limit 10"
     ],
     "language": "python",
     "metadata": {},
     "outputs": [],
     "prompt_number": 3
    },
    {
     "cell_type": "markdown",
     "metadata": {},
     "source": [
      "This will define our query but instead of existing at the top-level it exists in a special module just for bqmodule entities.\n",
      "\n",
      "Now we have named the query, we can use it in other queries as a source. We can run it, but to do so, we need to use a special magic, bqmodule run:"
     ]
    },
    {
     "cell_type": "code",
     "collapsed": false,
     "input": [
      "%bqmodule run log"
     ],
     "language": "python",
     "metadata": {},
     "outputs": [
      {
       "html": [
        "\n",
        "    <div class=\"bqtv\" id=\"bqtv_1435339995\"></div>\n",
        "    <div><br />job_wZBV4G0tRa7BWIQAKWx9WCDL1do<br />rows: 10</div>\n",
        "    <script>\n",
        "      require(['extensions/charting', 'element!bqtv_1435339995'],\n",
        "        function(charts, dom) {\n",
        "          charts.render(dom,\n",
        "            {\n",
        "              chartStyle:\"table\",\n",
        "              dataName:\"data-studio-team:_22cae82edc27e9be9a02c50fe9837efda6b0471d.anon22b3766713f2fffe65a8b5ae68e596ea9e634235\",\n",
        "              fields:\"timestamp,latency,status,method,endpoint\",\n",
        "              totalRows:10,\n",
        "              rowsPerPage:25,\n",
        "            }, {}, {\"rows\": [{\"c\": [{\"v\": \"2014-06-15T07:00:00.003772\"}, {\"v\": 122}, {\"v\": 200}, {\"v\": \"GET\"}, {\"v\": \"Interact3\"}]}, {\"c\": [{\"v\": \"2014-06-15T07:00:00.428897\"}, {\"v\": 144}, {\"v\": 200}, {\"v\": \"GET\"}, {\"v\": \"Interact3\"}]}, {\"c\": [{\"v\": \"2014-06-15T07:00:00.536486\"}, {\"v\": 48}, {\"v\": 200}, {\"v\": \"GET\"}, {\"v\": \"Interact3\"}]}, {\"c\": [{\"v\": \"2014-06-15T07:00:00.652760\"}, {\"v\": 28}, {\"v\": 405}, {\"v\": \"GET\"}, {\"v\": \"Interact2\"}]}, {\"c\": [{\"v\": \"2014-06-15T07:00:00.670100\"}, {\"v\": 103}, {\"v\": 200}, {\"v\": \"GET\"}, {\"v\": \"Interact3\"}]}, {\"c\": [{\"v\": \"2014-06-15T07:00:00.834251\"}, {\"v\": 121}, {\"v\": 405}, {\"v\": \"GET\"}, {\"v\": \"Interact2\"}]}, {\"c\": [{\"v\": \"2014-06-15T07:00:00.943075\"}, {\"v\": 28}, {\"v\": 200}, {\"v\": \"GET\"}, {\"v\": \"Other\"}]}, {\"c\": [{\"v\": \"2014-06-15T07:00:01.000102\"}, {\"v\": 124}, {\"v\": 405}, {\"v\": \"GET\"}, {\"v\": \"Interact2\"}]}, {\"c\": [{\"v\": \"2014-06-15T07:00:01.071107\"}, {\"v\": 49}, {\"v\": 200}, {\"v\": \"GET\"}, {\"v\": \"Interact3\"}]}, {\"c\": [{\"v\": \"2014-06-15T07:00:01.159701\"}, {\"v\": 119}, {\"v\": 200}, {\"v\": \"GET\"}, {\"v\": \"Other\"}]}], \"cols\": [{\"type\": \"datetime\", \"id\": \"timestamp\", \"label\": \"timestamp\"}, {\"type\": \"number\", \"id\": \"latency\", \"label\": \"latency\"}, {\"type\": \"number\", \"id\": \"status\", \"label\": \"status\"}, {\"type\": \"string\", \"id\": \"method\", \"label\": \"method\"}, {\"type\": \"string\", \"id\": \"endpoint\", \"label\": \"endpoint\"}]});\n",
        "        }\n",
        "      );\n",
        "    </script>\n",
        "  "
       ],
       "metadata": {},
       "output_type": "pyout",
       "prompt_number": 4,
       "text": []
      }
     ],
     "prompt_number": 4
    },
    {
     "cell_type": "markdown",
     "metadata": {},
     "source": [
      "Another way in which bqmodule queries are different is in variable substitution. A variable reference in a bqmodule sql magic must either reference a previously defined bqmodule sql (or, as we will see later, a bqmodule source), or it must reference a defined *argument*. We define arguments with the %bqmodule arguments magic. Note that a %bqmodule arguments magic can define many arguments, but a pipeline can only have one %bqmodule arguments magic (more precisely, executing a %bqmodule arguments magic will clobber a previous %bqmodule arguments magic, so you should only use one)."
     ]
    },
    {
     "cell_type": "code",
     "collapsed": false,
     "input": [
      "%%bqmodule arguments\n",
      "arg('logfile', default='cloud-datalab:sampledata.requestlogs_20140615', type=table, help='the name of the table to query')"
     ],
     "language": "python",
     "metadata": {},
     "outputs": [],
     "prompt_number": 5
    },
    {
     "cell_type": "code",
     "collapsed": false,
     "input": [
      "%%bqmodule sql --name log2\n",
      "select * from $logfile limit 10"
     ],
     "language": "python",
     "metadata": {},
     "outputs": [],
     "prompt_number": 6
    },
    {
     "cell_type": "markdown",
     "metadata": {},
     "source": [
      "Let's test this:"
     ]
    },
    {
     "cell_type": "code",
     "collapsed": false,
     "input": [
      "%bqmodule run log2"
     ],
     "language": "python",
     "metadata": {},
     "outputs": [
      {
       "html": [
        "\n",
        "    <div class=\"bqtv\" id=\"bqtv_1435339997\"></div>\n",
        "    <div><br />job_0tsN9UCTcVyr3g6guqjRATW4hcY<br />rows: 10</div>\n",
        "    <script>\n",
        "      require(['extensions/charting', 'element!bqtv_1435339997'],\n",
        "        function(charts, dom) {\n",
        "          charts.render(dom,\n",
        "            {\n",
        "              chartStyle:\"table\",\n",
        "              dataName:\"data-studio-team:_22cae82edc27e9be9a02c50fe9837efda6b0471d.anon22b3766713f2fffe65a8b5ae68e596ea9e634235\",\n",
        "              fields:\"timestamp,latency,status,method,endpoint\",\n",
        "              totalRows:10,\n",
        "              rowsPerPage:25,\n",
        "            }, {}, {\"rows\": [{\"c\": [{\"v\": \"2014-06-15T07:00:00.003772\"}, {\"v\": 122}, {\"v\": 200}, {\"v\": \"GET\"}, {\"v\": \"Interact3\"}]}, {\"c\": [{\"v\": \"2014-06-15T07:00:00.428897\"}, {\"v\": 144}, {\"v\": 200}, {\"v\": \"GET\"}, {\"v\": \"Interact3\"}]}, {\"c\": [{\"v\": \"2014-06-15T07:00:00.536486\"}, {\"v\": 48}, {\"v\": 200}, {\"v\": \"GET\"}, {\"v\": \"Interact3\"}]}, {\"c\": [{\"v\": \"2014-06-15T07:00:00.652760\"}, {\"v\": 28}, {\"v\": 405}, {\"v\": \"GET\"}, {\"v\": \"Interact2\"}]}, {\"c\": [{\"v\": \"2014-06-15T07:00:00.670100\"}, {\"v\": 103}, {\"v\": 200}, {\"v\": \"GET\"}, {\"v\": \"Interact3\"}]}, {\"c\": [{\"v\": \"2014-06-15T07:00:00.834251\"}, {\"v\": 121}, {\"v\": 405}, {\"v\": \"GET\"}, {\"v\": \"Interact2\"}]}, {\"c\": [{\"v\": \"2014-06-15T07:00:00.943075\"}, {\"v\": 28}, {\"v\": 200}, {\"v\": \"GET\"}, {\"v\": \"Other\"}]}, {\"c\": [{\"v\": \"2014-06-15T07:00:01.000102\"}, {\"v\": 124}, {\"v\": 405}, {\"v\": \"GET\"}, {\"v\": \"Interact2\"}]}, {\"c\": [{\"v\": \"2014-06-15T07:00:01.071107\"}, {\"v\": 49}, {\"v\": 200}, {\"v\": \"GET\"}, {\"v\": \"Interact3\"}]}, {\"c\": [{\"v\": \"2014-06-15T07:00:01.159701\"}, {\"v\": 119}, {\"v\": 200}, {\"v\": \"GET\"}, {\"v\": \"Other\"}]}], \"cols\": [{\"type\": \"datetime\", \"id\": \"timestamp\", \"label\": \"timestamp\"}, {\"type\": \"number\", \"id\": \"latency\", \"label\": \"latency\"}, {\"type\": \"number\", \"id\": \"status\", \"label\": \"status\"}, {\"type\": \"string\", \"id\": \"method\", \"label\": \"method\"}, {\"type\": \"string\", \"id\": \"endpoint\", \"label\": \"endpoint\"}]});\n",
        "        }\n",
        "      );\n",
        "    </script>\n",
        "  "
       ],
       "metadata": {},
       "output_type": "pyout",
       "prompt_number": 7,
       "text": []
      }
     ],
     "prompt_number": 7
    },
    {
     "cell_type": "markdown",
     "metadata": {},
     "source": [
      "We can see what the SQL is that will execute by using the -d or --dry argument to bqmodule run:"
     ]
    },
    {
     "cell_type": "code",
     "collapsed": false,
     "input": [
      "%bqmodule run -d log2"
     ],
     "language": "python",
     "metadata": {},
     "outputs": [
      {
       "metadata": {},
       "output_type": "pyout",
       "prompt_number": 8,
       "text": [
        "u'select * from [cloud-datalab:sampledata.requestlogs_20140615] limit 10'"
       ]
      }
     ],
     "prompt_number": 8
    },
    {
     "cell_type": "markdown",
     "metadata": {},
     "source": [
      "It's worth noting that we can reference %bqmodule sqls from %bigquery sqls, and if we do so the query will execute in the context of the notebook. Observe below how we redefine logfile and then run the query by nesting it in a %bigquery sql select statement:"
     ]
    },
    {
     "cell_type": "code",
     "collapsed": false,
     "input": [
      "logfile = bq.table('cloud-datalab:sampledata.requestlogs_20140616')"
     ],
     "language": "python",
     "metadata": {},
     "outputs": [],
     "prompt_number": 9
    },
    {
     "cell_type": "code",
     "collapsed": false,
     "input": [
      "import gcp.interactive as bqi\n",
      "complete, partial = bqi._bigquery._get_notebook_resolution_environment()\n",
      "bqi._bigquery._resolve('select * from $log2', complete, partial)"
     ],
     "language": "python",
     "metadata": {},
     "outputs": [
      {
       "html": [
        "<pre>select * from [cloud-datalab:sampledata.requestlogs_20140616] limit 10</pre>"
       ],
       "metadata": {},
       "output_type": "pyout",
       "prompt_number": 10,
       "text": [
        "<gcp.bigquery._query.Query at 0x10ada3510>"
       ]
      }
     ],
     "prompt_number": 10
    },
    {
     "cell_type": "code",
     "collapsed": false,
     "input": [
      "%%bigquery sql\n",
      "select * from $log2"
     ],
     "language": "python",
     "metadata": {},
     "outputs": [
      {
       "html": [
        "\n",
        "    <div class=\"bqtv\" id=\"bqtv_1435339999\"></div>\n",
        "    <div><br />job_NRte7Nn8zQnZt4Jwh-NWjZ8N7xg<br />rows: 10</div>\n",
        "    <script>\n",
        "      require(['extensions/charting', 'element!bqtv_1435339999'],\n",
        "        function(charts, dom) {\n",
        "          charts.render(dom,\n",
        "            {\n",
        "              chartStyle:\"table\",\n",
        "              dataName:\"data-studio-team:_22cae82edc27e9be9a02c50fe9837efda6b0471d.anona391b4983bfdb2aa3e98cd53ac1cbcf6cce6dd4c\",\n",
        "              fields:\"timestamp,latency,status,method,endpoint\",\n",
        "              totalRows:10,\n",
        "              rowsPerPage:25,\n",
        "            }, {}, {\"rows\": [{\"c\": [{\"v\": \"2014-06-16T23:20:31.600902\"}, {\"v\": 6}, {\"v\": 302}, {\"v\": \"GET\"}, {\"v\": \"Other\"}]}, {\"c\": [{\"v\": \"2014-06-16T23:20:31.610566\"}, {\"v\": 53}, {\"v\": 200}, {\"v\": \"GET\"}, {\"v\": \"Interact1\"}]}, {\"c\": [{\"v\": \"2014-06-16T23:20:31.624847\"}, {\"v\": 6}, {\"v\": 302}, {\"v\": \"GET\"}, {\"v\": \"Other\"}]}, {\"c\": [{\"v\": \"2014-06-16T23:20:31.635824\"}, {\"v\": 63}, {\"v\": 200}, {\"v\": \"GET\"}, {\"v\": \"Other\"}]}, {\"c\": [{\"v\": \"2014-06-16T23:20:31.637185\"}, {\"v\": 2}, {\"v\": 302}, {\"v\": \"GET\"}, {\"v\": \"Other\"}]}, {\"c\": [{\"v\": \"2014-06-16T23:20:31.655108\"}, {\"v\": 2}, {\"v\": 302}, {\"v\": \"GET\"}, {\"v\": \"Other\"}]}, {\"c\": [{\"v\": \"2014-06-16T23:20:31.671992\"}, {\"v\": 47}, {\"v\": 200}, {\"v\": \"GET\"}, {\"v\": \"Interact1\"}]}, {\"c\": [{\"v\": \"2014-06-16T23:20:31.672194\"}, {\"v\": 5050}, {\"v\": 500}, {\"v\": \"GET\"}, {\"v\": \"Interact3\"}]}, {\"c\": [{\"v\": \"2014-06-16T23:20:31.697846\"}, {\"v\": 2}, {\"v\": 302}, {\"v\": \"GET\"}, {\"v\": \"Other\"}]}, {\"c\": [{\"v\": \"2014-06-16T23:20:31.723450\"}, {\"v\": 2}, {\"v\": 302}, {\"v\": \"GET\"}, {\"v\": \"Other\"}]}], \"cols\": [{\"type\": \"datetime\", \"id\": \"timestamp\", \"label\": \"timestamp\"}, {\"type\": \"number\", \"id\": \"latency\", \"label\": \"latency\"}, {\"type\": \"number\", \"id\": \"status\", \"label\": \"status\"}, {\"type\": \"string\", \"id\": \"method\", \"label\": \"method\"}, {\"type\": \"string\", \"id\": \"endpoint\", \"label\": \"endpoint\"}]});\n",
        "        }\n",
        "      );\n",
        "    </script>\n",
        "  "
       ],
       "metadata": {},
       "output_type": "pyout",
       "prompt_number": 11,
       "text": []
      }
     ],
     "prompt_number": 11
    },
    {
     "cell_type": "markdown",
     "metadata": {},
     "source": [
      "However, changing the value of variables like logfile in the notebook will not affect the query when run using bqmodule run. This is because bqmodule run is meant to test the deployable notebook, and the notebook execution environment is not part of deployment. *Only bqmodule magics are used in deployment, and the result must be hermetic (self-contained).*\n",
      "\n",
      "You can test different values for the arguments by specifying them as command line arguments in the bqmodule run cell body:"
     ]
    },
    {
     "cell_type": "code",
     "collapsed": false,
     "input": [
      "%%bqmodule run log2\n",
      "--logfile 'cloud-datalab:sampledata.requestlogs_20140620'"
     ],
     "language": "python",
     "metadata": {},
     "outputs": [
      {
       "html": [
        "\n",
        "    <div class=\"bqtv\" id=\"bqtv_1435340001\"></div>\n",
        "    <div><br />job_uEPUlsuPoHPW4EdvQMW9QULHTyk<br />rows: 10</div>\n",
        "    <script>\n",
        "      require(['extensions/charting', 'element!bqtv_1435340001'],\n",
        "        function(charts, dom) {\n",
        "          charts.render(dom,\n",
        "            {\n",
        "              chartStyle:\"table\",\n",
        "              dataName:\"data-studio-team:_22cae82edc27e9be9a02c50fe9837efda6b0471d.anon4cf12ea55190f29a857bb06596be2eba4892402a\",\n",
        "              fields:\"timestamp,latency,status,method,endpoint\",\n",
        "              totalRows:10,\n",
        "              rowsPerPage:25,\n",
        "            }, {}, {\"rows\": [{\"c\": [{\"v\": \"2014-06-20T21:53:50.380158\"}, {\"v\": 82}, {\"v\": 200}, {\"v\": \"GET\"}, {\"v\": \"Interact1\"}]}, {\"c\": [{\"v\": \"2014-06-20T21:53:50.382326\"}, {\"v\": 70}, {\"v\": 200}, {\"v\": \"GET\"}, {\"v\": \"Interact1\"}]}, {\"c\": [{\"v\": \"2014-06-20T21:53:50.383151\"}, {\"v\": 5037}, {\"v\": 500}, {\"v\": \"GET\"}, {\"v\": \"Interact3\"}]}, {\"c\": [{\"v\": \"2014-06-20T21:53:50.397031\"}, {\"v\": 64}, {\"v\": 200}, {\"v\": \"GET\"}, {\"v\": \"Interact1\"}]}, {\"c\": [{\"v\": \"2014-06-20T21:53:50.502114\"}, {\"v\": 5458}, {\"v\": 500}, {\"v\": \"GET\"}, {\"v\": \"Interact3\"}]}, {\"c\": [{\"v\": \"2014-06-20T21:53:50.514357\"}, {\"v\": 191}, {\"v\": 200}, {\"v\": \"GET\"}, {\"v\": \"Other\"}]}, {\"c\": [{\"v\": \"2014-06-20T21:53:50.542282\"}, {\"v\": 46}, {\"v\": 200}, {\"v\": \"GET\"}, {\"v\": \"Interact1\"}]}, {\"c\": [{\"v\": \"2014-06-20T21:53:50.546125\"}, {\"v\": 123}, {\"v\": 200}, {\"v\": \"GET\"}, {\"v\": \"Interact3\"}]}, {\"c\": [{\"v\": \"2014-06-20T21:53:50.561785\"}, {\"v\": 49}, {\"v\": 200}, {\"v\": \"GET\"}, {\"v\": \"Interact1\"}]}, {\"c\": [{\"v\": \"2014-06-20T21:53:50.607984\"}, {\"v\": 138}, {\"v\": 200}, {\"v\": \"GET\"}, {\"v\": \"Create\"}]}], \"cols\": [{\"type\": \"datetime\", \"id\": \"timestamp\", \"label\": \"timestamp\"}, {\"type\": \"number\", \"id\": \"latency\", \"label\": \"latency\"}, {\"type\": \"number\", \"id\": \"status\", \"label\": \"status\"}, {\"type\": \"string\", \"id\": \"method\", \"label\": \"method\"}, {\"type\": \"string\", \"id\": \"endpoint\", \"label\": \"endpoint\"}]});\n",
        "        }\n",
        "      );\n",
        "    </script>\n",
        "  "
       ],
       "metadata": {},
       "output_type": "pyout",
       "prompt_number": 12,
       "text": []
      }
     ],
     "prompt_number": 12
    },
    {
     "cell_type": "markdown",
     "metadata": {},
     "source": [
      "As a convenience, there is a bigquery run cell magic that is much the same as bqmodule run except it allows overriding in the IPython environment. So we can do the equivalent to the above test this way:\n"
     ]
    },
    {
     "cell_type": "code",
     "collapsed": false,
     "input": [
      "logfile = bq.table('cloud-datalab:sampledata.requestlogs_20140620')"
     ],
     "language": "python",
     "metadata": {},
     "outputs": [],
     "prompt_number": 13
    },
    {
     "cell_type": "code",
     "collapsed": false,
     "input": [
      "%bigquery run log2"
     ],
     "language": "python",
     "metadata": {},
     "outputs": [
      {
       "html": [
        "\n",
        "    <div class=\"bqtv\" id=\"bqtv_1435340002\"></div>\n",
        "    <div><br />job_RqwKzLMS4-kuYIled2YufzWsBqk<br />rows: 10</div>\n",
        "    <script>\n",
        "      require(['extensions/charting', 'element!bqtv_1435340002'],\n",
        "        function(charts, dom) {\n",
        "          charts.render(dom,\n",
        "            {\n",
        "              chartStyle:\"table\",\n",
        "              dataName:\"data-studio-team:_22cae82edc27e9be9a02c50fe9837efda6b0471d.anon4cf12ea55190f29a857bb06596be2eba4892402a\",\n",
        "              fields:\"timestamp,latency,status,method,endpoint\",\n",
        "              totalRows:10,\n",
        "              rowsPerPage:25,\n",
        "            }, {}, {\"rows\": [{\"c\": [{\"v\": \"2014-06-20T21:53:50.380158\"}, {\"v\": 82}, {\"v\": 200}, {\"v\": \"GET\"}, {\"v\": \"Interact1\"}]}, {\"c\": [{\"v\": \"2014-06-20T21:53:50.382326\"}, {\"v\": 70}, {\"v\": 200}, {\"v\": \"GET\"}, {\"v\": \"Interact1\"}]}, {\"c\": [{\"v\": \"2014-06-20T21:53:50.383151\"}, {\"v\": 5037}, {\"v\": 500}, {\"v\": \"GET\"}, {\"v\": \"Interact3\"}]}, {\"c\": [{\"v\": \"2014-06-20T21:53:50.397031\"}, {\"v\": 64}, {\"v\": 200}, {\"v\": \"GET\"}, {\"v\": \"Interact1\"}]}, {\"c\": [{\"v\": \"2014-06-20T21:53:50.502114\"}, {\"v\": 5458}, {\"v\": 500}, {\"v\": \"GET\"}, {\"v\": \"Interact3\"}]}, {\"c\": [{\"v\": \"2014-06-20T21:53:50.514357\"}, {\"v\": 191}, {\"v\": 200}, {\"v\": \"GET\"}, {\"v\": \"Other\"}]}, {\"c\": [{\"v\": \"2014-06-20T21:53:50.542282\"}, {\"v\": 46}, {\"v\": 200}, {\"v\": \"GET\"}, {\"v\": \"Interact1\"}]}, {\"c\": [{\"v\": \"2014-06-20T21:53:50.546125\"}, {\"v\": 123}, {\"v\": 200}, {\"v\": \"GET\"}, {\"v\": \"Interact3\"}]}, {\"c\": [{\"v\": \"2014-06-20T21:53:50.561785\"}, {\"v\": 49}, {\"v\": 200}, {\"v\": \"GET\"}, {\"v\": \"Interact1\"}]}, {\"c\": [{\"v\": \"2014-06-20T21:53:50.607984\"}, {\"v\": 138}, {\"v\": 200}, {\"v\": \"GET\"}, {\"v\": \"Create\"}]}], \"cols\": [{\"type\": \"datetime\", \"id\": \"timestamp\", \"label\": \"timestamp\"}, {\"type\": \"number\", \"id\": \"latency\", \"label\": \"latency\"}, {\"type\": \"number\", \"id\": \"status\", \"label\": \"status\"}, {\"type\": \"string\", \"id\": \"method\", \"label\": \"method\"}, {\"type\": \"string\", \"id\": \"endpoint\", \"label\": \"endpoint\"}]});\n",
        "        }\n",
        "      );\n",
        "    </script>\n",
        "  "
       ],
       "metadata": {},
       "output_type": "pyout",
       "prompt_number": 14,
       "text": []
      }
     ],
     "prompt_number": 14
    },
    {
     "cell_type": "markdown",
     "metadata": {},
     "source": [
      "In practice, we would normally want to generate the name of the file based on the date. We can do this using some additional parameters to the arg() calls in the arguments magic, namely by changing the default value to 'today', and applying a format string and offset. The format strings make use of the standrd Python strftime function, while offsets can be specified as a comma-separated sequence of quantity-unit pairs, where the unit can be one of y, m, d, h, s for year, month, day, hour and minute respectively. The following argument will default to one year ago from today, and generate the file name for us:"
     ]
    },
    {
     "cell_type": "code",
     "collapsed": false,
     "input": [
      "%%bqmodule arguments\n",
      "arg('logfile', default='today', offset='-1y', format='cloud-datalab:sampledata.requestlogs_%Y%m%d', type=table, help='the name of the table to query')"
     ],
     "language": "python",
     "metadata": {},
     "outputs": [],
     "prompt_number": 15
    },
    {
     "cell_type": "markdown",
     "metadata": {},
     "source": [
      "We show the resulting SQL only, rather than executing the query, as the table may not exist in this sample:"
     ]
    },
    {
     "cell_type": "code",
     "collapsed": false,
     "input": [
      "%bqmodule run -d log2"
     ],
     "language": "python",
     "metadata": {},
     "outputs": [
      {
       "metadata": {},
       "output_type": "pyout",
       "prompt_number": 16,
       "text": [
        "u'select * from [cloud-datalab:sampledata.requestlogs_20140626] limit 10'"
       ]
      }
     ],
     "prompt_number": 16
    },
    {
     "cell_type": "markdown",
     "metadata": {},
     "source": [
      "Arguments can be particularly useful for defining table wildcards, such as in the example below:\n"
     ]
    },
    {
     "cell_type": "code",
     "collapsed": false,
     "input": [
      "%%bqmodule arguments\n",
      "arg('logfile', default='mydata.logs', help='the prefix for the source tables')\n",
      "arg('start', default='today', offset='-7d', format='%Y-%m-%d', help='the start of the range')\n",
      "arg('end', default='yesterday', format='%Y-%m-%d', help='the end of the range')"
     ],
     "language": "python",
     "metadata": {},
     "outputs": [],
     "prompt_number": 17
    },
    {
     "cell_type": "code",
     "collapsed": false,
     "input": [
      "%%bqmodule sql --name rangequery\n",
      "select * from (TABLE_DATE_RANGE($logfile, TIMESTAMP($start), TIMESTAMP($end)))"
     ],
     "language": "python",
     "metadata": {},
     "outputs": [],
     "prompt_number": 18
    },
    {
     "cell_type": "code",
     "collapsed": false,
     "input": [
      "%bqmodule run -d rangequery"
     ],
     "language": "python",
     "metadata": {},
     "outputs": [
      {
       "metadata": {},
       "output_type": "pyout",
       "prompt_number": 19,
       "text": [
        "u'select * from (TABLE_DATE_RANGE(\"mydata.logs\", TIMESTAMP(\"2015-06-19\"), TIMESTAMP(\"2015-06-25\")))'"
       ]
      }
     ],
     "prompt_number": 19
    },
    {
     "cell_type": "markdown",
     "metadata": {},
     "source": [
      "When using wildcards, for testing in the notebook it may be useful to use them in conjunction with a bqmodule source magic. The latter can be used to define a named SQL fragment such as a table wildcard expression that can then be referenced from a query. In the notebook we can then test by subtituting a single table for the entire wildcard by redefining the name.\n",
      "\n",
      "When doing a bqmodule run, bqmodule sources are expanded first before they are substituted in sqls so that any variables they reference are expanded before they in turn are used to expand the query. In the example below we will use a bqmodule source to define the table wildcard and adjust our query appropriately:"
     ]
    },
    {
     "cell_type": "code",
     "collapsed": false,
     "input": [
      "%%bqmodule source tables\n",
      "TABLE_DATE_RANGE($logfile, TIMESTAMP($start), TIMESTAMP($end))"
     ],
     "language": "python",
     "metadata": {},
     "outputs": [],
     "prompt_number": 20
    },
    {
     "cell_type": "code",
     "collapsed": false,
     "input": [
      "%%bqmodule sql --name rangequery\n",
      "select * from $tables"
     ],
     "language": "python",
     "metadata": {},
     "outputs": [],
     "prompt_number": 21
    },
    {
     "cell_type": "markdown",
     "metadata": {},
     "source": [
      "You can see that the SQL expands to the same:"
     ]
    },
    {
     "cell_type": "code",
     "collapsed": false,
     "input": [
      "%bqmodule run -d rangequery"
     ],
     "language": "python",
     "metadata": {},
     "outputs": [
      {
       "metadata": {},
       "output_type": "pyout",
       "prompt_number": 22,
       "text": [
        "u'TABLE_DATE_RANGE(\"mydata.logs\", TIMESTAMP(\"2015-06-19\"), TIMESTAMP(\"2015-06-25\"))'"
       ]
      }
     ],
     "prompt_number": 22
    },
    {
     "cell_type": "markdown",
     "metadata": {},
     "source": [
      "However, we can now override the entire table wildcard expression with just a test table in the notebook, and test with bigquery run:"
     ]
    },
    {
     "cell_type": "code",
     "collapsed": false,
     "input": [
      "# Override and test with just one table\n",
      "tables = bq.table('mydata.logs20150601')"
     ],
     "language": "python",
     "metadata": {},
     "outputs": [],
     "prompt_number": 23
    },
    {
     "cell_type": "code",
     "collapsed": false,
     "input": [
      "%bigquery run -d rangequery"
     ],
     "language": "python",
     "metadata": {},
     "outputs": [
      {
       "metadata": {},
       "output_type": "pyout",
       "prompt_number": 24,
       "text": [
        "u'select * from [data-studio-team:mydata.logs20150601]'"
       ]
      }
     ],
     "prompt_number": 24
    },
    {
     "cell_type": "markdown",
     "metadata": {},
     "source": [
      "Finally, we should reiterate that when building and testing a pipeline you would normally have only a single bqmodule arguments magic near the start, one or more bqmodule source and bqmodule sql magics, and finally a bqmodule run magic. In this notebook we have flouted those conventions to illustrate the principles behind the magics."
     ]
    },
    {
     "cell_type": "code",
     "collapsed": false,
     "input": [],
     "language": "python",
     "metadata": {},
     "outputs": [],
     "prompt_number": 24
    }
   ],
   "metadata": {}
  }
 ]
}