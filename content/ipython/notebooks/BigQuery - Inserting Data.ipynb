{
 "metadata": {
  "name": "",
  "signature": "sha256:7694f36fc4dc5eea956349cd4527d1bc11a639977c40497dea663c8b2d665216"
 },
 "nbformat": 3,
 "nbformat_minor": 0,
 "worksheets": [
  {
   "cells": [
    {
     "cell_type": "markdown",
     "metadata": {},
     "source": [
      "# BigQuery - Inserting Data in a DataFrame into a Table\n",
      "\n",
      "This notebook demonstrates how to stream in data from a Pandas dataframe into a BiqQuery table.\n",
      "\n",
      "### In this notebook you will\n",
      "* Create a Pandas dataframe containing some stock price data\n",
      "* Learn how to make some adjustments to a Pandas dataframe to include the index as a column and make sure columns have the right types\n",
      "* Infer a BigQuery table schema from the adjusted Pandas dataframe\n",
      "* Create a BigQuery table with the inferred schema\n",
      "* Upload the records from the Pandas dataframe to the BigQuery table\n",
      "\n",
      "Related Links:\n",
      "\n",
      "* [BigQuery](https://cloud.google.com/bigquery/)\n",
      "* Python [Pandas](http://pandas.pydata.org/) for data analysis\n",
      "\n",
      "----\n",
      "\n",
      "NOTE:\n",
      "\n",
      "* If you're new to notebooks, or want need an introduction to using BigQuery, check out the full [list](..) of notebooks.\n"
     ]
    },
    {
     "cell_type": "code",
     "collapsed": false,
     "input": [
      "import datetime\n",
      "import gcp.bigquery as bq\n",
      "import pandas.io.data as web\n",
      "import time"
     ],
     "language": "python",
     "metadata": {},
     "outputs": [],
     "prompt_number": 1
    },
    {
     "cell_type": "heading",
     "level": 1,
     "metadata": {},
     "source": [
      "Sample Data"
     ]
    },
    {
     "cell_type": "markdown",
     "metadata": {},
     "source": [
      "First we need some data; we can easily get a pandas dataframe containing Google stock price data (using the Google Finance APIs, via the pandas DataReader class):"
     ]
    },
    {
     "cell_type": "code",
     "collapsed": false,
     "input": [
      "start_date = datetime.datetime(2013, 1, 1)\n",
      "end_date = datetime.datetime(2015, 1, 30)\n",
      "df = web.DataReader('GOOGL', data_source='google', start=start_date, end=end_date)\n",
      "df[:5]"
     ],
     "language": "python",
     "metadata": {},
     "outputs": [
      {
       "html": [
        "<div style=\"max-height:1000px;max-width:1500px;overflow:auto;\">\n",
        "<table border=\"1\" class=\"dataframe\">\n",
        "  <thead>\n",
        "    <tr style=\"text-align: right;\">\n",
        "      <th></th>\n",
        "      <th>Open</th>\n",
        "      <th>High</th>\n",
        "      <th>Low</th>\n",
        "      <th>Close</th>\n",
        "      <th>Volume</th>\n",
        "    </tr>\n",
        "    <tr>\n",
        "      <th>\ufeffDate</th>\n",
        "      <th></th>\n",
        "      <th></th>\n",
        "      <th></th>\n",
        "      <th></th>\n",
        "      <th></th>\n",
        "    </tr>\n",
        "  </thead>\n",
        "  <tbody>\n",
        "    <tr>\n",
        "      <th>2013-01-02</th>\n",
        "      <td> 360.07</td>\n",
        "      <td> 363.86</td>\n",
        "      <td> 358.63</td>\n",
        "      <td> 361.99</td>\n",
        "      <td> 2542268</td>\n",
        "    </tr>\n",
        "    <tr>\n",
        "      <th>2013-01-03</th>\n",
        "      <td> 362.83</td>\n",
        "      <td> 366.33</td>\n",
        "      <td> 360.72</td>\n",
        "      <td> 362.20</td>\n",
        "      <td> 2318140</td>\n",
        "    </tr>\n",
        "    <tr>\n",
        "      <th>2013-01-04</th>\n",
        "      <td> 365.03</td>\n",
        "      <td> 371.11</td>\n",
        "      <td> 364.20</td>\n",
        "      <td> 369.35</td>\n",
        "      <td> 2763552</td>\n",
        "    </tr>\n",
        "    <tr>\n",
        "      <th>2013-01-07</th>\n",
        "      <td> 368.09</td>\n",
        "      <td> 370.06</td>\n",
        "      <td> 365.66</td>\n",
        "      <td> 367.74</td>\n",
        "      <td> 1655967</td>\n",
        "    </tr>\n",
        "    <tr>\n",
        "      <th>2013-01-08</th>\n",
        "      <td> 368.14</td>\n",
        "      <td> 368.52</td>\n",
        "      <td> 362.58</td>\n",
        "      <td> 367.02</td>\n",
        "      <td> 1676740</td>\n",
        "    </tr>\n",
        "  </tbody>\n",
        "</table>\n",
        "</div>"
       ],
       "metadata": {},
       "output_type": "pyout",
       "prompt_number": 2,
       "text": [
        "              Open    High     Low   Close   Volume\n",
        "\ufeffDate                                              \n",
        "2013-01-02  360.07  363.86  358.63  361.99  2542268\n",
        "2013-01-03  362.83  366.33  360.72  362.20  2318140\n",
        "2013-01-04  365.03  371.11  364.20  369.35  2763552\n",
        "2013-01-07  368.09  370.06  365.66  367.74  1655967\n",
        "2013-01-08  368.14  368.52  362.58  367.02  1676740"
       ]
      }
     ],
     "prompt_number": 2
    },
    {
     "cell_type": "heading",
     "level": 1,
     "metadata": {},
     "source": [
      "Preparing the Pandas DataFrame"
     ]
    },
    {
     "cell_type": "markdown",
     "metadata": {},
     "source": [
      "We are going to need to create a BigQuery table with an appropriate schema. We can create a schema ourselves, but it is easier to just derive the schema from the dataframe."
     ]
    },
    {
     "cell_type": "heading",
     "level": 2,
     "metadata": {},
     "source": [
      "Pandas Schema"
     ]
    },
    {
     "cell_type": "code",
     "collapsed": false,
     "input": [
      "df.dtypes"
     ],
     "language": "python",
     "metadata": {},
     "outputs": [
      {
       "metadata": {},
       "output_type": "pyout",
       "prompt_number": 3,
       "text": [
        "Open      float64\n",
        "High      float64\n",
        "Low       float64\n",
        "Close     float64\n",
        "Volume      int64\n",
        "dtype: object"
       ]
      }
     ],
     "prompt_number": 3
    },
    {
     "cell_type": "markdown",
     "metadata": {},
     "source": [
      "The types look reasonable, but notice that the date column is not included. That is because it is the index for the DataFrame. We want to include the index, which we can do by converting it to a column:"
     ]
    },
    {
     "cell_type": "code",
     "collapsed": false,
     "input": [
      "df = df.reset_index(drop=False)\n",
      "df.dtypes"
     ],
     "language": "python",
     "metadata": {},
     "outputs": [
      {
       "metadata": {},
       "output_type": "pyout",
       "prompt_number": 4,
       "text": [
        "\ufeffDate     datetime64[ns]\n",
        "Open             float64\n",
        "High             float64\n",
        "Low              float64\n",
        "Close            float64\n",
        "Volume             int64\n",
        "dtype: object"
       ]
      }
     ],
     "prompt_number": 4
    },
    {
     "cell_type": "markdown",
     "metadata": {},
     "source": [
      "As a result, you'll notice the DataFrame has a Date column and the index is now simply an auto-numbered sequence."
     ]
    },
    {
     "cell_type": "code",
     "collapsed": false,
     "input": [
      "df[:3]"
     ],
     "language": "python",
     "metadata": {},
     "outputs": [
      {
       "html": [
        "<div style=\"max-height:1000px;max-width:1500px;overflow:auto;\">\n",
        "<table border=\"1\" class=\"dataframe\">\n",
        "  <thead>\n",
        "    <tr style=\"text-align: right;\">\n",
        "      <th></th>\n",
        "      <th>\ufeffDate</th>\n",
        "      <th>Open</th>\n",
        "      <th>High</th>\n",
        "      <th>Low</th>\n",
        "      <th>Close</th>\n",
        "      <th>Volume</th>\n",
        "    </tr>\n",
        "  </thead>\n",
        "  <tbody>\n",
        "    <tr>\n",
        "      <th>0</th>\n",
        "      <td>2013-01-02</td>\n",
        "      <td> 360.07</td>\n",
        "      <td> 363.86</td>\n",
        "      <td> 358.63</td>\n",
        "      <td> 361.99</td>\n",
        "      <td> 2542268</td>\n",
        "    </tr>\n",
        "    <tr>\n",
        "      <th>1</th>\n",
        "      <td>2013-01-03</td>\n",
        "      <td> 362.83</td>\n",
        "      <td> 366.33</td>\n",
        "      <td> 360.72</td>\n",
        "      <td> 362.20</td>\n",
        "      <td> 2318140</td>\n",
        "    </tr>\n",
        "    <tr>\n",
        "      <th>2</th>\n",
        "      <td>2013-01-04</td>\n",
        "      <td> 365.03</td>\n",
        "      <td> 371.11</td>\n",
        "      <td> 364.20</td>\n",
        "      <td> 369.35</td>\n",
        "      <td> 2763552</td>\n",
        "    </tr>\n",
        "  </tbody>\n",
        "</table>\n",
        "</div>"
       ],
       "metadata": {},
       "output_type": "pyout",
       "prompt_number": 5,
       "text": [
        "       \ufeffDate    Open    High     Low   Close   Volume\n",
        "0 2013-01-02  360.07  363.86  358.63  361.99  2542268\n",
        "1 2013-01-03  362.83  366.33  360.72  362.20  2318140\n",
        "2 2013-01-04  365.03  371.11  364.20  369.35  2763552"
       ]
      }
     ],
     "prompt_number": 5
    },
    {
     "cell_type": "markdown",
     "metadata": {},
     "source": [
      "You may need to rename columns if you want your BigQuery table to have different columns. Or the column in the DataFrame may have characters that are not allowed in BigQuery column names (as is true in the case of the Date column in this sample)."
     ]
    },
    {
     "cell_type": "code",
     "collapsed": false,
     "input": [
      "df.columns[0]"
     ],
     "language": "python",
     "metadata": {},
     "outputs": [
      {
       "metadata": {},
       "output_type": "pyout",
       "prompt_number": 6,
       "text": [
        "'\\xef\\xbb\\xbfDate'"
       ]
      }
     ],
     "prompt_number": 6
    },
    {
     "cell_type": "code",
     "collapsed": false,
     "input": [
      "df.rename(columns={df.columns[0]: 'Date'}, inplace=True)"
     ],
     "language": "python",
     "metadata": {},
     "outputs": [],
     "prompt_number": 7
    },
    {
     "cell_type": "heading",
     "level": 2,
     "metadata": {},
     "source": [
      "Missing Values"
     ]
    },
    {
     "cell_type": "markdown",
     "metadata": {},
     "source": [
      "Although it is not necessary in this example, missing values can be filled with a default value:"
     ]
    },
    {
     "cell_type": "code",
     "collapsed": false,
     "input": [
      "df.fillna(value=0, inplace=True)"
     ],
     "language": "python",
     "metadata": {},
     "outputs": [],
     "prompt_number": 8
    },
    {
     "cell_type": "heading",
     "level": 1,
     "metadata": {},
     "source": [
      "Creating a BigQuery Table Schema"
     ]
    },
    {
     "cell_type": "markdown",
     "metadata": {},
     "source": [
      "Now we want to create a schema for the table. We can infer one from the dataframe as follows:"
     ]
    },
    {
     "cell_type": "code",
     "collapsed": false,
     "input": [
      "schema = bq.schema(df)\n",
      "schema"
     ],
     "language": "python",
     "metadata": {},
     "outputs": [
      {
       "html": [
        "\n",
        "    <div class=\"bqsv\" id=\"bqsv143639072664\"></div>\n",
        "    <script>\n",
        "      require(['style!/static/extensions/bigquery.css', 'extensions/bigquery', 'element!bqsv143639072664'],\n",
        "          function(_, bq, dom) {\n",
        "              bq.renderSchema(dom, [{\"type\": \"TIMESTAMP\", \"name\": \"Date\"}, {\"type\": \"FLOAT\", \"name\": \"Open\"}, {\"type\": \"FLOAT\", \"name\": \"High\"}, {\"type\": \"FLOAT\", \"name\": \"Low\"}, {\"type\": \"FLOAT\", \"name\": \"Close\"}, {\"type\": \"INTEGER\", \"name\": \"Volume\"}]);\n",
        "          }\n",
        "      );\n",
        "    </script>\n",
        "    "
       ],
       "metadata": {},
       "output_type": "pyout",
       "prompt_number": 9,
       "text": [
        "[{ 'name': 'Date', 'type': 'TIMESTAMP', 'mode':'None', 'description': 'None' },\n",
        " { 'name': 'Open', 'type': 'FLOAT', 'mode':'None', 'description': 'None' },\n",
        " { 'name': 'High', 'type': 'FLOAT', 'mode':'None', 'description': 'None' },\n",
        " { 'name': 'Low', 'type': 'FLOAT', 'mode':'None', 'description': 'None' },\n",
        " { 'name': 'Close', 'type': 'FLOAT', 'mode':'None', 'description': 'None' },\n",
        " { 'name': 'Volume', 'type': 'INTEGER', 'mode':'None', 'description': 'None' }]"
       ]
      }
     ],
     "prompt_number": 9
    },
    {
     "cell_type": "heading",
     "level": 1,
     "metadata": {},
     "source": [
      "Creating the BigQuery Table"
     ]
    },
    {
     "cell_type": "markdown",
     "metadata": {},
     "source": [
      "Now we can create table with the schema that was just created.\n",
      "\n",
      "For the purpose of this example, if the table exists we'll recreate it (with the `overwrite=True` parameter). Additionally we'll do the same for creating a DataSet that will contain the table."
     ]
    },
    {
     "cell_type": "code",
     "collapsed": false,
     "input": [
      "bq.dataset('samples').create()"
     ],
     "language": "python",
     "metadata": {},
     "outputs": [
      {
       "metadata": {},
       "output_type": "pyout",
       "prompt_number": 10,
       "text": []
      }
     ],
     "prompt_number": 10
    },
    {
     "cell_type": "code",
     "collapsed": false,
     "input": [
      "table = bq.table('samples.stock').create(schema, overwrite=True)"
     ],
     "language": "python",
     "metadata": {},
     "outputs": [],
     "prompt_number": 11
    },
    {
     "cell_type": "heading",
     "level": 1,
     "metadata": {},
     "source": [
      "Inserting Data into BigQuery"
     ]
    },
    {
     "cell_type": "markdown",
     "metadata": {},
     "source": [
      "Finally, we can populate the table with data from the dataframe. This uses the BigQuery streaming insert API to stream in rows from the pandas dataframe into BigQuery."
     ]
    },
    {
     "cell_type": "code",
     "collapsed": false,
     "input": [
      "table.insertAll(df)"
     ],
     "language": "python",
     "metadata": {},
     "outputs": [
      {
       "html": [
        "\n",
        "    <div class=\"bqtv\" id=\"bqtv_1436390732\"></div>\n",
        "    <div><br />data-studio-team:samples.stock<br />rows: 0</div>\n",
        "    <script>\n",
        "      require(['extensions/charting', 'element!bqtv_1436390732'],\n",
        "        function(charts, dom) {\n",
        "          charts.render(dom,\n",
        "            {\n",
        "              chartStyle:\"table\",\n",
        "              dataName:\"data-studio-team:samples.stock\",\n",
        "              fields:\"Date,Open,High,Low,Close,Volume\",\n",
        "              totalRows:0,\n",
        "              rowsPerPage:25,\n",
        "            }, {}, {\"rows\": [], \"cols\": [{\"type\": \"datetime\", \"id\": \"Date\", \"label\": \"Date\"}, {\"type\": \"number\", \"id\": \"Open\", \"label\": \"Open\"}, {\"type\": \"number\", \"id\": \"High\", \"label\": \"High\"}, {\"type\": \"number\", \"id\": \"Low\", \"label\": \"Low\"}, {\"type\": \"number\", \"id\": \"Close\", \"label\": \"Close\"}, {\"type\": \"number\", \"id\": \"Volume\", \"label\": \"Volume\"}]});\n",
        "        }\n",
        "      );\n",
        "    </script>\n",
        "  "
       ],
       "metadata": {},
       "output_type": "pyout",
       "prompt_number": 12,
       "text": []
      }
     ],
     "prompt_number": 12
    },
    {
     "cell_type": "markdown",
     "metadata": {},
     "source": [
      "To confirm the insert, we can sample the newly created and populated table.\n",
      "\n",
      "Note that it can take some while for BigQuery to process the newly inserted data, and make it available to be queried (hence the added sleep)."
     ]
    },
    {
     "cell_type": "code",
     "collapsed": false,
     "input": [
      "time.sleep(2)\n",
      "table.sample()"
     ],
     "language": "python",
     "metadata": {},
     "outputs": [
      {
       "html": [
        "\n",
        "    <div class=\"bqtv\" id=\"bqtv_1436390777\"></div>\n",
        "    <div><br />job_TxB-2xq0gV9MUa-gQdm91UfLvmE<br />rows: 5</div>\n",
        "    <script>\n",
        "      require(['extensions/charting', 'element!bqtv_1436390777'],\n",
        "        function(charts, dom) {\n",
        "          charts.render(dom,\n",
        "            {\n",
        "              chartStyle:\"table\",\n",
        "              dataName:\"data-studio-team:_22cae82edc27e9be9a02c50fe9837efda6b0471d.anonev_4TCS0_SNkk4pTCiYNRCSQqzeMhY\",\n",
        "              fields:\"Date,Open,High,Low,Close,Volume\",\n",
        "              totalRows:5,\n",
        "              rowsPerPage:25,\n",
        "            }, {}, {\"rows\": [{\"c\": [{\"v\": \"2013-07-16T00:00:00\"}, {\"v\": 464.03}, {\"v\": 464.45}, {\"v\": 457.41}, {\"v\": 460.26}, {\"v\": 1983527}]}, {\"c\": [{\"v\": \"2013-12-03T00:00:00\"}, {\"v\": 526.0}, {\"v\": 532.25}, {\"v\": 525.03}, {\"v\": 527.16}, {\"v\": 1678054}]}, {\"c\": [{\"v\": \"2014-09-24T00:00:00\"}, {\"v\": 591.57}, {\"v\": 600.11}, {\"v\": 590.3}, {\"v\": 598.42}, {\"v\": 1760953}]}, {\"c\": [{\"v\": \"2014-12-03T00:00:00\"}, {\"v\": 537.5}, {\"v\": 541.4}, {\"v\": 535.21}, {\"v\": 536.97}, {\"v\": 1623977}]}, {\"c\": [{\"v\": \"2013-07-12T00:00:00\"}, {\"v\": 460.46}, {\"v\": 461.96}, {\"v\": 458.08}, {\"v\": 461.96}, {\"v\": 2568942}]}], \"cols\": [{\"type\": \"datetime\", \"id\": \"Date\", \"label\": \"Date\"}, {\"type\": \"number\", \"id\": \"Open\", \"label\": \"Open\"}, {\"type\": \"number\", \"id\": \"High\", \"label\": \"High\"}, {\"type\": \"number\", \"id\": \"Low\", \"label\": \"Low\"}, {\"type\": \"number\", \"id\": \"Close\", \"label\": \"Close\"}, {\"type\": \"number\", \"id\": \"Volume\", \"label\": \"Volume\"}]});\n",
        "        }\n",
        "      );\n",
        "    </script>\n",
        "  "
       ],
       "metadata": {},
       "output_type": "pyout",
       "prompt_number": 17,
       "text": []
      }
     ],
     "prompt_number": 17
    },
    {
     "cell_type": "code",
     "collapsed": false,
     "input": [],
     "language": "python",
     "metadata": {},
     "outputs": []
    }
   ],
   "metadata": {}
  }
 ]
}