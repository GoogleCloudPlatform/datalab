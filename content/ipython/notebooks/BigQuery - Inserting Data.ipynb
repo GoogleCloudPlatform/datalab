{
 "cells": [
  {
   "cell_type": "markdown",
   "metadata": {},
   "source": [
    "# BigQuery - Inserting Data in a DataFrame into a Table\n",
    "\n",
    "This notebook demonstrates how to stream in data from a Pandas dataframe into a BiqQuery table.\n",
    "\n",
    "### In this notebook you will\n",
    "* Create a Pandas dataframe containing some stock price data\n",
    "* Learn how to make some adjustments to a Pandas dataframe to include the index as a column and make sure columns have the right types\n",
    "* Infer a BigQuery table schema from the adjusted Pandas dataframe\n",
    "* Create a BigQuery table with the inferred schema\n",
    "* Upload the records from the Pandas dataframe to the BigQuery table\n",
    "\n",
    "Related Links:\n",
    "\n",
    "* [BigQuery](https://cloud.google.com/bigquery/)\n",
    "* Python [Pandas](http://pandas.pydata.org/) for data analysis\n",
    "\n",
    "----\n",
    "\n",
    "NOTE:\n",
    "\n",
    "* If you're new to notebooks, or want need an introduction to using BigQuery, check out the full [list](..) of notebooks.\n"
   ]
  },
  {
   "cell_type": "code",
   "execution_count": 1,
   "metadata": {
    "collapsed": false
   },
   "outputs": [],
   "source": [
    "import datetime\n",
    "import gcp.bigquery as bq\n",
    "import pandas.io.data as web\n",
    "import time"
   ]
  },
  {
   "cell_type": "markdown",
   "metadata": {},
   "source": [
    "# Sample Data"
   ]
  },
  {
   "cell_type": "markdown",
   "metadata": {},
   "source": [
    "First we need some data; we can easily get a pandas dataframe containing Google stock price data (using the Google Finance APIs, via the pandas DataReader class):"
   ]
  },
  {
   "cell_type": "code",
   "execution_count": 2,
   "metadata": {
    "collapsed": false
   },
   "outputs": [
    {
     "data": {
      "text/html": [
       "<div>\n",
       "<table border=\"1\" class=\"dataframe\">\n",
       "  <thead>\n",
       "    <tr style=\"text-align: right;\">\n",
       "      <th></th>\n",
       "      <th>Open</th>\n",
       "      <th>High</th>\n",
       "      <th>Low</th>\n",
       "      <th>Close</th>\n",
       "      <th>Volume</th>\n",
       "    </tr>\n",
       "    <tr>\n",
       "      <th>Date</th>\n",
       "      <th></th>\n",
       "      <th></th>\n",
       "      <th></th>\n",
       "      <th></th>\n",
       "      <th></th>\n",
       "    </tr>\n",
       "  </thead>\n",
       "  <tbody>\n",
       "    <tr>\n",
       "      <th>2013-01-02</th>\n",
       "      <td>360.07</td>\n",
       "      <td>363.86</td>\n",
       "      <td>358.63</td>\n",
       "      <td>361.99</td>\n",
       "      <td>2542268</td>\n",
       "    </tr>\n",
       "    <tr>\n",
       "      <th>2013-01-03</th>\n",
       "      <td>362.83</td>\n",
       "      <td>366.33</td>\n",
       "      <td>360.72</td>\n",
       "      <td>362.20</td>\n",
       "      <td>2318140</td>\n",
       "    </tr>\n",
       "    <tr>\n",
       "      <th>2013-01-04</th>\n",
       "      <td>365.03</td>\n",
       "      <td>371.11</td>\n",
       "      <td>364.20</td>\n",
       "      <td>369.35</td>\n",
       "      <td>2763552</td>\n",
       "    </tr>\n",
       "    <tr>\n",
       "      <th>2013-01-07</th>\n",
       "      <td>368.09</td>\n",
       "      <td>370.06</td>\n",
       "      <td>365.66</td>\n",
       "      <td>367.74</td>\n",
       "      <td>1655967</td>\n",
       "    </tr>\n",
       "    <tr>\n",
       "      <th>2013-01-08</th>\n",
       "      <td>368.14</td>\n",
       "      <td>368.52</td>\n",
       "      <td>362.58</td>\n",
       "      <td>367.02</td>\n",
       "      <td>1676740</td>\n",
       "    </tr>\n",
       "  </tbody>\n",
       "</table>\n",
       "</div>"
      ],
      "text/plain": [
       "              Open    High     Low   Close   Volume\n",
       "Date                                               \n",
       "2013-01-02  360.07  363.86  358.63  361.99  2542268\n",
       "2013-01-03  362.83  366.33  360.72  362.20  2318140\n",
       "2013-01-04  365.03  371.11  364.20  369.35  2763552\n",
       "2013-01-07  368.09  370.06  365.66  367.74  1655967\n",
       "2013-01-08  368.14  368.52  362.58  367.02  1676740"
      ]
     },
     "execution_count": 2,
     "metadata": {},
     "output_type": "execute_result"
    }
   ],
   "source": [
    "start_date = datetime.datetime(2013, 1, 1)\n",
    "end_date = datetime.datetime(2015, 1, 30)\n",
    "df = web.DataReader('GOOGL', data_source='google', start=start_date, end=end_date)\n",
    "df[:5]"
   ]
  },
  {
   "cell_type": "markdown",
   "metadata": {},
   "source": [
    "# Preparing the Pandas DataFrame"
   ]
  },
  {
   "cell_type": "markdown",
   "metadata": {},
   "source": [
    "We are going to need to create a BigQuery table with an appropriate schema. We can create a schema ourselves, but it is easier to just derive the schema from the dataframe."
   ]
  },
  {
   "cell_type": "markdown",
   "metadata": {},
   "source": [
    "## Pandas Schema"
   ]
  },
  {
   "cell_type": "code",
   "execution_count": 3,
   "metadata": {
    "collapsed": false
   },
   "outputs": [
    {
     "data": {
      "text/plain": [
       "Open      float64\n",
       "High      float64\n",
       "Low       float64\n",
       "Close     float64\n",
       "Volume      int64\n",
       "dtype: object"
      ]
     },
     "execution_count": 3,
     "metadata": {},
     "output_type": "execute_result"
    }
   ],
   "source": [
    "df.dtypes"
   ]
  },
  {
   "cell_type": "markdown",
   "metadata": {},
   "source": [
    "The types look reasonable, but notice that the date column is not included. That is because it is the index for the DataFrame. We want to include the index, which we can do by converting it to a column:"
   ]
  },
  {
   "cell_type": "code",
   "execution_count": 4,
   "metadata": {
    "collapsed": false
   },
   "outputs": [
    {
     "data": {
      "text/plain": [
       "Date      datetime64[ns]\n",
       "Open             float64\n",
       "High             float64\n",
       "Low              float64\n",
       "Close            float64\n",
       "Volume             int64\n",
       "dtype: object"
      ]
     },
     "execution_count": 4,
     "metadata": {},
     "output_type": "execute_result"
    }
   ],
   "source": [
    "df = df.reset_index(drop=False)\n",
    "df.dtypes"
   ]
  },
  {
   "cell_type": "markdown",
   "metadata": {},
   "source": [
    "As a result, you'll notice the DataFrame has a Date column and the index is now simply an auto-numbered sequence."
   ]
  },
  {
   "cell_type": "code",
   "execution_count": 5,
   "metadata": {
    "collapsed": false
   },
   "outputs": [
    {
     "data": {
      "text/html": [
       "<div>\n",
       "<table border=\"1\" class=\"dataframe\">\n",
       "  <thead>\n",
       "    <tr style=\"text-align: right;\">\n",
       "      <th></th>\n",
       "      <th>Date</th>\n",
       "      <th>Open</th>\n",
       "      <th>High</th>\n",
       "      <th>Low</th>\n",
       "      <th>Close</th>\n",
       "      <th>Volume</th>\n",
       "    </tr>\n",
       "  </thead>\n",
       "  <tbody>\n",
       "    <tr>\n",
       "      <th>0</th>\n",
       "      <td>2013-01-02</td>\n",
       "      <td>360.07</td>\n",
       "      <td>363.86</td>\n",
       "      <td>358.63</td>\n",
       "      <td>361.99</td>\n",
       "      <td>2542268</td>\n",
       "    </tr>\n",
       "    <tr>\n",
       "      <th>1</th>\n",
       "      <td>2013-01-03</td>\n",
       "      <td>362.83</td>\n",
       "      <td>366.33</td>\n",
       "      <td>360.72</td>\n",
       "      <td>362.20</td>\n",
       "      <td>2318140</td>\n",
       "    </tr>\n",
       "    <tr>\n",
       "      <th>2</th>\n",
       "      <td>2013-01-04</td>\n",
       "      <td>365.03</td>\n",
       "      <td>371.11</td>\n",
       "      <td>364.20</td>\n",
       "      <td>369.35</td>\n",
       "      <td>2763552</td>\n",
       "    </tr>\n",
       "  </tbody>\n",
       "</table>\n",
       "</div>"
      ],
      "text/plain": [
       "        Date    Open    High     Low   Close   Volume\n",
       "0 2013-01-02  360.07  363.86  358.63  361.99  2542268\n",
       "1 2013-01-03  362.83  366.33  360.72  362.20  2318140\n",
       "2 2013-01-04  365.03  371.11  364.20  369.35  2763552"
      ]
     },
     "execution_count": 5,
     "metadata": {},
     "output_type": "execute_result"
    }
   ],
   "source": [
    "df[:3]"
   ]
  },
  {
   "cell_type": "markdown",
   "metadata": {},
   "source": [
    "You may need to rename columns if you want your BigQuery table to have different columns. Or the column in the DataFrame may have characters that are not allowed in BigQuery column names (as is true in the case of the Date column in this sample)."
   ]
  },
  {
   "cell_type": "code",
   "execution_count": 6,
   "metadata": {
    "collapsed": false
   },
   "outputs": [
    {
     "data": {
      "text/plain": [
       "'Date'"
      ]
     },
     "execution_count": 6,
     "metadata": {},
     "output_type": "execute_result"
    }
   ],
   "source": [
    "df.columns[0]"
   ]
  },
  {
   "cell_type": "code",
   "execution_count": 7,
   "metadata": {
    "collapsed": false
   },
   "outputs": [],
   "source": [
    "df.rename(columns={df.columns[0]: 'Date'}, inplace=True)"
   ]
  },
  {
   "cell_type": "markdown",
   "metadata": {},
   "source": [
    "## Missing Values"
   ]
  },
  {
   "cell_type": "markdown",
   "metadata": {},
   "source": [
    "Although it is not necessary in this example, missing values can be filled with a default value:"
   ]
  },
  {
   "cell_type": "code",
   "execution_count": 8,
   "metadata": {
    "collapsed": false
   },
   "outputs": [],
   "source": [
    "df.fillna(value=0, inplace=True)"
   ]
  },
  {
   "cell_type": "markdown",
   "metadata": {},
   "source": [
    "# Creating a BigQuery Table Schema"
   ]
  },
  {
   "cell_type": "markdown",
   "metadata": {},
   "source": [
    "Now we want to create a schema for the table. We can infer one from the dataframe as follows:"
   ]
  },
  {
   "cell_type": "code",
   "execution_count": 9,
   "metadata": {
    "collapsed": false
   },
   "outputs": [
    {
     "data": {
      "text/html": [
       "\n",
       "    <div class=\"bqsv\" id=\"bqsv_144203249720\"></div>\n",
       "    <script>\n",
       "      require(['extensions/bigquery', 'element!bqsv_144203249720', 'style!/static/extensions/bigquery.css'],\n",
       "          function(bq, dom) {\n",
       "              bq.renderSchema(dom, [{\"type\": \"TIMESTAMP\", \"name\": \"Date\"}, {\"type\": \"FLOAT\", \"name\": \"Open\"}, {\"type\": \"FLOAT\", \"name\": \"High\"}, {\"type\": \"FLOAT\", \"name\": \"Low\"}, {\"type\": \"FLOAT\", \"name\": \"Close\"}, {\"type\": \"INTEGER\", \"name\": \"Volume\"}]);\n",
       "          }\n",
       "      );\n",
       "    </script>\n",
       "    "
      ],
      "text/plain": [
       "[{ 'name': 'Date', 'type': 'TIMESTAMP', 'mode':'None', 'description': 'None' },\n",
       " { 'name': 'Open', 'type': 'FLOAT', 'mode':'None', 'description': 'None' },\n",
       " { 'name': 'High', 'type': 'FLOAT', 'mode':'None', 'description': 'None' },\n",
       " { 'name': 'Low', 'type': 'FLOAT', 'mode':'None', 'description': 'None' },\n",
       " { 'name': 'Close', 'type': 'FLOAT', 'mode':'None', 'description': 'None' },\n",
       " { 'name': 'Volume', 'type': 'INTEGER', 'mode':'None', 'description': 'None' }]"
      ]
     },
     "execution_count": 9,
     "metadata": {},
     "output_type": "execute_result"
    }
   ],
   "source": [
    "schema = bq.schema(df)\n",
    "schema"
   ]
  },
  {
   "cell_type": "markdown",
   "metadata": {},
   "source": [
    "# Creating the BigQuery Table"
   ]
  },
  {
   "cell_type": "markdown",
   "metadata": {},
   "source": [
    "Now we can create table with the schema that was just created.\n",
    "\n",
    "For the purpose of this example, if the table exists we'll recreate it (with the `overwrite=True` parameter). Additionally we'll do the same for creating a DataSet that will contain the table."
   ]
  },
  {
   "cell_type": "code",
   "execution_count": 10,
   "metadata": {
    "collapsed": false
   },
   "outputs": [
    {
     "data": {
      "text/plain": []
     },
     "execution_count": 10,
     "metadata": {},
     "output_type": "execute_result"
    }
   ],
   "source": [
    "bq.dataset('samples').create()"
   ]
  },
  {
   "cell_type": "code",
   "execution_count": 11,
   "metadata": {
    "collapsed": false
   },
   "outputs": [],
   "source": [
    "table = bq.table('samples.stock').create(schema, overwrite=True)"
   ]
  },
  {
   "cell_type": "markdown",
   "metadata": {},
   "source": [
    "# Inserting Data into BigQuery"
   ]
  },
  {
   "cell_type": "markdown",
   "metadata": {},
   "source": [
    "Finally, we can populate the table with data from the dataframe. This uses the BigQuery streaming insert API to stream in rows from the pandas dataframe into BigQuery."
   ]
  },
  {
   "cell_type": "code",
   "execution_count": 12,
   "metadata": {
    "collapsed": false
   },
   "outputs": [
    {
     "data": {
      "text/html": [
       "\n",
       "    <div class=\"bqtv\" id=\"bqtv_144203249721\"></div>\n",
       "    <div><br />nikhilko-playground:samples.stock<br />rows: 0</div>\n",
       "    <script>\n",
       "      require(['extensions/charting', 'element!bqtv_144203249721', 'style!/static/extensions/charting.css'],\n",
       "        function(charts, dom) {\n",
       "          charts.render(dom,\n",
       "            {\n",
       "              chartStyle:\"table\",\n",
       "              dataName:\"nikhilko-playground:samples.stock\",\n",
       "              fields:\"Date,Open,High,Low,Close,Volume\",\n",
       "              totalRows:0,\n",
       "              rowsPerPage:25,\n",
       "            }, {}, {\"rows\": [{\"c\": [{\"v\": \"2013-04-25T00:00:00\"}, {\"v\": 408.53}, {\"v\": 408.64}, {\"v\": 404.22}, {\"v\": 404.95}, {\"v\": 1992301}]}, {\"c\": [{\"v\": \"2014-06-16T00:00:00\"}, {\"v\": 557.25}, {\"v\": 557.99}, {\"v\": 550.0}, {\"v\": 552.3}, {\"v\": 1971842}]}, {\"c\": [{\"v\": \"2014-06-17T00:00:00\"}, {\"v\": 552.36}, {\"v\": 553.74}, {\"v\": 547.47}, {\"v\": 550.62}, {\"v\": 1481669}]}, {\"c\": [{\"v\": \"2013-08-28T00:00:00\"}, {\"v\": 425.55}, {\"v\": 428.13}, {\"v\": 424.31}, {\"v\": 424.7}, {\"v\": 1330324}]}, {\"c\": [{\"v\": \"2014-06-12T00:00:00\"}, {\"v\": 567.0}, {\"v\": 567.0}, {\"v\": 557.15}, {\"v\": 559.5}, {\"v\": 1549487}]}, {\"c\": [{\"v\": \"2013-07-09T00:00:00\"}, {\"v\": 455.96}, {\"v\": 456.93}, {\"v\": 449.44}, {\"v\": 453.07}, {\"v\": 1979338}]}, {\"c\": [{\"v\": \"2014-08-18T00:00:00\"}, {\"v\": 587.1}, {\"v\": 595.05}, {\"v\": 586.55}, {\"v\": 592.7}, {\"v\": 1470756}]}, {\"c\": [{\"v\": \"2013-04-30T00:00:00\"}, {\"v\": 409.91}, {\"v\": 414.23}, {\"v\": 409.25}, {\"v\": 412.7}, {\"v\": 2306836}]}, {\"c\": [{\"v\": \"2013-05-21T00:00:00\"}, {\"v\": 454.46}, {\"v\": 456.29}, {\"v\": 449.25}, {\"v\": 453.94}, {\"v\": 1983385}]}, {\"c\": [{\"v\": \"2013-02-13T00:00:00\"}, {\"v\": 390.46}, {\"v\": 393.07}, {\"v\": 390.37}, {\"v\": 391.82}, {\"v\": 1198170}]}, {\"c\": [{\"v\": \"2014-09-11T00:00:00\"}, {\"v\": 590.0}, {\"v\": 591.94}, {\"v\": 586.04}, {\"v\": 591.11}, {\"v\": 1501451}]}, {\"c\": [{\"v\": \"2014-05-06T00:00:00\"}, {\"v\": 533.41}, {\"v\": 534.55}, {\"v\": 522.26}, {\"v\": 522.57}, {\"v\": 1835318}]}, {\"c\": [{\"v\": \"2013-04-26T00:00:00\"}, {\"v\": 404.2}, {\"v\": 404.27}, {\"v\": 398.69}, {\"v\": 401.11}, {\"v\": 2488237}]}, {\"c\": [{\"v\": \"2013-08-19T00:00:00\"}, {\"v\": 429.28}, {\"v\": 436.44}, {\"v\": 429.15}, {\"v\": 433.26}, {\"v\": 1811425}]}, {\"c\": [{\"v\": \"2013-03-01T00:00:00\"}, {\"v\": 399.3}, {\"v\": 403.97}, {\"v\": 398.47}, {\"v\": 403.5}, {\"v\": 2175425}]}, {\"c\": [{\"v\": \"2014-02-14T00:00:00\"}, {\"v\": 598.4}, {\"v\": 602.8}, {\"v\": 597.0}, {\"v\": 602.0}, {\"v\": 2194330}]}, {\"c\": [{\"v\": \"2013-05-29T00:00:00\"}, {\"v\": 438.29}, {\"v\": 439.43}, {\"v\": 432.58}, {\"v\": 434.59}, {\"v\": 2014246}]}, {\"c\": [{\"v\": \"2013-04-24T00:00:00\"}, {\"v\": 404.46}, {\"v\": 409.41}, {\"v\": 404.4}, {\"v\": 407.13}, {\"v\": 1829151}]}, {\"c\": [{\"v\": \"2014-06-06T00:00:00\"}, {\"v\": 568.16}, {\"v\": 568.8}, {\"v\": 559.58}, {\"v\": 566.03}, {\"v\": 1740934}]}, {\"c\": [{\"v\": \"2013-11-13T00:00:00\"}, {\"v\": 503.88}, {\"v\": 516.94}, {\"v\": 503.75}, {\"v\": 516.75}, {\"v\": 1584004}]}, {\"c\": [{\"v\": \"2014-01-15T00:00:00\"}, {\"v\": 577.07}, {\"v\": 578.08}, {\"v\": 572.47}, {\"v\": 574.88}, {\"v\": 1951012}]}, {\"c\": [{\"v\": \"2013-05-28T00:00:00\"}, {\"v\": 442.19}, {\"v\": 446.52}, {\"v\": 440.64}, {\"v\": 441.08}, {\"v\": 2257714}]}, {\"c\": [{\"v\": \"2014-06-18T00:00:00\"}, {\"v\": 552.8}, {\"v\": 561.4}, {\"v\": 551.58}, {\"v\": 560.66}, {\"v\": 2060681}]}, {\"c\": [{\"v\": \"2014-01-07T00:00:00\"}, {\"v\": 563.06}, {\"v\": 570.41}, {\"v\": 561.14}, {\"v\": 570.0}, {\"v\": 2553999}]}, {\"c\": [{\"v\": \"2013-10-28T00:00:00\"}, {\"v\": 508.11}, {\"v\": 512.23}, {\"v\": 507.0}, {\"v\": 508.01}, {\"v\": 1166400}]}], \"cols\": [{\"type\": \"datetime\", \"id\": \"Date\", \"label\": \"Date\"}, {\"type\": \"number\", \"id\": \"Open\", \"label\": \"Open\"}, {\"type\": \"number\", \"id\": \"High\", \"label\": \"High\"}, {\"type\": \"number\", \"id\": \"Low\", \"label\": \"Low\"}, {\"type\": \"number\", \"id\": \"Close\", \"label\": \"Close\"}, {\"type\": \"number\", \"id\": \"Volume\", \"label\": \"Volume\"}]});\n",
       "        }\n",
       "      );\n",
       "    </script>\n",
       "  "
      ],
      "text/plain": []
     },
     "execution_count": 12,
     "metadata": {},
     "output_type": "execute_result"
    }
   ],
   "source": [
    "table.insert_data(df)"
   ]
  },
  {
   "cell_type": "markdown",
   "metadata": {},
   "source": [
    "To confirm the insert, we can sample the newly created and populated table.\n",
    "\n",
    "Note that it can take some while for BigQuery to process the newly inserted data, and make it available to be queried. You may need to wait a while and refresh this cell a few times before seeing the results."
   ]
  },
  {
   "cell_type": "code",
   "execution_count": 13,
   "metadata": {
    "collapsed": false
   },
   "outputs": [
    {
     "data": {
      "text/html": [
       "\n",
       "    <div class=\"bqtv\" id=\"bqtv_144203249722\"></div>\n",
       "    <div><br />job_2safV3TypSPYPonV224IIXV5uNw<br />rows: 5</div>\n",
       "    <script>\n",
       "      require(['extensions/charting', 'element!bqtv_144203249722'],\n",
       "        function(charts, dom) {\n",
       "          charts.render(dom,\n",
       "            {\n",
       "              chartStyle:\"table\",\n",
       "              dataName:\"nikhilko-playground:_eef39ef00620733d25c72cbcecf090a752c682e8.anonev_uL0Z3WHB8wu7PgZVR17nlFA9oto\",\n",
       "              fields:\"Date,Open,High,Low,Close,Volume\",\n",
       "              totalRows:5,\n",
       "              rowsPerPage:25,\n",
       "            }, {}, {\"rows\": [{\"c\": [{\"v\": \"2013-04-25T00:00:00\"}, {\"v\": 408.53}, {\"v\": 408.64}, {\"v\": 404.22}, {\"v\": 404.95}, {\"v\": 1992301}]}, {\"c\": [{\"v\": \"2014-06-16T00:00:00\"}, {\"v\": 557.25}, {\"v\": 557.99}, {\"v\": 550.0}, {\"v\": 552.3}, {\"v\": 1971842}]}, {\"c\": [{\"v\": \"2014-06-17T00:00:00\"}, {\"v\": 552.36}, {\"v\": 553.74}, {\"v\": 547.47}, {\"v\": 550.62}, {\"v\": 1481669}]}, {\"c\": [{\"v\": \"2013-08-28T00:00:00\"}, {\"v\": 425.55}, {\"v\": 428.13}, {\"v\": 424.31}, {\"v\": 424.7}, {\"v\": 1330324}]}, {\"c\": [{\"v\": \"2014-06-12T00:00:00\"}, {\"v\": 567.0}, {\"v\": 567.0}, {\"v\": 557.15}, {\"v\": 559.5}, {\"v\": 1549487}]}], \"cols\": [{\"type\": \"datetime\", \"id\": \"Date\", \"label\": \"Date\"}, {\"type\": \"number\", \"id\": \"Open\", \"label\": \"Open\"}, {\"type\": \"number\", \"id\": \"High\", \"label\": \"High\"}, {\"type\": \"number\", \"id\": \"Low\", \"label\": \"Low\"}, {\"type\": \"number\", \"id\": \"Close\", \"label\": \"Close\"}, {\"type\": \"number\", \"id\": \"Volume\", \"label\": \"Volume\"}]});\n",
       "        }\n",
       "      );\n",
       "    </script>\n",
       "  "
      ],
      "text/plain": []
     },
     "execution_count": 13,
     "metadata": {},
     "output_type": "execute_result"
    }
   ],
   "source": [
    "table.sample()"
   ]
  },
  {
   "cell_type": "code",
   "execution_count": null,
   "metadata": {
    "collapsed": false
   },
   "outputs": [],
   "source": []
  }
 ],
 "metadata": {
  "kernelspec": {
   "display_name": "Python 2",
   "language": "python",
   "name": "python2"
  },
  "language_info": {
   "codemirror_mode": {
    "name": "ipython",
    "version": 2
   },
   "file_extension": ".py",
   "mimetype": "text/x-python",
   "name": "python",
   "nbconvert_exporter": "python",
   "pygments_lexer": "ipython2",
   "version": "2.7.9"
  }
 },
 "nbformat": 4,
 "nbformat_minor": 0
}
