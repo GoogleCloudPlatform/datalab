{
 "metadata": {
  "name": "",
  "signature": "sha256:a42e0137a87b2e22a4e58e6dad5effd27a747839f23345c8b82713807ed52174"
 },
 "nbformat": 3,
 "nbformat_minor": 0,
 "worksheets": [
  {
   "cells": [
    {
     "cell_type": "markdown",
     "metadata": {},
     "source": [
      "# BigQuery - Sample - Request Logs\n",
      "\n",
      "This notebook demonstrates working with request logs data stored in BigQuery using a sample log dataset from a web server.\n",
      "\n",
      "The goal of this notebook is to turn those raw request logs into a timeseries that can be analyzed for anomalies.\n",
      "\n",
      "Related Links:\n",
      "\n",
      "* [BigQuery](https://cloud.google.com/bigquery/)\n",
      "* BigQuery [SQL reference](https://cloud.google.com/bigquery/query-reference)\n",
      "* Python [matplotlib](http://matplotlib.org/) for data visualization\n",
      "\n",
      "----\n",
      "\n",
      "NOTE:\n",
      "\n",
      "* The notebooks contains a snapshot of results from previously executed code. You can simply read through the code and results, or execute each cell along the way, to get latest results.\n",
      "* For an introduction to BigQuery and notebook basics, see the [full list](..) of intro notebooks.\n",
      "\n",
      "----"
     ]
    },
    {
     "cell_type": "code",
     "collapsed": false,
     "input": [
      "from __future__ import division\n",
      "import numpy as np\n",
      "import matplotlib.pyplot as plot\n",
      "import gcp.bigquery as bq"
     ],
     "language": "python",
     "metadata": {},
     "outputs": [],
     "prompt_number": 1
    },
    {
     "cell_type": "heading",
     "level": 1,
     "metadata": {},
     "source": [
      "Understanding the Data"
     ]
    },
    {
     "cell_type": "heading",
     "level": 2,
     "metadata": {},
     "source": [
      "Schema"
     ]
    },
    {
     "cell_type": "markdown",
     "metadata": {},
     "source": [
      "We have a simple log table consisting of fields parsed from a web server log. Here is the schema of the collected data."
     ]
    },
    {
     "cell_type": "code",
     "collapsed": false,
     "input": [
      "logs_table = bq.table('cloud-datalab:sampledata.requestlogs_20140615') \n",
      "logs_table.schema"
     ],
     "language": "python",
     "metadata": {},
     "outputs": [
      {
       "html": [
        "\n",
        "    <div class=\"bqsv\" id=\"bqsv1430184510\"></div>\n",
        "    <script>\n",
        "      require(['style!/static/extensions/bigquery.css', 'extensions/bigquery', 'element!bqsv1430184510'],\n",
        "          function(_, bq, dom) {\n",
        "              bq.renderSchema(dom, [{\"type\": \"TIMESTAMP\", \"name\": \"timestamp\"}, {\"type\": \"INTEGER\", \"name\": \"latency\"}, {\"type\": \"INTEGER\", \"name\": \"status\"}, {\"type\": \"STRING\", \"name\": \"method\"}, {\"type\": \"STRING\", \"name\": \"endpoint\"}]);\n",
        "          }\n",
        "      );\n",
        "    </script>\n",
        "    "
       ],
       "metadata": {},
       "output_type": "pyout",
       "prompt_number": 2,
       "text": [
        "[{ 'name': 'timestamp', 'type': 'TIMESTAMP', 'mode':'None', 'description': 'None' },\n",
        " { 'name': 'latency', 'type': 'INTEGER', 'mode':'None', 'description': 'None' },\n",
        " { 'name': 'status', 'type': 'INTEGER', 'mode':'None', 'description': 'None' },\n",
        " { 'name': 'method', 'type': 'STRING', 'mode':'None', 'description': 'None' },\n",
        " { 'name': 'endpoint', 'type': 'STRING', 'mode':'None', 'description': 'None' }]"
       ]
      }
     ],
     "prompt_number": 2
    },
    {
     "cell_type": "heading",
     "level": 2,
     "metadata": {},
     "source": [
      "Data"
     ]
    },
    {
     "cell_type": "markdown",
     "metadata": {},
     "source": [
      "Here is a query to get a sampling of some of data in the table to get a sense of the log data."
     ]
    },
    {
     "cell_type": "code",
     "collapsed": false,
     "input": [
      "%%sql --name logs\n",
      "SELECT timestamp, latency, status, method, endpoint\n",
      "FROM $logs_table\n",
      "ORDER by timestamp\n",
      "LIMIT 100"
     ],
     "language": "python",
     "metadata": {},
     "outputs": [],
     "prompt_number": 3
    },
    {
     "cell_type": "code",
     "collapsed": false,
     "input": [
      "logs.sample(count = 5)"
     ],
     "language": "python",
     "metadata": {},
     "outputs": [
      {
       "html": [
        "\n",
        "    <div class=\"bqtv\" id=\"bqtv_1430184512\"></div>\n",
        "    <div><br />job_pS4uDq1VX1WVruHBFPBr7CAtFjE<br />rows: 5</div>\n",
        "    <script>\n",
        "      require(['extensions/charting', 'element!bqtv_1430184512'],\n",
        "        function(charts, dom) {\n",
        "          charts.render(dom,\n",
        "            {\n",
        "              chartStyle:\"paged_table\",\n",
        "              dataName:\"data-studio-team:_0f12c412eb711017d36608a6e719813fc6aa536e.anon4b67ca2370f2576aaf99d587a23d74a886fbafb4\",\n",
        "              fields:\"timestamp,latency,status,method,endpoint\",\n",
        "              totalRows:5,\n",
        "              rowsPerPage:25,\n",
        "            }, {}, {\"rows\": [{\"c\": [{\"v\": \"2014-06-15T07:00:00.003772\"}, {\"v\": 122}, {\"v\": 200}, {\"v\": \"GET\"}, {\"v\": \"Interact3\"}]}, {\"c\": [{\"v\": \"2014-06-15T07:00:00.428897\"}, {\"v\": 144}, {\"v\": 200}, {\"v\": \"GET\"}, {\"v\": \"Interact3\"}]}, {\"c\": [{\"v\": \"2014-06-15T07:00:00.536486\"}, {\"v\": 48}, {\"v\": 200}, {\"v\": \"GET\"}, {\"v\": \"Interact3\"}]}, {\"c\": [{\"v\": \"2014-06-15T07:00:00.652760\"}, {\"v\": 28}, {\"v\": 405}, {\"v\": \"GET\"}, {\"v\": \"Interact2\"}]}, {\"c\": [{\"v\": \"2014-06-15T07:00:00.670100\"}, {\"v\": 103}, {\"v\": 200}, {\"v\": \"GET\"}, {\"v\": \"Interact3\"}]}], \"cols\": [{\"type\": \"datetime\", \"id\": \"timestamp\", \"label\": \"timestamp\"}, {\"type\": \"number\", \"id\": \"latency\", \"label\": \"latency\"}, {\"type\": \"number\", \"id\": \"status\", \"label\": \"status\"}, {\"type\": \"string\", \"id\": \"method\", \"label\": \"method\"}, {\"type\": \"string\", \"id\": \"endpoint\", \"label\": \"endpoint\"}]});\n",
        "        }\n",
        "      );\n",
        "    </script>\n",
        "  "
       ],
       "metadata": {},
       "output_type": "pyout",
       "prompt_number": 4,
       "text": []
      }
     ],
     "prompt_number": 4
    },
    {
     "cell_type": "heading",
     "level": 1,
     "metadata": {},
     "source": [
      "Raw Logs to Time Series"
     ]
    },
    {
     "cell_type": "markdown",
     "metadata": {},
     "source": [
      "We're going to build a timeseries over latency. In order to make it a useful metric, we'll look at 99th percentile latency of requests within a fixed 5min window using this SQL query issued to BigQuery (notice the grouping over a truncated timestamp, and quantile aggregation)."
     ]
    },
    {
     "cell_type": "code",
     "collapsed": false,
     "input": [
      "%%sql --name latency\n",
      "SELECT INTEGER(timestamp / 300000000) * 300000000 AS window,\n",
      "       NTH(99, QUANTILES(latency, 100)) as latency\n",
      "FROM $logs_table\n",
      "WHERE endpoint = 'Recent'\n",
      "GROUP BY window\n",
      "ORDER by window"
     ],
     "language": "python",
     "metadata": {},
     "outputs": [],
     "prompt_number": 5
    },
    {
     "cell_type": "code",
     "collapsed": false,
     "input": [
      "latency.sample(count = 10)"
     ],
     "language": "python",
     "metadata": {},
     "outputs": [
      {
       "html": [
        "\n",
        "    <div class=\"bqtv\" id=\"bqtv_1430184514\"></div>\n",
        "    <div><br />job_pPkxIX-fUFBjibiRdqx8AjzXXGw<br />rows: 10</div>\n",
        "    <script>\n",
        "      require(['extensions/charting', 'element!bqtv_1430184514'],\n",
        "        function(charts, dom) {\n",
        "          charts.render(dom,\n",
        "            {\n",
        "              chartStyle:\"paged_table\",\n",
        "              dataName:\"data-studio-team:_0f12c412eb711017d36608a6e719813fc6aa536e.anoncaea7e28c388e8ac7dfa3e9af57488c709e25671\",\n",
        "              fields:\"window,latency\",\n",
        "              totalRows:10,\n",
        "              rowsPerPage:25,\n",
        "            }, {}, {\"rows\": [{\"c\": [{\"v\": 1402815600000000}, {\"v\": 427}]}, {\"c\": [{\"v\": 1402815900000000}, {\"v\": 329}]}, {\"c\": [{\"v\": 1402816200000000}, {\"v\": 293}]}, {\"c\": [{\"v\": 1402817400000000}, {\"v\": 242}]}, {\"c\": [{\"v\": 1402818000000000}, {\"v\": 332}]}, {\"c\": [{\"v\": 1402818300000000}, {\"v\": 288}]}, {\"c\": [{\"v\": 1402818900000000}, {\"v\": 299}]}, {\"c\": [{\"v\": 1402819800000000}, {\"v\": 294}]}, {\"c\": [{\"v\": 1402820400000000}, {\"v\": 111}]}, {\"c\": [{\"v\": 1402821000000000}, {\"v\": 361}]}], \"cols\": [{\"type\": \"number\", \"id\": \"window\", \"label\": \"window\"}, {\"type\": \"number\", \"id\": \"latency\", \"label\": \"latency\"}]});\n",
        "        }\n",
        "      );\n",
        "    </script>\n",
        "  "
       ],
       "metadata": {},
       "output_type": "pyout",
       "prompt_number": 6,
       "text": []
      }
     ],
     "prompt_number": 6
    },
    {
     "cell_type": "code",
     "collapsed": false,
     "input": [
      "latency_timeseries = latency.results().to_dataframe()['latency'].values\n",
      "latency_timeseries_length = len(latency_timeseries)"
     ],
     "language": "python",
     "metadata": {},
     "outputs": [],
     "prompt_number": 7
    },
    {
     "cell_type": "heading",
     "level": 2,
     "metadata": {},
     "source": [
      "Visualizing the Time Series Data"
     ]
    },
    {
     "cell_type": "code",
     "collapsed": false,
     "input": [
      "latency_ticks = np.array(range(latency_timeseries_length))\n",
      "\n",
      "plot.plot(latency_ticks, latency_timeseries)\n",
      "plot.yscale('log')\n",
      "plot.grid()"
     ],
     "language": "python",
     "metadata": {},
     "outputs": [
      {
       "metadata": {},
       "output_type": "display_data",
       "png": "[encoded data removed]",
       "text": [
        "<matplotlib.figure.Figure at 0x109e61dd0>"
       ]
      }
     ],
     "prompt_number": 8
    },
    {
     "cell_type": "heading",
     "level": 1,
     "metadata": {},
     "source": [
      "Anomaly Detection"
     ]
    },
    {
     "cell_type": "markdown",
     "metadata": {},
     "source": [
      "A visual inspection of the chart above highlights the obvious anomalies, but we want to construct something that can automatically inspect the data, learn from it, and detect anomalies in an automated way.\n",
      "\n",
      "We'll create an anomaly detector in this sample. This one uses a simple strategy/algorithm of tracking mean and standard deviation. You can give it a value indicating # of values it uses to train itself. Beyond that it continually trains to account for slow-evolving changes to the app. For any value that is off from the mean by 3x the standard deviation, it flags it as an anomaly."
     ]
    },
    {
     "cell_type": "code",
     "collapsed": false,
     "input": [
      "class AnomalyDetector(object):\n",
      "\n",
      "    def __init__(self, window = 10):\n",
      "        self._index = 0\n",
      "        self._window = window\n",
      "        self._values = np.zeros(window)\n",
      "        self._valuesSq = np.zeros(window)\n",
      "        self._mean = 0\n",
      "        self._variance = 0\n",
      "        self._count = 0\n",
      "\n",
      "    def observation(self, value):\n",
      "        anomaly = False\n",
      "\n",
      "        threshold = 3 * np.sqrt(self._variance)\n",
      "        if self._count > self._window:\n",
      "            if value > self._mean + threshold:\n",
      "                value = self._mean + threshold\n",
      "                anomaly = True\n",
      "            elif value < self._mean - threshold:\n",
      "                value = self._mean - threshold\n",
      "                anomaly = True\n",
      "        else:\n",
      "            self._count += 1\n",
      "\n",
      "        prev_value = self._values[self._index]\n",
      "        self._values[self._index] = value\n",
      "        self._valuesSq[self._index] = value ** 2\n",
      "        self._index = (self._index + 1) % self._window\n",
      "\n",
      "        self._mean = self._mean - prev_value / self._window + value / self._window\n",
      "        self._variance = sum(self._valuesSq) / self._window - (self._mean ** 2)\n",
      "\n",
      "        return anomaly, self._mean"
     ],
     "language": "python",
     "metadata": {},
     "outputs": [],
     "prompt_number": 9
    },
    {
     "cell_type": "markdown",
     "metadata": {},
     "source": [
      "And now, lets run the time series we built up earlier through this anomaly detector."
     ]
    },
    {
     "cell_type": "code",
     "collapsed": false,
     "input": [
      "latency_anomalies = np.zeros(latency_timeseries_length)\n",
      "latency_means = np.zeros(latency_timeseries_length)\n",
      "\n",
      "latency_anomaly_detector = AnomalyDetector(36)\n",
      "\n",
      "for i, value in enumerate(latency_timeseries):\n",
      "    anomaly, mean = latency_anomaly_detector.observation(value)\n",
      "    \n",
      "    latency_anomalies[i] = anomaly\n",
      "    latency_means[i] = mean"
     ],
     "language": "python",
     "metadata": {},
     "outputs": [],
     "prompt_number": 10
    },
    {
     "cell_type": "markdown",
     "metadata": {},
     "source": [
      "And then plot the same time series, but overlay the computed anomalies, and mean values as well."
     ]
    },
    {
     "cell_type": "code",
     "collapsed": false,
     "input": [
      "plot.plot(latency_ticks, latency_timeseries)\n",
      "plot.plot(latency_ticks[latency_anomalies == 1],\n",
      "     latency_timeseries[latency_anomalies == 1], 'ro')\n",
      "plot.plot(latency_ticks, latency_means, 'g', linewidth = 1)\n",
      "plot.yscale('log')\n",
      "plot.grid()"
     ],
     "language": "python",
     "metadata": {},
     "outputs": [
      {
       "metadata": {},
       "output_type": "display_data",
       "png": "[encoded data removed]",
       "text": [
        "<matplotlib.figure.Figure at 0x10ab20d90>"
       ]
      }
     ],
     "prompt_number": 11
    }
   ],
   "metadata": {}
  }
 ]
}
