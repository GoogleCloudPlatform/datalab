{
 "metadata": {
  "name": "",
  "signature": "sha256:bde5fa19e1e6f7fa0084dac74e3c92c9ac3a1256ebc087e77680fd8309c1af15"
 },
 "nbformat": 3,
 "nbformat_minor": 0,
 "worksheets": [
  {
   "cells": [
    {
     "cell_type": "markdown",
     "metadata": {},
     "source": [
      "# BigQuery - JavaScript UDFs\n",
      "\n",
      "This notebook demonstrates how you can write JavaScript UDFs and include them into your BigQuery SQL queries to include computation logic that can be expressed more simply in script than in SQL. The notebook also demonstrates how you can test the script before it is included into a query and processed by BigQuery.\n",
      "\n",
      "JavaScript UDFs process records in a table or query via an arbitrary JavaScript logic. The function takes as arguments the record and an emit function. The function produces output records by invoking emit(..) for each output record. They are the equivalent of mappers in map/reduce. The input and output records are vanilla JavaScript objects.\n",
      "\n",
      "----\n",
      "\n",
      "NOTE:\n",
      "\n",
      "* JavaScript UDFs are a new feature of BigQuery. In order to try the functionality here, you'll need to get your project white-listed.\n",
      "* For an introduction to BigQuery and notebook basics, see the full list of introductory notebooks.\n"
     ]
    },
    {
     "cell_type": "heading",
     "level": 1,
     "metadata": {},
     "source": [
      "Quick Look at the Data"
     ]
    },
    {
     "cell_type": "markdown",
     "metadata": {},
     "source": [
      "BigQuery provides a corpus of Shakespeare's works as a dataset."
     ]
    },
    {
     "cell_type": "code",
     "collapsed": false,
     "input": [
      "%%sql\n",
      "SELECT word, word_count, corpus, LENGTH(word) as length\n",
      "FROM [publicdata:samples.shakespeare]\n",
      "ORDER BY length DESC\n",
      "LIMIT 10"
     ],
     "language": "python",
     "metadata": {},
     "outputs": [
      {
       "html": [
        "\n",
        "    <div class=\"bqtv\" id=\"bqtv_1436390839\"></div>\n",
        "    <div><br />job_C9E39bn8rUMtNo5Gd1Jl2Sfniiw<br />rows: 10</div>\n",
        "    <script>\n",
        "      require(['extensions/charting', 'element!bqtv_1436390839'],\n",
        "        function(charts, dom) {\n",
        "          charts.render(dom,\n",
        "            {\n",
        "              chartStyle:\"table\",\n",
        "              dataName:\"data-studio-team:_22cae82edc27e9be9a02c50fe9837efda6b0471d.anond702c32cfae8294a1908233ffd6065577d78b40c\",\n",
        "              fields:\"word,word_count,corpus,length\",\n",
        "              totalRows:10,\n",
        "              rowsPerPage:25,\n",
        "            }, {}, {\"rows\": [{\"c\": [{\"v\": \"honorificabilitudinitatibus\"}, {\"v\": 1}, {\"v\": \"loveslabourslost\"}, {\"v\": 27}]}, {\"c\": [{\"v\": \"undistinguishable\"}, {\"v\": 2}, {\"v\": \"midsummersnightsdream\"}, {\"v\": 17}]}, {\"c\": [{\"v\": \"indistinguishable\"}, {\"v\": 1}, {\"v\": \"troilusandcressida\"}, {\"v\": 17}]}, {\"c\": [{\"v\": \"Anthropophaginian\"}, {\"v\": 1}, {\"v\": \"merrywivesofwindsor\"}, {\"v\": 17}]}, {\"c\": [{\"v\": \"incomprehensible\"}, {\"v\": 1}, {\"v\": \"1kinghenryiv\"}, {\"v\": 16}]}, {\"c\": [{\"v\": \"interchangeably'\"}, {\"v\": 1}, {\"v\": \"troilusandcressida\"}, {\"v\": 16}]}, {\"c\": [{\"v\": \"Northamptonshire\"}, {\"v\": 1}, {\"v\": \"kingjohn\"}, {\"v\": 16}]}, {\"c\": [{\"v\": \"Northumberland's\"}, {\"v\": 1}, {\"v\": \"3kinghenryvi\"}, {\"v\": 16}]}, {\"c\": [{\"v\": \"circumscription\"}, {\"v\": 1}, {\"v\": \"othello\"}, {\"v\": 15}]}, {\"c\": [{\"v\": \"Gloucestershire\"}, {\"v\": 3}, {\"v\": \"kingrichardii\"}, {\"v\": 15}]}], \"cols\": [{\"type\": \"string\", \"id\": \"word\", \"label\": \"word\"}, {\"type\": \"number\", \"id\": \"word_count\", \"label\": \"word_count\"}, {\"type\": \"string\", \"id\": \"corpus\", \"label\": \"corpus\"}, {\"type\": \"number\", \"id\": \"length\", \"label\": \"length\"}]});\n",
        "        }\n",
        "      );\n",
        "    </script>\n",
        "  "
       ],
       "metadata": {},
       "output_type": "pyout",
       "prompt_number": 1,
       "text": []
      }
     ],
     "prompt_number": 1
    },
    {
     "cell_type": "heading",
     "level": 1,
     "metadata": {},
     "source": [
      "JavaScript function"
     ]
    },
    {
     "cell_type": "markdown",
     "metadata": {},
     "source": [
      "Lets say we want to query all words from all shakespeare texts for words that contain letter(s) in \"shakespeare\"."
     ]
    },
    {
     "cell_type": "code",
     "collapsed": false,
     "input": [
      "%%bigquery udf --name word_filter\n",
      "/**\n",
      " * @param {{word: string, corpus: string, word_count: integer}} r\n",
      " * @param function({{word: string, corpus: string, count: integer}}) emitFn\n",
      " */\n",
      "function(r, emitFn) {\n",
      "  if (r.word.match(/[shakespeare]/) !== null) {\n",
      "    var result = { word: r.word, corpus: r.corpus, count: r.word_count };\n",
      "    emitFn(result);\n",
      "  }\n",
      "}"
     ],
     "language": "python",
     "metadata": {},
     "outputs": [],
     "prompt_number": 2
    },
    {
     "cell_type": "heading",
     "level": 2,
     "metadata": {},
     "source": [
      "Testing JavaScript"
     ]
    },
    {
     "cell_type": "markdown",
     "metadata": {},
     "source": [
      "The notebooks allows testing JavaScript UDFs as JavaScript, before they are included into a SQL query. The name assigned to the JavaScript function is available in the page for experimenting with mock or dummy data."
     ]
    },
    {
     "cell_type": "code",
     "collapsed": false,
     "input": [
      "# A few sample words to run through the function\n",
      "word_filter([{ 'word': 'love', 'corpus': 'othello ', 'word_count': 78 },\n",
      "             { 'word': 'not', 'corpus': 'kinghenryviii ', 'word_count': 171 },\n",
      "             { 'word': 'midsummer', 'corpus': 'asyoulikeit ', 'word_count': 100 }])\n",
      "              "
     ],
     "language": "python",
     "metadata": {},
     "outputs": [
      {
       "html": [
        "\n",
        "    <div class=\"bqtv\" id=\"udf143639083977\"></div>\n",
        "    <script>\n",
        "      require(['extensions/bigquery', 'element!udf143639083977'],\n",
        "          function(bq, dom) {\n",
        "              bq.evaluateUDF(dom, /**\n",
        " * @param {{word: string, corpus: string, word_count: integer}} r\n",
        " * @param function({{word: string, corpus: string, count: integer}}) emitFn\n",
        " */\n",
        "function(r, emitFn) {\n",
        "  if (r.word.match(/[shakespeare]/) !== null) {\n",
        "    var result = { word: r.word, corpus: r.corpus, count: r.word_count };\n",
        "    emitFn(result);\n",
        "  }\n",
        "}, [{\"corpus\": \"othello \", \"word\": \"love\", \"word_count\": 78}, {\"corpus\": \"kinghenryviii \", \"word\": \"not\", \"word_count\": 171}, {\"corpus\": \"asyoulikeit \", \"word\": \"midsummer\", \"word_count\": 100}]);\n",
        "          }\n",
        "      );\n",
        "    </script>\n",
        "    "
       ],
       "metadata": {},
       "output_type": "pyout",
       "prompt_number": 3,
       "text": [
        "<gcp.bigquery._udf.FunctionEvaluation at 0x109cfeed0>"
       ]
      }
     ],
     "prompt_number": 3
    },
    {
     "cell_type": "heading",
     "level": 1,
     "metadata": {},
     "source": [
      "Including JavaScript into SQL"
     ]
    },
    {
     "cell_type": "markdown",
     "metadata": {},
     "source": [
      "The JavaScript function can now be applied to a table or SQL query."
     ]
    },
    {
     "cell_type": "code",
     "collapsed": false,
     "input": [
      "import gcp.bigquery as bq\n",
      "shakespeare = bq.table('publicdata:samples.shakespeare')"
     ],
     "language": "python",
     "metadata": {},
     "outputs": [],
     "prompt_number": 4
    },
    {
     "cell_type": "code",
     "collapsed": false,
     "input": [
      "filtering_query = word_filter(shakespeare)"
     ],
     "language": "python",
     "metadata": {},
     "outputs": [],
     "prompt_number": 5
    },
    {
     "cell_type": "code",
     "collapsed": false,
     "input": [
      "%%sql --name final_query\n",
      "SELECT word, sum(count) as count\n",
      "FROM $filtering_query\n",
      "WHERE LENGTH(word) >= 5\n",
      "GROUP BY word \n",
      "ORDER BY count DESC\n",
      "LIMIT 100"
     ],
     "language": "python",
     "metadata": {},
     "outputs": [],
     "prompt_number": 6
    },
    {
     "cell_type": "markdown",
     "metadata": {},
     "source": [
      "It might be interesting to check out the SQL resulting from applying a JavaScript UDF."
     ]
    },
    {
     "cell_type": "code",
     "collapsed": false,
     "input": [
      "print final_query.sql"
     ],
     "language": "python",
     "metadata": {},
     "outputs": [
      {
       "output_type": "stream",
       "stream": "stdout",
       "text": [
        "SELECT word, sum(count) as count\n",
        "FROM $filtering_query\n",
        "WHERE LENGTH(word) >= 5\n",
        "GROUP BY word \n",
        "ORDER BY count DESC\n",
        "LIMIT 100\n"
       ]
      }
     ],
     "prompt_number": 7
    },
    {
     "cell_type": "markdown",
     "metadata": {},
     "source": [
      "And of course execute it, and see the results..."
     ]
    },
    {
     "cell_type": "code",
     "collapsed": false,
     "input": [
      "final_query.results()"
     ],
     "language": "python",
     "metadata": {},
     "outputs": [
      {
       "html": [
        "\n",
        "    <div class=\"bqtv\" id=\"bqtv_1436390882\"></div>\n",
        "    <div><br />job_EtPJjlE6_KUd26noSumqs4FPFtI<br />rows: 100</div>\n",
        "    <script>\n",
        "      require(['extensions/charting', 'element!bqtv_1436390882'],\n",
        "        function(charts, dom) {\n",
        "          charts.render(dom,\n",
        "            {\n",
        "              chartStyle:\"paged_table\",\n",
        "              dataName:\"data-studio-team:_22cae82edc27e9be9a02c50fe9837efda6b0471d.anonev_N3Bk70n4yaE8qVnRmCHT7UsVI0Y\",\n",
        "              fields:\"word,count\",\n",
        "              totalRows:100,\n",
        "              rowsPerPage:25,\n",
        "            }, {}, {\"rows\": [{\"c\": [{\"v\": \"shall\"}, {\"v\": 3282}]}, {\"c\": [{\"v\": \"their\"}, {\"v\": 2135}]}, {\"c\": [{\"v\": \"Enter\"}, {\"v\": 1977}]}, {\"c\": [{\"v\": \"which\"}, {\"v\": 1524}]}, {\"c\": [{\"v\": \"should\"}, {\"v\": 1505}]}, {\"c\": [{\"v\": \"there\"}, {\"v\": 1453}]}, {\"c\": [{\"v\": \"these\"}, {\"v\": 1164}]}, {\"c\": [{\"v\": \"heart\"}, {\"v\": 1081}]}, {\"c\": [{\"v\": \"Exeunt\"}, {\"v\": 1052}]}, {\"c\": [{\"v\": \"speak\"}, {\"v\": 1040}]}, {\"c\": [{\"v\": \"think\"}, {\"v\": 991}]}, {\"c\": [{\"v\": \"First\"}, {\"v\": 984}]}, {\"c\": [{\"v\": \"never\"}, {\"v\": 981}]}, {\"c\": [{\"v\": \"Which\"}, {\"v\": 977}]}, {\"c\": [{\"v\": \"night\"}, {\"v\": 902}]}, {\"c\": [{\"v\": \"death\"}, {\"v\": 887}]}, {\"c\": [{\"v\": \"great\"}, {\"v\": 850}]}, {\"c\": [{\"v\": \"father\"}, {\"v\": 837}]}, {\"c\": [{\"v\": \"again\"}, {\"v\": 790}]}, {\"c\": [{\"v\": \"where\"}, {\"v\": 763}]}, {\"c\": [{\"v\": \"cannot\"}, {\"v\": 745}]}, {\"c\": [{\"v\": \"sweet\"}, {\"v\": 717}]}, {\"c\": [{\"v\": \"other\"}, {\"v\": 688}]}, {\"c\": [{\"v\": \"before\"}, {\"v\": 658}]}, {\"c\": [{\"v\": \"world\"}, {\"v\": 656}]}], \"cols\": [{\"type\": \"string\", \"id\": \"word\", \"label\": \"word\"}, {\"type\": \"number\", \"id\": \"count\", \"label\": \"count\"}]});\n",
        "        }\n",
        "      );\n",
        "    </script>\n",
        "  "
       ],
       "metadata": {},
       "output_type": "pyout",
       "prompt_number": 8,
       "text": []
      }
     ],
     "prompt_number": 8
    }
   ],
   "metadata": {}
  }
 ]
}