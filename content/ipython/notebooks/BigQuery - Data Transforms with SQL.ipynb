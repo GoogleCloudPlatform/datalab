{
 "metadata": {
  "name": "",
  "signature": "sha256:f39174742bafe7e63b99271ed488b92e02757d6527096eb8cced9c563611da54"
 },
 "nbformat": 3,
 "nbformat_minor": 0,
 "worksheets": [
  {
   "cells": [
    {
     "cell_type": "markdown",
     "metadata": {},
     "source": [
      "# BigQuery - Data Transforms with SQL\n",
      "\n",
      "This notebook demonstrates how you can run a SQL query within BigQuery and save the results into another table. This allows you to perform ETL-like tasks completely within BigQuery to prepare or clean data or to get it ready for further analysis and use.\n",
      "\n",
      "This notebook uses a sample dataset of request logs data from a web server.\n",
      "\n",
      "Related Links:\n",
      "\n",
      "* [BigQuery](https://cloud.google.com/bigquery/)\n",
      "* BigQuery [SQL reference](https://cloud.google.com/bigquery/query-reference)\n",
      "\n",
      "----\n",
      "\n",
      "NOTE:\n",
      "\n",
      "* If you're new to notebooks, or want to check out additional samples, check out the full [list](..) of notebooks."
     ]
    },
    {
     "cell_type": "code",
     "collapsed": false,
     "input": [
      "import gcp\n",
      "import gcp.bigquery as bq"
     ],
     "language": "python",
     "metadata": {},
     "outputs": [],
     "prompt_number": 1
    },
    {
     "cell_type": "heading",
     "level": 1,
     "metadata": {},
     "source": [
      "Extract"
     ]
    },
    {
     "cell_type": "markdown",
     "metadata": {},
     "source": [
      "The source of data is logs with the following schema. Separate \"extract\" step of ETL is not required since the data is already in BigQuery."
     ]
    },
    {
     "cell_type": "code",
     "collapsed": false,
     "input": [
      "logs_table = bq.table('cloud-datalab:sampledata.requestlogs_20140616')\n",
      "logs_table.schema"
     ],
     "language": "python",
     "metadata": {},
     "outputs": [
      {
       "html": [
        "\n",
        "    <div class=\"bqsv\" id=\"bqsv143639563067\"></div>\n",
        "    <script>\n",
        "      require(['style!/static/extensions/bigquery.css', 'extensions/bigquery', 'element!bqsv143639563067'],\n",
        "          function(_, bq, dom) {\n",
        "              bq.renderSchema(dom, [{\"type\": \"TIMESTAMP\", \"name\": \"timestamp\"}, {\"type\": \"INTEGER\", \"name\": \"latency\"}, {\"type\": \"INTEGER\", \"name\": \"status\"}, {\"type\": \"STRING\", \"name\": \"method\"}, {\"type\": \"STRING\", \"name\": \"endpoint\"}]);\n",
        "          }\n",
        "      );\n",
        "    </script>\n",
        "    "
       ],
       "metadata": {},
       "output_type": "pyout",
       "prompt_number": 2,
       "text": [
        "[{ 'name': 'timestamp', 'type': 'TIMESTAMP', 'mode':'None', 'description': 'None' },\n",
        " { 'name': 'latency', 'type': 'INTEGER', 'mode':'None', 'description': 'None' },\n",
        " { 'name': 'status', 'type': 'INTEGER', 'mode':'None', 'description': 'None' },\n",
        " { 'name': 'method', 'type': 'STRING', 'mode':'None', 'description': 'None' },\n",
        " { 'name': 'endpoint', 'type': 'STRING', 'mode':'None', 'description': 'None' }]"
       ]
      }
     ],
     "prompt_number": 2
    },
    {
     "cell_type": "heading",
     "level": 1,
     "metadata": {},
     "source": [
      "Transform"
     ]
    },
    {
     "cell_type": "markdown",
     "metadata": {},
     "source": [
      "This data needs to be shaped for the purpose of tracking errors and associated endpoints over time. In this simple example, we will use a query that filters out successful requests and projects out columns relevant for error tracking. For more complex transformations, see query composition and UDF sample notebooks."
     ]
    },
    {
     "cell_type": "code",
     "collapsed": false,
     "input": [
      "%%sql --name log_transform\n",
      "SELECT endpoint, method, status, timestamp\n",
      "FROM $logs_table\n",
      "WHERE status >= 400"
     ],
     "language": "python",
     "metadata": {},
     "outputs": [],
     "prompt_number": 3
    },
    {
     "cell_type": "markdown",
     "metadata": {},
     "source": [
      "Let's test the query results before proceeding with loading of data"
     ]
    },
    {
     "cell_type": "code",
     "collapsed": false,
     "input": [
      "log_transform.sample()"
     ],
     "language": "python",
     "metadata": {},
     "outputs": [
      {
       "html": [
        "\n",
        "    <div class=\"bqtv\" id=\"bqtv_1436395632\"></div>\n",
        "    <div><br />job_auBo5dFvQKisOmxJrQ37GFqwsxE<br />rows: 5</div>\n",
        "    <script>\n",
        "      require(['extensions/charting', 'element!bqtv_1436395632'],\n",
        "        function(charts, dom) {\n",
        "          charts.render(dom,\n",
        "            {\n",
        "              chartStyle:\"table\",\n",
        "              dataName:\"data-studio-team:_22cae82edc27e9be9a02c50fe9837efda6b0471d.anon6f633bb35aeb5d07ff4e90a722daccb21fa16e5a\",\n",
        "              fields:\"endpoint,method,status,timestamp\",\n",
        "              totalRows:5,\n",
        "              rowsPerPage:25,\n",
        "            }, {}, {\"rows\": [{\"c\": [{\"v\": \"Interact3\"}, {\"v\": \"GET\"}, {\"v\": 500}, {\"v\": \"2014-06-16T03:45:16.831467\"}]}, {\"c\": [{\"v\": \"Interact3\"}, {\"v\": \"GET\"}, {\"v\": 500}, {\"v\": \"2014-06-16T04:00:07.203204\"}]}, {\"c\": [{\"v\": \"Interact3\"}, {\"v\": \"GET\"}, {\"v\": 500}, {\"v\": \"2014-06-16T04:15:06.987853\"}]}, {\"c\": [{\"v\": \"Interact3\"}, {\"v\": \"GET\"}, {\"v\": 500}, {\"v\": \"2014-06-16T04:30:06.665069\"}]}, {\"c\": [{\"v\": \"Interact3\"}, {\"v\": \"GET\"}, {\"v\": 500}, {\"v\": \"2014-06-16T04:45:05.056332\"}]}], \"cols\": [{\"type\": \"string\", \"id\": \"endpoint\", \"label\": \"endpoint\"}, {\"type\": \"string\", \"id\": \"method\", \"label\": \"method\"}, {\"type\": \"number\", \"id\": \"status\", \"label\": \"status\"}, {\"type\": \"datetime\", \"id\": \"timestamp\", \"label\": \"timestamp\"}]});\n",
        "        }\n",
        "      );\n",
        "    </script>\n",
        "  "
       ],
       "metadata": {},
       "output_type": "pyout",
       "prompt_number": 4,
       "text": []
      }
     ],
     "prompt_number": 4
    },
    {
     "cell_type": "heading",
     "level": 1,
     "metadata": {},
     "source": [
      "Load"
     ]
    },
    {
     "cell_type": "markdown",
     "metadata": {},
     "source": [
      "Let us create a dataset in the current project. This is an idempotent operation and returns the dataset if it already exists."
     ]
    },
    {
     "cell_type": "code",
     "collapsed": false,
     "input": [
      "target_ds = bq.dataset('output').create()"
     ],
     "language": "python",
     "metadata": {},
     "outputs": [],
     "prompt_number": 5
    },
    {
     "cell_type": "markdown",
     "metadata": {},
     "source": [
      "A new dataset is created in the current project for the output. You can cross-check that using BigQuery console. Next step is to execute the log_transform query and directly load the results into a BigQuery table in the newly created dataset. For idempotence, append is set to False while overwrite is set to True. Execute operation is async and returns a job that can be checked for completion and errors."
     ]
    },
    {
     "cell_type": "code",
     "collapsed": false,
     "input": [
      "job = log_transform.execute('output.transformedlogs_20140616', False, True)"
     ],
     "language": "python",
     "metadata": {},
     "outputs": [],
     "prompt_number": 6
    },
    {
     "cell_type": "markdown",
     "metadata": {},
     "source": [
      "Job completion time will depend on how much data is being processed. The following check is important to run to see if there were any errors when running the job:"
     ]
    },
    {
     "cell_type": "code",
     "collapsed": false,
     "input": [
      "job.errors"
     ],
     "language": "python",
     "metadata": {},
     "outputs": [],
     "prompt_number": 7
    },
    {
     "cell_type": "code",
     "collapsed": false,
     "input": [
      "%%sql\n",
      "SELECT *\n",
      "FROM [output.transformedlogs_20140616]\n",
      "LIMIT 5"
     ],
     "language": "python",
     "metadata": {},
     "outputs": [
      {
       "html": [
        "\n",
        "    <div class=\"bqtv\" id=\"bqtv_1436395637\"></div>\n",
        "    <div><br />job_rfpYtcV47aMY3jv98hmboOcuByg<br />rows: 5</div>\n",
        "    <script>\n",
        "      require(['extensions/charting', 'element!bqtv_1436395637'],\n",
        "        function(charts, dom) {\n",
        "          charts.render(dom,\n",
        "            {\n",
        "              chartStyle:\"table\",\n",
        "              dataName:\"data-studio-team:_22cae82edc27e9be9a02c50fe9837efda6b0471d.anon8fb1cc208b61de64a31ddbb0684cbfb8ce8aa7c9\",\n",
        "              fields:\"endpoint,method,status,timestamp\",\n",
        "              totalRows:5,\n",
        "              rowsPerPage:25,\n",
        "            }, {}, {\"rows\": [{\"c\": [{\"v\": \"Interact3\"}, {\"v\": \"GET\"}, {\"v\": 500}, {\"v\": \"2014-06-16T23:20:31.672194\"}]}, {\"c\": [{\"v\": \"Interact3\"}, {\"v\": \"GET\"}, {\"v\": 500}, {\"v\": \"2014-06-16T23:20:31.729685\"}]}, {\"c\": [{\"v\": \"Interact3\"}, {\"v\": \"GET\"}, {\"v\": 403}, {\"v\": \"2014-06-16T23:20:31.844348\"}]}, {\"c\": [{\"v\": \"Interact3\"}, {\"v\": \"GET\"}, {\"v\": 500}, {\"v\": \"2014-06-16T23:20:31.961416\"}]}, {\"c\": [{\"v\": \"Interact3\"}, {\"v\": \"GET\"}, {\"v\": 500}, {\"v\": \"2014-06-16T23:20:32.645598\"}]}], \"cols\": [{\"type\": \"string\", \"id\": \"endpoint\", \"label\": \"endpoint\"}, {\"type\": \"string\", \"id\": \"method\", \"label\": \"method\"}, {\"type\": \"number\", \"id\": \"status\", \"label\": \"status\"}, {\"type\": \"datetime\", \"id\": \"timestamp\", \"label\": \"timestamp\"}]});\n",
        "        }\n",
        "      );\n",
        "    </script>\n",
        "  "
       ],
       "metadata": {},
       "output_type": "pyout",
       "prompt_number": 8,
       "text": []
      }
     ],
     "prompt_number": 8
    },
    {
     "cell_type": "code",
     "collapsed": false,
     "input": [],
     "language": "python",
     "metadata": {},
     "outputs": [],
     "prompt_number": 8
    }
   ],
   "metadata": {}
  }
 ]
}