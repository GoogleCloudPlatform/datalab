{
 "metadata": {
  "name": "",
  "signature": "sha256:dec3632f4d446a1c87dcf63a34ee333208d076e5451bc6c962671c6a8218b463"
 },
 "nbformat": 3,
 "nbformat_minor": 0,
 "worksheets": [
  {
   "cells": [
    {
     "cell_type": "markdown",
     "metadata": {},
     "source": [
      "# BigQuery - Data Transforms with SQL\n",
      "\n",
      "This notebook demonstrates how you can run a SQL query within BigQuery and save the results into another table. This allows you to perform ETL-like tasks completely within BigQuery to prepare or clean data or to get it ready for further analysis and use.\n",
      "\n",
      "This notebook uses a sample dataset of request logs data from a web server.\n",
      "\n",
      "Related Links:\n",
      "\n",
      "* [BigQuery](https://cloud.google.com/bigquery/)\n",
      "* BigQuery [SQL reference](https://cloud.google.com/bigquery/query-reference)\n",
      "\n",
      "----\n",
      "\n",
      "NOTE:\n",
      "\n",
      "* If you're new to notebooks, or want to check out additional samples, check out the full [list](..) of notebooks."
     ]
    },
    {
     "cell_type": "code",
     "collapsed": false,
     "input": [
      "import gcp\n",
      "import gcp.bigquery as bq"
     ],
     "language": "python",
     "metadata": {},
     "outputs": [],
     "prompt_number": 1
    },
    {
     "cell_type": "heading",
     "level": 1,
     "metadata": {},
     "source": [
      "Extract"
     ]
    },
    {
     "cell_type": "markdown",
     "metadata": {},
     "source": [
      "The source of data is logs with the following schema. Separate \"extract\" step of ETL is not required since the data is already in BigQuery."
     ]
    },
    {
     "cell_type": "code",
     "collapsed": false,
     "input": [
      "logs_table = bq.table('cloud-datalab:sampledata.requestlogs_20140616')\n",
      "logs_table.schema"
     ],
     "language": "python",
     "metadata": {},
     "outputs": [
      {
       "html": [
        "\n",
        "    <div class=\"bqsv\" id=\"bqsv143741587189\"></div>\n",
        "    <script>\n",
        "      require(['style!/static/extensions/bigquery.css', 'extensions/bigquery', 'element!bqsv143741587189'],\n",
        "          function(_, bq, dom) {\n",
        "              bq.renderSchema(dom, [{\"type\": \"TIMESTAMP\", \"name\": \"timestamp\"}, {\"type\": \"INTEGER\", \"name\": \"latency\"}, {\"type\": \"INTEGER\", \"name\": \"status\"}, {\"type\": \"STRING\", \"name\": \"method\"}, {\"type\": \"STRING\", \"name\": \"endpoint\"}]);\n",
        "          }\n",
        "      );\n",
        "    </script>\n",
        "    "
       ],
       "metadata": {},
       "output_type": "pyout",
       "prompt_number": 2,
       "text": [
        "[{ 'name': 'timestamp', 'type': 'TIMESTAMP', 'mode':'None', 'description': 'None' },\n",
        " { 'name': 'latency', 'type': 'INTEGER', 'mode':'None', 'description': 'None' },\n",
        " { 'name': 'status', 'type': 'INTEGER', 'mode':'None', 'description': 'None' },\n",
        " { 'name': 'method', 'type': 'STRING', 'mode':'None', 'description': 'None' },\n",
        " { 'name': 'endpoint', 'type': 'STRING', 'mode':'None', 'description': 'None' }]"
       ]
      }
     ],
     "prompt_number": 2
    },
    {
     "cell_type": "heading",
     "level": 1,
     "metadata": {},
     "source": [
      "Transform"
     ]
    },
    {
     "cell_type": "markdown",
     "metadata": {},
     "source": [
      "This data needs to be shaped for the purpose of tracking errors and associated endpoints over time. In this simple example, we will use a query that filters out successful requests and projects out columns relevant for error tracking. For more complex transformations, see query composition and UDF sample notebooks."
     ]
    },
    {
     "cell_type": "code",
     "collapsed": false,
     "input": [
      "%%sql --name log_transform\n",
      "SELECT endpoint, method, status, timestamp\n",
      "FROM $logs_table\n",
      "WHERE status >= 400"
     ],
     "language": "python",
     "metadata": {},
     "outputs": [],
     "prompt_number": 3
    },
    {
     "cell_type": "markdown",
     "metadata": {},
     "source": [
      "Let's test the query results before proceeding with loading of data"
     ]
    },
    {
     "cell_type": "code",
     "collapsed": false,
     "input": [
      "log_transform.sample()"
     ],
     "language": "python",
     "metadata": {},
     "outputs": [
      {
       "html": [
        "\n",
        "    <div class=\"bqtv\" id=\"bqtv_1437415873\"></div>\n",
        "    <div><br />job_oNBhuiF6FrrTPkrE9DGmEmDAUzU<br />rows: 5</div>\n",
        "    <script>\n",
        "      require(['extensions/charting', 'element!bqtv_1437415873'],\n",
        "        function(charts, dom) {\n",
        "          charts.render(dom,\n",
        "            {\n",
        "              chartStyle:\"table\",\n",
        "              dataName:\"data-studio-team:_22cae82edc27e9be9a02c50fe9837efda6b0471d.anon3ecb2aeaf9bf9cbd560e3300296791136cf24862\",\n",
        "              fields:\"endpoint,method,status,timestamp\",\n",
        "              totalRows:5,\n",
        "              rowsPerPage:25,\n",
        "            }, {}, {\"rows\": [{\"c\": [{\"v\": \"Interact3\"}, {\"v\": \"GET\"}, {\"v\": 500}, {\"v\": \"2014-06-16T03:45:16.831467\"}]}, {\"c\": [{\"v\": \"Interact3\"}, {\"v\": \"GET\"}, {\"v\": 500}, {\"v\": \"2014-06-16T04:00:07.203204\"}]}, {\"c\": [{\"v\": \"Interact3\"}, {\"v\": \"GET\"}, {\"v\": 500}, {\"v\": \"2014-06-16T04:15:06.987853\"}]}, {\"c\": [{\"v\": \"Interact3\"}, {\"v\": \"GET\"}, {\"v\": 500}, {\"v\": \"2014-06-16T04:30:06.665069\"}]}, {\"c\": [{\"v\": \"Interact3\"}, {\"v\": \"GET\"}, {\"v\": 500}, {\"v\": \"2014-06-16T04:45:05.056332\"}]}], \"cols\": [{\"type\": \"string\", \"id\": \"endpoint\", \"label\": \"endpoint\"}, {\"type\": \"string\", \"id\": \"method\", \"label\": \"method\"}, {\"type\": \"number\", \"id\": \"status\", \"label\": \"status\"}, {\"type\": \"datetime\", \"id\": \"timestamp\", \"label\": \"timestamp\"}]});\n",
        "        }\n",
        "      );\n",
        "    </script>\n",
        "  "
       ],
       "metadata": {},
       "output_type": "pyout",
       "prompt_number": 4,
       "text": []
      }
     ],
     "prompt_number": 4
    },
    {
     "cell_type": "heading",
     "level": 1,
     "metadata": {},
     "source": [
      "Load"
     ]
    },
    {
     "cell_type": "markdown",
     "metadata": {},
     "source": [
      "Let us create a dataset in the current project. This is an idempotent operation and returns the dataset if it already exists."
     ]
    },
    {
     "cell_type": "code",
     "collapsed": false,
     "input": [
      "target_ds = bq.dataset('output').create()"
     ],
     "language": "python",
     "metadata": {},
     "outputs": [],
     "prompt_number": 5
    },
    {
     "cell_type": "markdown",
     "metadata": {},
     "source": [
      "A new dataset is created in the current project for the output. You can cross-check that using BigQuery console. Next step is to execute the log_transform query and directly load the results into a BigQuery table in the newly created dataset. For idempotence, we specify that the table should be overwritten if it exists. We use the execute_async method which returns a job that we then wait on."
     ]
    },
    {
     "cell_type": "code",
     "collapsed": false,
     "input": [
      "job = log_transform.execute_async('output.transformedlogs_20140616', table_mode='overwrite')\n",
      "job.wait()"
     ],
     "language": "python",
     "metadata": {},
     "outputs": [
      {
       "metadata": {},
       "output_type": "pyout",
       "prompt_number": 6,
       "text": [
        "Job job_MN6nB9xodXXKMdCkO4ETFJ9DoLA completed"
       ]
      }
     ],
     "prompt_number": 6
    },
    {
     "cell_type": "markdown",
     "metadata": {},
     "source": [
      "Job completion time will depend on how much data is being processed. The following check is important to run to see if there were any errors when running the job:"
     ]
    },
    {
     "cell_type": "code",
     "collapsed": false,
     "input": [
      "job.errors"
     ],
     "language": "python",
     "metadata": {},
     "outputs": [],
     "prompt_number": 7
    },
    {
     "cell_type": "code",
     "collapsed": false,
     "input": [
      "%%sql\n",
      "SELECT *\n",
      "FROM [output.transformedlogs_20140616]\n",
      "LIMIT 5"
     ],
     "language": "python",
     "metadata": {},
     "outputs": [
      {
       "html": [
        "\n",
        "    <div class=\"bqtv\" id=\"bqtv_1437415877\"></div>\n",
        "    <div><br />job_fWo375WsxffP7c7sep4FF9yannM<br />rows: 5</div>\n",
        "    <script>\n",
        "      require(['extensions/charting', 'element!bqtv_1437415877'],\n",
        "        function(charts, dom) {\n",
        "          charts.render(dom,\n",
        "            {\n",
        "              chartStyle:\"table\",\n",
        "              dataName:\"data-studio-team:_22cae82edc27e9be9a02c50fe9837efda6b0471d.anon0c05994c822e8f3ada9ddc954a5aa831da29766e\",\n",
        "              fields:\"endpoint,method,status,timestamp\",\n",
        "              totalRows:5,\n",
        "              rowsPerPage:25,\n",
        "            }, {}, {\"rows\": [{\"c\": [{\"v\": \"Interact3\"}, {\"v\": \"GET\"}, {\"v\": 500}, {\"v\": \"2014-06-16T23:20:31.672194\"}]}, {\"c\": [{\"v\": \"Interact3\"}, {\"v\": \"GET\"}, {\"v\": 500}, {\"v\": \"2014-06-16T23:20:31.729685\"}]}, {\"c\": [{\"v\": \"Interact3\"}, {\"v\": \"GET\"}, {\"v\": 403}, {\"v\": \"2014-06-16T23:20:31.844348\"}]}, {\"c\": [{\"v\": \"Interact3\"}, {\"v\": \"GET\"}, {\"v\": 500}, {\"v\": \"2014-06-16T23:20:31.961416\"}]}, {\"c\": [{\"v\": \"Interact3\"}, {\"v\": \"GET\"}, {\"v\": 500}, {\"v\": \"2014-06-16T23:20:32.645598\"}]}], \"cols\": [{\"type\": \"string\", \"id\": \"endpoint\", \"label\": \"endpoint\"}, {\"type\": \"string\", \"id\": \"method\", \"label\": \"method\"}, {\"type\": \"number\", \"id\": \"status\", \"label\": \"status\"}, {\"type\": \"datetime\", \"id\": \"timestamp\", \"label\": \"timestamp\"}]});\n",
        "        }\n",
        "      );\n",
        "    </script>\n",
        "  "
       ],
       "metadata": {},
       "output_type": "pyout",
       "prompt_number": 8,
       "text": []
      }
     ],
     "prompt_number": 8
    },
    {
     "cell_type": "code",
     "collapsed": false,
     "input": [],
     "language": "python",
     "metadata": {},
     "outputs": [],
     "prompt_number": 8
    }
   ],
   "metadata": {}
  }
 ]
}
