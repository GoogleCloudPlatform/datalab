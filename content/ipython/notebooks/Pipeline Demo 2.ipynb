{
 "metadata": {
  "name": "",
  "signature": "sha256:aa84545505de7cacfab11daa25148a1c028a60d5bd567028afac90103f646723"
 },
 "nbformat": 3,
 "nbformat_minor": 0,
 "worksheets": [
  {
   "cells": [
    {
     "cell_type": "markdown",
     "metadata": {},
     "source": [
      "In this notebook we will look at the changing popularity of 3rd party Javascript scripts that are loaded by web pages over the past five years."
     ]
    },
    {
     "cell_type": "code",
     "collapsed": false,
     "input": [
      "%%sql\n",
      "\n",
      "# Note: there is a long lead time for httparchive files to be uploaded so we end\n",
      "# at 3 months back.\n",
      "\n",
      "when1 = datestring(offset='-3m', format='%Y-%m-15')\n",
      "when2 = datestring(offset='-3m,-1y', format='%Y-%m-15')\n",
      "when3 = datestring(offset='-3m,-2y', format='%Y-%m-15')\n",
      "when4 = datestring(offset='-3m,-3y', format='%Y-%m-15')\n",
      "when5 = datestring(offset='-3m,-4y', format='%Y-%m-15')\n",
      "table1 = table(offset='-3m', format='httparchive:runs.%Y_%m_15_requests')\n",
      "table2 = table(offset='-3m,-1y', format='httparchive:runs.%Y_%m_15_requests')\n",
      "table3 = table(offset='-3m,-2y', format='httparchive:runs.%Y_%m_15_requests')\n",
      "table4 = table(offset='-3m,-3y', format='httparchive:runs.%Y_%m_15_requests')\n",
      "table5 = table(offset='-3m,-4y', format='httparchive:runs.%Y_%m_15_requests')\n",
      "\n",
      "DEFINE QUERY year1\n",
      "SELECT count(*) as num, url, $when1 as when\n",
      "FROM $table1\n",
      "WHERE resp_content_type contains 'script'\n",
      "GROUP EACH BY url\n",
      "ORDER BY num desc\n",
      "LIMIT 20\n",
      "\n",
      "DEFINE QUERY year2\n",
      "SELECT count(*) as num, url, $when2 as when\n",
      "FROM $table2\n",
      "WHERE resp_content_type contains 'script'\n",
      "GROUP EACH BY url\n",
      "ORDER BY num desc\n",
      "LIMIT 20\n",
      "\n",
      "DEFINE QUERY year3\n",
      "SELECT count(*) as num, url, $when3 as when\n",
      "FROM $table3\n",
      "WHERE resp_content_type contains 'script'\n",
      "GROUP EACH BY url\n",
      "ORDER BY num desc\n",
      "LIMIT 20\n",
      "\n",
      "DEFINE QUERY year4\n",
      "SELECT count(*) as num, url, $when4 as when\n",
      "FROM $table4\n",
      "WHERE resp_content_type contains 'script'\n",
      "GROUP EACH BY url\n",
      "ORDER BY num desc\n",
      "LIMIT 20\n",
      "\n",
      "DEFINE QUERY year5\n",
      "SELECT count(*) as num, url, $when5 as when\n",
      "FROM $table5\n",
      "WHERE resp_content_type contains 'script'\n",
      "GROUP EACH BY url\n",
      "ORDER BY num desc\n",
      "LIMIT 20\n",
      "\n",
      "DEFINE QUERY collected\n",
      "SELECT * FROM $year1, $year2, $year3, $year4, $year5\n"
     ],
     "language": "python",
     "metadata": {},
     "outputs": [],
     "prompt_number": 1
    },
    {
     "cell_type": "code",
     "collapsed": false,
     "input": [
      "%bigquery pipeline --sql collected"
     ],
     "language": "python",
     "metadata": {},
     "outputs": [
      {
       "output_type": "stream",
       "stream": "stdout",
       "text": [
        "\n",
        "SELECT * FROM (\n",
        "SELECT count(*) as num, url, \"2015-04-15\" as when\n",
        "FROM [httparchive:runs.2015_04_15_requests]\n",
        "WHERE resp_content_type contains 'script'\n",
        "GROUP EACH BY url\n",
        "ORDER BY num desc\n",
        "LIMIT 20), (\n",
        "SELECT count(*) as num, url, \"2014-04-15\" as when\n",
        "FROM [httparchive:runs.2014_04_15_requests]\n",
        "WHERE resp_content_type contains 'script'\n",
        "GROUP EACH BY url\n",
        "ORDER BY num desc\n",
        "LIMIT 20), (\n",
        "SELECT count(*) as num, url, \"2013-04-15\" as when\n",
        "FROM [httparchive:runs.2013_04_15_requests]\n",
        "WHERE resp_content_type contains 'script'\n",
        "GROUP EACH BY url\n",
        "ORDER BY num desc\n",
        "LIMIT 20), (\n",
        "SELECT count(*) as num, url, \"2012-04-15\" as when\n",
        "FROM [httparchive:runs.2012_04_15_requests]\n",
        "WHERE resp_content_type contains 'script'\n",
        "GROUP EACH BY url\n",
        "ORDER BY num desc\n",
        "LIMIT 20), (\n",
        "SELECT count(*) as num, url, \"2011-04-15\" as when\n",
        "FROM [httparchive:runs.2011_04_15_requests]\n",
        "WHERE resp_content_type contains 'script'\n",
        "GROUP EACH BY url\n",
        "ORDER BY num desc\n",
        "LIMIT 20)\n"
       ]
      }
     ],
     "prompt_number": 2
    },
    {
     "cell_type": "code",
     "collapsed": false,
     "input": [
      "%bigquery execute --sql collected"
     ],
     "language": "python",
     "metadata": {},
     "outputs": [
      {
       "html": [
        "\n",
        "    <div class=\"bqtv\" id=\"bqtv_1437001648\"></div>\n",
        "    <div><br />job_PNnH843OUOWisr51epG6cYEswO0<br />rows: 100</div>\n",
        "    <script>\n",
        "      require(['extensions/charting', 'element!bqtv_1437001648'],\n",
        "        function(charts, dom) {\n",
        "          charts.render(dom,\n",
        "            {\n",
        "              chartStyle:\"paged_table\",\n",
        "              dataName:\"data-studio-team:_22cae82edc27e9be9a02c50fe9837efda6b0471d.anon7c3cc84a02828ec6a996f38b2a0d1cb253eec05e\",\n",
        "              fields:\"num,url,when\",\n",
        "              totalRows:100,\n",
        "              rowsPerPage:25,\n",
        "            }, {}, {\"rows\": [{\"c\": [{\"v\": 166768}, {\"v\": \"http://www.google-analytics.com/ga.js\"}, {\"v\": \"2015-04-15\"}]}, {\"c\": [{\"v\": 151289}, {\"v\": \"http://www.google-analytics.com/analytics.js\"}, {\"v\": \"2015-04-15\"}]}, {\"c\": [{\"v\": 86712}, {\"v\": \"http://pagead2.googlesyndication.com/pagead/osd.js\"}, {\"v\": \"2015-04-15\"}]}, {\"c\": [{\"v\": 59000}, {\"v\": \"https://fbstatic-a.akamaihd.net/rsrc.php/v2/yS/r/k6qXII61hUG.js\"}, {\"v\": \"2015-04-15\"}]}, {\"c\": [{\"v\": 50898}, {\"v\": \"http://platform.twitter.com/widgets.js\"}, {\"v\": \"2015-04-15\"}]}, {\"c\": [{\"v\": 47737}, {\"v\": \"https://apis.google.com/js/plusone.js\"}, {\"v\": \"2015-04-15\"}]}, {\"c\": [{\"v\": 47029}, {\"v\": \"http://pagead2.googlesyndication.com/pagead/js/r20150414/r20150409/show_ads_impl.js\"}, {\"v\": \"2015-04-15\"}]}, {\"c\": [{\"v\": 45484}, {\"v\": \"https://apis.google.com/js/api.js\"}, {\"v\": \"2015-04-15\"}]}, {\"c\": [{\"v\": 45200}, {\"v\": \"https://oauth.googleusercontent.com/gadgets/js/core:rpc:shindig.random:shindig.sha1.js?c=2\"}, {\"v\": \"2015-04-15\"}]}, {\"c\": [{\"v\": 45190}, {\"v\": \"https://ssl.gstatic.com/accounts/o/3417060037-postmessagerelay.js\"}, {\"v\": \"2015-04-15\"}]}, {\"c\": [{\"v\": 45040}, {\"v\": \"http://pagead2.googlesyndication.com/pagead/js/adsbygoogle.js\"}, {\"v\": \"2015-04-15\"}]}, {\"c\": [{\"v\": 38973}, {\"v\": \"http://connect.facebook.net/en_US/all.js\"}, {\"v\": \"2015-04-15\"}]}, {\"c\": [{\"v\": 37758}, {\"v\": \"http://pagead2.googlesyndication.com/pagead/js/r20150414/r20110914/abg.js\"}, {\"v\": \"2015-04-15\"}]}, {\"c\": [{\"v\": 33781}, {\"v\": \"http://pagead2.googlesyndication.com/pagead/show_ads.js\"}, {\"v\": \"2015-04-15\"}]}, {\"c\": [{\"v\": 33435}, {\"v\": \"http://pagead2.googlesyndication.com/bg/PCb6tERU88CHX0nzKGusuyQApP2Rzb_4IwCcPQH29Wg.js\"}, {\"v\": \"2015-04-15\"}]}, {\"c\": [{\"v\": 31969}, {\"v\": \"http://www.googleadservices.com/pagead/conversion.js\"}, {\"v\": \"2015-04-15\"}]}, {\"c\": [{\"v\": 27783}, {\"v\": \"https://www.google.com/js/bg/PCb6tERU88CHX0nzKGusuyQApP2Rzb_4IwCcPQH29Wg.js\"}, {\"v\": \"2015-04-15\"}]}, {\"c\": [{\"v\": 25056}, {\"v\": \"http://www.googletagservices.com/tag/js/check_359604.js\"}, {\"v\": \"2015-04-15\"}]}, {\"c\": [{\"v\": 25031}, {\"v\": \"http://www.googletagservices.com/tag/js/gpt.js\"}, {\"v\": \"2015-04-15\"}]}, {\"c\": [{\"v\": 24922}, {\"v\": \"http://s7.addthis.com/js/300/addthis_widget.js\"}, {\"v\": \"2015-04-15\"}]}, {\"c\": [{\"v\": 146126}, {\"v\": \"http://www.google-analytics.com/ga.js\"}, {\"v\": \"2014-04-15\"}]}, {\"c\": [{\"v\": 55938}, {\"v\": \"http://pagead2.googlesyndication.com/pagead/osd.js\"}, {\"v\": \"2014-04-15\"}]}, {\"c\": [{\"v\": 41419}, {\"v\": \"http://static.ak.fbcdn.net/rsrc.php/v2/yA/r/Jm_VZH5sPlK.js\"}, {\"v\": \"2014-04-15\"}]}, {\"c\": [{\"v\": 41256}, {\"v\": \"http://pagead2.googlesyndication.com/pagead/expansion_embed.js\"}, {\"v\": \"2014-04-15\"}]}, {\"c\": [{\"v\": 40867}, {\"v\": \"https://apis.google.com/js/plusone.js\"}, {\"v\": \"2014-04-15\"}]}], \"cols\": [{\"type\": \"number\", \"id\": \"num\", \"label\": \"num\"}, {\"type\": \"string\", \"id\": \"url\", \"label\": \"url\"}, {\"type\": \"string\", \"id\": \"when\", \"label\": \"when\"}]});\n",
        "        }\n",
        "      );\n",
        "    </script>\n",
        "  "
       ],
       "metadata": {},
       "output_type": "pyout",
       "prompt_number": 3,
       "text": []
      }
     ],
     "prompt_number": 3
    }
   ],
   "metadata": {}
  }
 ]
}