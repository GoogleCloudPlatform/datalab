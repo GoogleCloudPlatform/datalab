{
 "metadata": {
  "name": "",
  "signature": "sha256:406603f7db2cedb6deb7dbb9c5ca47471b9fc62acc74ceef9ed4d072525bbf2e"
 },
 "nbformat": 3,
 "nbformat_minor": 0,
 "worksheets": [
  {
   "cells": [
    {
     "cell_type": "markdown",
     "metadata": {},
     "source": [
      "# BigQuery - Sample - Genomics\n",
      "\n",
      "This notebook demonstrates working with sample gene data stored as publicly accessible BigQuery datasets.\n",
      "\n",
      "### In this notebook you will\n",
      "\n",
      "* Explore genomics datasets available in BigQuery\n",
      "  * Personal Genome Project\n",
      "  * 1000 Genomes\n",
      "* Use the `%%sql` statement to write and execute SQL statements within the notebook\n",
      "* Extract data from BigQuery and create a local dataset that can be manipulated in Python\n",
      "* Refine and pivot your local dataset via the Pandas Python library\n",
      "* Visualize different aspects of your dataset via the Matplotlib Python library\n",
      "\n",
      "\n",
      "### Attribution\n",
      "This notebook is based on the [Google Genomics](https://cloud.google.com/genomics/) BigQuery examples here:\n",
      "* [Personal Genome Project](https://github.com/googlegenomics/bigquery-examples/tree/master/pgp)\n",
      "* [1000 Genomes](https://github.com/googlegenomics/bigquery-examples/tree/master/1000genomes/data-stories/exploring-the-phenotypic-data)\n",
      "\n",
      "----"
     ]
    },
    {
     "cell_type": "code",
     "collapsed": false,
     "input": [
      "import gcp.bigquery as bq"
     ],
     "language": "python",
     "metadata": {},
     "outputs": [],
     "prompt_number": 1
    },
    {
     "cell_type": "heading",
     "level": 1,
     "metadata": {},
     "source": [
      "Exploring the Personal Genome Project dataset"
     ]
    },
    {
     "cell_type": "markdown",
     "metadata": {},
     "source": [
      "First let's look at the table of phenotypes that we want to explore here. We can use the `gcp.bigquery` Python package to fetch the table schema. We can see a number of fields that provide details for a given participant's genome, such as the existence of certain diseases/conditions (e.g., has_Asthma) as well as the participant's heritage (e.g., Maternal_grandfather_Country_of_origin). "
     ]
    },
    {
     "cell_type": "code",
     "collapsed": false,
     "input": [
      "phenotypes = bq.table('google.com:biggene:pgp.phenotypes')\n",
      "phenotypes.schema"
     ],
     "language": "python",
     "metadata": {},
     "outputs": [
      {
       "html": [
        "\n",
        "    <div class=\"bqsv\" id=\"bqsv1430184393\"></div>\n",
        "    <script>\n",
        "      require(['style!/static/extensions/bigquery.css', 'extensions/bigquery', 'element!bqsv1430184393'],\n",
        "          function(_, bq, dom) {\n",
        "              bq.renderSchema(dom, [{\"type\": \"STRING\", \"name\": \"Participant\"}, {\"type\": \"STRING\", \"name\": \"Year_of_birth\"}, {\"type\": \"STRING\", \"name\": \"Which_statement_best_describes_you\"}, {\"type\": \"STRING\", \"name\": \"Severe_disease_or_rare_genetic_trait\"}, {\"type\": \"STRING\", \"name\": \"Disease_trait_Onset\"}, {\"type\": \"STRING\", \"name\": \"Disease_trait_Rarity\"}, {\"type\": \"STRING\", \"name\": \"Disease_trait_Severity\"}, {\"type\": \"STRING\", \"name\": \"Disease_trait_Relative_enrollment\"}, {\"type\": \"STRING\", \"name\": \"Disease_trait_Diagnosis\"}, {\"type\": \"STRING\", \"name\": \"Disease_trait_Genetic_confirmation\"}, {\"type\": \"STRING\", \"name\": \"Disease_trait_Documentation\"}, {\"type\": \"STRING\", \"name\": \"Sex_Gender\"}, {\"type\": \"STRING\", \"name\": \"Race_ethnicity\"}, {\"type\": \"STRING\", \"name\": \"Maternal_grandmother_Country_of_origin\"}, {\"type\": \"STRING\", \"name\": \"Paternal_grandmother_Country_of_origin\"}, {\"type\": \"STRING\", \"name\": \"Paternal_grandfather_Country_of_origin\"}, {\"type\": \"STRING\", \"name\": \"Maternal_grandfather_Country_of_origin\"}, {\"type\": \"STRING\", \"name\": \"Enrollment_of_relatives\"}, {\"type\": \"STRING\", \"name\": \"Enrollment_of_older_individuals\"}, {\"type\": \"STRING\", \"name\": \"Enrollment_of_parents\"}, {\"type\": \"STRING\", \"name\": \"Enrolled_relatives_Monozygotic_Identical_twins\"}, {\"type\": \"STRING\", \"name\": \"Enrolled_relatives_Parents\"}, {\"type\": \"STRING\", \"name\": \"Enrolled_relatives_Siblings_Fraternal_twins\"}, {\"type\": \"STRING\", \"name\": \"Enrolled_relatives_Children\"}, {\"type\": \"STRING\", \"name\": \"Enrolled_relatives_Grandparents\"}, {\"type\": \"BOOLEAN\", \"name\": \"Enrolled_relatives_Grandchildren\"}, {\"type\": \"STRING\", \"name\": \"Enrolled_relatives_Aunts_Uncles\"}, {\"type\": \"STRING\", \"name\": \"Enrolled_relatives_Nephews_Nieces\"}, {\"type\": \"BOOLEAN\", \"name\": \"Enrolled_relatives_Half_siblings\"}, {\"type\": \"STRING\", \"name\": \"Enrolled_relatives_Cousins_or_more_distant\"}, {\"type\": \"STRING\", \"name\": \"Enrolled_relatives_Not_genetically_related_e_g_husband_wife\"}, {\"type\": \"STRING\", \"name\": \"Are_all_your_enrolled_relatives_linked_to_your_PGP_profile\"}, {\"type\": \"STRING\", \"name\": \"Have_you_uploaded_genetic_data_to_your_PGP_participant_profile\"}, {\"type\": \"STRING\", \"name\": \"Have_you_used_the_PGP_web_interface_to_record_a_designated_proxy\"}, {\"type\": \"STRING\", \"name\": \"Have_you_uploaded_health_record_data_using_our_Google_Health_or_Microsoft_Healthvault_interfaces\"}, {\"type\": \"STRING\", \"name\": \"Uploaded_health_records_Update_status\"}, {\"type\": \"INTEGER\", \"name\": \"Uploaded_health_records_Extensiveness\"}, {\"type\": \"STRING\", \"name\": \"Blood_sample\"}, {\"type\": \"STRING\", \"name\": \"Saliva_sample\"}, {\"type\": \"STRING\", \"name\": \"Microbiome_samples\"}, {\"type\": \"STRING\", \"name\": \"Tissue_samples_from_surgery\"}, {\"type\": \"STRING\", \"name\": \"Tissue_samples_from_autopsy\"}, {\"type\": \"STRING\", \"name\": \"Month_of_birth\"}, {\"type\": \"STRING\", \"name\": \"Anatomical_sex_at_birth\"}, {\"type\": \"STRING\", \"name\": \"Maternal_grandmother_Race_ethnicity\"}, {\"type\": \"STRING\", \"name\": \"Maternal_grandfather_Race_ethnicity\"}, {\"type\": \"STRING\", \"name\": \"Paternal_grandmother_Race_ethnicity\"}, {\"type\": \"STRING\", \"name\": \"Paternal_grandfather_Race_ethnicity\"}, {\"type\": \"BOOLEAN\", \"name\": \"has_NA\"}, {\"type\": \"BOOLEAN\", \"name\": \"has_Sciatica\"}, {\"type\": \"BOOLEAN\", \"name\": \"has_Allergic_contact_dermatitis\"}, {\"type\": \"BOOLEAN\", \"name\": \"has_Urinary_tract_infection_UTI\"}, {\"type\": \"BOOLEAN\", \"name\": \"has_Endometriosis\"}, {\"type\": \"BOOLEAN\", \"name\": \"has_Ovarian_cysts\"}, {\"type\": \"BOOLEAN\", \"name\": \"has_Impacted_tooth\"}, {\"type\": \"BOOLEAN\", \"name\": \"has_Dental_cavities\"}, {\"type\": \"BOOLEAN\", \"name\": \"has_Gallstones\"}, {\"type\": \"BOOLEAN\", \"name\": \"has_Chronic_tonsillitis\"}, {\"type\": \"BOOLEAN\", \"name\": \"has_Allergic_rhinitis\"}, {\"type\": \"BOOLEAN\", \"name\": \"has_Asthma\"}, {\"type\": \"BOOLEAN\", \"name\": \"has_Hyperopia_Farsightedness\"}, {\"type\": \"BOOLEAN\", \"name\": \"has_Iron_deficiency_anemia\"}, {\"type\": \"BOOLEAN\", \"name\": \"has_Migraine_with_aura\"}, {\"type\": \"BOOLEAN\", \"name\": \"has_Lactose_intolerance\"}, {\"type\": \"BOOLEAN\", \"name\": \"has_Cervical_cancer\"}, {\"type\": \"BOOLEAN\", \"name\": \"has_Osteoarthritis\"}, {\"type\": \"BOOLEAN\", \"name\": \"has_Achilles_tendonitis\"}, {\"type\": \"BOOLEAN\", \"name\": \"has_Dandruff\"}, {\"type\": \"BOOLEAN\", \"name\": \"has_Keloids\"}, {\"type\": \"BOOLEAN\", \"name\": \"has_Skin_tags\"}, {\"type\": \"BOOLEAN\", \"name\": \"has_Gingivitis\"}, {\"type\": \"BOOLEAN\", \"name\": \"has_Temporomandibular_joint_TMJ_disorder\"}, {\"type\": \"BOOLEAN\", \"name\": \"has_Canker_sores_oral_ulcers\"}, {\"type\": \"BOOLEAN\", \"name\": \"has_Gastroesophageal_reflux_disease_GERD\"}, {\"type\": \"BOOLEAN\", \"name\": \"has_Hiatal_hernia\"}, {\"type\": \"BOOLEAN\", \"name\": \"has_Nonalcoholic_fatty_liver_disease_NAFLD\"}, {\"type\": \"BOOLEAN\", \"name\": \"has_Hypertension\"}, {\"type\": \"BOOLEAN\", \"name\": \"has_Hemorrhoids\"}, {\"type\": \"BOOLEAN\", \"name\": \"has_Meniere_s_disease\"}, {\"type\": \"BOOLEAN\", \"name\": \"has_Tinnitus\"}, {\"type\": \"BOOLEAN\", \"name\": \"has_High_triglycerides_hypertriglyceridemia\"}, {\"type\": \"BOOLEAN\", \"name\": \"has_Thyroid_nodule_s\"}, {\"type\": \"BOOLEAN\", \"name\": \"has_Hashimoto_s_thyroiditis\"}, {\"type\": \"BOOLEAN\", \"name\": \"has_Colon_polyps\"}, {\"type\": \"BOOLEAN\", \"name\": \"has_Scoliosis\"}, {\"type\": \"BOOLEAN\", \"name\": \"has_Lichen_planus\"}, {\"type\": \"BOOLEAN\", \"name\": \"has_Cafe_au_lait_spots\"}, {\"type\": \"BOOLEAN\", \"name\": \"has_Myopia_Nearsightedness\"}, {\"type\": \"BOOLEAN\", \"name\": \"has_Floaters\"}, {\"type\": \"BOOLEAN\", \"name\": \"has_Hypothyroidism\"}, {\"type\": \"BOOLEAN\", \"name\": \"has_High_cholesterol_hypercholesterolemia\"}, {\"type\": \"BOOLEAN\", \"name\": \"has_Presbyopia\"}, {\"type\": \"BOOLEAN\", \"name\": \"has_Trigger_finger\"}, {\"type\": \"BOOLEAN\", \"name\": \"has_Dupuytren_s_contracture\"}, {\"type\": \"BOOLEAN\", \"name\": \"has_Plantar_fasciitis\"}, {\"type\": \"BOOLEAN\", \"name\": \"has_Fibromyalgia\"}, {\"type\": \"BOOLEAN\", \"name\": \"has_Eczema\"}, {\"type\": \"BOOLEAN\", \"name\": \"has_Fibrocystic_breast_disease\"}, {\"type\": \"BOOLEAN\", \"name\": \"has_Premature_ventricular_contractions\"}, {\"type\": \"BOOLEAN\", \"name\": \"has_Cardiac_arrhythmia\"}, {\"type\": \"BOOLEAN\", \"name\": \"has_Restless_legs_syndrome\"}, {\"type\": \"BOOLEAN\", \"name\": \"has_Cluster_headaches\"}, {\"type\": \"BOOLEAN\", \"name\": \"has_Carpal_tunnel_syndrome\"}, {\"type\": \"BOOLEAN\", \"name\": \"has_Other_peripheral_neuropathy\"}, {\"type\": \"BOOLEAN\", \"name\": \"has_Uterine_fibroids\"}, {\"type\": \"BOOLEAN\", \"name\": \"has_Flatfeet\"}, {\"type\": \"BOOLEAN\", \"name\": \"has_Inguinal_hernia\"}, {\"type\": \"BOOLEAN\", \"name\": \"has_Age_related_hearing_loss\"}, {\"type\": \"BOOLEAN\", \"name\": \"has_Non_melanoma_skin_cancer\"}, {\"type\": \"BOOLEAN\", \"name\": \"has_Hair_loss_includes_female_and_male_pattern_baldness\"}, {\"type\": \"BOOLEAN\", \"name\": \"has_Acne\"}, {\"type\": \"BOOLEAN\", \"name\": \"has_Rosacea\"}, {\"type\": \"BOOLEAN\", \"name\": \"has_Geographic_tongue\"}, {\"type\": \"BOOLEAN\", \"name\": \"has_Irritable_bowel_syndrome_IBS\"}, {\"type\": \"BOOLEAN\", \"name\": \"has_Spinal_stenosis\"}, {\"type\": \"BOOLEAN\", \"name\": \"has_Kidney_stones\"}, {\"type\": \"BOOLEAN\", \"name\": \"has_Male_infertility\"}, {\"type\": \"BOOLEAN\", \"name\": \"has_Diverticulosis\"}, {\"type\": \"BOOLEAN\", \"name\": \"has_Deviated_septum\"}, {\"type\": \"BOOLEAN\", \"name\": \"has_Diabetes_mellitus\"}, {\"type\": \"BOOLEAN\", \"name\": \"has_type_2\"}, {\"type\": \"BOOLEAN\", \"name\": \"has_Astigmatism\"}, {\"type\": \"BOOLEAN\", \"name\": \"has_Peptic_ulcer_stomach_or_duodenum\"}, {\"type\": \"BOOLEAN\", \"name\": \"has_Appendicitis\"}, {\"type\": \"BOOLEAN\", \"name\": \"has_Age_related_cataract\"}, {\"type\": \"BOOLEAN\", \"name\": \"has_Bone_spurs\"}, {\"type\": \"BOOLEAN\", \"name\": \"has_Rheumatoid_arthritis\"}, {\"type\": \"BOOLEAN\", \"name\": \"has_Hemochromatosis\"}, {\"type\": \"BOOLEAN\", \"name\": \"has_Graves_disease\"}, {\"type\": \"BOOLEAN\", \"name\": \"has_Congenital_heart_defect\"}, {\"type\": \"BOOLEAN\", \"name\": \"has_Chronic_bronchitis\"}, {\"type\": \"BOOLEAN\", \"name\": \"has_Mitral_valve_prolapse\"}, {\"type\": \"BOOLEAN\", \"name\": \"has_Epilepsy\"}, {\"type\": \"BOOLEAN\", \"name\": \"has_Hemophilia\"}, {\"type\": \"BOOLEAN\", \"name\": \"has_Melanoma\"}, {\"type\": \"BOOLEAN\", \"name\": \"has_Chronic_liver_disease_and_cirrhosis\"}, {\"type\": \"BOOLEAN\", \"name\": \"has_Age_related_macular_degeneration\"}, {\"type\": \"BOOLEAN\", \"name\": \"has_Sensorineural_hearing_loss_or_congenital_deafness\"}, {\"type\": \"BOOLEAN\", \"name\": \"has_Hyperhidrosis_excessive_sweating\"}, {\"type\": \"BOOLEAN\", \"name\": \"has_Fissured_tongue\"}, {\"type\": \"BOOLEAN\", \"name\": \"has_Nasal_polyps\"}, {\"type\": \"BOOLEAN\", \"name\": \"has_Chronic_sinusitis\"}, {\"type\": \"BOOLEAN\", \"name\": \"has_Bunions\"}, {\"type\": \"BOOLEAN\", \"name\": \"has_Osteoporosis\"}, {\"type\": \"BOOLEAN\", \"name\": \"has_Strabismus\"}, {\"type\": \"BOOLEAN\", \"name\": \"has_Amyotrophic_lateral_sclerosis_ALS\"}, {\"type\": \"BOOLEAN\", \"name\": \"has_Frozen_shoulder\"}, {\"type\": \"BOOLEAN\", \"name\": \"has_Single_transverse_palmar_crease_simian_crease\"}, {\"type\": \"BOOLEAN\", \"name\": \"has_Dermatographia\"}, {\"type\": \"BOOLEAN\", \"name\": \"has_Rotator_cuff_tear\"}, {\"type\": \"BOOLEAN\", \"name\": \"has_Lipoma\"}, {\"type\": \"BOOLEAN\", \"name\": \"has_Polycystic_ovary_syndrome_PCOS\"}, {\"type\": \"BOOLEAN\", \"name\": \"has_Hereditary_motor_and_sensory_neuropathy_includes_Charcot_Marie_Tooth_disease_and_HNPP\"}, {\"type\": \"BOOLEAN\", \"name\": \"has_Varicose_veins\"}, {\"type\": \"BOOLEAN\", \"name\": \"has_Retinal_detachment\"}, {\"type\": \"BOOLEAN\", \"name\": \"has_Prostate_cancer\"}, {\"type\": \"BOOLEAN\", \"name\": \"has_Spermatocele\"}, {\"type\": \"BOOLEAN\", \"name\": \"has_Varicocele\"}, {\"type\": \"BOOLEAN\", \"name\": \"has_Essential_tremor\"}, {\"type\": \"BOOLEAN\", \"name\": \"has_Hereditary_thrombophilia_includes_Factor_V_Leiden_and_Prothrombin_G20210A\"}, {\"type\": \"BOOLEAN\", \"name\": \"has_Breast_cancer\"}, {\"type\": \"BOOLEAN\", \"name\": \"has_Celiac_disease\"}, {\"type\": \"BOOLEAN\", \"name\": \"has_Multiple_sclerosis_MS\"}, {\"type\": \"BOOLEAN\", \"name\": \"has_Migraine_without_aura\"}, {\"type\": \"BOOLEAN\", \"name\": \"has_Ehlers_Danlos_syndrome\"}, {\"type\": \"BOOLEAN\", \"name\": \"has_Bartholin_s_cyst\"}, {\"type\": \"BOOLEAN\", \"name\": \"has_Tennis_elbow\"}, {\"type\": \"BOOLEAN\", \"name\": \"has_Angina\"}, {\"type\": \"BOOLEAN\", \"name\": \"has_Atrial_fibrillation\"}, {\"type\": \"BOOLEAN\", \"name\": \"has_Idiopathic_thrombocytopenic_purpura_ITP\"}, {\"type\": \"BOOLEAN\", \"name\": \"has_Heart_block\"}, {\"type\": \"BOOLEAN\", \"name\": \"has_Pilonidal_cyst\"}, {\"type\": \"BOOLEAN\", \"name\": \"has_Psoriasis\"}, {\"type\": \"BOOLEAN\", \"name\": \"has_Bundle_branch_block\"}, {\"type\": \"BOOLEAN\", \"name\": \"has_Chondromalacia_patella_CMP\"}, {\"type\": \"BOOLEAN\", \"name\": \"has_Rectal_prolapse\"}, {\"type\": \"BOOLEAN\", \"name\": \"has_Raynaud_s_phenomenon\"}, {\"type\": \"BOOLEAN\", \"name\": \"has_Dry_eye_syndrome\"}, {\"type\": \"BOOLEAN\", \"name\": \"has_Other_thrombophilia_includes_antiphospholipid_syndrome\"}, {\"type\": \"BOOLEAN\", \"name\": \"has_Tongue_tie_ankyloglossia\"}, {\"type\": \"BOOLEAN\", \"name\": \"has_Marfan_syndrome\"}, {\"type\": \"BOOLEAN\", \"name\": \"has_Color_blindness\"}, {\"type\": \"BOOLEAN\", \"name\": \"has_Breast_fibroadenoma\"}, {\"type\": \"BOOLEAN\", \"name\": \"has_Crohn_s_disease\"}, {\"type\": \"BOOLEAN\", \"name\": \"has_Thyroid_cancer\"}, {\"type\": \"BOOLEAN\", \"name\": \"has_Non_Hodgkin_lymphoma\"}, {\"type\": \"BOOLEAN\", \"name\": \"has_Female_infertility\"}, {\"type\": \"BOOLEAN\", \"name\": \"has_Sjogren_s_syndrome_Sicca_syndrome\"}, {\"type\": \"BOOLEAN\", \"name\": \"has_Benign_prostatic_hypertrophy_BPH\"}, {\"type\": \"BOOLEAN\", \"name\": \"has_Osgood_Schlatter_disease\"}, {\"type\": \"BOOLEAN\", \"name\": \"has_Postural_kyphosis\"}, {\"type\": \"BOOLEAN\", \"name\": \"has_Parkinson_s_disease\"}, {\"type\": \"BOOLEAN\", \"name\": \"has_Narcolepsy\"}, {\"type\": \"BOOLEAN\", \"name\": \"has_Pernicious_anemia_a_k_a_Addison_Biermer_anemia\"}, {\"type\": \"BOOLEAN\", \"name\": \"has_Trigeminal_neuralgia\"}, {\"type\": \"BOOLEAN\", \"name\": \"has_Non_Celiac_Gluten_Sensitivity\"}, {\"type\": \"BOOLEAN\", \"name\": \"has_Gout\"}, {\"type\": \"BOOLEAN\", \"name\": \"has_Deep_vein_thrombosis_DVT\"}, {\"type\": \"BOOLEAN\", \"name\": \"has_Hereditary_hemorrhagic_telangiectasia_also_known_as_Osler_Weber_Rendu_syndrome\"}, {\"type\": \"BOOLEAN\", \"name\": \"has_Ulcerative_colitis\"}, {\"type\": \"BOOLEAN\", \"name\": \"has_Polydactyly\"}, {\"type\": \"BOOLEAN\", \"name\": \"has_Uterine_prolapse\"}, {\"type\": \"BOOLEAN\", \"name\": \"has_Gilbert_syndrome\"}, {\"type\": \"BOOLEAN\", \"name\": \"has_Spina_bifida\"}, {\"type\": \"BOOLEAN\", \"name\": \"has_Long_QT_Syndrome\"}, {\"type\": \"BOOLEAN\", \"name\": \"has_type_1\"}, {\"type\": \"BOOLEAN\", \"name\": \"has_Myocardial_infarction_heart_attack\"}, {\"type\": \"BOOLEAN\", \"name\": \"has_Congestive_heart_failure\"}, {\"type\": \"BOOLEAN\", \"name\": \"has_Glaucoma\"}, {\"type\": \"BOOLEAN\", \"name\": \"has_Chronic_tension_headaches_15_days_per_month\"}, {\"type\": \"BOOLEAN\", \"name\": \"has_at_least_6_months\"}, {\"type\": \"BOOLEAN\", \"name\": \"has_Barrett_s_esophagus\"}, {\"type\": \"BOOLEAN\", \"name\": \"has_Peyronie_s_disease\"}, {\"type\": \"BOOLEAN\", \"name\": \"has_Diabetic_retinopathy\"}, {\"type\": \"BOOLEAN\", \"name\": \"has_Lung_cancer\"}, {\"type\": \"BOOLEAN\", \"name\": \"has_Acute_liver_failure\"}, {\"type\": \"BOOLEAN\", \"name\": \"has_Sick_sinus_syndrome_includes_tachy_brady_syndrome\"}, {\"type\": \"BOOLEAN\", \"name\": \"has_Traumatic_cataract\"}, {\"type\": \"BOOLEAN\", \"name\": \"has_Hypospadias\"}, {\"type\": \"BOOLEAN\", \"name\": \"has_Stomach_cancer\"}, {\"type\": \"BOOLEAN\", \"name\": \"has_Colon_cancer\"}, {\"type\": \"BOOLEAN\", \"name\": \"has_Rectal_cancer\"}, {\"type\": \"BOOLEAN\", \"name\": \"has_Pancreatic_cancer\"}, {\"type\": \"BOOLEAN\", \"name\": \"has_Endometrial_cancer\"}, {\"type\": \"BOOLEAN\", \"name\": \"has_Ovarian_cancer\"}, {\"type\": \"BOOLEAN\", \"name\": \"has_Bladder_cancer\"}, {\"type\": \"BOOLEAN\", \"name\": \"has_Kidney_cancer\"}, {\"type\": \"BOOLEAN\", \"name\": \"has_Leukemia\"}, {\"type\": \"BOOLEAN\", \"name\": \"has_Polycythemia_vera\"}, {\"type\": \"BOOLEAN\", \"name\": \"has_Essential_thrombocythemia\"}, {\"type\": \"BOOLEAN\", \"name\": \"has_Neurofibromatosis\"}, {\"type\": \"BOOLEAN\", \"name\": \"has_Brain_cancer\"}, {\"type\": \"BOOLEAN\", \"name\": \"has_Wolff_Parkinson_White_WPW_Syndrome\"}, {\"type\": \"BOOLEAN\", \"name\": \"has_Cleft_palate\"}, {\"type\": \"BOOLEAN\", \"name\": \"has_Recurrent_sleep_paralysis\"}, {\"type\": \"BOOLEAN\", \"name\": \"has_Folate_deficiency_anemia\"}, {\"type\": \"BOOLEAN\", \"name\": \"has_Syndactyly_webbing_of_digits\"}, {\"type\": \"BOOLEAN\", \"name\": \"has_Alopecia_areata\"}, {\"type\": \"BOOLEAN\", \"name\": \"has_Scheuermann_s_kyphosis\"}, {\"type\": \"BOOLEAN\", \"name\": \"has_Bell_s_palsy\"}, {\"type\": \"BOOLEAN\", \"name\": \"has_Growth_hormone_deficiency\"}, {\"type\": \"BOOLEAN\", \"name\": \"has_Pulmonary_embolism\"}, {\"type\": \"BOOLEAN\", \"name\": \"has_Other_cardiomyopathy_including_ARVD\"}, {\"type\": \"BOOLEAN\", \"name\": \"has_Von_Willebrand_disease\"}, {\"type\": \"BOOLEAN\", \"name\": \"has_Polycystic_kidney_disease\"}, {\"type\": \"BOOLEAN\", \"name\": \"has_Stroke\"}, {\"type\": \"BOOLEAN\", \"name\": \"has_Acute_kidney_failure\"}, {\"type\": \"BOOLEAN\", \"name\": \"has_Otosclerosis\"}, {\"type\": \"BOOLEAN\", \"name\": \"has_Lupus\"}, {\"type\": \"BOOLEAN\", \"name\": \"has_Arnold_Chiari_malformation\"}, {\"type\": \"BOOLEAN\", \"name\": \"has_Congenital_nystagmus\"}, {\"type\": \"BOOLEAN\", \"name\": \"has_Emphysema\"}, {\"type\": \"BOOLEAN\", \"name\": \"has_Chronic_Obstructive_Pulmonary_Disease_COPD\"}, {\"type\": \"BOOLEAN\", \"name\": \"has_Congenital_clubfoot_equinovarus\"}, {\"type\": \"BOOLEAN\", \"name\": \"has_Alpha_1_antitrypsin_deficiency\"}, {\"type\": \"BOOLEAN\", \"name\": \"has_Sickle_cell_trait_carrier\"}, {\"type\": \"BOOLEAN\", \"name\": \"has_Infantile\"}, {\"type\": \"BOOLEAN\", \"name\": \"has_juvenile\"}, {\"type\": \"BOOLEAN\", \"name\": \"has_and_presenile_cataract\"}, {\"type\": \"BOOLEAN\", \"name\": \"has_Huntington_s_disease\"}, {\"type\": \"BOOLEAN\", \"name\": \"has_Porphyria\"}, {\"type\": \"BOOLEAN\", \"name\": \"has_Hidradenitis_suppurativa\"}, {\"type\": \"BOOLEAN\", \"name\": \"has_Aortic_aneurysm\"}, {\"type\": \"BOOLEAN\", \"name\": \"has_Dilated_cardiomyopathy\"}, {\"type\": \"BOOLEAN\", \"name\": \"has_Urethral_diverticulum\"}, {\"type\": \"BOOLEAN\", \"name\": \"has_Diverticulitis_Urinary_Tract\"}, {\"type\": \"BOOLEAN\", \"name\": \"has_Hypertrophic_cardiomyopathy\"}, {\"type\": \"BOOLEAN\", \"name\": \"has_Keratoconus\"}, {\"type\": \"BOOLEAN\", \"name\": \"has_Central_serous_retinopathy\"}, {\"type\": \"BOOLEAN\", \"name\": \"has_Developmental_dysplasia_of_the_hip\"}, {\"type\": \"BOOLEAN\", \"name\": \"has_Retinitis_pigmentosa\"}, {\"type\": \"BOOLEAN\", \"name\": \"has_Cleft_uvula\"}, {\"type\": \"BOOLEAN\", \"name\": \"has_Muscular_dystrophy\"}, {\"type\": \"BOOLEAN\", \"name\": \"has_Congenital_ichthyosis\"}, {\"type\": \"BOOLEAN\", \"name\": \"has_Autoimmune_hemolytic_anemia\"}, {\"type\": \"BOOLEAN\", \"name\": \"has_Infantile_pyloric_stenosis\"}, {\"type\": \"BOOLEAN\", \"name\": \"has_Hypertensive_retinopathy\"}, {\"type\": \"BOOLEAN\", \"name\": \"has_G6PD_deficiency\"}, {\"type\": \"BOOLEAN\", \"name\": \"has_Other_aneurysm\"}, {\"type\": \"BOOLEAN\", \"name\": \"has_Congenital_hydronephrosis\"}]);\n",
        "          }\n",
        "      );\n",
        "    </script>\n",
        "    "
       ],
       "metadata": {},
       "output_type": "pyout",
       "prompt_number": 2,
       "text": [
        "[{ 'name': 'Participant', 'type': 'STRING', 'mode':'None', 'description': 'None' },\n",
        " { 'name': 'Year_of_birth', 'type': 'STRING', 'mode':'None', 'description': 'None' },\n",
        " { 'name': 'Which_statement_best_describes_you', 'type': 'STRING', 'mode':'None', 'description': 'None' },\n",
        " { 'name': 'Severe_disease_or_rare_genetic_trait', 'type': 'STRING', 'mode':'None', 'description': 'None' },\n",
        " { 'name': 'Disease_trait_Onset', 'type': 'STRING', 'mode':'None', 'description': 'None' },\n",
        " { 'name': 'Disease_trait_Rarity', 'type': 'STRING', 'mode':'None', 'description': 'None' },\n",
        " { 'name': 'Disease_trait_Severity', 'type': 'STRING', 'mode':'None', 'description': 'None' },\n",
        " { 'name': 'Disease_trait_Relative_enrollment', 'type': 'STRING', 'mode':'None', 'description': 'None' },\n",
        " { 'name': 'Disease_trait_Diagnosis', 'type': 'STRING', 'mode':'None', 'description': 'None' },\n",
        " { 'name': 'Disease_trait_Genetic_confirmation', 'type': 'STRING', 'mode':'None', 'description': 'None' },\n",
        " { 'name': 'Disease_trait_Documentation', 'type': 'STRING', 'mode':'None', 'description': 'None' },\n",
        " { 'name': 'Sex_Gender', 'type': 'STRING', 'mode':'None', 'description': 'None' },\n",
        " { 'name': 'Race_ethnicity', 'type': 'STRING', 'mode':'None', 'description': 'None' },\n",
        " { 'name': 'Maternal_grandmother_Country_of_origin', 'type': 'STRING', 'mode':'None', 'description': 'None' },\n",
        " { 'name': 'Paternal_grandmother_Country_of_origin', 'type': 'STRING', 'mode':'None', 'description': 'None' },\n",
        " { 'name': 'Paternal_grandfather_Country_of_origin', 'type': 'STRING', 'mode':'None', 'description': 'None' },\n",
        " { 'name': 'Maternal_grandfather_Country_of_origin', 'type': 'STRING', 'mode':'None', 'description': 'None' },\n",
        " { 'name': 'Enrollment_of_relatives', 'type': 'STRING', 'mode':'None', 'description': 'None' },\n",
        " { 'name': 'Enrollment_of_older_individuals', 'type': 'STRING', 'mode':'None', 'description': 'None' },\n",
        " { 'name': 'Enrollment_of_parents', 'type': 'STRING', 'mode':'None', 'description': 'None' },\n",
        " { 'name': 'Enrolled_relatives_Monozygotic_Identical_twins', 'type': 'STRING', 'mode':'None', 'description': 'None' },\n",
        " { 'name': 'Enrolled_relatives_Parents', 'type': 'STRING', 'mode':'None', 'description': 'None' },\n",
        " { 'name': 'Enrolled_relatives_Siblings_Fraternal_twins', 'type': 'STRING', 'mode':'None', 'description': 'None' },\n",
        " { 'name': 'Enrolled_relatives_Children', 'type': 'STRING', 'mode':'None', 'description': 'None' },\n",
        " { 'name': 'Enrolled_relatives_Grandparents', 'type': 'STRING', 'mode':'None', 'description': 'None' },\n",
        " { 'name': 'Enrolled_relatives_Grandchildren', 'type': 'BOOLEAN', 'mode':'None', 'description': 'None' },\n",
        " { 'name': 'Enrolled_relatives_Aunts_Uncles', 'type': 'STRING', 'mode':'None', 'description': 'None' },\n",
        " { 'name': 'Enrolled_relatives_Nephews_Nieces', 'type': 'STRING', 'mode':'None', 'description': 'None' },\n",
        " { 'name': 'Enrolled_relatives_Half_siblings', 'type': 'BOOLEAN', 'mode':'None', 'description': 'None' },\n",
        " { 'name': 'Enrolled_relatives_Cousins_or_more_distant', 'type': 'STRING', 'mode':'None', 'description': 'None' },\n",
        " { 'name': 'Enrolled_relatives_Not_genetically_related_e_g_husband_wife', 'type': 'STRING', 'mode':'None', 'description': 'None' },\n",
        " { 'name': 'Are_all_your_enrolled_relatives_linked_to_your_PGP_profile', 'type': 'STRING', 'mode':'None', 'description': 'None' },\n",
        " { 'name': 'Have_you_uploaded_genetic_data_to_your_PGP_participant_profile', 'type': 'STRING', 'mode':'None', 'description': 'None' },\n",
        " { 'name': 'Have_you_used_the_PGP_web_interface_to_record_a_designated_proxy', 'type': 'STRING', 'mode':'None', 'description': 'None' },\n",
        " { 'name': 'Have_you_uploaded_health_record_data_using_our_Google_Health_or_Microsoft_Healthvault_interfaces', 'type': 'STRING', 'mode':'None', 'description': 'None' },\n",
        " { 'name': 'Uploaded_health_records_Update_status', 'type': 'STRING', 'mode':'None', 'description': 'None' },\n",
        " { 'name': 'Uploaded_health_records_Extensiveness', 'type': 'INTEGER', 'mode':'None', 'description': 'None' },\n",
        " { 'name': 'Blood_sample', 'type': 'STRING', 'mode':'None', 'description': 'None' },\n",
        " { 'name': 'Saliva_sample', 'type': 'STRING', 'mode':'None', 'description': 'None' },\n",
        " { 'name': 'Microbiome_samples', 'type': 'STRING', 'mode':'None', 'description': 'None' },\n",
        " { 'name': 'Tissue_samples_from_surgery', 'type': 'STRING', 'mode':'None', 'description': 'None' },\n",
        " { 'name': 'Tissue_samples_from_autopsy', 'type': 'STRING', 'mode':'None', 'description': 'None' },\n",
        " { 'name': 'Month_of_birth', 'type': 'STRING', 'mode':'None', 'description': 'None' },\n",
        " { 'name': 'Anatomical_sex_at_birth', 'type': 'STRING', 'mode':'None', 'description': 'None' },\n",
        " { 'name': 'Maternal_grandmother_Race_ethnicity', 'type': 'STRING', 'mode':'None', 'description': 'None' },\n",
        " { 'name': 'Maternal_grandfather_Race_ethnicity', 'type': 'STRING', 'mode':'None', 'description': 'None' },\n",
        " { 'name': 'Paternal_grandmother_Race_ethnicity', 'type': 'STRING', 'mode':'None', 'description': 'None' },\n",
        " { 'name': 'Paternal_grandfather_Race_ethnicity', 'type': 'STRING', 'mode':'None', 'description': 'None' },\n",
        " { 'name': 'has_NA', 'type': 'BOOLEAN', 'mode':'None', 'description': 'None' },\n",
        " { 'name': 'has_Sciatica', 'type': 'BOOLEAN', 'mode':'None', 'description': 'None' },\n",
        " { 'name': 'has_Allergic_contact_dermatitis', 'type': 'BOOLEAN', 'mode':'None', 'description': 'None' },\n",
        " { 'name': 'has_Urinary_tract_infection_UTI', 'type': 'BOOLEAN', 'mode':'None', 'description': 'None' },\n",
        " { 'name': 'has_Endometriosis', 'type': 'BOOLEAN', 'mode':'None', 'description': 'None' },\n",
        " { 'name': 'has_Ovarian_cysts', 'type': 'BOOLEAN', 'mode':'None', 'description': 'None' },\n",
        " { 'name': 'has_Impacted_tooth', 'type': 'BOOLEAN', 'mode':'None', 'description': 'None' },\n",
        " { 'name': 'has_Dental_cavities', 'type': 'BOOLEAN', 'mode':'None', 'description': 'None' },\n",
        " { 'name': 'has_Gallstones', 'type': 'BOOLEAN', 'mode':'None', 'description': 'None' },\n",
        " { 'name': 'has_Chronic_tonsillitis', 'type': 'BOOLEAN', 'mode':'None', 'description': 'None' },\n",
        " { 'name': 'has_Allergic_rhinitis', 'type': 'BOOLEAN', 'mode':'None', 'description': 'None' },\n",
        " { 'name': 'has_Asthma', 'type': 'BOOLEAN', 'mode':'None', 'description': 'None' },\n",
        " { 'name': 'has_Hyperopia_Farsightedness', 'type': 'BOOLEAN', 'mode':'None', 'description': 'None' },\n",
        " { 'name': 'has_Iron_deficiency_anemia', 'type': 'BOOLEAN', 'mode':'None', 'description': 'None' },\n",
        " { 'name': 'has_Migraine_with_aura', 'type': 'BOOLEAN', 'mode':'None', 'description': 'None' },\n",
        " { 'name': 'has_Lactose_intolerance', 'type': 'BOOLEAN', 'mode':'None', 'description': 'None' },\n",
        " { 'name': 'has_Cervical_cancer', 'type': 'BOOLEAN', 'mode':'None', 'description': 'None' },\n",
        " { 'name': 'has_Osteoarthritis', 'type': 'BOOLEAN', 'mode':'None', 'description': 'None' },\n",
        " { 'name': 'has_Achilles_tendonitis', 'type': 'BOOLEAN', 'mode':'None', 'description': 'None' },\n",
        " { 'name': 'has_Dandruff', 'type': 'BOOLEAN', 'mode':'None', 'description': 'None' },\n",
        " { 'name': 'has_Keloids', 'type': 'BOOLEAN', 'mode':'None', 'description': 'None' },\n",
        " { 'name': 'has_Skin_tags', 'type': 'BOOLEAN', 'mode':'None', 'description': 'None' },\n",
        " { 'name': 'has_Gingivitis', 'type': 'BOOLEAN', 'mode':'None', 'description': 'None' },\n",
        " { 'name': 'has_Temporomandibular_joint_TMJ_disorder', 'type': 'BOOLEAN', 'mode':'None', 'description': 'None' },\n",
        " { 'name': 'has_Canker_sores_oral_ulcers', 'type': 'BOOLEAN', 'mode':'None', 'description': 'None' },\n",
        " { 'name': 'has_Gastroesophageal_reflux_disease_GERD', 'type': 'BOOLEAN', 'mode':'None', 'description': 'None' },\n",
        " { 'name': 'has_Hiatal_hernia', 'type': 'BOOLEAN', 'mode':'None', 'description': 'None' },\n",
        " { 'name': 'has_Nonalcoholic_fatty_liver_disease_NAFLD', 'type': 'BOOLEAN', 'mode':'None', 'description': 'None' },\n",
        " { 'name': 'has_Hypertension', 'type': 'BOOLEAN', 'mode':'None', 'description': 'None' },\n",
        " { 'name': 'has_Hemorrhoids', 'type': 'BOOLEAN', 'mode':'None', 'description': 'None' },\n",
        " { 'name': 'has_Meniere_s_disease', 'type': 'BOOLEAN', 'mode':'None', 'description': 'None' },\n",
        " { 'name': 'has_Tinnitus', 'type': 'BOOLEAN', 'mode':'None', 'description': 'None' },\n",
        " { 'name': 'has_High_triglycerides_hypertriglyceridemia', 'type': 'BOOLEAN', 'mode':'None', 'description': 'None' },\n",
        " { 'name': 'has_Thyroid_nodule_s', 'type': 'BOOLEAN', 'mode':'None', 'description': 'None' },\n",
        " { 'name': 'has_Hashimoto_s_thyroiditis', 'type': 'BOOLEAN', 'mode':'None', 'description': 'None' },\n",
        " { 'name': 'has_Colon_polyps', 'type': 'BOOLEAN', 'mode':'None', 'description': 'None' },\n",
        " { 'name': 'has_Scoliosis', 'type': 'BOOLEAN', 'mode':'None', 'description': 'None' },\n",
        " { 'name': 'has_Lichen_planus', 'type': 'BOOLEAN', 'mode':'None', 'description': 'None' },\n",
        " { 'name': 'has_Cafe_au_lait_spots', 'type': 'BOOLEAN', 'mode':'None', 'description': 'None' },\n",
        " { 'name': 'has_Myopia_Nearsightedness', 'type': 'BOOLEAN', 'mode':'None', 'description': 'None' },\n",
        " { 'name': 'has_Floaters', 'type': 'BOOLEAN', 'mode':'None', 'description': 'None' },\n",
        " { 'name': 'has_Hypothyroidism', 'type': 'BOOLEAN', 'mode':'None', 'description': 'None' },\n",
        " { 'name': 'has_High_cholesterol_hypercholesterolemia', 'type': 'BOOLEAN', 'mode':'None', 'description': 'None' },\n",
        " { 'name': 'has_Presbyopia', 'type': 'BOOLEAN', 'mode':'None', 'description': 'None' },\n",
        " { 'name': 'has_Trigger_finger', 'type': 'BOOLEAN', 'mode':'None', 'description': 'None' },\n",
        " { 'name': 'has_Dupuytren_s_contracture', 'type': 'BOOLEAN', 'mode':'None', 'description': 'None' },\n",
        " { 'name': 'has_Plantar_fasciitis', 'type': 'BOOLEAN', 'mode':'None', 'description': 'None' },\n",
        " { 'name': 'has_Fibromyalgia', 'type': 'BOOLEAN', 'mode':'None', 'description': 'None' },\n",
        " { 'name': 'has_Eczema', 'type': 'BOOLEAN', 'mode':'None', 'description': 'None' },\n",
        " { 'name': 'has_Fibrocystic_breast_disease', 'type': 'BOOLEAN', 'mode':'None', 'description': 'None' },\n",
        " { 'name': 'has_Premature_ventricular_contractions', 'type': 'BOOLEAN', 'mode':'None', 'description': 'None' },\n",
        " { 'name': 'has_Cardiac_arrhythmia', 'type': 'BOOLEAN', 'mode':'None', 'description': 'None' },\n",
        " { 'name': 'has_Restless_legs_syndrome', 'type': 'BOOLEAN', 'mode':'None', 'description': 'None' },\n",
        " { 'name': 'has_Cluster_headaches', 'type': 'BOOLEAN', 'mode':'None', 'description': 'None' },\n",
        " { 'name': 'has_Carpal_tunnel_syndrome', 'type': 'BOOLEAN', 'mode':'None', 'description': 'None' },\n",
        " { 'name': 'has_Other_peripheral_neuropathy', 'type': 'BOOLEAN', 'mode':'None', 'description': 'None' },\n",
        " { 'name': 'has_Uterine_fibroids', 'type': 'BOOLEAN', 'mode':'None', 'description': 'None' },\n",
        " { 'name': 'has_Flatfeet', 'type': 'BOOLEAN', 'mode':'None', 'description': 'None' },\n",
        " { 'name': 'has_Inguinal_hernia', 'type': 'BOOLEAN', 'mode':'None', 'description': 'None' },\n",
        " { 'name': 'has_Age_related_hearing_loss', 'type': 'BOOLEAN', 'mode':'None', 'description': 'None' },\n",
        " { 'name': 'has_Non_melanoma_skin_cancer', 'type': 'BOOLEAN', 'mode':'None', 'description': 'None' },\n",
        " { 'name': 'has_Hair_loss_includes_female_and_male_pattern_baldness', 'type': 'BOOLEAN', 'mode':'None', 'description': 'None' },\n",
        " { 'name': 'has_Acne', 'type': 'BOOLEAN', 'mode':'None', 'description': 'None' },\n",
        " { 'name': 'has_Rosacea', 'type': 'BOOLEAN', 'mode':'None', 'description': 'None' },\n",
        " { 'name': 'has_Geographic_tongue', 'type': 'BOOLEAN', 'mode':'None', 'description': 'None' },\n",
        " { 'name': 'has_Irritable_bowel_syndrome_IBS', 'type': 'BOOLEAN', 'mode':'None', 'description': 'None' },\n",
        " { 'name': 'has_Spinal_stenosis', 'type': 'BOOLEAN', 'mode':'None', 'description': 'None' },\n",
        " { 'name': 'has_Kidney_stones', 'type': 'BOOLEAN', 'mode':'None', 'description': 'None' },\n",
        " { 'name': 'has_Male_infertility', 'type': 'BOOLEAN', 'mode':'None', 'description': 'None' },\n",
        " { 'name': 'has_Diverticulosis', 'type': 'BOOLEAN', 'mode':'None', 'description': 'None' },\n",
        " { 'name': 'has_Deviated_septum', 'type': 'BOOLEAN', 'mode':'None', 'description': 'None' },\n",
        " { 'name': 'has_Diabetes_mellitus', 'type': 'BOOLEAN', 'mode':'None', 'description': 'None' },\n",
        " { 'name': 'has_type_2', 'type': 'BOOLEAN', 'mode':'None', 'description': 'None' },\n",
        " { 'name': 'has_Astigmatism', 'type': 'BOOLEAN', 'mode':'None', 'description': 'None' },\n",
        " { 'name': 'has_Peptic_ulcer_stomach_or_duodenum', 'type': 'BOOLEAN', 'mode':'None', 'description': 'None' },\n",
        " { 'name': 'has_Appendicitis', 'type': 'BOOLEAN', 'mode':'None', 'description': 'None' },\n",
        " { 'name': 'has_Age_related_cataract', 'type': 'BOOLEAN', 'mode':'None', 'description': 'None' },\n",
        " { 'name': 'has_Bone_spurs', 'type': 'BOOLEAN', 'mode':'None', 'description': 'None' },\n",
        " { 'name': 'has_Rheumatoid_arthritis', 'type': 'BOOLEAN', 'mode':'None', 'description': 'None' },\n",
        " { 'name': 'has_Hemochromatosis', 'type': 'BOOLEAN', 'mode':'None', 'description': 'None' },\n",
        " { 'name': 'has_Graves_disease', 'type': 'BOOLEAN', 'mode':'None', 'description': 'None' },\n",
        " { 'name': 'has_Congenital_heart_defect', 'type': 'BOOLEAN', 'mode':'None', 'description': 'None' },\n",
        " { 'name': 'has_Chronic_bronchitis', 'type': 'BOOLEAN', 'mode':'None', 'description': 'None' },\n",
        " { 'name': 'has_Mitral_valve_prolapse', 'type': 'BOOLEAN', 'mode':'None', 'description': 'None' },\n",
        " { 'name': 'has_Epilepsy', 'type': 'BOOLEAN', 'mode':'None', 'description': 'None' },\n",
        " { 'name': 'has_Hemophilia', 'type': 'BOOLEAN', 'mode':'None', 'description': 'None' },\n",
        " { 'name': 'has_Melanoma', 'type': 'BOOLEAN', 'mode':'None', 'description': 'None' },\n",
        " { 'name': 'has_Chronic_liver_disease_and_cirrhosis', 'type': 'BOOLEAN', 'mode':'None', 'description': 'None' },\n",
        " { 'name': 'has_Age_related_macular_degeneration', 'type': 'BOOLEAN', 'mode':'None', 'description': 'None' },\n",
        " { 'name': 'has_Sensorineural_hearing_loss_or_congenital_deafness', 'type': 'BOOLEAN', 'mode':'None', 'description': 'None' },\n",
        " { 'name': 'has_Hyperhidrosis_excessive_sweating', 'type': 'BOOLEAN', 'mode':'None', 'description': 'None' },\n",
        " { 'name': 'has_Fissured_tongue', 'type': 'BOOLEAN', 'mode':'None', 'description': 'None' },\n",
        " { 'name': 'has_Nasal_polyps', 'type': 'BOOLEAN', 'mode':'None', 'description': 'None' },\n",
        " { 'name': 'has_Chronic_sinusitis', 'type': 'BOOLEAN', 'mode':'None', 'description': 'None' },\n",
        " { 'name': 'has_Bunions', 'type': 'BOOLEAN', 'mode':'None', 'description': 'None' },\n",
        " { 'name': 'has_Osteoporosis', 'type': 'BOOLEAN', 'mode':'None', 'description': 'None' },\n",
        " { 'name': 'has_Strabismus', 'type': 'BOOLEAN', 'mode':'None', 'description': 'None' },\n",
        " { 'name': 'has_Amyotrophic_lateral_sclerosis_ALS', 'type': 'BOOLEAN', 'mode':'None', 'description': 'None' },\n",
        " { 'name': 'has_Frozen_shoulder', 'type': 'BOOLEAN', 'mode':'None', 'description': 'None' },\n",
        " { 'name': 'has_Single_transverse_palmar_crease_simian_crease', 'type': 'BOOLEAN', 'mode':'None', 'description': 'None' },\n",
        " { 'name': 'has_Dermatographia', 'type': 'BOOLEAN', 'mode':'None', 'description': 'None' },\n",
        " { 'name': 'has_Rotator_cuff_tear', 'type': 'BOOLEAN', 'mode':'None', 'description': 'None' },\n",
        " { 'name': 'has_Lipoma', 'type': 'BOOLEAN', 'mode':'None', 'description': 'None' },\n",
        " { 'name': 'has_Polycystic_ovary_syndrome_PCOS', 'type': 'BOOLEAN', 'mode':'None', 'description': 'None' },\n",
        " { 'name': 'has_Hereditary_motor_and_sensory_neuropathy_includes_Charcot_Marie_Tooth_disease_and_HNPP', 'type': 'BOOLEAN', 'mode':'None', 'description': 'None' },\n",
        " { 'name': 'has_Varicose_veins', 'type': 'BOOLEAN', 'mode':'None', 'description': 'None' },\n",
        " { 'name': 'has_Retinal_detachment', 'type': 'BOOLEAN', 'mode':'None', 'description': 'None' },\n",
        " { 'name': 'has_Prostate_cancer', 'type': 'BOOLEAN', 'mode':'None', 'description': 'None' },\n",
        " { 'name': 'has_Spermatocele', 'type': 'BOOLEAN', 'mode':'None', 'description': 'None' },\n",
        " { 'name': 'has_Varicocele', 'type': 'BOOLEAN', 'mode':'None', 'description': 'None' },\n",
        " { 'name': 'has_Essential_tremor', 'type': 'BOOLEAN', 'mode':'None', 'description': 'None' },\n",
        " { 'name': 'has_Hereditary_thrombophilia_includes_Factor_V_Leiden_and_Prothrombin_G20210A', 'type': 'BOOLEAN', 'mode':'None', 'description': 'None' },\n",
        " { 'name': 'has_Breast_cancer', 'type': 'BOOLEAN', 'mode':'None', 'description': 'None' },\n",
        " { 'name': 'has_Celiac_disease', 'type': 'BOOLEAN', 'mode':'None', 'description': 'None' },\n",
        " { 'name': 'has_Multiple_sclerosis_MS', 'type': 'BOOLEAN', 'mode':'None', 'description': 'None' },\n",
        " { 'name': 'has_Migraine_without_aura', 'type': 'BOOLEAN', 'mode':'None', 'description': 'None' },\n",
        " { 'name': 'has_Ehlers_Danlos_syndrome', 'type': 'BOOLEAN', 'mode':'None', 'description': 'None' },\n",
        " { 'name': 'has_Bartholin_s_cyst', 'type': 'BOOLEAN', 'mode':'None', 'description': 'None' },\n",
        " { 'name': 'has_Tennis_elbow', 'type': 'BOOLEAN', 'mode':'None', 'description': 'None' },\n",
        " { 'name': 'has_Angina', 'type': 'BOOLEAN', 'mode':'None', 'description': 'None' },\n",
        " { 'name': 'has_Atrial_fibrillation', 'type': 'BOOLEAN', 'mode':'None', 'description': 'None' },\n",
        " { 'name': 'has_Idiopathic_thrombocytopenic_purpura_ITP', 'type': 'BOOLEAN', 'mode':'None', 'description': 'None' },\n",
        " { 'name': 'has_Heart_block', 'type': 'BOOLEAN', 'mode':'None', 'description': 'None' },\n",
        " { 'name': 'has_Pilonidal_cyst', 'type': 'BOOLEAN', 'mode':'None', 'description': 'None' },\n",
        " { 'name': 'has_Psoriasis', 'type': 'BOOLEAN', 'mode':'None', 'description': 'None' },\n",
        " { 'name': 'has_Bundle_branch_block', 'type': 'BOOLEAN', 'mode':'None', 'description': 'None' },\n",
        " { 'name': 'has_Chondromalacia_patella_CMP', 'type': 'BOOLEAN', 'mode':'None', 'description': 'None' },\n",
        " { 'name': 'has_Rectal_prolapse', 'type': 'BOOLEAN', 'mode':'None', 'description': 'None' },\n",
        " { 'name': 'has_Raynaud_s_phenomenon', 'type': 'BOOLEAN', 'mode':'None', 'description': 'None' },\n",
        " { 'name': 'has_Dry_eye_syndrome', 'type': 'BOOLEAN', 'mode':'None', 'description': 'None' },\n",
        " { 'name': 'has_Other_thrombophilia_includes_antiphospholipid_syndrome', 'type': 'BOOLEAN', 'mode':'None', 'description': 'None' },\n",
        " { 'name': 'has_Tongue_tie_ankyloglossia', 'type': 'BOOLEAN', 'mode':'None', 'description': 'None' },\n",
        " { 'name': 'has_Marfan_syndrome', 'type': 'BOOLEAN', 'mode':'None', 'description': 'None' },\n",
        " { 'name': 'has_Color_blindness', 'type': 'BOOLEAN', 'mode':'None', 'description': 'None' },\n",
        " { 'name': 'has_Breast_fibroadenoma', 'type': 'BOOLEAN', 'mode':'None', 'description': 'None' },\n",
        " { 'name': 'has_Crohn_s_disease', 'type': 'BOOLEAN', 'mode':'None', 'description': 'None' },\n",
        " { 'name': 'has_Thyroid_cancer', 'type': 'BOOLEAN', 'mode':'None', 'description': 'None' },\n",
        " { 'name': 'has_Non_Hodgkin_lymphoma', 'type': 'BOOLEAN', 'mode':'None', 'description': 'None' },\n",
        " { 'name': 'has_Female_infertility', 'type': 'BOOLEAN', 'mode':'None', 'description': 'None' },\n",
        " { 'name': 'has_Sjogren_s_syndrome_Sicca_syndrome', 'type': 'BOOLEAN', 'mode':'None', 'description': 'None' },\n",
        " { 'name': 'has_Benign_prostatic_hypertrophy_BPH', 'type': 'BOOLEAN', 'mode':'None', 'description': 'None' },\n",
        " { 'name': 'has_Osgood_Schlatter_disease', 'type': 'BOOLEAN', 'mode':'None', 'description': 'None' },\n",
        " { 'name': 'has_Postural_kyphosis', 'type': 'BOOLEAN', 'mode':'None', 'description': 'None' },\n",
        " { 'name': 'has_Parkinson_s_disease', 'type': 'BOOLEAN', 'mode':'None', 'description': 'None' },\n",
        " { 'name': 'has_Narcolepsy', 'type': 'BOOLEAN', 'mode':'None', 'description': 'None' },\n",
        " { 'name': 'has_Pernicious_anemia_a_k_a_Addison_Biermer_anemia', 'type': 'BOOLEAN', 'mode':'None', 'description': 'None' },\n",
        " { 'name': 'has_Trigeminal_neuralgia', 'type': 'BOOLEAN', 'mode':'None', 'description': 'None' },\n",
        " { 'name': 'has_Non_Celiac_Gluten_Sensitivity', 'type': 'BOOLEAN', 'mode':'None', 'description': 'None' },\n",
        " { 'name': 'has_Gout', 'type': 'BOOLEAN', 'mode':'None', 'description': 'None' },\n",
        " { 'name': 'has_Deep_vein_thrombosis_DVT', 'type': 'BOOLEAN', 'mode':'None', 'description': 'None' },\n",
        " { 'name': 'has_Hereditary_hemorrhagic_telangiectasia_also_known_as_Osler_Weber_Rendu_syndrome', 'type': 'BOOLEAN', 'mode':'None', 'description': 'None' },\n",
        " { 'name': 'has_Ulcerative_colitis', 'type': 'BOOLEAN', 'mode':'None', 'description': 'None' },\n",
        " { 'name': 'has_Polydactyly', 'type': 'BOOLEAN', 'mode':'None', 'description': 'None' },\n",
        " { 'name': 'has_Uterine_prolapse', 'type': 'BOOLEAN', 'mode':'None', 'description': 'None' },\n",
        " { 'name': 'has_Gilbert_syndrome', 'type': 'BOOLEAN', 'mode':'None', 'description': 'None' },\n",
        " { 'name': 'has_Spina_bifida', 'type': 'BOOLEAN', 'mode':'None', 'description': 'None' },\n",
        " { 'name': 'has_Long_QT_Syndrome', 'type': 'BOOLEAN', 'mode':'None', 'description': 'None' },\n",
        " { 'name': 'has_type_1', 'type': 'BOOLEAN', 'mode':'None', 'description': 'None' },\n",
        " { 'name': 'has_Myocardial_infarction_heart_attack', 'type': 'BOOLEAN', 'mode':'None', 'description': 'None' },\n",
        " { 'name': 'has_Congestive_heart_failure', 'type': 'BOOLEAN', 'mode':'None', 'description': 'None' },\n",
        " { 'name': 'has_Glaucoma', 'type': 'BOOLEAN', 'mode':'None', 'description': 'None' },\n",
        " { 'name': 'has_Chronic_tension_headaches_15_days_per_month', 'type': 'BOOLEAN', 'mode':'None', 'description': 'None' },\n",
        " { 'name': 'has_at_least_6_months', 'type': 'BOOLEAN', 'mode':'None', 'description': 'None' },\n",
        " { 'name': 'has_Barrett_s_esophagus', 'type': 'BOOLEAN', 'mode':'None', 'description': 'None' },\n",
        " { 'name': 'has_Peyronie_s_disease', 'type': 'BOOLEAN', 'mode':'None', 'description': 'None' },\n",
        " { 'name': 'has_Diabetic_retinopathy', 'type': 'BOOLEAN', 'mode':'None', 'description': 'None' },\n",
        " { 'name': 'has_Lung_cancer', 'type': 'BOOLEAN', 'mode':'None', 'description': 'None' },\n",
        " { 'name': 'has_Acute_liver_failure', 'type': 'BOOLEAN', 'mode':'None', 'description': 'None' },\n",
        " { 'name': 'has_Sick_sinus_syndrome_includes_tachy_brady_syndrome', 'type': 'BOOLEAN', 'mode':'None', 'description': 'None' },\n",
        " { 'name': 'has_Traumatic_cataract', 'type': 'BOOLEAN', 'mode':'None', 'description': 'None' },\n",
        " { 'name': 'has_Hypospadias', 'type': 'BOOLEAN', 'mode':'None', 'description': 'None' },\n",
        " { 'name': 'has_Stomach_cancer', 'type': 'BOOLEAN', 'mode':'None', 'description': 'None' },\n",
        " { 'name': 'has_Colon_cancer', 'type': 'BOOLEAN', 'mode':'None', 'description': 'None' },\n",
        " { 'name': 'has_Rectal_cancer', 'type': 'BOOLEAN', 'mode':'None', 'description': 'None' },\n",
        " { 'name': 'has_Pancreatic_cancer', 'type': 'BOOLEAN', 'mode':'None', 'description': 'None' },\n",
        " { 'name': 'has_Endometrial_cancer', 'type': 'BOOLEAN', 'mode':'None', 'description': 'None' },\n",
        " { 'name': 'has_Ovarian_cancer', 'type': 'BOOLEAN', 'mode':'None', 'description': 'None' },\n",
        " { 'name': 'has_Bladder_cancer', 'type': 'BOOLEAN', 'mode':'None', 'description': 'None' },\n",
        " { 'name': 'has_Kidney_cancer', 'type': 'BOOLEAN', 'mode':'None', 'description': 'None' },\n",
        " { 'name': 'has_Leukemia', 'type': 'BOOLEAN', 'mode':'None', 'description': 'None' },\n",
        " { 'name': 'has_Polycythemia_vera', 'type': 'BOOLEAN', 'mode':'None', 'description': 'None' },\n",
        " { 'name': 'has_Essential_thrombocythemia', 'type': 'BOOLEAN', 'mode':'None', 'description': 'None' },\n",
        " { 'name': 'has_Neurofibromatosis', 'type': 'BOOLEAN', 'mode':'None', 'description': 'None' },\n",
        " { 'name': 'has_Brain_cancer', 'type': 'BOOLEAN', 'mode':'None', 'description': 'None' },\n",
        " { 'name': 'has_Wolff_Parkinson_White_WPW_Syndrome', 'type': 'BOOLEAN', 'mode':'None', 'description': 'None' },\n",
        " { 'name': 'has_Cleft_palate', 'type': 'BOOLEAN', 'mode':'None', 'description': 'None' },\n",
        " { 'name': 'has_Recurrent_sleep_paralysis', 'type': 'BOOLEAN', 'mode':'None', 'description': 'None' },\n",
        " { 'name': 'has_Folate_deficiency_anemia', 'type': 'BOOLEAN', 'mode':'None', 'description': 'None' },\n",
        " { 'name': 'has_Syndactyly_webbing_of_digits', 'type': 'BOOLEAN', 'mode':'None', 'description': 'None' },\n",
        " { 'name': 'has_Alopecia_areata', 'type': 'BOOLEAN', 'mode':'None', 'description': 'None' },\n",
        " { 'name': 'has_Scheuermann_s_kyphosis', 'type': 'BOOLEAN', 'mode':'None', 'description': 'None' },\n",
        " { 'name': 'has_Bell_s_palsy', 'type': 'BOOLEAN', 'mode':'None', 'description': 'None' },\n",
        " { 'name': 'has_Growth_hormone_deficiency', 'type': 'BOOLEAN', 'mode':'None', 'description': 'None' },\n",
        " { 'name': 'has_Pulmonary_embolism', 'type': 'BOOLEAN', 'mode':'None', 'description': 'None' },\n",
        " { 'name': 'has_Other_cardiomyopathy_including_ARVD', 'type': 'BOOLEAN', 'mode':'None', 'description': 'None' },\n",
        " { 'name': 'has_Von_Willebrand_disease', 'type': 'BOOLEAN', 'mode':'None', 'description': 'None' },\n",
        " { 'name': 'has_Polycystic_kidney_disease', 'type': 'BOOLEAN', 'mode':'None', 'description': 'None' },\n",
        " { 'name': 'has_Stroke', 'type': 'BOOLEAN', 'mode':'None', 'description': 'None' },\n",
        " { 'name': 'has_Acute_kidney_failure', 'type': 'BOOLEAN', 'mode':'None', 'description': 'None' },\n",
        " { 'name': 'has_Otosclerosis', 'type': 'BOOLEAN', 'mode':'None', 'description': 'None' },\n",
        " { 'name': 'has_Lupus', 'type': 'BOOLEAN', 'mode':'None', 'description': 'None' },\n",
        " { 'name': 'has_Arnold_Chiari_malformation', 'type': 'BOOLEAN', 'mode':'None', 'description': 'None' },\n",
        " { 'name': 'has_Congenital_nystagmus', 'type': 'BOOLEAN', 'mode':'None', 'description': 'None' },\n",
        " { 'name': 'has_Emphysema', 'type': 'BOOLEAN', 'mode':'None', 'description': 'None' },\n",
        " { 'name': 'has_Chronic_Obstructive_Pulmonary_Disease_COPD', 'type': 'BOOLEAN', 'mode':'None', 'description': 'None' },\n",
        " { 'name': 'has_Congenital_clubfoot_equinovarus', 'type': 'BOOLEAN', 'mode':'None', 'description': 'None' },\n",
        " { 'name': 'has_Alpha_1_antitrypsin_deficiency', 'type': 'BOOLEAN', 'mode':'None', 'description': 'None' },\n",
        " { 'name': 'has_Sickle_cell_trait_carrier', 'type': 'BOOLEAN', 'mode':'None', 'description': 'None' },\n",
        " { 'name': 'has_Infantile', 'type': 'BOOLEAN', 'mode':'None', 'description': 'None' },\n",
        " { 'name': 'has_juvenile', 'type': 'BOOLEAN', 'mode':'None', 'description': 'None' },\n",
        " { 'name': 'has_and_presenile_cataract', 'type': 'BOOLEAN', 'mode':'None', 'description': 'None' },\n",
        " { 'name': 'has_Huntington_s_disease', 'type': 'BOOLEAN', 'mode':'None', 'description': 'None' },\n",
        " { 'name': 'has_Porphyria', 'type': 'BOOLEAN', 'mode':'None', 'description': 'None' },\n",
        " { 'name': 'has_Hidradenitis_suppurativa', 'type': 'BOOLEAN', 'mode':'None', 'description': 'None' },\n",
        " { 'name': 'has_Aortic_aneurysm', 'type': 'BOOLEAN', 'mode':'None', 'description': 'None' },\n",
        " { 'name': 'has_Dilated_cardiomyopathy', 'type': 'BOOLEAN', 'mode':'None', 'description': 'None' },\n",
        " { 'name': 'has_Urethral_diverticulum', 'type': 'BOOLEAN', 'mode':'None', 'description': 'None' },\n",
        " { 'name': 'has_Diverticulitis_Urinary_Tract', 'type': 'BOOLEAN', 'mode':'None', 'description': 'None' },\n",
        " { 'name': 'has_Hypertrophic_cardiomyopathy', 'type': 'BOOLEAN', 'mode':'None', 'description': 'None' },\n",
        " { 'name': 'has_Keratoconus', 'type': 'BOOLEAN', 'mode':'None', 'description': 'None' },\n",
        " { 'name': 'has_Central_serous_retinopathy', 'type': 'BOOLEAN', 'mode':'None', 'description': 'None' },\n",
        " { 'name': 'has_Developmental_dysplasia_of_the_hip', 'type': 'BOOLEAN', 'mode':'None', 'description': 'None' },\n",
        " { 'name': 'has_Retinitis_pigmentosa', 'type': 'BOOLEAN', 'mode':'None', 'description': 'None' },\n",
        " { 'name': 'has_Cleft_uvula', 'type': 'BOOLEAN', 'mode':'None', 'description': 'None' },\n",
        " { 'name': 'has_Muscular_dystrophy', 'type': 'BOOLEAN', 'mode':'None', 'description': 'None' },\n",
        " { 'name': 'has_Congenital_ichthyosis', 'type': 'BOOLEAN', 'mode':'None', 'description': 'None' },\n",
        " { 'name': 'has_Autoimmune_hemolytic_anemia', 'type': 'BOOLEAN', 'mode':'None', 'description': 'None' },\n",
        " { 'name': 'has_Infantile_pyloric_stenosis', 'type': 'BOOLEAN', 'mode':'None', 'description': 'None' },\n",
        " { 'name': 'has_Hypertensive_retinopathy', 'type': 'BOOLEAN', 'mode':'None', 'description': 'None' },\n",
        " { 'name': 'has_G6PD_deficiency', 'type': 'BOOLEAN', 'mode':'None', 'description': 'None' },\n",
        " { 'name': 'has_Other_aneurysm', 'type': 'BOOLEAN', 'mode':'None', 'description': 'None' },\n",
        " { 'name': 'has_Congenital_hydronephrosis', 'type': 'BOOLEAN', 'mode':'None', 'description': 'None' }]"
       ]
      }
     ],
     "prompt_number": 2
    },
    {
     "cell_type": "markdown",
     "metadata": {},
     "source": [
      "Let's look at a few rows from the table for a few phenotype attributes of interest."
     ]
    },
    {
     "cell_type": "code",
     "collapsed": false,
     "input": [
      "phenotypes.sample(fields=['Participant',\n",
      "                          'Sex_Gender',\n",
      "                          'Year_of_birth',\n",
      "                          'Maternal_grandmother_Country_of_origin',\n",
      "                          'Maternal_grandfather_Country_of_origin'])"
     ],
     "language": "python",
     "metadata": {},
     "outputs": [
      {
       "html": [
        "\n",
        "    <div class=\"bqtv\" id=\"bqtv_1430184395\"></div>\n",
        "    <div><br />job_rwg8ZIXnOTkc-wKAjImr4g7syRw<br />rows: 5</div>\n",
        "    <script>\n",
        "      require(['extensions/charting', 'element!bqtv_1430184395'],\n",
        "        function(charts, dom) {\n",
        "          charts.render(dom,\n",
        "            {\n",
        "              chartStyle:\"paged_table\",\n",
        "              dataName:\"data-studio-team:_0f12c412eb711017d36608a6e719813fc6aa536e.anonc607c500cedf90a8b1cd0982425ff53a098b9e2e\",\n",
        "              fields:\"Participant,Sex_Gender,Year_of_birth,Maternal_grandmother_Country_of_origin,Maternal_grandfather_Country_of_origin\",\n",
        "              totalRows:5,\n",
        "              rowsPerPage:25,\n",
        "            }, {}, {\"rows\": [{\"c\": [{\"v\": \"huBFBBD8\"}, {\"v\": \"Male\"}, {\"v\": \"1973\"}, {\"v\": \"United States\"}, {\"v\": \"United States\"}]}, {\"c\": [{\"v\": \"hu5880D9\"}, {\"v\": \"Female\"}, {\"v\": \"1986\"}, {\"v\": \"United States\"}, {\"v\": \"United States\"}]}, {\"c\": [{\"v\": \"hu9367D1\"}, {\"v\": \"Male\"}, {\"v\": \"1987\"}, {\"v\": \"Poland\"}, {\"v\": \"Austria\"}]}, {\"c\": [{\"v\": \"hu57850F\"}, {\"v\": \"Female\"}, {\"v\": \"1960\"}, {\"v\": \"United States\"}, {\"v\": \"United States\"}]}, {\"c\": [{\"v\": \"hu1069B0\"}, {\"v\": \"Female\"}, {\"v\": null}, {\"v\": \"China\"}, {\"v\": \"China\"}]}], \"cols\": [{\"type\": \"string\", \"id\": \"Participant\", \"label\": \"Participant\"}, {\"type\": \"string\", \"id\": \"Sex_Gender\", \"label\": \"Sex_Gender\"}, {\"type\": \"string\", \"id\": \"Year_of_birth\", \"label\": \"Year_of_birth\"}, {\"type\": \"string\", \"id\": \"Maternal_grandmother_Country_of_origin\", \"label\": \"Maternal_grandmother_Country_of_origin\"}, {\"type\": \"string\", \"id\": \"Maternal_grandfather_Country_of_origin\", \"label\": \"Maternal_grandfather_Country_of_origin\"}]});\n",
        "        }\n",
        "      );\n",
        "    </script>\n",
        "  "
       ],
       "metadata": {},
       "output_type": "pyout",
       "prompt_number": 3,
       "text": []
      }
     ],
     "prompt_number": 3
    },
    {
     "cell_type": "heading",
     "level": 2,
     "metadata": {},
     "source": [
      "Querying"
     ]
    },
    {
     "cell_type": "markdown",
     "metadata": {},
     "source": [
      "Let's dig further into the phenotypes table and get some statistics on the occurrence of asthma among the participants present within the dataset. The `%%sql` statement allows us to write SQL within our notebook and execute it within BigQuery."
     ]
    },
    {
     "cell_type": "code",
     "collapsed": false,
     "input": [
      "%%sql --name asthma\n",
      "SELECT Participant,\n",
      "       IFNULL(Sex_Gender, 'Unknown') AS gender,\n",
      "       IF(has_Asthma IS NULL, 0, 1) AS has_asthma\n",
      "FROM $phenotypes"
     ],
     "language": "python",
     "metadata": {},
     "outputs": [],
     "prompt_number": 4
    },
    {
     "cell_type": "markdown",
     "metadata": {},
     "source": [
      "Our query is now stored in a variable called `asthma`. We can execute the query (by sending to BigQuery) by calling `asthma.results()`.  Additionally, let's convert the results to a [Pandas dataframe](http://pandas.pydata.org/pandas-docs/dev/generated/pandas.DataFrame.html) and display just the first 5 rows from the results."
     ]
    },
    {
     "cell_type": "code",
     "collapsed": false,
     "input": [
      "asthma.results().to_dataframe()[:5]"
     ],
     "language": "python",
     "metadata": {},
     "outputs": [
      {
       "html": [
        "<div style=\"max-height:1000px;max-width:1500px;overflow:auto;\">\n",
        "<table border=\"1\" class=\"dataframe\">\n",
        "  <thead>\n",
        "    <tr style=\"text-align: right;\">\n",
        "      <th></th>\n",
        "      <th>Participant</th>\n",
        "      <th>gender</th>\n",
        "      <th>has_asthma</th>\n",
        "    </tr>\n",
        "  </thead>\n",
        "  <tbody>\n",
        "    <tr>\n",
        "      <th>0</th>\n",
        "      <td> huBFBBD8</td>\n",
        "      <td>   Male</td>\n",
        "      <td> 0</td>\n",
        "    </tr>\n",
        "    <tr>\n",
        "      <th>1</th>\n",
        "      <td> hu5880D9</td>\n",
        "      <td> Female</td>\n",
        "      <td> 0</td>\n",
        "    </tr>\n",
        "    <tr>\n",
        "      <th>2</th>\n",
        "      <td> hu9367D1</td>\n",
        "      <td>   Male</td>\n",
        "      <td> 0</td>\n",
        "    </tr>\n",
        "    <tr>\n",
        "      <th>3</th>\n",
        "      <td> hu57850F</td>\n",
        "      <td> Female</td>\n",
        "      <td> 0</td>\n",
        "    </tr>\n",
        "    <tr>\n",
        "      <th>4</th>\n",
        "      <td> hu1069B0</td>\n",
        "      <td> Female</td>\n",
        "      <td> 0</td>\n",
        "    </tr>\n",
        "  </tbody>\n",
        "</table>\n",
        "</div>"
       ],
       "metadata": {},
       "output_type": "pyout",
       "prompt_number": 5,
       "text": [
        "  Participant  gender  has_asthma\n",
        "0    huBFBBD8    Male           0\n",
        "1    hu5880D9  Female           0\n",
        "2    hu9367D1    Male           0\n",
        "3    hu57850F  Female           0\n",
        "4    hu1069B0  Female           0"
       ]
      }
     ],
     "prompt_number": 5
    },
    {
     "cell_type": "heading",
     "level": 3,
     "metadata": {},
     "source": [
      "Composing Queries"
     ]
    },
    {
     "cell_type": "markdown",
     "metadata": {},
     "source": [
      "Now that we've seen the structure of the rows generated by our `$asthma` query, let's summarize the results by computing the percentage of the overall dataset having asthma. We can accomplish this by nesting our previous query within an outer `SELECT` statement. The `%%sql` statement allows us to embed our previous `$asthma` query like so:"
     ]
    },
    {
     "cell_type": "code",
     "collapsed": false,
     "input": [
      "%%sql\n",
      "SELECT ROUND(AVG(has_asthma) * 100, 2) AS percent_has_asthma FROM $asthma"
     ],
     "language": "python",
     "metadata": {},
     "outputs": [
      {
       "html": [
        "\n",
        "    <div class=\"bqtv\" id=\"bqtv_1430184401\"></div>\n",
        "    <div><br />job_dyO-YdPwXYospBraP_ExMweJMoo<br />rows: 1</div>\n",
        "    <script>\n",
        "      require(['extensions/charting', 'element!bqtv_1430184401'],\n",
        "        function(charts, dom) {\n",
        "          charts.render(dom,\n",
        "            {\n",
        "              chartStyle:\"paged_table\",\n",
        "              dataName:\"data-studio-team:_0f12c412eb711017d36608a6e719813fc6aa536e.anon55b82c3201465f42b11be4c7b416918786791f36\",\n",
        "              fields:\"percent_has_asthma\",\n",
        "              totalRows:1,\n",
        "              rowsPerPage:25,\n",
        "            }, {}, {\"rows\": [{\"c\": [{\"v\": 9.1}]}], \"cols\": [{\"type\": \"number\", \"id\": \"percent_has_asthma\", \"label\": \"percent_has_asthma\"}]});\n",
        "        }\n",
        "      );\n",
        "    </script>\n",
        "  "
       ],
       "metadata": {},
       "output_type": "pyout",
       "prompt_number": 6,
       "text": []
      }
     ],
     "prompt_number": 6
    },
    {
     "cell_type": "markdown",
     "metadata": {},
     "source": [
      "Notice the reference to the previous query we defined via the `$asthma` placeholder. The resulting query is a nested SQL statement.  We can see the full, nested query that was generated:"
     ]
    },
    {
     "cell_type": "code",
     "collapsed": false,
     "input": [
      "print asthma.sql"
     ],
     "language": "python",
     "metadata": {},
     "outputs": [
      {
       "output_type": "stream",
       "stream": "stdout",
       "text": [
        "SELECT Participant,\n",
        "       IFNULL(Sex_Gender, 'Unknown') AS gender,\n",
        "       IF(has_Asthma IS NULL, 0, 1) AS has_asthma\n",
        "FROM [google.com:biggene:pgp.phenotypes]\n"
       ]
      }
     ],
     "prompt_number": 7
    },
    {
     "cell_type": "markdown",
     "metadata": {},
     "source": [
      "This is handy because we can build up our large, complex query one piece at a time and validate that the intermediate results we're getting along the way.\n",
      "\n",
      "Let's further refine our `$asthma` query and compute the average occurrence broken down by gender this time."
     ]
    },
    {
     "cell_type": "code",
     "collapsed": false,
     "input": [
      "%%sql\n",
      "SELECT gender,\n",
      "       ROUND(AVG(has_asthma) * 100, 2) AS percent_has_asthma\n",
      "FROM $asthma\n",
      "GROUP BY gender"
     ],
     "language": "python",
     "metadata": {},
     "outputs": [
      {
       "html": [
        "\n",
        "    <div class=\"bqtv\" id=\"bqtv_1430184403\"></div>\n",
        "    <div><br />job_1zdc89vgnxmVBVJRN0ltZZI3KSI<br />rows: 4</div>\n",
        "    <script>\n",
        "      require(['extensions/charting', 'element!bqtv_1430184403'],\n",
        "        function(charts, dom) {\n",
        "          charts.render(dom,\n",
        "            {\n",
        "              chartStyle:\"paged_table\",\n",
        "              dataName:\"data-studio-team:_0f12c412eb711017d36608a6e719813fc6aa536e.anon3f45d3e9ae55fb11259d476a183947efe41348b7\",\n",
        "              fields:\"gender,percent_has_asthma\",\n",
        "              totalRows:4,\n",
        "              rowsPerPage:25,\n",
        "            }, {}, {\"rows\": [{\"c\": [{\"v\": \"Male\"}, {\"v\": 6.8}]}, {\"c\": [{\"v\": \"Female\"}, {\"v\": 12.03}]}, {\"c\": [{\"v\": \"Transmasculine \"}, {\"v\": 0.0}]}, {\"c\": [{\"v\": \"Unknown\"}, {\"v\": 13.92}]}], \"cols\": [{\"type\": \"string\", \"id\": \"gender\", \"label\": \"gender\"}, {\"type\": \"number\", \"id\": \"percent_has_asthma\", \"label\": \"percent_has_asthma\"}]});\n",
        "        }\n",
        "      );\n",
        "    </script>\n",
        "  "
       ],
       "metadata": {},
       "output_type": "pyout",
       "prompt_number": 8,
       "text": []
      }
     ],
     "prompt_number": 8
    },
    {
     "cell_type": "markdown",
     "metadata": {},
     "source": [
      "Looks like there are roughly twice as many female (versus male) genomes with the asthma phenotype in this dataset."
     ]
    },
    {
     "cell_type": "heading",
     "level": 3,
     "metadata": {},
     "source": [
      "Python Pandas Integration"
     ]
    },
    {
     "cell_type": "markdown",
     "metadata": {},
     "source": [
      "Since our `$asthma` query returns a result set that is small enough to easily fit into memory (at ~2k rows), let's create a local dataset from our query by populating a [Pandas dataframe](http://pandas.pydata.org/pandas-docs/dev/generated/pandas.DataFrame.html) object and saving it to the `df` variable."
     ]
    },
    {
     "cell_type": "code",
     "collapsed": false,
     "input": [
      "df = asthma.results().to_dataframe()"
     ],
     "language": "python",
     "metadata": {},
     "outputs": [],
     "prompt_number": 9
    },
    {
     "cell_type": "markdown",
     "metadata": {},
     "source": [
      "This dataframe allows us to slice and dice our data in a number of ways and all of the computation will happen locally. Let's try getting the number of genomes per gender via our dataframe."
     ]
    },
    {
     "cell_type": "code",
     "collapsed": false,
     "input": [
      "df.groupby('gender').sum()"
     ],
     "language": "python",
     "metadata": {},
     "outputs": [
      {
       "html": [
        "<div style=\"max-height:1000px;max-width:1500px;overflow:auto;\">\n",
        "<table border=\"1\" class=\"dataframe\">\n",
        "  <thead>\n",
        "    <tr style=\"text-align: right;\">\n",
        "      <th></th>\n",
        "      <th>has_asthma</th>\n",
        "    </tr>\n",
        "    <tr>\n",
        "      <th>gender</th>\n",
        "      <th></th>\n",
        "    </tr>\n",
        "  </thead>\n",
        "  <tbody>\n",
        "    <tr>\n",
        "      <th>Female</th>\n",
        "      <td> 103</td>\n",
        "    </tr>\n",
        "    <tr>\n",
        "      <th>Male</th>\n",
        "      <td>  85</td>\n",
        "    </tr>\n",
        "    <tr>\n",
        "      <th>Transmasculine </th>\n",
        "      <td>   0</td>\n",
        "    </tr>\n",
        "    <tr>\n",
        "      <th>Unknown</th>\n",
        "      <td>  11</td>\n",
        "    </tr>\n",
        "  </tbody>\n",
        "</table>\n",
        "</div>"
       ],
       "metadata": {},
       "output_type": "pyout",
       "prompt_number": 10,
       "text": [
        "                 has_asthma\n",
        "gender                     \n",
        "Female                  103\n",
        "Male                     85\n",
        "Transmasculine            0\n",
        "Unknown                  11"
       ]
      }
     ],
     "prompt_number": 10
    },
    {
     "cell_type": "markdown",
     "metadata": {},
     "source": [
      "So that shows us the total number of participants annotated to have asthma, broken down by gender. Let's see if we can reproduce the percent_has_asthma column that we computed above via BigQuery."
     ]
    },
    {
     "cell_type": "code",
     "collapsed": false,
     "input": [
      "df.groupby('gender').mean() * 100"
     ],
     "language": "python",
     "metadata": {},
     "outputs": [
      {
       "html": [
        "<div style=\"max-height:1000px;max-width:1500px;overflow:auto;\">\n",
        "<table border=\"1\" class=\"dataframe\">\n",
        "  <thead>\n",
        "    <tr style=\"text-align: right;\">\n",
        "      <th></th>\n",
        "      <th>has_asthma</th>\n",
        "    </tr>\n",
        "    <tr>\n",
        "      <th>gender</th>\n",
        "      <th></th>\n",
        "    </tr>\n",
        "  </thead>\n",
        "  <tbody>\n",
        "    <tr>\n",
        "      <th>Female</th>\n",
        "      <td> 12.032710</td>\n",
        "    </tr>\n",
        "    <tr>\n",
        "      <th>Male</th>\n",
        "      <td>  6.800000</td>\n",
        "    </tr>\n",
        "    <tr>\n",
        "      <th>Transmasculine </th>\n",
        "      <td>  0.000000</td>\n",
        "    </tr>\n",
        "    <tr>\n",
        "      <th>Unknown</th>\n",
        "      <td> 13.924051</td>\n",
        "    </tr>\n",
        "  </tbody>\n",
        "</table>\n",
        "</div>"
       ],
       "metadata": {},
       "output_type": "pyout",
       "prompt_number": 11,
       "text": [
        "                 has_asthma\n",
        "gender                     \n",
        "Female            12.032710\n",
        "Male               6.800000\n",
        "Transmasculine     0.000000\n",
        "Unknown           13.924051"
       ]
      }
     ],
     "prompt_number": 11
    },
    {
     "cell_type": "markdown",
     "metadata": {},
     "source": [
      "Great! So for datasets that easily fit into memory, we can easily aggregate our results via the Pandas dataframe using an approach very similar to our SQL statement."
     ]
    },
    {
     "cell_type": "heading",
     "level": 2,
     "metadata": {},
     "source": [
      "Visualization"
     ]
    },
    {
     "cell_type": "markdown",
     "metadata": {},
     "source": [
      "Every Pandas dataframe can be used for visualization by calling the [`dataframe.plot()`](http://pandas.pydata.org/pandas-docs/dev/visualization.html) method.  Let's plot the counts of asthma occurrence broken down by gender."
     ]
    },
    {
     "cell_type": "code",
     "collapsed": false,
     "input": [
      "tally = df.groupby('gender').sum()\n",
      "tally.plot(kind='pie', y='has_asthma', legend=False)"
     ],
     "language": "python",
     "metadata": {},
     "outputs": [
      {
       "metadata": {},
       "output_type": "pyout",
       "prompt_number": 12,
       "text": [
        "<matplotlib.axes.AxesSubplot at 0x109e9d510>"
       ]
      },
      {
       "metadata": {},
       "output_type": "display_data",
       "png": "[encoded data removed]",
       "text": [
        "<matplotlib.figure.Figure at 0x109e9d610>"
       ]
      }
     ],
     "prompt_number": 12
    },
    {
     "cell_type": "code",
     "collapsed": false,
     "input": [
      "tally.plot(kind='bar', y='has_asthma', legend=False)"
     ],
     "language": "python",
     "metadata": {},
     "outputs": [
      {
       "metadata": {},
       "output_type": "pyout",
       "prompt_number": 13,
       "text": [
        "<matplotlib.axes.AxesSubplot at 0x109eabb10>"
       ]
      },
      {
       "metadata": {},
       "output_type": "display_data",
       "png": "[encoded data removed]",
       "text": [
        "<matplotlib.figure.Figure at 0x109eab2d0>"
       ]
      }
     ],
     "prompt_number": 13
    },
    {
     "cell_type": "heading",
     "level": 1,
     "metadata": {},
     "source": [
      "Exploring the 1000 Genomes datasets"
     ]
    },
    {
     "cell_type": "markdown",
     "metadata": {},
     "source": [
      "Now let's look at a different genome dataset provided by the [1000 Genomes project](http://www.1000genomes.org/).  We'll start by taking a look at the gender ratio for participants in the genome dataset."
     ]
    },
    {
     "cell_type": "code",
     "collapsed": false,
     "input": [
      "%%sql --name genders\n",
      "SELECT gender,\n",
      "        gender_count,\n",
      "        RATIO_TO_REPORT(gender_count)\n",
      "OVER (ORDER BY gender_count) AS gender_ratio\n",
      "FROM (\n",
      "  SELECT gender,\n",
      "          COUNT(gender) AS gender_count,\n",
      "  FROM [genomics-public-data:1000_genomes.sample_info]\n",
      "  GROUP BY gender)"
     ],
     "language": "python",
     "metadata": {},
     "outputs": [],
     "prompt_number": 14
    },
    {
     "cell_type": "code",
     "collapsed": false,
     "input": [
      "genders_df = genders.results().to_dataframe()\n",
      "genders_df"
     ],
     "language": "python",
     "metadata": {},
     "outputs": [
      {
       "html": [
        "<div style=\"max-height:1000px;max-width:1500px;overflow:auto;\">\n",
        "<table border=\"1\" class=\"dataframe\">\n",
        "  <thead>\n",
        "    <tr style=\"text-align: right;\">\n",
        "      <th></th>\n",
        "      <th>gender</th>\n",
        "      <th>gender_count</th>\n",
        "      <th>gender_ratio</th>\n",
        "    </tr>\n",
        "  </thead>\n",
        "  <tbody>\n",
        "    <tr>\n",
        "      <th>0</th>\n",
        "      <td>   male</td>\n",
        "      <td> 1740</td>\n",
        "      <td> 0.497143</td>\n",
        "    </tr>\n",
        "    <tr>\n",
        "      <th>1</th>\n",
        "      <td> female</td>\n",
        "      <td> 1760</td>\n",
        "      <td> 0.502857</td>\n",
        "    </tr>\n",
        "  </tbody>\n",
        "</table>\n",
        "</div>"
       ],
       "metadata": {},
       "output_type": "pyout",
       "prompt_number": 15,
       "text": [
        "   gender  gender_count  gender_ratio\n",
        "0    male          1740      0.497143\n",
        "1  female          1760      0.502857"
       ]
      }
     ],
     "prompt_number": 15
    },
    {
     "cell_type": "markdown",
     "metadata": {},
     "source": [
      "So we see the gender break down is roughly equal within the dataset."
     ]
    },
    {
     "cell_type": "heading",
     "level": 2,
     "metadata": {},
     "source": [
      "Composing queries"
     ]
    },
    {
     "cell_type": "markdown",
     "metadata": {},
     "source": [
      "Now let's see how our genomes are distributed across different world populations and super population groups."
     ]
    },
    {
     "cell_type": "code",
     "collapsed": false,
     "input": [
      "%%sql --name pops\n",
      "SELECT\n",
      "  population,\n",
      "  population_description,\n",
      "  super_population,\n",
      "  super_population_description,\n",
      "  COUNT(population) AS population_count,\n",
      "FROM\n",
      "  [genomics-public-data:1000_genomes.sample_info]\n",
      "GROUP BY\n",
      "  population,\n",
      "  population_description,\n",
      "  super_population,\n",
      "  super_population_description"
     ],
     "language": "python",
     "metadata": {},
     "outputs": [],
     "prompt_number": 16
    },
    {
     "cell_type": "code",
     "collapsed": false,
     "input": [
      "pops.results()"
     ],
     "language": "python",
     "metadata": {},
     "outputs": [
      {
       "html": [
        "\n",
        "    <div class=\"bqtv\" id=\"bqtv_1430184428\"></div>\n",
        "    <div><br />job_uIXTYZoW85Fw_ZfQyY6csk9pv6s<br />rows: 26</div>\n",
        "    <script>\n",
        "      require(['extensions/charting', 'element!bqtv_1430184428'],\n",
        "        function(charts, dom) {\n",
        "          charts.render(dom,\n",
        "            {\n",
        "              chartStyle:\"paged_table\",\n",
        "              dataName:\"data-studio-team:_0f12c412eb711017d36608a6e719813fc6aa536e.anon44a3378c824067d70c1758f9f7d12417a19d2fc3\",\n",
        "              fields:\"population,population_description,super_population,super_population_description,population_count\",\n",
        "              totalRows:26,\n",
        "              rowsPerPage:25,\n",
        "            }, {}, {\"rows\": [{\"c\": [{\"v\": \"GBR\"}, {\"v\": \"British in England and Scotland\"}, {\"v\": \"EUR\"}, {\"v\": \"European\"}, {\"v\": 107}]}, {\"c\": [{\"v\": \"FIN\"}, {\"v\": \"Finnish in Finland\"}, {\"v\": \"EUR\"}, {\"v\": \"European\"}, {\"v\": 105}]}, {\"c\": [{\"v\": \"CHS\"}, {\"v\": \"Southern Han Chinese, China\"}, {\"v\": \"EAS\"}, {\"v\": \"East Asian\"}, {\"v\": 171}]}, {\"c\": [{\"v\": \"PUR\"}, {\"v\": \"Puerto Rican in Puerto Rico\"}, {\"v\": \"AMR\"}, {\"v\": \"American\"}, {\"v\": 150}]}, {\"c\": [{\"v\": \"CDX\"}, {\"v\": \"Chinese Dai in Xishuangbanna, China\"}, {\"v\": \"EAS\"}, {\"v\": \"East Asian\"}, {\"v\": 109}]}, {\"c\": [{\"v\": \"CLM\"}, {\"v\": \"Colombian in Medellin, Colombia\"}, {\"v\": \"AMR\"}, {\"v\": \"American\"}, {\"v\": 148}]}, {\"c\": [{\"v\": \"IBS\"}, {\"v\": \"Iberian populations in Spain\"}, {\"v\": \"EUR\"}, {\"v\": \"European\"}, {\"v\": 162}]}, {\"c\": [{\"v\": \"PEL\"}, {\"v\": \"Peruvian in Lima, Peru\"}, {\"v\": \"AMR\"}, {\"v\": \"American\"}, {\"v\": 130}]}, {\"c\": [{\"v\": \"PJL\"}, {\"v\": \"Punjabi in Lahore,Pakistan\"}, {\"v\": \"SAS\"}, {\"v\": \"South Asian\"}, {\"v\": 158}]}, {\"c\": [{\"v\": \"KHV\"}, {\"v\": \"Kinh in Ho Chi Minh City, Vietnam\"}, {\"v\": \"EAS\"}, {\"v\": \"East Asian\"}, {\"v\": 124}]}, {\"c\": [{\"v\": \"ACB\"}, {\"v\": \"African Caribbean in Barbados\"}, {\"v\": \"AFR\"}, {\"v\": \"African\"}, {\"v\": 123}]}, {\"c\": [{\"v\": \"GWD\"}, {\"v\": \"Gambian in Western Division, The Gambia\"}, {\"v\": \"AFR\"}, {\"v\": \"African\"}, {\"v\": 180}]}, {\"c\": [{\"v\": \"ESN\"}, {\"v\": \"Esan in Nigeria\"}, {\"v\": \"AFR\"}, {\"v\": \"African\"}, {\"v\": 173}]}, {\"c\": [{\"v\": \"BEB\"}, {\"v\": \"Bengali in Bangladesh\"}, {\"v\": \"SAS\"}, {\"v\": \"South Asian\"}, {\"v\": 144}]}, {\"c\": [{\"v\": \"MSL\"}, {\"v\": \"Mende in Sierra Leone\"}, {\"v\": \"AFR\"}, {\"v\": \"African\"}, {\"v\": 128}]}, {\"c\": [{\"v\": \"STU\"}, {\"v\": \"Sri Lankan Tamil in the UK\"}, {\"v\": \"SAS\"}, {\"v\": \"South Asian\"}, {\"v\": 128}]}, {\"c\": [{\"v\": \"ITU\"}, {\"v\": \"Indian Telugu in the UK\"}, {\"v\": \"SAS\"}, {\"v\": \"South Asian\"}, {\"v\": 118}]}, {\"c\": [{\"v\": \"CEU\"}, {\"v\": \"Utah residents with Northern and Western European ancestry\"}, {\"v\": \"EUR\"}, {\"v\": \"European\"}, {\"v\": 183}]}, {\"c\": [{\"v\": \"YRI\"}, {\"v\": \"Yoruba in Ibadan, Nigeria\"}, {\"v\": \"AFR\"}, {\"v\": \"African\"}, {\"v\": 186}]}, {\"c\": [{\"v\": \"CHB\"}, {\"v\": \"Han Chinese in Bejing, China\"}, {\"v\": \"EAS\"}, {\"v\": \"East Asian\"}, {\"v\": 108}]}, {\"c\": [{\"v\": \"JPT\"}, {\"v\": \"Japanese in Tokyo, Japan\"}, {\"v\": \"EAS\"}, {\"v\": \"East Asian\"}, {\"v\": 105}]}, {\"c\": [{\"v\": \"LWK\"}, {\"v\": \"Luhya in Webuye, Kenya\"}, {\"v\": \"AFR\"}, {\"v\": \"African\"}, {\"v\": 116}]}, {\"c\": [{\"v\": \"ASW\"}, {\"v\": \"African Ancestry in Southwest US\"}, {\"v\": \"AFR\"}, {\"v\": \"African\"}, {\"v\": 112}]}, {\"c\": [{\"v\": \"MXL\"}, {\"v\": \"Mexican Ancestry in Los Angeles, California\"}, {\"v\": \"AMR\"}, {\"v\": \"American\"}, {\"v\": 107}]}, {\"c\": [{\"v\": \"TSI\"}, {\"v\": \"Toscani in Italy\"}, {\"v\": \"EUR\"}, {\"v\": \"European\"}, {\"v\": 112}]}], \"cols\": [{\"type\": \"string\", \"id\": \"population\", \"label\": \"population\"}, {\"type\": \"string\", \"id\": \"population_description\", \"label\": \"population_description\"}, {\"type\": \"string\", \"id\": \"super_population\", \"label\": \"super_population\"}, {\"type\": \"string\", \"id\": \"super_population_description\", \"label\": \"super_population_description\"}, {\"type\": \"number\", \"id\": \"population_count\", \"label\": \"population_count\"}]});\n",
        "        }\n",
        "      );\n",
        "    </script>\n",
        "  "
       ],
       "metadata": {},
       "output_type": "pyout",
       "prompt_number": 17,
       "text": []
      }
     ],
     "prompt_number": 17
    },
    {
     "cell_type": "markdown",
     "metadata": {},
     "source": [
      "Continuing further, let's calculate the fraction of each population's contribution to the whole using the [`RATIO_TO_REPORT`](https://cloud.google.com/bigquery/query-reference#windowfunctions) BigQuery analytic function, which gives us the fractional contribution of each population to the total dataset. We can compose this query by referencing our previous `$pops` query like so:"
     ]
    },
    {
     "cell_type": "code",
     "collapsed": false,
     "input": [
      "%%sql --name pops_ratio\n",
      "SELECT\n",
      "  population,\n",
      "  population_description,\n",
      "  population_count,\n",
      "  RATIO_TO_REPORT(population_count)\n",
      "    OVER (ORDER BY population_count) AS population_ratio,\n",
      "  super_population,\n",
      "  super_population_description,\n",
      "FROM ($pops)"
     ],
     "language": "python",
     "metadata": {},
     "outputs": [],
     "prompt_number": 18
    },
    {
     "cell_type": "code",
     "collapsed": false,
     "input": [
      "pops_df = pops_ratio.results().to_dataframe()\n",
      "pops_df"
     ],
     "language": "python",
     "metadata": {},
     "outputs": [
      {
       "html": [
        "<div style=\"max-height:1000px;max-width:1500px;overflow:auto;\">\n",
        "<table border=\"1\" class=\"dataframe\">\n",
        "  <thead>\n",
        "    <tr style=\"text-align: right;\">\n",
        "      <th></th>\n",
        "      <th>population</th>\n",
        "      <th>population_count</th>\n",
        "      <th>population_description</th>\n",
        "      <th>population_ratio</th>\n",
        "      <th>super_population</th>\n",
        "      <th>super_population_description</th>\n",
        "    </tr>\n",
        "  </thead>\n",
        "  <tbody>\n",
        "    <tr>\n",
        "      <th>0 </th>\n",
        "      <td> FIN</td>\n",
        "      <td> 105</td>\n",
        "      <td>                                Finnish in Finland</td>\n",
        "      <td> 0.030000</td>\n",
        "      <td> EUR</td>\n",
        "      <td>    European</td>\n",
        "    </tr>\n",
        "    <tr>\n",
        "      <th>1 </th>\n",
        "      <td> JPT</td>\n",
        "      <td> 105</td>\n",
        "      <td>                          Japanese in Tokyo, Japan</td>\n",
        "      <td> 0.030000</td>\n",
        "      <td> EAS</td>\n",
        "      <td>  East Asian</td>\n",
        "    </tr>\n",
        "    <tr>\n",
        "      <th>2 </th>\n",
        "      <td> GBR</td>\n",
        "      <td> 107</td>\n",
        "      <td>                   British in England and Scotland</td>\n",
        "      <td> 0.030571</td>\n",
        "      <td> EUR</td>\n",
        "      <td>    European</td>\n",
        "    </tr>\n",
        "    <tr>\n",
        "      <th>3 </th>\n",
        "      <td> MXL</td>\n",
        "      <td> 107</td>\n",
        "      <td>       Mexican Ancestry in Los Angeles, California</td>\n",
        "      <td> 0.030571</td>\n",
        "      <td> AMR</td>\n",
        "      <td>    American</td>\n",
        "    </tr>\n",
        "    <tr>\n",
        "      <th>4 </th>\n",
        "      <td> CHB</td>\n",
        "      <td> 108</td>\n",
        "      <td>                      Han Chinese in Bejing, China</td>\n",
        "      <td> 0.030857</td>\n",
        "      <td> EAS</td>\n",
        "      <td>  East Asian</td>\n",
        "    </tr>\n",
        "    <tr>\n",
        "      <th>5 </th>\n",
        "      <td> CDX</td>\n",
        "      <td> 109</td>\n",
        "      <td>               Chinese Dai in Xishuangbanna, China</td>\n",
        "      <td> 0.031143</td>\n",
        "      <td> EAS</td>\n",
        "      <td>  East Asian</td>\n",
        "    </tr>\n",
        "    <tr>\n",
        "      <th>6 </th>\n",
        "      <td> TSI</td>\n",
        "      <td> 112</td>\n",
        "      <td>                                  Toscani in Italy</td>\n",
        "      <td> 0.032000</td>\n",
        "      <td> EUR</td>\n",
        "      <td>    European</td>\n",
        "    </tr>\n",
        "    <tr>\n",
        "      <th>7 </th>\n",
        "      <td> ASW</td>\n",
        "      <td> 112</td>\n",
        "      <td>                  African Ancestry in Southwest US</td>\n",
        "      <td> 0.032000</td>\n",
        "      <td> AFR</td>\n",
        "      <td>     African</td>\n",
        "    </tr>\n",
        "    <tr>\n",
        "      <th>8 </th>\n",
        "      <td> GIH</td>\n",
        "      <td> 113</td>\n",
        "      <td>                     Gujarati Indian in Houston,TX</td>\n",
        "      <td> 0.032286</td>\n",
        "      <td> SAS</td>\n",
        "      <td> South Asian</td>\n",
        "    </tr>\n",
        "    <tr>\n",
        "      <th>9 </th>\n",
        "      <td> LWK</td>\n",
        "      <td> 116</td>\n",
        "      <td>                            Luhya in Webuye, Kenya</td>\n",
        "      <td> 0.033143</td>\n",
        "      <td> AFR</td>\n",
        "      <td>     African</td>\n",
        "    </tr>\n",
        "    <tr>\n",
        "      <th>10</th>\n",
        "      <td> ITU</td>\n",
        "      <td> 118</td>\n",
        "      <td>                           Indian Telugu in the UK</td>\n",
        "      <td> 0.033714</td>\n",
        "      <td> SAS</td>\n",
        "      <td> South Asian</td>\n",
        "    </tr>\n",
        "    <tr>\n",
        "      <th>11</th>\n",
        "      <td> ACB</td>\n",
        "      <td> 123</td>\n",
        "      <td>                     African Caribbean in Barbados</td>\n",
        "      <td> 0.035143</td>\n",
        "      <td> AFR</td>\n",
        "      <td>     African</td>\n",
        "    </tr>\n",
        "    <tr>\n",
        "      <th>12</th>\n",
        "      <td> KHV</td>\n",
        "      <td> 124</td>\n",
        "      <td>                 Kinh in Ho Chi Minh City, Vietnam</td>\n",
        "      <td> 0.035429</td>\n",
        "      <td> EAS</td>\n",
        "      <td>  East Asian</td>\n",
        "    </tr>\n",
        "    <tr>\n",
        "      <th>13</th>\n",
        "      <td> MSL</td>\n",
        "      <td> 128</td>\n",
        "      <td>                             Mende in Sierra Leone</td>\n",
        "      <td> 0.036571</td>\n",
        "      <td> AFR</td>\n",
        "      <td>     African</td>\n",
        "    </tr>\n",
        "    <tr>\n",
        "      <th>14</th>\n",
        "      <td> STU</td>\n",
        "      <td> 128</td>\n",
        "      <td>                        Sri Lankan Tamil in the UK</td>\n",
        "      <td> 0.036571</td>\n",
        "      <td> SAS</td>\n",
        "      <td> South Asian</td>\n",
        "    </tr>\n",
        "    <tr>\n",
        "      <th>15</th>\n",
        "      <td> PEL</td>\n",
        "      <td> 130</td>\n",
        "      <td>                            Peruvian in Lima, Peru</td>\n",
        "      <td> 0.037143</td>\n",
        "      <td> AMR</td>\n",
        "      <td>    American</td>\n",
        "    </tr>\n",
        "    <tr>\n",
        "      <th>16</th>\n",
        "      <td> BEB</td>\n",
        "      <td> 144</td>\n",
        "      <td>                             Bengali in Bangladesh</td>\n",
        "      <td> 0.041143</td>\n",
        "      <td> SAS</td>\n",
        "      <td> South Asian</td>\n",
        "    </tr>\n",
        "    <tr>\n",
        "      <th>17</th>\n",
        "      <td> CLM</td>\n",
        "      <td> 148</td>\n",
        "      <td>                   Colombian in Medellin, Colombia</td>\n",
        "      <td> 0.042286</td>\n",
        "      <td> AMR</td>\n",
        "      <td>    American</td>\n",
        "    </tr>\n",
        "    <tr>\n",
        "      <th>18</th>\n",
        "      <td> PUR</td>\n",
        "      <td> 150</td>\n",
        "      <td>                       Puerto Rican in Puerto Rico</td>\n",
        "      <td> 0.042857</td>\n",
        "      <td> AMR</td>\n",
        "      <td>    American</td>\n",
        "    </tr>\n",
        "    <tr>\n",
        "      <th>19</th>\n",
        "      <td> PJL</td>\n",
        "      <td> 158</td>\n",
        "      <td>                        Punjabi in Lahore,Pakistan</td>\n",
        "      <td> 0.045143</td>\n",
        "      <td> SAS</td>\n",
        "      <td> South Asian</td>\n",
        "    </tr>\n",
        "    <tr>\n",
        "      <th>20</th>\n",
        "      <td> IBS</td>\n",
        "      <td> 162</td>\n",
        "      <td>                      Iberian populations in Spain</td>\n",
        "      <td> 0.046286</td>\n",
        "      <td> EUR</td>\n",
        "      <td>    European</td>\n",
        "    </tr>\n",
        "    <tr>\n",
        "      <th>21</th>\n",
        "      <td> CHS</td>\n",
        "      <td> 171</td>\n",
        "      <td>                       Southern Han Chinese, China</td>\n",
        "      <td> 0.048857</td>\n",
        "      <td> EAS</td>\n",
        "      <td>  East Asian</td>\n",
        "    </tr>\n",
        "    <tr>\n",
        "      <th>22</th>\n",
        "      <td> ESN</td>\n",
        "      <td> 173</td>\n",
        "      <td>                                   Esan in Nigeria</td>\n",
        "      <td> 0.049429</td>\n",
        "      <td> AFR</td>\n",
        "      <td>     African</td>\n",
        "    </tr>\n",
        "    <tr>\n",
        "      <th>23</th>\n",
        "      <td> GWD</td>\n",
        "      <td> 180</td>\n",
        "      <td>           Gambian in Western Division, The Gambia</td>\n",
        "      <td> 0.051429</td>\n",
        "      <td> AFR</td>\n",
        "      <td>     African</td>\n",
        "    </tr>\n",
        "    <tr>\n",
        "      <th>24</th>\n",
        "      <td> CEU</td>\n",
        "      <td> 183</td>\n",
        "      <td> Utah residents with Northern and Western Europ...</td>\n",
        "      <td> 0.052286</td>\n",
        "      <td> EUR</td>\n",
        "      <td>    European</td>\n",
        "    </tr>\n",
        "    <tr>\n",
        "      <th>25</th>\n",
        "      <td> YRI</td>\n",
        "      <td> 186</td>\n",
        "      <td>                         Yoruba in Ibadan, Nigeria</td>\n",
        "      <td> 0.053143</td>\n",
        "      <td> AFR</td>\n",
        "      <td>     African</td>\n",
        "    </tr>\n",
        "  </tbody>\n",
        "</table>\n",
        "</div>"
       ],
       "metadata": {},
       "output_type": "pyout",
       "prompt_number": 19,
       "text": [
        "   population  population_count  \\\n",
        "0         FIN               105   \n",
        "1         JPT               105   \n",
        "2         GBR               107   \n",
        "3         MXL               107   \n",
        "4         CHB               108   \n",
        "5         CDX               109   \n",
        "6         TSI               112   \n",
        "7         ASW               112   \n",
        "8         GIH               113   \n",
        "9         LWK               116   \n",
        "10        ITU               118   \n",
        "11        ACB               123   \n",
        "12        KHV               124   \n",
        "13        MSL               128   \n",
        "14        STU               128   \n",
        "15        PEL               130   \n",
        "16        BEB               144   \n",
        "17        CLM               148   \n",
        "18        PUR               150   \n",
        "19        PJL               158   \n",
        "20        IBS               162   \n",
        "21        CHS               171   \n",
        "22        ESN               173   \n",
        "23        GWD               180   \n",
        "24        CEU               183   \n",
        "25        YRI               186   \n",
        "\n",
        "                               population_description  population_ratio  \\\n",
        "0                                  Finnish in Finland          0.030000   \n",
        "1                            Japanese in Tokyo, Japan          0.030000   \n",
        "2                     British in England and Scotland          0.030571   \n",
        "3         Mexican Ancestry in Los Angeles, California          0.030571   \n",
        "4                        Han Chinese in Bejing, China          0.030857   \n",
        "5                 Chinese Dai in Xishuangbanna, China          0.031143   \n",
        "6                                    Toscani in Italy          0.032000   \n",
        "7                    African Ancestry in Southwest US          0.032000   \n",
        "8                       Gujarati Indian in Houston,TX          0.032286   \n",
        "9                              Luhya in Webuye, Kenya          0.033143   \n",
        "10                            Indian Telugu in the UK          0.033714   \n",
        "11                      African Caribbean in Barbados          0.035143   \n",
        "12                  Kinh in Ho Chi Minh City, Vietnam          0.035429   \n",
        "13                              Mende in Sierra Leone          0.036571   \n",
        "14                         Sri Lankan Tamil in the UK          0.036571   \n",
        "15                             Peruvian in Lima, Peru          0.037143   \n",
        "16                              Bengali in Bangladesh          0.041143   \n",
        "17                    Colombian in Medellin, Colombia          0.042286   \n",
        "18                        Puerto Rican in Puerto Rico          0.042857   \n",
        "19                         Punjabi in Lahore,Pakistan          0.045143   \n",
        "20                       Iberian populations in Spain          0.046286   \n",
        "21                        Southern Han Chinese, China          0.048857   \n",
        "22                                    Esan in Nigeria          0.049429   \n",
        "23            Gambian in Western Division, The Gambia          0.051429   \n",
        "24  Utah residents with Northern and Western Europ...          0.052286   \n",
        "25                          Yoruba in Ibadan, Nigeria          0.053143   \n",
        "\n",
        "   super_population super_population_description  \n",
        "0               EUR                     European  \n",
        "1               EAS                   East Asian  \n",
        "2               EUR                     European  \n",
        "3               AMR                     American  \n",
        "4               EAS                   East Asian  \n",
        "5               EAS                   East Asian  \n",
        "6               EUR                     European  \n",
        "7               AFR                      African  \n",
        "8               SAS                  South Asian  \n",
        "9               AFR                      African  \n",
        "10              SAS                  South Asian  \n",
        "11              AFR                      African  \n",
        "12              EAS                   East Asian  \n",
        "13              AFR                      African  \n",
        "14              SAS                  South Asian  \n",
        "15              AMR                     American  \n",
        "16              SAS                  South Asian  \n",
        "17              AMR                     American  \n",
        "18              AMR                     American  \n",
        "19              SAS                  South Asian  \n",
        "20              EUR                     European  \n",
        "21              EAS                   East Asian  \n",
        "22              AFR                      African  \n",
        "23              AFR                      African  \n",
        "24              EUR                     European  \n",
        "25              AFR                      African  "
       ]
      }
     ],
     "prompt_number": 19
    },
    {
     "cell_type": "heading",
     "level": 2,
     "metadata": {},
     "source": [
      "Visualization"
     ]
    },
    {
     "cell_type": "markdown",
     "metadata": {},
     "source": [
      "Let's visualize the number of genomes available per population group as a bar chart.  We can simply use our Pandas dataframe to plot the dimensions of interest."
     ]
    },
    {
     "cell_type": "code",
     "collapsed": false,
     "input": [
      "pops_df.groupby('population').sum().plot(kind='bar', y='population_count', legend=False)"
     ],
     "language": "python",
     "metadata": {},
     "outputs": [
      {
       "metadata": {},
       "output_type": "pyout",
       "prompt_number": 20,
       "text": [
        "<matplotlib.axes.AxesSubplot at 0x10a881e50>"
       ]
      },
      {
       "metadata": {},
       "output_type": "display_data",
       "png": "[encoded data removed]",
       "text": [
        "<matplotlib.figure.Figure at 0x10a987690>"
       ]
      }
     ],
     "prompt_number": 20
    },
    {
     "cell_type": "markdown",
     "metadata": {},
     "source": [
      "What are the ratios of ethnicities grouped by super population? We can find out by aggregating our local dataset via the Pandas dataframe."
     ]
    },
    {
     "cell_type": "code",
     "collapsed": false,
     "input": [
      "pops_df.groupby('super_population').sum().plot(kind='bar', y='population_count', legend=False)"
     ],
     "language": "python",
     "metadata": {},
     "outputs": [
      {
       "metadata": {},
       "output_type": "pyout",
       "prompt_number": 21,
       "text": [
        "<matplotlib.axes.AxesSubplot at 0x10b1bff50>"
       ]
      },
      {
       "metadata": {},
       "output_type": "display_data",
       "png": "[encoded data removed]",
       "text": [
        "<matplotlib.figure.Figure at 0x10a8ffbd0>"
       ]
      }
     ],
     "prompt_number": 21
    },
    {
     "cell_type": "markdown",
     "metadata": {},
     "source": [
      "Some of the dataset participants happen to be relatives. Let's see how the family size is distributed among the genomes available:"
     ]
    },
    {
     "cell_type": "code",
     "collapsed": false,
     "input": [
      "%%sql --name family_sizes\n",
      "SELECT\n",
      "  num_family_members AS family_size,\n",
      "  COUNT(num_family_members) AS num_families_of_size\n",
      "FROM (\n",
      "  SELECT\n",
      "    family_id,\n",
      "    COUNT(family_id) AS num_family_members,\n",
      "  FROM [genomics-public-data:1000_genomes.sample_info]\n",
      "  GROUP BY family_id)\n",
      "GROUP BY family_size"
     ],
     "language": "python",
     "metadata": {},
     "outputs": [],
     "prompt_number": 22
    },
    {
     "cell_type": "code",
     "collapsed": false,
     "input": [
      "family_sizes_df = family_sizes.results().to_dataframe()\n",
      "family_sizes_df"
     ],
     "language": "python",
     "metadata": {},
     "outputs": [
      {
       "html": [
        "<div style=\"max-height:1000px;max-width:1500px;overflow:auto;\">\n",
        "<table border=\"1\" class=\"dataframe\">\n",
        "  <thead>\n",
        "    <tr style=\"text-align: right;\">\n",
        "      <th></th>\n",
        "      <th>family_size</th>\n",
        "      <th>num_families_of_size</th>\n",
        "    </tr>\n",
        "  </thead>\n",
        "  <tbody>\n",
        "    <tr>\n",
        "      <th>0</th>\n",
        "      <td> 1</td>\n",
        "      <td> 1185</td>\n",
        "    </tr>\n",
        "    <tr>\n",
        "      <th>1</th>\n",
        "      <td> 2</td>\n",
        "      <td>  191</td>\n",
        "    </tr>\n",
        "    <tr>\n",
        "      <th>2</th>\n",
        "      <td> 3</td>\n",
        "      <td>  593</td>\n",
        "    </tr>\n",
        "    <tr>\n",
        "      <th>3</th>\n",
        "      <td> 4</td>\n",
        "      <td>    1</td>\n",
        "    </tr>\n",
        "    <tr>\n",
        "      <th>4</th>\n",
        "      <td> 5</td>\n",
        "      <td>    6</td>\n",
        "    </tr>\n",
        "    <tr>\n",
        "      <th>5</th>\n",
        "      <td> 6</td>\n",
        "      <td>   20</td>\n",
        "    </tr>\n",
        "  </tbody>\n",
        "</table>\n",
        "</div>"
       ],
       "metadata": {},
       "output_type": "pyout",
       "prompt_number": 23,
       "text": [
        "   family_size  num_families_of_size\n",
        "0            1                  1185\n",
        "1            2                   191\n",
        "2            3                   593\n",
        "3            4                     1\n",
        "4            5                     6\n",
        "5            6                    20"
       ]
      }
     ],
     "prompt_number": 23
    },
    {
     "cell_type": "markdown",
     "metadata": {},
     "source": [
      "So we see that while the majority of participants do not have any relatives within the dataset, there are ~200 two-person families present and many fewer 3-person and larger families. \n",
      "\n",
      "We can plot the family size distribution using the dataframe again."
     ]
    },
    {
     "cell_type": "code",
     "collapsed": false,
     "input": [
      "family_sizes_df.plot(x='family_size')"
     ],
     "language": "python",
     "metadata": {},
     "outputs": [
      {
       "metadata": {},
       "output_type": "pyout",
       "prompt_number": 24,
       "text": [
        "<matplotlib.axes.AxesSubplot at 0x10a8b51d0>"
       ]
      },
      {
       "metadata": {},
       "output_type": "display_data",
       "png": "[encoded data removed]",
       "text": [
        "<matplotlib.figure.Figure at 0x10b1bae10>"
       ]
      }
     ],
     "prompt_number": 24
    }
   ],
   "metadata": {}
  }
 ]
}
