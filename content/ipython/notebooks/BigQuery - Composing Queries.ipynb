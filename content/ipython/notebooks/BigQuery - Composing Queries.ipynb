{
 "metadata": {
  "name": "",
  "signature": "sha256:fb4e5084f2bfc5ef93ca472b807af0b5d305a2850a78bc3710638a0ed59b5a7c"
 },
 "nbformat": 3,
 "nbformat_minor": 0,
 "worksheets": [
  {
   "cells": [
    {
     "cell_type": "markdown",
     "metadata": {},
     "source": [
      "# BigQuery - Composing Queries\n",
      "\n",
      "This notebook builds on the earlier BigQuery introduction to demonstrate how you can create more complex queries one-step-at-a-time and iteratively build up the final result set as part of your data exploration and analysis. This is a feature of the python APIs for working with BigQuery in IPython.\n",
      "\n",
      "This notebook uses the same sample dataset consisting of web server request logs data as seen in the BigQuery Basics tutorial.\n",
      "\n",
      "----\n",
      "\n",
      "NOTE:\n",
      "\n",
      "* If you're new to notebooks, or want to check out additional samples, check out the full [list](..) of notebooks."
     ]
    },
    {
     "cell_type": "heading",
     "level": 1,
     "metadata": {},
     "source": [
      "Composing SQL Queries"
     ]
    },
    {
     "cell_type": "markdown",
     "metadata": {},
     "source": [
      "BigQuery allows you to use nested queries to create complex queries that successively filter or slice/dice results, or perform joins in a single query issued to the service. Constructing these queries can often be much simpler when done step-by-step, as shown below.\n",
      "\n",
      "Additionally, you can also include local variables defined in the notebook as values for placeholders in the query."
     ]
    },
    {
     "cell_type": "heading",
     "level": 2,
     "metadata": {},
     "source": [
      "The Inner Query - Computing Latency Buckets"
     ]
    },
    {
     "cell_type": "markdown",
     "metadata": {},
     "source": [
      "For the first query, lets query the request log data to get a spread of latency values, bucketed into specific bins of 25ms durations."
     ]
    },
    {
     "cell_type": "code",
     "collapsed": false,
     "input": [
      "%%sql --name latency_spread\n",
      "SELECT INTEGER(latency / 25) * 25 AS latency,\n",
      "        COUNT(latency) AS requests\n",
      "FROM [cloud-datalab:sampledata.requestlogs_20140615]\n",
      "WHERE endpoint = 'Recent'\n",
      "GROUP BY latency\n",
      "ORDER BY latency"
     ],
     "language": "python",
     "metadata": {},
     "outputs": [],
     "prompt_number": 1
    },
    {
     "cell_type": "markdown",
     "metadata": {},
     "source": [
      "Lets get a sense of the data, by executing the query and checking out the first 10 bins."
     ]
    },
    {
     "cell_type": "code",
     "collapsed": false,
     "input": [
      "latency_spread.results().to_dataframe()[:10]"
     ],
     "language": "python",
     "metadata": {},
     "outputs": [
      {
       "html": [
        "<div style=\"max-height:1000px;max-width:1500px;overflow:auto;\">\n",
        "<table border=\"1\" class=\"dataframe\">\n",
        "  <thead>\n",
        "    <tr style=\"text-align: right;\">\n",
        "      <th></th>\n",
        "      <th>latency</th>\n",
        "      <th>requests</th>\n",
        "    </tr>\n",
        "  </thead>\n",
        "  <tbody>\n",
        "    <tr>\n",
        "      <th>0</th>\n",
        "      <td>   0</td>\n",
        "      <td>  66</td>\n",
        "    </tr>\n",
        "    <tr>\n",
        "      <th>1</th>\n",
        "      <td>  25</td>\n",
        "      <td>   4</td>\n",
        "    </tr>\n",
        "    <tr>\n",
        "      <th>2</th>\n",
        "      <td>  50</td>\n",
        "      <td>  12</td>\n",
        "    </tr>\n",
        "    <tr>\n",
        "      <th>3</th>\n",
        "      <td>  75</td>\n",
        "      <td>  45</td>\n",
        "    </tr>\n",
        "    <tr>\n",
        "      <th>4</th>\n",
        "      <td> 100</td>\n",
        "      <td>  28</td>\n",
        "    </tr>\n",
        "    <tr>\n",
        "      <th>5</th>\n",
        "      <td> 125</td>\n",
        "      <td>   9</td>\n",
        "    </tr>\n",
        "    <tr>\n",
        "      <th>6</th>\n",
        "      <td> 150</td>\n",
        "      <td>   4</td>\n",
        "    </tr>\n",
        "    <tr>\n",
        "      <th>7</th>\n",
        "      <td> 175</td>\n",
        "      <td>  76</td>\n",
        "    </tr>\n",
        "    <tr>\n",
        "      <th>8</th>\n",
        "      <td> 200</td>\n",
        "      <td> 100</td>\n",
        "    </tr>\n",
        "    <tr>\n",
        "      <th>9</th>\n",
        "      <td> 225</td>\n",
        "      <td> 104</td>\n",
        "    </tr>\n",
        "  </tbody>\n",
        "</table>\n",
        "</div>"
       ],
       "metadata": {},
       "output_type": "pyout",
       "prompt_number": 2,
       "text": [
        "   latency  requests\n",
        "0        0        66\n",
        "1       25         4\n",
        "2       50        12\n",
        "3       75        45\n",
        "4      100        28\n",
        "5      125         9\n",
        "6      150         4\n",
        "7      175        76\n",
        "8      200       100\n",
        "9      225       104"
       ]
      }
     ],
     "prompt_number": 2
    },
    {
     "cell_type": "code",
     "collapsed": false,
     "input": [
      "latency_spread.results().to_dataframe().set_index('latency').plot(kind='bar')"
     ],
     "language": "python",
     "metadata": {},
     "outputs": [
      {
       "metadata": {},
       "output_type": "pyout",
       "prompt_number": 3,
       "text": [
        "<matplotlib.axes.AxesSubplot at 0x109d4bb90>"
       ]
      },
      {
       "metadata": {},
       "output_type": "display_data",
       "png": "[encoded data removed]",
       "text": [
        "<matplotlib.figure.Figure at 0x109d4b990>"
       ]
      }
     ],
     "prompt_number": 3
    },
    {
     "cell_type": "heading",
     "level": 2,
     "metadata": {},
     "source": [
      "The Outer Query - Computing Latency Distribution"
     ]
    },
    {
     "cell_type": "markdown",
     "metadata": {},
     "source": [
      "The second query will build on the first to calculate percentage of requests that each bucket of latency values corresponds to. It will do so by composing a second outer query around the first inner query, and use it as a starting point.\n",
      "\n",
      "First however, we'll build a query to sum up the total number of requests and capture the result into a local variable."
     ]
    },
    {
     "cell_type": "code",
     "collapsed": false,
     "input": [
      "%%sql --name total_query\n",
      "SELECT COUNT(latency) AS total\n",
      "FROM [cloud-datalab:sampledata.requestlogs_20140615]\n",
      "WHERE endpoint = 'Recent'"
     ],
     "language": "python",
     "metadata": {},
     "outputs": [],
     "prompt_number": 4
    },
    {
     "cell_type": "code",
     "collapsed": false,
     "input": [
      "total_requests = total_query.results()[0]['total']\n",
      "print total_requests"
     ],
     "language": "python",
     "metadata": {},
     "outputs": [
      {
       "output_type": "stream",
       "stream": "stdout",
       "text": [
        "734\n"
       ]
      }
     ],
     "prompt_number": 5
    },
    {
     "cell_type": "markdown",
     "metadata": {},
     "source": [
      "The outer query will reference both the previously defined query (`latency_spread`) and the scalar value (`total_requests`) using a `$`-prefixed placeholder within the SQL. These placeholders are substituted before the query is processed by BigQuery."
     ]
    },
    {
     "cell_type": "code",
     "collapsed": false,
     "input": [
      "%%sql --name latency_distribution\n",
      "SELECT latency,\n",
      "        requests * 100 / $total_requests AS percentage_requests\n",
      "FROM $latency_spread\n",
      "ORDER BY latency"
     ],
     "language": "python",
     "metadata": {},
     "outputs": [],
     "prompt_number": 6
    },
    {
     "cell_type": "code",
     "collapsed": false,
     "input": [
      "df = latency_distribution.results().to_dataframe()\n",
      "df[:10]"
     ],
     "language": "python",
     "metadata": {},
     "outputs": [
      {
       "html": [
        "<div style=\"max-height:1000px;max-width:1500px;overflow:auto;\">\n",
        "<table border=\"1\" class=\"dataframe\">\n",
        "  <thead>\n",
        "    <tr style=\"text-align: right;\">\n",
        "      <th></th>\n",
        "      <th>latency</th>\n",
        "      <th>percentage_requests</th>\n",
        "    </tr>\n",
        "  </thead>\n",
        "  <tbody>\n",
        "    <tr>\n",
        "      <th>0</th>\n",
        "      <td>   0</td>\n",
        "      <td>  8.991826</td>\n",
        "    </tr>\n",
        "    <tr>\n",
        "      <th>1</th>\n",
        "      <td>  25</td>\n",
        "      <td>  0.544959</td>\n",
        "    </tr>\n",
        "    <tr>\n",
        "      <th>2</th>\n",
        "      <td>  50</td>\n",
        "      <td>  1.634877</td>\n",
        "    </tr>\n",
        "    <tr>\n",
        "      <th>3</th>\n",
        "      <td>  75</td>\n",
        "      <td>  6.130790</td>\n",
        "    </tr>\n",
        "    <tr>\n",
        "      <th>4</th>\n",
        "      <td> 100</td>\n",
        "      <td>  3.814714</td>\n",
        "    </tr>\n",
        "    <tr>\n",
        "      <th>5</th>\n",
        "      <td> 125</td>\n",
        "      <td>  1.226158</td>\n",
        "    </tr>\n",
        "    <tr>\n",
        "      <th>6</th>\n",
        "      <td> 150</td>\n",
        "      <td>  0.544959</td>\n",
        "    </tr>\n",
        "    <tr>\n",
        "      <th>7</th>\n",
        "      <td> 175</td>\n",
        "      <td> 10.354223</td>\n",
        "    </tr>\n",
        "    <tr>\n",
        "      <th>8</th>\n",
        "      <td> 200</td>\n",
        "      <td> 13.623978</td>\n",
        "    </tr>\n",
        "    <tr>\n",
        "      <th>9</th>\n",
        "      <td> 225</td>\n",
        "      <td> 14.168937</td>\n",
        "    </tr>\n",
        "  </tbody>\n",
        "</table>\n",
        "</div>"
       ],
       "metadata": {},
       "output_type": "pyout",
       "prompt_number": 7,
       "text": [
        "   latency  percentage_requests\n",
        "0        0             8.991826\n",
        "1       25             0.544959\n",
        "2       50             1.634877\n",
        "3       75             6.130790\n",
        "4      100             3.814714\n",
        "5      125             1.226158\n",
        "6      150             0.544959\n",
        "7      175            10.354223\n",
        "8      200            13.623978\n",
        "9      225            14.168937"
       ]
      }
     ],
     "prompt_number": 7
    },
    {
     "cell_type": "markdown",
     "metadata": {},
     "source": [
      "And here was the full query, as issued to BigQuery (notice literal value and SQL substituted for the placeholders."
     ]
    },
    {
     "cell_type": "code",
     "collapsed": false,
     "input": [
      "print latency_distribution.sql"
     ],
     "language": "python",
     "metadata": {},
     "outputs": [
      {
       "output_type": "stream",
       "stream": "stdout",
       "text": [
        "SELECT latency,\n",
        "        requests * 100 / 734 AS percentage_requests\n",
        "FROM (SELECT INTEGER(latency / 25) * 25 AS latency,\n",
        "        COUNT(latency) AS requests\n",
        "FROM [cloud-datalab:sampledata.requestlogs_20140615]\n",
        "WHERE endpoint = 'Recent'\n",
        "GROUP BY latency\n",
        "ORDER BY latency)\n",
        "ORDER BY latency\n"
       ]
      }
     ],
     "prompt_number": 8
    },
    {
     "cell_type": "heading",
     "level": 1,
     "metadata": {},
     "source": [
      "Visualizing the Results"
     ]
    },
    {
     "cell_type": "code",
     "collapsed": false,
     "input": [
      "df.set_index('latency').plot(logx = True)"
     ],
     "language": "python",
     "metadata": {},
     "outputs": [
      {
       "metadata": {},
       "output_type": "pyout",
       "prompt_number": 9,
       "text": [
        "<matplotlib.axes.AxesSubplot at 0x1098db2d0>"
       ]
      },
      {
       "metadata": {},
       "output_type": "display_data",
       "png": "[encoded data removed]",
       "text": [
        "<matplotlib.figure.Figure at 0x109dba590>"
       ]
      }
     ],
     "prompt_number": 9
    }
   ],
   "metadata": {}
  }
 ]
}
