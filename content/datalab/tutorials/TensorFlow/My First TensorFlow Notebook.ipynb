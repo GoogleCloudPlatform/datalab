{
 "cells": [
  {
   "cell_type": "markdown",
   "metadata": {},
   "source": [
    "# My First TensorFlow \n",
    "<br>\n",
    "### A beginner-level, getting started, basic introduction to TensorFlow"
   ]
  },
  {
   "cell_type": "markdown",
   "metadata": {},
   "source": [
    "[TensorFlow](https://www.tensorflow.org/) is an open source software library for numerical computation using data flow graphs.\n",
    "\n",
    "TensorFlow gets its name from [tensors](https://en.wikipedia.org/wiki/Tensor), which are arrays of arbitrary dimensionality. A vector is a 1-d array and is known as a 1st-order tensor. A matrix is a 2-d array and a 2nd-order tensor. The \"flow\" part of the name refers to computation flowing through a graph. A neural network is largely a series of matrix operations, which TensorFlow represents at a fairly low level compared to DistBelief. The flexibility and potential for optimization of this lower level representation is the major difference between DistBelief and TensorFlow.\n",
    "\n",
    "When you think of doing things in TensorFlow, you might want to think of creating tensors (like matrices), adding operations (that output other tensors), and then executing the computation (running the computational graph). In particular, it's important to realize that when you add an operation on tensors, it doesn't execute immediately, but TensorFlow waits for you to add all the operations you want to do. Then it optimizes the computation graph, combining operations and picking where to run them, before generating the data. Because of this, a tensor in TensorFlow isn't so much holding the data as a placeholder for holding the data, waiting for the data to arrive when computation is run."
   ]
  },
  {
   "cell_type": "markdown",
   "metadata": {},
   "source": [
    "## Adding two vectors in TensorFlow\n",
    "Let's start with something that should be simple. Let's add two length four vectors (two 1st-order tensors): <br>\n",
    "[1.1.1.1.]+[2.2.2.2.]=[3.3.3.3.]"
   ]
  },
  {
   "cell_type": "code",
   "execution_count": 8,
   "metadata": {
    "collapsed": false
   },
   "outputs": [
    {
     "name": "stdout",
     "output_type": "stream",
     "text": [
      "[ 3.  3.  3.  3.]\n"
     ]
    }
   ],
   "source": [
    "import tensorflow as tf\n",
    "\n",
    "with tf.Session():\n",
    "  input1 = tf.constant([1.0, 1.0, 1.0, 1.0])\n",
    "  input2 = tf.constant([2.0, 2.0, 2.0, 2.0])\n",
    "  output = tf.add(input1, input2)\n",
    "  result = output.eval()\n",
    "  print result"
   ]
  },
  {
   "cell_type": "markdown",
   "metadata": {},
   "source": [
    "## Details of adding two vectors in TensorFlow\n",
    "\n",
    "The TensorFlow example above adding two vectors involves a lot more than it looks, so let's look at it in more depth.\n",
    "\n",
    ">`import tensorflow as tf`\n",
    "\n",
    "TensorFlow Python SDK has been installed in Datalab container by default.\n",
    "\n",
    ">`with tf.Session():`\n",
    "\n",
    "When you run an operation in TensorFlow, you need to do it in the context of a [Session](https://www.tensorflow.org/versions/master/api_docs/python/client.html#Session). A session holds the computation graph, which contains the tensors and the operations. When you create tensors and operations, they are not executed immediately, but wait for other operations and tensors to be added to the graph, only executing when finally requested to produce the results of the session.\n",
    "\n",
    ">>`input1 = tf.constant([1.0, 1.0, 1.0, 1.0])`\n",
    "\n",
    ">>`input2 = tf.constant([2.0, 2.0, 2.0, 2.0])`\n",
    "\n",
    "The next two lines create tensors using a convenience function called [constant](https://www.tensorflow.org/versions/master/api_docs/python/constant_op.html#constant), which is similar to numpy's array() and numpy's `full`. In summary, it creates a tensor of the necessary shape and applies the constant operator to it to fill it with the provided values. The values to `constant` can be python or numpy arrays. `constant` can take an optional shape paramter, which works similarly to numpy's `fill` if provided, and an optional name parameter, which can be used to put a more human-readable label on the operation in the TensorFlow operation graph.\n",
    "\n",
    ">>`output = tf.add(input1, input2)`\n",
    "\n",
    "You might think `add` just adds the two vectors now, but it doesn't quite do that. What it does is put the `add` operation into the computational graph. The results of the addition aren't available yet. They've been put in the computation graph, but the computation graph hasn't been executed yet.\n",
    "\n",
    ">>`result = output.eval()`\n",
    "\n",
    ">>`print result`\n",
    "\n",
    "`eval` is also slightly more complicated than it looks. Yes, it does get the value of the vector (tensor) that results from the addition. It returns this as a numpy array, which can then be printed. But, it's important to realize it also runs the computation graph at this point, because we demanded the output from the operation node of the graph; to produce that, it had to run the computation graph. So, this is the point where the addition is actually performed, not when `add` was called, as `add` just put the addition operation into the TensorFlow computation graph.\n",
    "\n",
    "Whew! Did you understand all of that? If you did, great, you're ready to go on. If it still sounds hazy, the important part is that, unlike the Python and numpy examples, the TensorFlow example doesn't execute the addition immediately, but waits until the computation graph is executed."
   ]
  },
  {
   "cell_type": "markdown",
   "metadata": {},
   "source": [
    "## Multiple operations\n",
    "\n",
    "To use TensorFlow, you add operations on tensors that produce tensors to the computation graph, then execute that graph to run all those operations and calculate the values of all the tensors in the graph.\n",
    "\n",
    "Here's a simple example with two operations:"
   ]
  },
  {
   "cell_type": "code",
   "execution_count": 2,
   "metadata": {
    "collapsed": false
   },
   "outputs": [
    {
     "name": "stdout",
     "output_type": "stream",
     "text": [
      "[ 6.  6.  6.  6.]\n"
     ]
    }
   ],
   "source": [
    "import tensorflow as tf\n",
    "\n",
    "with tf.Session():\n",
    "  input1 = tf.constant(1.0, shape=[4])\n",
    "  input2 = tf.constant(2.0, shape=[4])\n",
    "  input3 = tf.constant(3.0, shape=[4])\n",
    "  output = tf.add(tf.add(input1, input2), input3)\n",
    "  result = output.eval()\n",
    "  print result"
   ]
  },
  {
   "cell_type": "markdown",
   "metadata": {},
   "source": [
    "This version uses `constant` in a way similar to numpy's fill(), specifying the optional shape and having the values copied out across it. Probably no surprises there. Can you modify it? Maybe try adding more operations and run it again? The `add` operator supports operator overloading, so you could try writing it inline as `input1 + input2` instead as well as experimenting with other operators?"
   ]
  },
  {
   "cell_type": "markdown",
   "metadata": {},
   "source": [
    "## Adding two matrices\n",
    "Next, let's do something very similar, adding two matrices:\n",
    "[[1.1.1.] [1.1.1.]]+[[1.4.2.] [5.3.6.]]=[[2.5.3.] [6.4.7.]]"
   ]
  },
  {
   "cell_type": "code",
   "execution_count": 3,
   "metadata": {
    "collapsed": false
   },
   "outputs": [
    {
     "name": "stdout",
     "output_type": "stream",
     "text": [
      "[[ 2.  3.  4.]\n",
      " [ 5.  6.  7.]]\n"
     ]
    }
   ],
   "source": [
    "import tensorflow as tf\n",
    "import numpy as np\n",
    "\n",
    "with tf.Session():\n",
    "  input1 = tf.constant(1.0, shape=[2, 3])\n",
    "  input2 = tf.constant(np.reshape(np.arange(1.0, 7.0, dtype=np.float32), (2, 3)))\n",
    "  output = tf.add(input1, input2)\n",
    "  result = output.eval()\n",
    "  print result"
   ]
  },
  {
   "cell_type": "markdown",
   "metadata": {},
   "source": [
    "All make sense? You can pass numpy or Python arrays into `constant()`.\n",
    "\n",
    "In this example, the matrix with values from 1 to 6 is created in numpy and passed into `constant()`, but TensorFlow also has [`range()`](https://www.tensorflow.org/versions/master/api_docs/python/constant_op.html#range), [`reshape()`](https://www.tensorflow.org/versions/master/api_docs/python/array_ops.html#reshape), and [`to_float()`](https://www.tensorflow.org/versions/master/api_docs/python/array_ops.html#to_float) operators; doing this entirely within TensorFlow could be more efficient if this was a very large matrix."
   ]
  },
  {
   "cell_type": "markdown",
   "metadata": {},
   "source": [
    "## Multiplying matrices\n",
    "Let's move on to matrix multiplication. This time, let's use a bit vector and some random values, which is a good step toward some of what we'll need to do for regression and neural networks."
   ]
  },
  {
   "cell_type": "code",
   "execution_count": 4,
   "metadata": {
    "collapsed": false
   },
   "outputs": [
    {
     "name": "stdout",
     "output_type": "stream",
     "text": [
      "Input:\n",
      "[[ 1.  0.  0.  1.]]\n",
      "Weights:\n",
      "[[ 0.22351818  0.51489538]\n",
      " [ 0.49444115 -0.51128119]\n",
      " [ 2.54540896 -0.57693976]\n",
      " [-0.43871656 -0.99423587]]\n",
      "Output:\n",
      "[[-0.21519838 -0.47934049]]\n"
     ]
    }
   ],
   "source": [
    "#@test {\"output\": \"ignore\"}\n",
    "import tensorflow as tf\n",
    "import numpy as np\n",
    "\n",
    "with tf.Session():\n",
    "  input_features = tf.constant(np.reshape([1, 0, 0, 1], (1, 4)).astype(np.float32))\n",
    "  weights = tf.constant(np.random.randn(4, 2).astype(np.float32))\n",
    "  output = tf.matmul(input_features, weights)\n",
    "  print \"Input:\"\n",
    "  print input_features.eval()\n",
    "  print \"Weights:\"\n",
    "  print weights.eval()\n",
    "  print \"Output:\"\n",
    "  print output.eval()"
   ]
  },
  {
   "cell_type": "markdown",
   "metadata": {},
   "source": [
    "So, we're taking a 1 x 4 vector [1 0 0 1] and multiplying it by a 4 by 2 matrix full of random values from a normal distribution (mean 0, stdev 1). The output is a 1 x 2 matrix.\n",
    "\n",
    "You might try playing with this a little. Running the cell multiple times will generate new random weights and a new output. Or change the input (maybe to \\[0 0 0 1]) and run it again. Or try initializing the weights using the TensorFlow op [`random_normal()`](https://www.tensorflow.org/versions/master/api_docs/python/constant_op.html#random_normal) instead of using numpy to generate the random weights?\n",
    "\n",
    "What we have here is the basics of a simple neural network already. If we are reading in the input features, along with some expected output, and change the weights based on the error with the output each time, we have a NNet."
   ]
  },
  {
   "cell_type": "markdown",
   "metadata": {},
   "source": [
    "## Use of variables\n",
    "\n",
    "Let's look at adding two small matrices in a loop, not by creating new tensors every time, but by updating the existing values and then re-running the computation graph on the new data. This happens a lot with machine learning models, where we change some parameters each time such as gradient descent on some weights and then perform the same computations over and over again."
   ]
  },
  {
   "cell_type": "code",
   "execution_count": 14,
   "metadata": {
    "collapsed": false
   },
   "outputs": [
    {
     "name": "stdout",
     "output_type": "stream",
     "text": [
      "<tensorflow.python.ops.variables.Variable object at 0x7f1326f2fe50> <tensorflow.python.ops.variables.Variable object at 0x7f1326f3edd0>\n",
      "<tensorflow.python.ops.variables.Variable object at 0x7f1326f2fe50> <tensorflow.python.ops.variables.Variable object at 0x7f1326f3edd0>\n",
      "<tensorflow.python.ops.variables.Variable object at 0x7f1326f2fe50> <tensorflow.python.ops.variables.Variable object at 0x7f1326f3edd0>\n",
      "<tensorflow.python.ops.variables.Variable object at 0x7f1326f2fe50> <tensorflow.python.ops.variables.Variable object at 0x7f1326f3edd0>\n",
      "<tensorflow.python.ops.variables.Variable object at 0x7f1326f2fe50> <tensorflow.python.ops.variables.Variable object at 0x7f1326f3edd0>\n"
     ]
    }
   ],
   "source": [
    "#@test {\"output\": \"ignore\"}\n",
    "import tensorflow as tf\n",
    "import numpy as np\n",
    "\n",
    "with tf.Session() as sess:\n",
    "  # Set up two variables, total and weights, that we'll change repeatedly\n",
    "  total = tf.Variable(tf.zeros([1, 2]))\n",
    "  weights = tf.Variable(tf.zeros([1, 2]))\n",
    "\n",
    "  # Initialize variables with zeros.\n",
    "  tf.initialize_all_variables().run()\n",
    "  \n",
    "  # This only adds the operators to the graph right now. The assignment\n",
    "  # and addition operations are not performed yet.\n",
    "  update_weights = tf.assign(weights, tf.random_uniform([1, 2], -1.0, 1.0))\n",
    "  update_total = tf.assign(total, tf.add(total, weights))\n",
    "\n",
    "  for _ in range(5):\n",
    "    # Actually run the operation graph, so randomly generate weights and then\n",
    "    # add them into the total. Order does matter here. We need to update\n",
    "    # the weights before updating the total.\n",
    "    sess.run(update_weights)\n",
    "    sess.run(update_total)\n",
    "    \n",
    "    print weights.eval(), total.eval()"
   ]
  },
  {
   "cell_type": "markdown",
   "metadata": {},
   "source": [
    "This is more complicated. At a high level, we create two variables and add operations over them, then, in a loop, repeatedly execute those operations. Let's walk through it step by step.\n",
    "\n",
    "Starting off, the code creates two variables, total and weights, and then initializes them to all zeros. In TensorFlow, you create and initialize a variable separately. tf.Variable(<initial-value>) doesn't actually initialize the variable yet, so there is an immediate call tf.initialize_all_variables().run() to force it to execute immediately. Note that, without that call, the initialization would never happen (try removing it if you like).\n",
    "\n",
    "Next, two assignment operators are added to the graph, one that updates weights with random values from [-1, 1], the other that updates the total with the new weights. Again, the operators are not executed here. In fact, this isn't even inside the loop. We won't execute these operations until they are eval() inside the for loop.\n",
    "\n",
    "Finally, in the for loop, we run each of the operators. In each iteration of the loop, this executes the operators we added earlier, first putting random values into the weights, then updating the totals with the new weights.\n",
    "\n",
    "It can be a little hard to wrap your head around exactly what computation is done when. The important thing to remember is that computation is only done on demand, so you need to either explicitly run() the computation graph or implicitly run it by requesting output (like with eval()) that can only be generated by running the computation. It's likely this is still hazy, so you might want to try playing with the code in this example. Can you change or add additional operations?\n",
    "\n",
    "Variables can be useful in cases where you have a large amount of computation and data that you want to use over and over again with just a minor change to the input each time. That happens quite a bit with neural networks, for example, where you just want to update the weights each time you go through the batches of input data, then run the same operations over again."
   ]
  }
 ],
 "metadata": {
  "kernelspec": {
   "display_name": "Python 2",
   "language": "python",
   "name": "python2"
  },
  "language_info": {
   "codemirror_mode": {
    "name": "ipython",
    "version": 2
   },
   "file_extension": ".py",
   "mimetype": "text/x-python",
   "name": "python",
   "nbconvert_exporter": "python",
   "pygments_lexer": "ipython2",
   "version": "2.7.9"
  }
 },
 "nbformat": 4,
 "nbformat_minor": 0
}
