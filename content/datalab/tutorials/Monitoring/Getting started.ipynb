{
 "cells": [
  {
   "cell_type": "markdown",
   "metadata": {},
   "source": [
    "# Getting started with the Monitoring API\n",
    "\n",
    "Cloud Datalab provides an environment for working with your data. This includes data that is being managed within the Monitoring API. This notebook introduces some of the APIs that Cloud Datalab provides for working with the monitoring data, and allows you to try them out on your own project.\n",
    "\n",
    "The main focus of this API is to allow you to query timeseries data for your monitored resources. There are also commands to help you list the available metrics and resource types."
   ]
  },
  {
   "cell_type": "markdown",
   "metadata": {},
   "source": [
    "## Importing the API"
   ]
  },
  {
   "cell_type": "code",
   "execution_count": 1,
   "metadata": {
    "collapsed": false
   },
   "outputs": [],
   "source": [
    "from gcp.stackdriver import monitoring as gcm"
   ]
  },
  {
   "cell_type": "markdown",
   "metadata": {},
   "source": [
    "## List names of Compute Engine CPU metrics\n",
    "\n",
    "Here we can see that `instance_name` is a metric label."
   ]
  },
  {
   "cell_type": "code",
   "execution_count": 89,
   "metadata": {
    "collapsed": false
   },
   "outputs": [
    {
     "data": {
      "text/html": [
       "<table><tr><th>Metric type</th><th>Kind</th><th>Value</th><th>Labels</th></tr><tr><td>compute.googleapis.com/instance/cpu/reserved_cores</td><td>GAUGE</td><td>DOUBLE</td><td>instance_name</td></tr><tr><td>compute.googleapis.com/instance/cpu/usage_time</td><td>DELTA</td><td>DOUBLE</td><td>instance_name</td></tr><tr><td>compute.googleapis.com/instance/cpu/utilization</td><td>GAUGE</td><td>DOUBLE</td><td>instance_name</td></tr></table>"
      ],
      "text/plain": [
       "<IPython.core.display.HTML object>"
      ]
     },
     "execution_count": 89,
     "metadata": {},
     "output_type": "execute_result"
    }
   ],
   "source": [
    "%%monitoring list metrics --type compute*/cpu/*"
   ]
  },
  {
   "cell_type": "markdown",
   "metadata": {},
   "source": [
    "## List monitored resource types related to GCE"
   ]
  },
  {
   "cell_type": "code",
   "execution_count": 88,
   "metadata": {
    "collapsed": false
   },
   "outputs": [
    {
     "data": {
      "text/html": [
       "<table><tr><th>Resource type</th><th>Labels</th></tr><tr><td>gce_disk</td><td>project_id, disk_id, zone</td></tr><tr><td>gce_instance</td><td>project_id, instance_id, zone</td></tr></table>"
      ],
      "text/plain": [
       "<IPython.core.display.HTML object>"
      ]
     },
     "execution_count": 88,
     "metadata": {},
     "output_type": "execute_result"
    }
   ],
   "source": [
    "%%monitoring list resource_types --type gce*"
   ]
  },
  {
   "cell_type": "markdown",
   "metadata": {},
   "source": [
    "## Querying timeseries data\n",
    "\n",
    "The `gcm.Query` class allows users to query and access the monitoring timeseries data. The results of the query can be accessed as a pandas `DataFrame` object. This is a widely used library for data manipulation.\n",
    "\n",
    "http://pandas.pydata.org/pandas-docs/stable/generated/pandas.DataFrame.html"
   ]
  },
  {
   "cell_type": "markdown",
   "metadata": {},
   "source": [
    "### Initializing the query\n",
    "\n",
    "During intialization, the metric type and the time interval need to be specified. For interactive use, the metric type has a default value. The simplest way to specify the time interval that ends `now` is to use the arguments `days`, `hours`, and `minutes`."
   ]
  },
  {
   "cell_type": "code",
   "execution_count": 85,
   "metadata": {
    "collapsed": false
   },
   "outputs": [],
   "source": [
    "q = gcm.Query('compute.googleapis.com/instance/cpu/utilization', hours=2)"
   ]
  },
  {
   "cell_type": "markdown",
   "metadata": {},
   "source": [
    "### Getting the metadata\n",
    "\n",
    "The method `labels_as_dataframe()` allows you to look at the labels for the given metric, and the values that exist.\n",
    "\n",
    "This helps you understand the structure of the timeseries data, and makes it easier to modify the query."
   ]
  },
  {
   "cell_type": "code",
   "execution_count": 60,
   "metadata": {
    "collapsed": false
   },
   "outputs": [
    {
     "data": {
      "text/html": [
       "<div>\n",
       "<table border=\"1\" class=\"dataframe\">\n",
       "  <thead>\n",
       "    <tr>\n",
       "      <th></th>\n",
       "      <th>resource</th>\n",
       "      <th colspan=\"3\" halign=\"left\">resource.labels</th>\n",
       "      <th>metric.labels</th>\n",
       "    </tr>\n",
       "    <tr>\n",
       "      <th></th>\n",
       "      <th>type</th>\n",
       "      <th>project_id</th>\n",
       "      <th>zone</th>\n",
       "      <th>instance_id</th>\n",
       "      <th>instance_name</th>\n",
       "    </tr>\n",
       "  </thead>\n",
       "  <tbody>\n",
       "    <tr>\n",
       "      <th>0</th>\n",
       "      <td>gce_instance</td>\n",
       "      <td>monitoring-datalab</td>\n",
       "      <td>us-central1-b</td>\n",
       "      <td>2292393497529867090</td>\n",
       "      <td>gae-datalab-main-j642</td>\n",
       "    </tr>\n",
       "    <tr>\n",
       "      <th>1</th>\n",
       "      <td>gce_instance</td>\n",
       "      <td>monitoring-datalab</td>\n",
       "      <td>us-east1-d</td>\n",
       "      <td>5437900963820317613</td>\n",
       "      <td>analyst2</td>\n",
       "    </tr>\n",
       "  </tbody>\n",
       "</table>\n",
       "</div>"
      ],
      "text/plain": [
       "       resource     resource.labels                                      \\\n",
       "           type          project_id           zone          instance_id   \n",
       "0  gce_instance  monitoring-datalab  us-central1-b  2292393497529867090   \n",
       "1  gce_instance  monitoring-datalab     us-east1-d  5437900963820317613   \n",
       "\n",
       "           metric.labels  \n",
       "           instance_name  \n",
       "0  gae-datalab-main-j642  \n",
       "1               analyst2  "
      ]
     },
     "execution_count": 60,
     "metadata": {},
     "output_type": "execute_result"
    }
   ],
   "source": [
    "q.labels_as_dataframe()"
   ]
  },
  {
   "cell_type": "markdown",
   "metadata": {},
   "source": [
    "### Filtering the query\n",
    "\n",
    "Here, we filter the query to instances whose names begin with `'gae-'`. These are instances which host `Cloud Datlab`.\n",
    "\n",
    "**Note**: If running locally, you may need to replace 'gae-' by the name of an instance in your project.\n",
    "You can find the name of instances in your project in the last column of the results from `labels_as_dataframe` above."
   ]
  },
  {
   "cell_type": "code",
   "execution_count": 53,
   "metadata": {
    "collapsed": false
   },
   "outputs": [
    {
     "data": {
      "text/html": [
       "<div>\n",
       "<table border=\"1\" class=\"dataframe\">\n",
       "  <thead>\n",
       "    <tr style=\"text-align: right;\">\n",
       "      <th></th>\n",
       "      <th>gae-datalab-main-j642</th>\n",
       "    </tr>\n",
       "  </thead>\n",
       "  <tbody>\n",
       "    <tr>\n",
       "      <th>2016-04-07 18:07:01.763</th>\n",
       "      <td>0.042580</td>\n",
       "    </tr>\n",
       "    <tr>\n",
       "      <th>2016-04-07 18:08:01.763</th>\n",
       "      <td>0.045067</td>\n",
       "    </tr>\n",
       "    <tr>\n",
       "      <th>2016-04-07 18:09:01.763</th>\n",
       "      <td>0.041776</td>\n",
       "    </tr>\n",
       "    <tr>\n",
       "      <th>2016-04-07 18:10:01.763</th>\n",
       "      <td>0.053421</td>\n",
       "    </tr>\n",
       "    <tr>\n",
       "      <th>2016-04-07 18:11:01.763</th>\n",
       "      <td>0.075612</td>\n",
       "    </tr>\n",
       "  </tbody>\n",
       "</table>\n",
       "</div>"
      ],
      "text/plain": [
       "                         gae-datalab-main-j642\n",
       "2016-04-07 18:07:01.763               0.042580\n",
       "2016-04-07 18:08:01.763               0.045067\n",
       "2016-04-07 18:09:01.763               0.041776\n",
       "2016-04-07 18:10:01.763               0.053421\n",
       "2016-04-07 18:11:01.763               0.075612"
      ]
     },
     "execution_count": 53,
     "metadata": {},
     "output_type": "execute_result"
    }
   ],
   "source": [
    "# Filter the query to instances with the specified prefix.\n",
    "q1 = q.select_metrics(instance_name_prefix='gae-')\n",
    "\n",
    "# If you know the exact name of the instance, you can also use:\n",
    "# q1 = q.select_metrics(instance_name='<INSTANCE NAME')\n",
    "\n",
    "# Get the query results as a pandas DataFrame and look at the last 5 rows.\n",
    "df1 = q1.as_dataframe(label='instance_name')\n",
    "df1.tail(5)"
   ]
  },
  {
   "cell_type": "code",
   "execution_count": 82,
   "metadata": {
    "collapsed": false
   },
   "outputs": [
    {
     "data": {
      "image/png": "[encoded data removed]",
      "text/plain": [
       "<matplotlib.figure.Figure at 0x7f79dd06ba10>"
      ]
     },
     "metadata": {},
     "output_type": "display_data"
    }
   ],
   "source": [
    "# N.B. A useful trick is to assign the return value of plot to _ \n",
    "# so that you don't get text printed before the plot itself.\n",
    "\n",
    "_ = df1.plot()"
   ]
  },
  {
   "cell_type": "markdown",
   "metadata": {},
   "source": [
    "### Aligning the query\n",
    "\n",
    "For multiple timeseries, aligning the data is recommended. The alignment offset can be specified using the arguments `hours`, `minutes`, and `seconds`."
   ]
  },
  {
   "cell_type": "code",
   "execution_count": 55,
   "metadata": {
    "collapsed": false
   },
   "outputs": [
    {
     "data": {
      "image/png": "[encoded data removed]",
      "text/plain": [
       "<matplotlib.figure.Figure at 0x7f79dd7c8090>"
      ]
     },
     "metadata": {},
     "output_type": "display_data"
    }
   ],
   "source": [
    "# Align the query to have data every 5 minutes.\n",
    "q2 = q.align('ALIGN_MEAN', minutes=5)\n",
    "\n",
    "df2 = q2.as_dataframe(label='instance_name')\n",
    "_ = df2.plot()"
   ]
  },
  {
   "cell_type": "markdown",
   "metadata": {},
   "source": [
    "### Displaying the results as a heatmap"
   ]
  },
  {
   "cell_type": "code",
   "execution_count": 87,
   "metadata": {
    "collapsed": false
   },
   "outputs": [
    {
     "data": {
      "image/png": "[encoded data removed]",
      "text/plain": [
       "<matplotlib.figure.Figure at 0x7f79dcfd8250>"
      ]
     },
     "metadata": {},
     "output_type": "display_data"
    }
   ],
   "source": [
    "import matplotlib\n",
    "import seaborn\n",
    "\n",
    "# Set the size of the heatmap to have a better aspect ratio.\n",
    "matplotlib.pyplot.figure(figsize=df2.shape)\n",
    "_ = seaborn.heatmap(df2.T, xticklabels=df2.index.map(str), cmap='YlGnBu')"
   ]
  },
  {
   "cell_type": "markdown",
   "metadata": {},
   "source": [
    "### Reducing the query\n",
    "\n",
    "In order to aggregate the timeseries data, the `reduce()` method can be used. The fields to be retained after aggregation must be specified in the method.\n",
    "\n",
    "For example, to aggregate the results by the zone, `'resource.zone'` can be specified."
   ]
  },
  {
   "cell_type": "code",
   "execution_count": 56,
   "metadata": {
    "collapsed": false
   },
   "outputs": [
    {
     "data": {
      "text/html": [
       "<div>\n",
       "<table border=\"1\" class=\"dataframe\">\n",
       "  <thead>\n",
       "    <tr style=\"text-align: right;\">\n",
       "      <th></th>\n",
       "      <th>us-central1-b</th>\n",
       "      <th>us-east1-d</th>\n",
       "    </tr>\n",
       "  </thead>\n",
       "  <tbody>\n",
       "    <tr>\n",
       "      <th>2016-04-07 17:52:00</th>\n",
       "      <td>0.042896</td>\n",
       "      <td>0.012093</td>\n",
       "    </tr>\n",
       "    <tr>\n",
       "      <th>2016-04-07 17:57:00</th>\n",
       "      <td>0.042662</td>\n",
       "      <td>0.011775</td>\n",
       "    </tr>\n",
       "    <tr>\n",
       "      <th>2016-04-07 18:02:00</th>\n",
       "      <td>0.045716</td>\n",
       "      <td>0.015109</td>\n",
       "    </tr>\n",
       "    <tr>\n",
       "      <th>2016-04-07 18:07:00</th>\n",
       "      <td>0.041220</td>\n",
       "      <td>0.029259</td>\n",
       "    </tr>\n",
       "    <tr>\n",
       "      <th>2016-04-07 18:12:00</th>\n",
       "      <td>0.051691</td>\n",
       "      <td>0.477413</td>\n",
       "    </tr>\n",
       "  </tbody>\n",
       "</table>\n",
       "</div>"
      ],
      "text/plain": [
       "                     us-central1-b  us-east1-d\n",
       "2016-04-07 17:52:00       0.042896    0.012093\n",
       "2016-04-07 17:57:00       0.042662    0.011775\n",
       "2016-04-07 18:02:00       0.045716    0.015109\n",
       "2016-04-07 18:07:00       0.041220    0.029259\n",
       "2016-04-07 18:12:00       0.051691    0.477413"
      ]
     },
     "execution_count": 56,
     "metadata": {},
     "output_type": "execute_result"
    }
   ],
   "source": [
    "q3 = q2.reduce('REDUCE_MEAN', 'resource.zone')\n",
    "df3 = q3.as_dataframe('zone')\n",
    "df3.tail(5)"
   ]
  },
  {
   "cell_type": "markdown",
   "metadata": {},
   "source": [
    "## Multi-level headers\n",
    "\n",
    "If you don't provide any labels to `as_dataframe`, it returns all the resource and metric labels present in the timeseries as a multi-level header.\n",
    "\n",
    "This allows you to filter, and aggregate the data more easily."
   ]
  },
  {
   "cell_type": "code",
   "execution_count": 71,
   "metadata": {
    "collapsed": false
   },
   "outputs": [
    {
     "data": {
      "text/html": [
       "<div>\n",
       "<table border=\"1\" class=\"dataframe\">\n",
       "  <thead>\n",
       "    <tr>\n",
       "      <th>resource_type</th>\n",
       "      <th colspan=\"2\" halign=\"left\">gce_instance</th>\n",
       "    </tr>\n",
       "    <tr>\n",
       "      <th>project_id</th>\n",
       "      <th colspan=\"2\" halign=\"left\">monitoring-datalab</th>\n",
       "    </tr>\n",
       "    <tr>\n",
       "      <th>zone</th>\n",
       "      <th>us-central1-b</th>\n",
       "      <th>us-east1-d</th>\n",
       "    </tr>\n",
       "    <tr>\n",
       "      <th>instance_id</th>\n",
       "      <th>2292393497529867090</th>\n",
       "      <th>5437900963820317613</th>\n",
       "    </tr>\n",
       "    <tr>\n",
       "      <th>instance_name</th>\n",
       "      <th>gae-datalab-main-j642</th>\n",
       "      <th>analyst2</th>\n",
       "    </tr>\n",
       "  </thead>\n",
       "  <tbody>\n",
       "    <tr>\n",
       "      <th>2016-04-07 17:52:00</th>\n",
       "      <td>0.042896</td>\n",
       "      <td>0.012093</td>\n",
       "    </tr>\n",
       "    <tr>\n",
       "      <th>2016-04-07 17:57:00</th>\n",
       "      <td>0.042662</td>\n",
       "      <td>0.011775</td>\n",
       "    </tr>\n",
       "    <tr>\n",
       "      <th>2016-04-07 18:02:00</th>\n",
       "      <td>0.045716</td>\n",
       "      <td>0.015109</td>\n",
       "    </tr>\n",
       "    <tr>\n",
       "      <th>2016-04-07 18:07:00</th>\n",
       "      <td>0.041220</td>\n",
       "      <td>0.029259</td>\n",
       "    </tr>\n",
       "    <tr>\n",
       "      <th>2016-04-07 18:12:00</th>\n",
       "      <td>0.051691</td>\n",
       "      <td>0.477413</td>\n",
       "    </tr>\n",
       "  </tbody>\n",
       "</table>\n",
       "</div>"
      ],
      "text/plain": [
       "resource_type                gce_instance                    \n",
       "project_id             monitoring-datalab                    \n",
       "zone                        us-central1-b          us-east1-d\n",
       "instance_id           2292393497529867090 5437900963820317613\n",
       "instance_name       gae-datalab-main-j642            analyst2\n",
       "2016-04-07 17:52:00              0.042896            0.012093\n",
       "2016-04-07 17:57:00              0.042662            0.011775\n",
       "2016-04-07 18:02:00              0.045716            0.015109\n",
       "2016-04-07 18:07:00              0.041220            0.029259\n",
       "2016-04-07 18:12:00              0.051691            0.477413"
      ]
     },
     "execution_count": 71,
     "metadata": {},
     "output_type": "execute_result"
    }
   ],
   "source": [
    "multi_level_df = q2.as_dataframe()\n",
    "multi_level_df.tail(5)"
   ]
  },
  {
   "cell_type": "markdown",
   "metadata": {},
   "source": [
    "### Filter the dataframe"
   ]
  },
  {
   "cell_type": "code",
   "execution_count": 84,
   "metadata": {
    "collapsed": false
   },
   "outputs": [
    {
     "data": {
      "text/html": [
       "<div>\n",
       "<table border=\"1\" class=\"dataframe\">\n",
       "  <thead>\n",
       "    <tr>\n",
       "      <th>resource_type</th>\n",
       "      <th>gce_instance</th>\n",
       "    </tr>\n",
       "    <tr>\n",
       "      <th>project_id</th>\n",
       "      <th>monitoring-datalab</th>\n",
       "    </tr>\n",
       "    <tr>\n",
       "      <th>zone</th>\n",
       "      <th>us-central1-b</th>\n",
       "    </tr>\n",
       "    <tr>\n",
       "      <th>instance_id</th>\n",
       "      <th>2292393497529867090</th>\n",
       "    </tr>\n",
       "    <tr>\n",
       "      <th>instance_name</th>\n",
       "      <th>gae-datalab-main-j642</th>\n",
       "    </tr>\n",
       "  </thead>\n",
       "  <tbody>\n",
       "    <tr>\n",
       "      <th>2016-04-07 17:52:00</th>\n",
       "      <td>0.042896</td>\n",
       "    </tr>\n",
       "    <tr>\n",
       "      <th>2016-04-07 17:57:00</th>\n",
       "      <td>0.042662</td>\n",
       "    </tr>\n",
       "    <tr>\n",
       "      <th>2016-04-07 18:02:00</th>\n",
       "      <td>0.045716</td>\n",
       "    </tr>\n",
       "    <tr>\n",
       "      <th>2016-04-07 18:07:00</th>\n",
       "      <td>0.041220</td>\n",
       "    </tr>\n",
       "    <tr>\n",
       "      <th>2016-04-07 18:12:00</th>\n",
       "      <td>0.051691</td>\n",
       "    </tr>\n",
       "  </tbody>\n",
       "</table>\n",
       "</div>"
      ],
      "text/plain": [
       "resource_type                gce_instance\n",
       "project_id             monitoring-datalab\n",
       "zone                        us-central1-b\n",
       "instance_id           2292393497529867090\n",
       "instance_name       gae-datalab-main-j642\n",
       "2016-04-07 17:52:00              0.042896\n",
       "2016-04-07 17:57:00              0.042662\n",
       "2016-04-07 18:02:00              0.045716\n",
       "2016-04-07 18:07:00              0.041220\n",
       "2016-04-07 18:12:00              0.051691"
      ]
     },
     "execution_count": 84,
     "metadata": {},
     "output_type": "execute_result"
    }
   ],
   "source": [
    "multi_level_df.filter(regex='gae-datalab-main').tail(5)"
   ]
  },
  {
   "cell_type": "markdown",
   "metadata": {},
   "source": [
    "### Aggregate columns in the datframe"
   ]
  },
  {
   "cell_type": "code",
   "execution_count": 76,
   "metadata": {
    "collapsed": false
   },
   "outputs": [
    {
     "data": {
      "text/html": [
       "<div>\n",
       "<table border=\"1\" class=\"dataframe\">\n",
       "  <thead>\n",
       "    <tr style=\"text-align: right;\">\n",
       "      <th>zone</th>\n",
       "      <th>us-central1-b</th>\n",
       "      <th>us-east1-d</th>\n",
       "    </tr>\n",
       "  </thead>\n",
       "  <tbody>\n",
       "    <tr>\n",
       "      <th>2016-04-07 17:52:00</th>\n",
       "      <td>0.042896</td>\n",
       "      <td>0.012093</td>\n",
       "    </tr>\n",
       "    <tr>\n",
       "      <th>2016-04-07 17:57:00</th>\n",
       "      <td>0.042662</td>\n",
       "      <td>0.011775</td>\n",
       "    </tr>\n",
       "    <tr>\n",
       "      <th>2016-04-07 18:02:00</th>\n",
       "      <td>0.045716</td>\n",
       "      <td>0.015109</td>\n",
       "    </tr>\n",
       "    <tr>\n",
       "      <th>2016-04-07 18:07:00</th>\n",
       "      <td>0.041220</td>\n",
       "      <td>0.029259</td>\n",
       "    </tr>\n",
       "    <tr>\n",
       "      <th>2016-04-07 18:12:00</th>\n",
       "      <td>0.051691</td>\n",
       "      <td>0.477413</td>\n",
       "    </tr>\n",
       "  </tbody>\n",
       "</table>\n",
       "</div>"
      ],
      "text/plain": [
       "zone                 us-central1-b  us-east1-d\n",
       "2016-04-07 17:52:00       0.042896    0.012093\n",
       "2016-04-07 17:57:00       0.042662    0.011775\n",
       "2016-04-07 18:02:00       0.045716    0.015109\n",
       "2016-04-07 18:07:00       0.041220    0.029259\n",
       "2016-04-07 18:12:00       0.051691    0.477413"
      ]
     },
     "execution_count": 76,
     "metadata": {},
     "output_type": "execute_result"
    }
   ],
   "source": [
    "multi_level_df.groupby(level='zone', axis=1).mean().tail(5)"
   ]
  }
 ],
 "metadata": {
  "kernelspec": {
   "display_name": "Python 2",
   "language": "python",
   "name": "python2"
  },
  "language_info": {
   "codemirror_mode": {
    "name": "ipython",
    "version": 2
   },
   "file_extension": ".py",
   "mimetype": "text/x-python",
   "name": "python",
   "nbconvert_exporter": "python",
   "pygments_lexer": "ipython2",
   "version": "2.7.9"
  }
 },
 "nbformat": 4,
 "nbformat_minor": 0
}
