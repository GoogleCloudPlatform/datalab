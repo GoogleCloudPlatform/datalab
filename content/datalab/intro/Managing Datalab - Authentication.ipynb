{
 "cells": [
  {
   "cell_type": "markdown",
   "metadata": {},
   "source": [
    "# Managing Google Cloud Datalab - Authentication"
   ]
  },
  {
   "cell_type": "markdown",
   "metadata": {},
   "source": [
    "Cloud Datalab has its own \"allowed users\" list. By default, project owners and editors are added to the list and have access to the Cloud Datalab instance(s) in the same project automatically, while readers don't have access to it.\n",
    "\n",
    "Here is what happens in authentication when a user visits Cloud Datalab in a project.\n",
    "\n",
    "1. A user is added as editor to the target project with Cloud Datalab instance deployed.\n",
    "\n",
    "2. When the user visits Cloud Datalab in this project, Cloud Datalab checks if the user is allowed to access by looking at the project's Storage. If there is an object (path='users/[email]', bucket='[project-id]-datalab'), then the request passes through. It also caches the authenticated users for 10 minutes.\n",
    "\n",
    "3. If the Storage object does not exist, Cloud Datalab will redirect user to the Cloud Datalab service page (https://datalab.cloud.google.com), and the user needs to sign in from there.\n",
    "\n",
    "4. After the user signs in, Cloud Datalab service will try to add the Storage object (path='users/[email]', bucket='[project-id]-datalab') into the target project with the user's access token. Only project editors and owners can add a Storage entity. If it fails, the user is not an owner or editor, and an alert box will show up. If it succeeds, Cloud Datalab service will redirect the user to the target Cloud Datalab page, where Cloud Datalab sees the object and allows the request to be served."
   ]
  },
  {
   "cell_type": "markdown",
   "metadata": {},
   "source": [
    "Once the Datastore entity corresponding to a user is added, if an administrator wants to revoke the user's access to Cloud Datalab, he/she needs to do the following:\n",
    "\n",
    "1. Remove the Storage object (path='users/[email]', bucket='[project-id]-datalab'). You can do that through Developer Console.\n",
    "\n",
    "2. Go to Developer Console and set the user as a reader to the project.\n",
    "\n",
    "3. The user may still be in cache. After 10 min, the user should have no access to this Cloud Datalab instance.\n",
    "\n",
    "Or, an administrator can simply remove the user from the project. Then AppEngine will not allow the user to access any applications inside the project, including Cloud Datalab."
   ]
  }
 ],
 "metadata": {
  "kernelspec": {
   "display_name": "Python 2",
   "language": "python",
   "name": "python2"
  },
  "language_info": {
   "codemirror_mode": {
    "name": "ipython",
    "version": 2
   },
   "file_extension": ".py",
   "mimetype": "text/x-python",
   "name": "python",
   "nbconvert_exporter": "python",
   "pygments_lexer": "ipython2",
   "version": "2.7.9"
  }
 },
 "nbformat": 4,
 "nbformat_minor": 0
}
